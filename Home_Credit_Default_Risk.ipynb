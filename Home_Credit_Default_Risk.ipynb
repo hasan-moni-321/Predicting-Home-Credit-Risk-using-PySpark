{
 "cells": [
  {
   "cell_type": "code",
   "execution_count": 47,
   "metadata": {
    "colab": {},
    "colab_type": "code",
    "id": "SleZ-5h2aoUJ"
   },
   "outputs": [],
   "source": [
    "import findspark\n",
    "findspark.init()\n",
    "from pyspark.sql import SparkSession\n",
    "from pyspark.sql.functions import col, sum\n",
    "from pyspark.sql.types import DoubleType, IntegerType\n",
    "from pyspark.sql.functions import isnan, when, count, col\n",
    "from pyspark.sql.functions import rank, sum, col\n",
    "from pyspark.sql.functions import mean, round\n",
    "from pyspark.ml.feature import OneHotEncoder, StringIndexer, VectorAssembler\n",
    "from pyspark.ml import Pipeline\n",
    "from pyspark.ml.evaluation import BinaryClassificationEvaluator\n",
    "\n",
    "from pyspark.ml.tuning import ParamGridBuilder, CrossValidator\n",
    "from pyspark.ml.classification import LogisticRegression\n",
    "from pyspark.ml.classification import GBTClassifier\n",
    "\n",
    "import pandas as pd\n",
    "import matplotlib.pyplot as plt\n",
    "import seaborn as sns\n",
    "%matplotlib inline\n",
    "\n",
    "\n"
   ]
  },
  {
   "cell_type": "code",
   "execution_count": 6,
   "metadata": {
    "colab": {},
    "colab_type": "code",
    "id": "5oDDPw8Caobp"
   },
   "outputs": [],
   "source": [
    "spark = SparkSession.builder \\\n",
    "     .master(\"local[*]\") \\\n",
    "     .appName(\"Home_Credit_Default_Risk\") \\\n",
    "     .config(\"spark.some.config.option\", \"some-value\") \\\n",
    "     .getOrCreate()"
   ]
  },
  {
   "cell_type": "code",
   "execution_count": null,
   "metadata": {
    "colab": {},
    "colab_type": "code",
    "id": "zl-gK6n8aohH"
   },
   "outputs": [],
   "source": []
  },
  {
   "cell_type": "markdown",
   "metadata": {
    "colab_type": "text",
    "id": "pmT9stY_Z-Ml"
   },
   "source": [
    "## Reading Dataset"
   ]
  },
  {
   "cell_type": "code",
   "execution_count": 7,
   "metadata": {
    "colab": {
     "base_uri": "https://localhost:8080/",
     "height": 228
    },
    "colab_type": "code",
    "id": "5DYE97bLaom4",
    "outputId": "775a1610-66b9-49ab-dfbf-c657dfb11822"
   },
   "outputs": [
    {
     "name": "stdout",
     "output_type": "stream",
     "text": [
      "+----------+------+------------------+-----------+------------+---------------+------------+----------------+----------+-----------+---------------+---------------+----------------+--------------------+--------------------+-----------------+--------------------------+----------+-------------+-----------------+---------------+-----------+----------+--------------+---------------+----------------+----------+----------+---------------+---------------+--------------------+---------------------------+--------------------------+-----------------------+--------------------------+--------------------------+---------------------------+----------------------+----------------------+-----------------------+--------------------+-----------------+-----------------+-----------------+--------------+----------------+---------------------------+---------------+--------------+-------------+-------------+-------------+-------------+------------+--------------------+--------------+-----------------------+-----------------+---------------+-----------------+----------------------------+----------------+---------------+--------------+--------------+--------------+--------------+-------------+---------------------+---------------+------------------------+------------------+---------------+-----------------+----------------------------+----------------+---------------+--------------+--------------+--------------+--------------+-------------+---------------------+---------------+------------------------+------------------+------------------+--------------+--------------+------------------+-------------------+------------------------+------------------------+------------------------+------------------------+----------------------+---------------+---------------+---------------+---------------+---------------+---------------+---------------+---------------+----------------+----------------+----------------+----------------+----------------+----------------+----------------+----------------+----------------+----------------+----------------+----------------+--------------------------+-------------------------+--------------------------+-------------------------+-------------------------+--------------------------+\n",
      "|SK_ID_CURR|TARGET|NAME_CONTRACT_TYPE|CODE_GENDER|FLAG_OWN_CAR|FLAG_OWN_REALTY|CNT_CHILDREN|AMT_INCOME_TOTAL|AMT_CREDIT|AMT_ANNUITY|AMT_GOODS_PRICE|NAME_TYPE_SUITE|NAME_INCOME_TYPE| NAME_EDUCATION_TYPE|  NAME_FAMILY_STATUS|NAME_HOUSING_TYPE|REGION_POPULATION_RELATIVE|DAYS_BIRTH|DAYS_EMPLOYED|DAYS_REGISTRATION|DAYS_ID_PUBLISH|OWN_CAR_AGE|FLAG_MOBIL|FLAG_EMP_PHONE|FLAG_WORK_PHONE|FLAG_CONT_MOBILE|FLAG_PHONE|FLAG_EMAIL|OCCUPATION_TYPE|CNT_FAM_MEMBERS|REGION_RATING_CLIENT|REGION_RATING_CLIENT_W_CITY|WEEKDAY_APPR_PROCESS_START|HOUR_APPR_PROCESS_START|REG_REGION_NOT_LIVE_REGION|REG_REGION_NOT_WORK_REGION|LIVE_REGION_NOT_WORK_REGION|REG_CITY_NOT_LIVE_CITY|REG_CITY_NOT_WORK_CITY|LIVE_CITY_NOT_WORK_CITY|   ORGANIZATION_TYPE|     EXT_SOURCE_1|     EXT_SOURCE_2|     EXT_SOURCE_3|APARTMENTS_AVG|BASEMENTAREA_AVG|YEARS_BEGINEXPLUATATION_AVG|YEARS_BUILD_AVG|COMMONAREA_AVG|ELEVATORS_AVG|ENTRANCES_AVG|FLOORSMAX_AVG|FLOORSMIN_AVG|LANDAREA_AVG|LIVINGAPARTMENTS_AVG|LIVINGAREA_AVG|NONLIVINGAPARTMENTS_AVG|NONLIVINGAREA_AVG|APARTMENTS_MODE|BASEMENTAREA_MODE|YEARS_BEGINEXPLUATATION_MODE|YEARS_BUILD_MODE|COMMONAREA_MODE|ELEVATORS_MODE|ENTRANCES_MODE|FLOORSMAX_MODE|FLOORSMIN_MODE|LANDAREA_MODE|LIVINGAPARTMENTS_MODE|LIVINGAREA_MODE|NONLIVINGAPARTMENTS_MODE|NONLIVINGAREA_MODE|APARTMENTS_MEDI|BASEMENTAREA_MEDI|YEARS_BEGINEXPLUATATION_MEDI|YEARS_BUILD_MEDI|COMMONAREA_MEDI|ELEVATORS_MEDI|ENTRANCES_MEDI|FLOORSMAX_MEDI|FLOORSMIN_MEDI|LANDAREA_MEDI|LIVINGAPARTMENTS_MEDI|LIVINGAREA_MEDI|NONLIVINGAPARTMENTS_MEDI|NONLIVINGAREA_MEDI|FONDKAPREMONT_MODE|HOUSETYPE_MODE|TOTALAREA_MODE|WALLSMATERIAL_MODE|EMERGENCYSTATE_MODE|OBS_30_CNT_SOCIAL_CIRCLE|DEF_30_CNT_SOCIAL_CIRCLE|OBS_60_CNT_SOCIAL_CIRCLE|DEF_60_CNT_SOCIAL_CIRCLE|DAYS_LAST_PHONE_CHANGE|FLAG_DOCUMENT_2|FLAG_DOCUMENT_3|FLAG_DOCUMENT_4|FLAG_DOCUMENT_5|FLAG_DOCUMENT_6|FLAG_DOCUMENT_7|FLAG_DOCUMENT_8|FLAG_DOCUMENT_9|FLAG_DOCUMENT_10|FLAG_DOCUMENT_11|FLAG_DOCUMENT_12|FLAG_DOCUMENT_13|FLAG_DOCUMENT_14|FLAG_DOCUMENT_15|FLAG_DOCUMENT_16|FLAG_DOCUMENT_17|FLAG_DOCUMENT_18|FLAG_DOCUMENT_19|FLAG_DOCUMENT_20|FLAG_DOCUMENT_21|AMT_REQ_CREDIT_BUREAU_HOUR|AMT_REQ_CREDIT_BUREAU_DAY|AMT_REQ_CREDIT_BUREAU_WEEK|AMT_REQ_CREDIT_BUREAU_MON|AMT_REQ_CREDIT_BUREAU_QRT|AMT_REQ_CREDIT_BUREAU_YEAR|\n",
      "+----------+------+------------------+-----------+------------+---------------+------------+----------------+----------+-----------+---------------+---------------+----------------+--------------------+--------------------+-----------------+--------------------------+----------+-------------+-----------------+---------------+-----------+----------+--------------+---------------+----------------+----------+----------+---------------+---------------+--------------------+---------------------------+--------------------------+-----------------------+--------------------------+--------------------------+---------------------------+----------------------+----------------------+-----------------------+--------------------+-----------------+-----------------+-----------------+--------------+----------------+---------------------------+---------------+--------------+-------------+-------------+-------------+-------------+------------+--------------------+--------------+-----------------------+-----------------+---------------+-----------------+----------------------------+----------------+---------------+--------------+--------------+--------------+--------------+-------------+---------------------+---------------+------------------------+------------------+---------------+-----------------+----------------------------+----------------+---------------+--------------+--------------+--------------+--------------+-------------+---------------------+---------------+------------------------+------------------+------------------+--------------+--------------+------------------+-------------------+------------------------+------------------------+------------------------+------------------------+----------------------+---------------+---------------+---------------+---------------+---------------+---------------+---------------+---------------+----------------+----------------+----------------+----------------+----------------+----------------+----------------+----------------+----------------+----------------+----------------+----------------+--------------------------+-------------------------+--------------------------+-------------------------+-------------------------+--------------------------+\n",
      "|    100002|     1|        Cash loans|          M|           N|              Y|           0|          202500|  406597.5|    24700.5|         351000|  Unaccompanied|         Working|Secondary / secon...|Single / not married|House / apartment|                  0.018801|     -9461|         -637|            -3648|          -2120|       null|         1|             1|              0|               1|         1|         0|       Laborers|              1|                   2|                          2|                 WEDNESDAY|                     10|                         0|                         0|                          0|                     0|                     0|                      0|Business Entity T...|0.083036967391323|0.262948592747178| 0.13937578009979|        0.0247|          0.0369|                     0.9722|         0.6192|        0.0143|            0|        0.069|       0.0833|        0.125|      0.0369|              0.0202|         0.019|                      0|                0|         0.0252|           0.0383|                      0.9722|          0.6341|         0.0144|             0|         0.069|        0.0833|         0.125|       0.0377|                0.022|         0.0198|                       0|                 0|          0.025|           0.0369|                      0.9722|          0.6243|         0.0144|             0|         0.069|        0.0833|         0.125|       0.0375|               0.0205|         0.0193|                       0|                 0|  reg oper account|block of flats|        0.0149|      Stone, brick|                 No|                       2|                       2|                       2|                       2|                 -1134|              0|              1|              0|              0|              0|              0|              0|              0|               0|               0|               0|               0|               0|               0|               0|               0|               0|               0|               0|               0|                         0|                        0|                         0|                        0|                        0|                         1|\n",
      "|    100003|     0|        Cash loans|          F|           N|              N|           0|          270000| 1293502.5|    35698.5|        1129500|         Family|   State servant|    Higher education|             Married|House / apartment|                  0.003541|    -16765|        -1188|            -1186|           -291|       null|         1|             1|              0|               1|         1|         0|     Core staff|              2|                   1|                          1|                    MONDAY|                     11|                         0|                         0|                          0|                     0|                     0|                      0|              School|0.311267311381222| 0.62224577525551|             null|        0.0959|          0.0529|                     0.9851|          0.796|        0.0605|         0.08|       0.0345|       0.2917|       0.3333|       0.013|              0.0773|        0.0549|                 0.0039|           0.0098|         0.0924|           0.0538|                      0.9851|           0.804|         0.0497|        0.0806|        0.0345|        0.2917|        0.3333|       0.0128|                0.079|         0.0554|                       0|                 0|         0.0968|           0.0529|                      0.9851|          0.7987|         0.0608|          0.08|        0.0345|        0.2917|        0.3333|       0.0132|               0.0787|         0.0558|                  0.0039|              0.01|  reg oper account|block of flats|        0.0714|             Block|                 No|                       1|                       0|                       1|                       0|                  -828|              0|              1|              0|              0|              0|              0|              0|              0|               0|               0|               0|               0|               0|               0|               0|               0|               0|               0|               0|               0|                         0|                        0|                         0|                        0|                        0|                         0|\n",
      "|    100004|     0|   Revolving loans|          M|           Y|              Y|           0|           67500|    135000|       6750|         135000|  Unaccompanied|         Working|Secondary / secon...|Single / not married|House / apartment|                  0.010032|    -19046|         -225|            -4260|          -2531|         26|         1|             1|              1|               1|         1|         0|       Laborers|              1|                   2|                          2|                    MONDAY|                      9|                         0|                         0|                          0|                     0|                     0|                      0|          Government|             null|0.555912083390443|0.729566690706015|          null|            null|                       null|           null|          null|         null|         null|         null|         null|        null|                null|          null|                   null|             null|           null|             null|                        null|            null|           null|          null|          null|          null|          null|         null|                 null|           null|                    null|              null|           null|             null|                        null|            null|           null|          null|          null|          null|          null|         null|                 null|           null|                    null|              null|              null|          null|          null|              null|               null|                       0|                       0|                       0|                       0|                  -815|              0|              0|              0|              0|              0|              0|              0|              0|               0|               0|               0|               0|               0|               0|               0|               0|               0|               0|               0|               0|                         0|                        0|                         0|                        0|                        0|                         0|\n",
      "|    100006|     0|        Cash loans|          F|           N|              Y|           0|          135000|  312682.5|    29686.5|         297000|  Unaccompanied|         Working|Secondary / secon...|      Civil marriage|House / apartment|                  0.008019|    -19005|        -3039|            -9833|          -2437|       null|         1|             1|              0|               1|         0|         0|       Laborers|              2|                   2|                          2|                 WEDNESDAY|                     17|                         0|                         0|                          0|                     0|                     0|                      0|Business Entity T...|             null|0.650441690401465|             null|          null|            null|                       null|           null|          null|         null|         null|         null|         null|        null|                null|          null|                   null|             null|           null|             null|                        null|            null|           null|          null|          null|          null|          null|         null|                 null|           null|                    null|              null|           null|             null|                        null|            null|           null|          null|          null|          null|          null|         null|                 null|           null|                    null|              null|              null|          null|          null|              null|               null|                       2|                       0|                       2|                       0|                  -617|              0|              1|              0|              0|              0|              0|              0|              0|               0|               0|               0|               0|               0|               0|               0|               0|               0|               0|               0|               0|                      null|                     null|                      null|                     null|                     null|                      null|\n",
      "|    100007|     0|        Cash loans|          M|           N|              Y|           0|          121500|    513000|    21865.5|         513000|  Unaccompanied|         Working|Secondary / secon...|Single / not married|House / apartment|                  0.028663|    -19932|        -3038|            -4311|          -3458|       null|         1|             1|              0|               1|         0|         0|     Core staff|              1|                   2|                          2|                  THURSDAY|                     11|                         0|                         0|                          0|                     0|                     1|                      1|            Religion|             null|0.322738286970405|             null|          null|            null|                       null|           null|          null|         null|         null|         null|         null|        null|                null|          null|                   null|             null|           null|             null|                        null|            null|           null|          null|          null|          null|          null|         null|                 null|           null|                    null|              null|           null|             null|                        null|            null|           null|          null|          null|          null|          null|         null|                 null|           null|                    null|              null|              null|          null|          null|              null|               null|                       0|                       0|                       0|                       0|                 -1106|              0|              0|              0|              0|              0|              0|              1|              0|               0|               0|               0|               0|               0|               0|               0|               0|               0|               0|               0|               0|                         0|                        0|                         0|                        0|                        0|                         0|\n",
      "+----------+------+------------------+-----------+------------+---------------+------------+----------------+----------+-----------+---------------+---------------+----------------+--------------------+--------------------+-----------------+--------------------------+----------+-------------+-----------------+---------------+-----------+----------+--------------+---------------+----------------+----------+----------+---------------+---------------+--------------------+---------------------------+--------------------------+-----------------------+--------------------------+--------------------------+---------------------------+----------------------+----------------------+-----------------------+--------------------+-----------------+-----------------+-----------------+--------------+----------------+---------------------------+---------------+--------------+-------------+-------------+-------------+-------------+------------+--------------------+--------------+-----------------------+-----------------+---------------+-----------------+----------------------------+----------------+---------------+--------------+--------------+--------------+--------------+-------------+---------------------+---------------+------------------------+------------------+---------------+-----------------+----------------------------+----------------+---------------+--------------+--------------+--------------+--------------+-------------+---------------------+---------------+------------------------+------------------+------------------+--------------+--------------+------------------+-------------------+------------------------+------------------------+------------------------+------------------------+----------------------+---------------+---------------+---------------+---------------+---------------+---------------+---------------+---------------+----------------+----------------+----------------+----------------+----------------+----------------+----------------+----------------+----------------+----------------+----------------+----------------+--------------------------+-------------------------+--------------------------+-------------------------+-------------------------+--------------------------+\n",
      "only showing top 5 rows\n",
      "\n"
     ]
    }
   ],
   "source": [
    "new_df = spark.read.csv(\"/content/drive/My Drive/Big Data Project/application_train.csv\", header=True)\n",
    "new_df.show(5)\n"
   ]
  },
  {
   "cell_type": "code",
   "execution_count": 8,
   "metadata": {
    "colab": {
     "base_uri": "https://localhost:8080/",
     "height": 34
    },
    "colab_type": "code",
    "id": "GvThwAAYaops",
    "outputId": "5a6eaf1d-d7e2-4fc2-d23b-5264fc9fd395"
   },
   "outputs": [
    {
     "data": {
      "text/plain": [
       "307511"
      ]
     },
     "execution_count": 8,
     "metadata": {
      "tags": []
     },
     "output_type": "execute_result"
    }
   ],
   "source": [
    "new_df.count()"
   ]
  },
  {
   "cell_type": "code",
   "execution_count": 9,
   "metadata": {
    "colab": {
     "base_uri": "https://localhost:8080/",
     "height": 34
    },
    "colab_type": "code",
    "id": "6UNydyHVaoe0",
    "outputId": "77e4120e-e319-45d2-bbaa-9b583850fbe9"
   },
   "outputs": [
    {
     "data": {
      "text/plain": [
       "122"
      ]
     },
     "execution_count": 9,
     "metadata": {
      "tags": []
     },
     "output_type": "execute_result"
    }
   ],
   "source": [
    "len(new_df.columns)"
   ]
  },
  {
   "cell_type": "code",
   "execution_count": 10,
   "metadata": {
    "colab": {
     "base_uri": "https://localhost:8080/",
     "height": 54
    },
    "colab_type": "code",
    "id": "newHGpzkaoZ-",
    "outputId": "60174b62-3668-46bf-8ae9-0c5e3683f82f"
   },
   "outputs": [
    {
     "data": {
      "text/plain": [
       "Row(SK_ID_CURR='100002', TARGET='1', NAME_CONTRACT_TYPE='Cash loans', CODE_GENDER='M', FLAG_OWN_CAR='N', FLAG_OWN_REALTY='Y', CNT_CHILDREN='0', AMT_INCOME_TOTAL='202500', AMT_CREDIT='406597.5', AMT_ANNUITY='24700.5', AMT_GOODS_PRICE='351000', NAME_TYPE_SUITE='Unaccompanied', NAME_INCOME_TYPE='Working', NAME_EDUCATION_TYPE='Secondary / secondary special', NAME_FAMILY_STATUS='Single / not married', NAME_HOUSING_TYPE='House / apartment', REGION_POPULATION_RELATIVE='0.018801', DAYS_BIRTH='-9461', DAYS_EMPLOYED='-637', DAYS_REGISTRATION='-3648', DAYS_ID_PUBLISH='-2120', OWN_CAR_AGE=None, FLAG_MOBIL='1', FLAG_EMP_PHONE='1', FLAG_WORK_PHONE='0', FLAG_CONT_MOBILE='1', FLAG_PHONE='1', FLAG_EMAIL='0', OCCUPATION_TYPE='Laborers', CNT_FAM_MEMBERS='1', REGION_RATING_CLIENT='2', REGION_RATING_CLIENT_W_CITY='2', WEEKDAY_APPR_PROCESS_START='WEDNESDAY', HOUR_APPR_PROCESS_START='10', REG_REGION_NOT_LIVE_REGION='0', REG_REGION_NOT_WORK_REGION='0', LIVE_REGION_NOT_WORK_REGION='0', REG_CITY_NOT_LIVE_CITY='0', REG_CITY_NOT_WORK_CITY='0', LIVE_CITY_NOT_WORK_CITY='0', ORGANIZATION_TYPE='Business Entity Type 3', EXT_SOURCE_1='0.083036967391323', EXT_SOURCE_2='0.262948592747178', EXT_SOURCE_3='0.13937578009979', APARTMENTS_AVG='0.0247', BASEMENTAREA_AVG='0.0369', YEARS_BEGINEXPLUATATION_AVG='0.9722', YEARS_BUILD_AVG='0.6192', COMMONAREA_AVG='0.0143', ELEVATORS_AVG='0', ENTRANCES_AVG='0.069', FLOORSMAX_AVG='0.0833', FLOORSMIN_AVG='0.125', LANDAREA_AVG='0.0369', LIVINGAPARTMENTS_AVG='0.0202', LIVINGAREA_AVG='0.019', NONLIVINGAPARTMENTS_AVG='0', NONLIVINGAREA_AVG='0', APARTMENTS_MODE='0.0252', BASEMENTAREA_MODE='0.0383', YEARS_BEGINEXPLUATATION_MODE='0.9722', YEARS_BUILD_MODE='0.6341', COMMONAREA_MODE='0.0144', ELEVATORS_MODE='0', ENTRANCES_MODE='0.069', FLOORSMAX_MODE='0.0833', FLOORSMIN_MODE='0.125', LANDAREA_MODE='0.0377', LIVINGAPARTMENTS_MODE='0.022', LIVINGAREA_MODE='0.0198', NONLIVINGAPARTMENTS_MODE='0', NONLIVINGAREA_MODE='0', APARTMENTS_MEDI='0.025', BASEMENTAREA_MEDI='0.0369', YEARS_BEGINEXPLUATATION_MEDI='0.9722', YEARS_BUILD_MEDI='0.6243', COMMONAREA_MEDI='0.0144', ELEVATORS_MEDI='0', ENTRANCES_MEDI='0.069', FLOORSMAX_MEDI='0.0833', FLOORSMIN_MEDI='0.125', LANDAREA_MEDI='0.0375', LIVINGAPARTMENTS_MEDI='0.0205', LIVINGAREA_MEDI='0.0193', NONLIVINGAPARTMENTS_MEDI='0', NONLIVINGAREA_MEDI='0', FONDKAPREMONT_MODE='reg oper account', HOUSETYPE_MODE='block of flats', TOTALAREA_MODE='0.0149', WALLSMATERIAL_MODE='Stone, brick', EMERGENCYSTATE_MODE='No', OBS_30_CNT_SOCIAL_CIRCLE='2', DEF_30_CNT_SOCIAL_CIRCLE='2', OBS_60_CNT_SOCIAL_CIRCLE='2', DEF_60_CNT_SOCIAL_CIRCLE='2', DAYS_LAST_PHONE_CHANGE='-1134', FLAG_DOCUMENT_2='0', FLAG_DOCUMENT_3='1', FLAG_DOCUMENT_4='0', FLAG_DOCUMENT_5='0', FLAG_DOCUMENT_6='0', FLAG_DOCUMENT_7='0', FLAG_DOCUMENT_8='0', FLAG_DOCUMENT_9='0', FLAG_DOCUMENT_10='0', FLAG_DOCUMENT_11='0', FLAG_DOCUMENT_12='0', FLAG_DOCUMENT_13='0', FLAG_DOCUMENT_14='0', FLAG_DOCUMENT_15='0', FLAG_DOCUMENT_16='0', FLAG_DOCUMENT_17='0', FLAG_DOCUMENT_18='0', FLAG_DOCUMENT_19='0', FLAG_DOCUMENT_20='0', FLAG_DOCUMENT_21='0', AMT_REQ_CREDIT_BUREAU_HOUR='0', AMT_REQ_CREDIT_BUREAU_DAY='0', AMT_REQ_CREDIT_BUREAU_WEEK='0', AMT_REQ_CREDIT_BUREAU_MON='0', AMT_REQ_CREDIT_BUREAU_QRT='0', AMT_REQ_CREDIT_BUREAU_YEAR='1')"
      ]
     },
     "execution_count": 10,
     "metadata": {
      "tags": []
     },
     "output_type": "execute_result"
    }
   ],
   "source": [
    "new_df.head()"
   ]
  },
  {
   "cell_type": "code",
   "execution_count": 11,
   "metadata": {
    "colab": {
     "base_uri": "https://localhost:8080/",
     "height": 228
    },
    "colab_type": "code",
    "id": "mqoVfRl2aoNi",
    "outputId": "5360a661-3c1d-4fe1-d425-af1117739a60"
   },
   "outputs": [
    {
     "name": "stdout",
     "output_type": "stream",
     "text": [
      "+----------+------+------------------+-----------+------------+---------------+------------+----------------+----------+-----------+---------------+---------------+----------------+--------------------+--------------------+-----------------+--------------------------+----------+-------------+-----------------+---------------+-----------+----------+--------------+---------------+----------------+----------+----------+---------------+---------------+--------------------+---------------------------+--------------------------+-----------------------+--------------------------+--------------------------+---------------------------+----------------------+----------------------+-----------------------+--------------------+-----------------+-----------------+-----------------+--------------+----------------+---------------------------+---------------+--------------+-------------+-------------+-------------+-------------+------------+--------------------+--------------+-----------------------+-----------------+---------------+-----------------+----------------------------+----------------+---------------+--------------+--------------+--------------+--------------+-------------+---------------------+---------------+------------------------+------------------+---------------+-----------------+----------------------------+----------------+---------------+--------------+--------------+--------------+--------------+-------------+---------------------+---------------+------------------------+------------------+------------------+--------------+--------------+------------------+-------------------+------------------------+------------------------+------------------------+------------------------+----------------------+---------------+---------------+---------------+---------------+---------------+---------------+---------------+---------------+----------------+----------------+----------------+----------------+----------------+----------------+----------------+----------------+----------------+----------------+----------------+----------------+--------------------------+-------------------------+--------------------------+-------------------------+-------------------------+--------------------------+\n",
      "|SK_ID_CURR|TARGET|NAME_CONTRACT_TYPE|CODE_GENDER|FLAG_OWN_CAR|FLAG_OWN_REALTY|CNT_CHILDREN|AMT_INCOME_TOTAL|AMT_CREDIT|AMT_ANNUITY|AMT_GOODS_PRICE|NAME_TYPE_SUITE|NAME_INCOME_TYPE| NAME_EDUCATION_TYPE|  NAME_FAMILY_STATUS|NAME_HOUSING_TYPE|REGION_POPULATION_RELATIVE|DAYS_BIRTH|DAYS_EMPLOYED|DAYS_REGISTRATION|DAYS_ID_PUBLISH|OWN_CAR_AGE|FLAG_MOBIL|FLAG_EMP_PHONE|FLAG_WORK_PHONE|FLAG_CONT_MOBILE|FLAG_PHONE|FLAG_EMAIL|OCCUPATION_TYPE|CNT_FAM_MEMBERS|REGION_RATING_CLIENT|REGION_RATING_CLIENT_W_CITY|WEEKDAY_APPR_PROCESS_START|HOUR_APPR_PROCESS_START|REG_REGION_NOT_LIVE_REGION|REG_REGION_NOT_WORK_REGION|LIVE_REGION_NOT_WORK_REGION|REG_CITY_NOT_LIVE_CITY|REG_CITY_NOT_WORK_CITY|LIVE_CITY_NOT_WORK_CITY|   ORGANIZATION_TYPE|     EXT_SOURCE_1|     EXT_SOURCE_2|     EXT_SOURCE_3|APARTMENTS_AVG|BASEMENTAREA_AVG|YEARS_BEGINEXPLUATATION_AVG|YEARS_BUILD_AVG|COMMONAREA_AVG|ELEVATORS_AVG|ENTRANCES_AVG|FLOORSMAX_AVG|FLOORSMIN_AVG|LANDAREA_AVG|LIVINGAPARTMENTS_AVG|LIVINGAREA_AVG|NONLIVINGAPARTMENTS_AVG|NONLIVINGAREA_AVG|APARTMENTS_MODE|BASEMENTAREA_MODE|YEARS_BEGINEXPLUATATION_MODE|YEARS_BUILD_MODE|COMMONAREA_MODE|ELEVATORS_MODE|ENTRANCES_MODE|FLOORSMAX_MODE|FLOORSMIN_MODE|LANDAREA_MODE|LIVINGAPARTMENTS_MODE|LIVINGAREA_MODE|NONLIVINGAPARTMENTS_MODE|NONLIVINGAREA_MODE|APARTMENTS_MEDI|BASEMENTAREA_MEDI|YEARS_BEGINEXPLUATATION_MEDI|YEARS_BUILD_MEDI|COMMONAREA_MEDI|ELEVATORS_MEDI|ENTRANCES_MEDI|FLOORSMAX_MEDI|FLOORSMIN_MEDI|LANDAREA_MEDI|LIVINGAPARTMENTS_MEDI|LIVINGAREA_MEDI|NONLIVINGAPARTMENTS_MEDI|NONLIVINGAREA_MEDI|FONDKAPREMONT_MODE|HOUSETYPE_MODE|TOTALAREA_MODE|WALLSMATERIAL_MODE|EMERGENCYSTATE_MODE|OBS_30_CNT_SOCIAL_CIRCLE|DEF_30_CNT_SOCIAL_CIRCLE|OBS_60_CNT_SOCIAL_CIRCLE|DEF_60_CNT_SOCIAL_CIRCLE|DAYS_LAST_PHONE_CHANGE|FLAG_DOCUMENT_2|FLAG_DOCUMENT_3|FLAG_DOCUMENT_4|FLAG_DOCUMENT_5|FLAG_DOCUMENT_6|FLAG_DOCUMENT_7|FLAG_DOCUMENT_8|FLAG_DOCUMENT_9|FLAG_DOCUMENT_10|FLAG_DOCUMENT_11|FLAG_DOCUMENT_12|FLAG_DOCUMENT_13|FLAG_DOCUMENT_14|FLAG_DOCUMENT_15|FLAG_DOCUMENT_16|FLAG_DOCUMENT_17|FLAG_DOCUMENT_18|FLAG_DOCUMENT_19|FLAG_DOCUMENT_20|FLAG_DOCUMENT_21|AMT_REQ_CREDIT_BUREAU_HOUR|AMT_REQ_CREDIT_BUREAU_DAY|AMT_REQ_CREDIT_BUREAU_WEEK|AMT_REQ_CREDIT_BUREAU_MON|AMT_REQ_CREDIT_BUREAU_QRT|AMT_REQ_CREDIT_BUREAU_YEAR|\n",
      "+----------+------+------------------+-----------+------------+---------------+------------+----------------+----------+-----------+---------------+---------------+----------------+--------------------+--------------------+-----------------+--------------------------+----------+-------------+-----------------+---------------+-----------+----------+--------------+---------------+----------------+----------+----------+---------------+---------------+--------------------+---------------------------+--------------------------+-----------------------+--------------------------+--------------------------+---------------------------+----------------------+----------------------+-----------------------+--------------------+-----------------+-----------------+-----------------+--------------+----------------+---------------------------+---------------+--------------+-------------+-------------+-------------+-------------+------------+--------------------+--------------+-----------------------+-----------------+---------------+-----------------+----------------------------+----------------+---------------+--------------+--------------+--------------+--------------+-------------+---------------------+---------------+------------------------+------------------+---------------+-----------------+----------------------------+----------------+---------------+--------------+--------------+--------------+--------------+-------------+---------------------+---------------+------------------------+------------------+------------------+--------------+--------------+------------------+-------------------+------------------------+------------------------+------------------------+------------------------+----------------------+---------------+---------------+---------------+---------------+---------------+---------------+---------------+---------------+----------------+----------------+----------------+----------------+----------------+----------------+----------------+----------------+----------------+----------------+----------------+----------------+--------------------------+-------------------------+--------------------------+-------------------------+-------------------------+--------------------------+\n",
      "|    100002|     1|        Cash loans|          M|           N|              Y|           0|          202500|  406597.5|    24700.5|         351000|  Unaccompanied|         Working|Secondary / secon...|Single / not married|House / apartment|                  0.018801|     -9461|         -637|            -3648|          -2120|       null|         1|             1|              0|               1|         1|         0|       Laborers|              1|                   2|                          2|                 WEDNESDAY|                     10|                         0|                         0|                          0|                     0|                     0|                      0|Business Entity T...|0.083036967391323|0.262948592747178| 0.13937578009979|        0.0247|          0.0369|                     0.9722|         0.6192|        0.0143|            0|        0.069|       0.0833|        0.125|      0.0369|              0.0202|         0.019|                      0|                0|         0.0252|           0.0383|                      0.9722|          0.6341|         0.0144|             0|         0.069|        0.0833|         0.125|       0.0377|                0.022|         0.0198|                       0|                 0|          0.025|           0.0369|                      0.9722|          0.6243|         0.0144|             0|         0.069|        0.0833|         0.125|       0.0375|               0.0205|         0.0193|                       0|                 0|  reg oper account|block of flats|        0.0149|      Stone, brick|                 No|                       2|                       2|                       2|                       2|                 -1134|              0|              1|              0|              0|              0|              0|              0|              0|               0|               0|               0|               0|               0|               0|               0|               0|               0|               0|               0|               0|                         0|                        0|                         0|                        0|                        0|                         1|\n",
      "|    100003|     0|        Cash loans|          F|           N|              N|           0|          270000| 1293502.5|    35698.5|        1129500|         Family|   State servant|    Higher education|             Married|House / apartment|                  0.003541|    -16765|        -1188|            -1186|           -291|       null|         1|             1|              0|               1|         1|         0|     Core staff|              2|                   1|                          1|                    MONDAY|                     11|                         0|                         0|                          0|                     0|                     0|                      0|              School|0.311267311381222| 0.62224577525551|             null|        0.0959|          0.0529|                     0.9851|          0.796|        0.0605|         0.08|       0.0345|       0.2917|       0.3333|       0.013|              0.0773|        0.0549|                 0.0039|           0.0098|         0.0924|           0.0538|                      0.9851|           0.804|         0.0497|        0.0806|        0.0345|        0.2917|        0.3333|       0.0128|                0.079|         0.0554|                       0|                 0|         0.0968|           0.0529|                      0.9851|          0.7987|         0.0608|          0.08|        0.0345|        0.2917|        0.3333|       0.0132|               0.0787|         0.0558|                  0.0039|              0.01|  reg oper account|block of flats|        0.0714|             Block|                 No|                       1|                       0|                       1|                       0|                  -828|              0|              1|              0|              0|              0|              0|              0|              0|               0|               0|               0|               0|               0|               0|               0|               0|               0|               0|               0|               0|                         0|                        0|                         0|                        0|                        0|                         0|\n",
      "|    100004|     0|   Revolving loans|          M|           Y|              Y|           0|           67500|    135000|       6750|         135000|  Unaccompanied|         Working|Secondary / secon...|Single / not married|House / apartment|                  0.010032|    -19046|         -225|            -4260|          -2531|         26|         1|             1|              1|               1|         1|         0|       Laborers|              1|                   2|                          2|                    MONDAY|                      9|                         0|                         0|                          0|                     0|                     0|                      0|          Government|             null|0.555912083390443|0.729566690706015|          null|            null|                       null|           null|          null|         null|         null|         null|         null|        null|                null|          null|                   null|             null|           null|             null|                        null|            null|           null|          null|          null|          null|          null|         null|                 null|           null|                    null|              null|           null|             null|                        null|            null|           null|          null|          null|          null|          null|         null|                 null|           null|                    null|              null|              null|          null|          null|              null|               null|                       0|                       0|                       0|                       0|                  -815|              0|              0|              0|              0|              0|              0|              0|              0|               0|               0|               0|               0|               0|               0|               0|               0|               0|               0|               0|               0|                         0|                        0|                         0|                        0|                        0|                         0|\n",
      "|    100006|     0|        Cash loans|          F|           N|              Y|           0|          135000|  312682.5|    29686.5|         297000|  Unaccompanied|         Working|Secondary / secon...|      Civil marriage|House / apartment|                  0.008019|    -19005|        -3039|            -9833|          -2437|       null|         1|             1|              0|               1|         0|         0|       Laborers|              2|                   2|                          2|                 WEDNESDAY|                     17|                         0|                         0|                          0|                     0|                     0|                      0|Business Entity T...|             null|0.650441690401465|             null|          null|            null|                       null|           null|          null|         null|         null|         null|         null|        null|                null|          null|                   null|             null|           null|             null|                        null|            null|           null|          null|          null|          null|          null|         null|                 null|           null|                    null|              null|           null|             null|                        null|            null|           null|          null|          null|          null|          null|         null|                 null|           null|                    null|              null|              null|          null|          null|              null|               null|                       2|                       0|                       2|                       0|                  -617|              0|              1|              0|              0|              0|              0|              0|              0|               0|               0|               0|               0|               0|               0|               0|               0|               0|               0|               0|               0|                      null|                     null|                      null|                     null|                     null|                      null|\n",
      "|    100007|     0|        Cash loans|          M|           N|              Y|           0|          121500|    513000|    21865.5|         513000|  Unaccompanied|         Working|Secondary / secon...|Single / not married|House / apartment|                  0.028663|    -19932|        -3038|            -4311|          -3458|       null|         1|             1|              0|               1|         0|         0|     Core staff|              1|                   2|                          2|                  THURSDAY|                     11|                         0|                         0|                          0|                     0|                     1|                      1|            Religion|             null|0.322738286970405|             null|          null|            null|                       null|           null|          null|         null|         null|         null|         null|        null|                null|          null|                   null|             null|           null|             null|                        null|            null|           null|          null|          null|          null|          null|         null|                 null|           null|                    null|              null|           null|             null|                        null|            null|           null|          null|          null|          null|          null|         null|                 null|           null|                    null|              null|              null|          null|          null|              null|               null|                       0|                       0|                       0|                       0|                 -1106|              0|              0|              0|              0|              0|              0|              1|              0|               0|               0|               0|               0|               0|               0|               0|               0|               0|               0|               0|               0|                         0|                        0|                         0|                        0|                        0|                         0|\n",
      "+----------+------+------------------+-----------+------------+---------------+------------+----------------+----------+-----------+---------------+---------------+----------------+--------------------+--------------------+-----------------+--------------------------+----------+-------------+-----------------+---------------+-----------+----------+--------------+---------------+----------------+----------+----------+---------------+---------------+--------------------+---------------------------+--------------------------+-----------------------+--------------------------+--------------------------+---------------------------+----------------------+----------------------+-----------------------+--------------------+-----------------+-----------------+-----------------+--------------+----------------+---------------------------+---------------+--------------+-------------+-------------+-------------+-------------+------------+--------------------+--------------+-----------------------+-----------------+---------------+-----------------+----------------------------+----------------+---------------+--------------+--------------+--------------+--------------+-------------+---------------------+---------------+------------------------+------------------+---------------+-----------------+----------------------------+----------------+---------------+--------------+--------------+--------------+--------------+-------------+---------------------+---------------+------------------------+------------------+------------------+--------------+--------------+------------------+-------------------+------------------------+------------------------+------------------------+------------------------+----------------------+---------------+---------------+---------------+---------------+---------------+---------------+---------------+---------------+----------------+----------------+----------------+----------------+----------------+----------------+----------------+----------------+----------------+----------------+----------------+----------------+--------------------------+-------------------------+--------------------------+-------------------------+-------------------------+--------------------------+\n",
      "only showing top 5 rows\n",
      "\n"
     ]
    }
   ],
   "source": [
    "new_df.show(5)"
   ]
  },
  {
   "cell_type": "code",
   "execution_count": 12,
   "metadata": {
    "colab": {
     "base_uri": "https://localhost:8080/",
     "height": 141
    },
    "colab_type": "code",
    "id": "JLvJK680Z01l",
    "outputId": "9ac35f8c-75b0-4a53-e279-3d533ad22975"
   },
   "outputs": [
    {
     "name": "stdout",
     "output_type": "stream",
     "text": [
      "+----------+------+------------------+-----------+------------+---------------+------------+----------------+----------+-----------+---------------+---------------+----------------+-------------------+------------------+-----------------+--------------------------+----------+-------------+-----------------+---------------+-----------+----------+--------------+---------------+----------------+----------+----------+---------------+---------------+--------------------+---------------------------+--------------------------+-----------------------+--------------------------+--------------------------+---------------------------+----------------------+----------------------+-----------------------+-----------------+------------+------------+------------+--------------+----------------+---------------------------+---------------+--------------+-------------+-------------+-------------+-------------+------------+--------------------+--------------+-----------------------+-----------------+---------------+-----------------+----------------------------+----------------+---------------+--------------+--------------+--------------+--------------+-------------+---------------------+---------------+------------------------+------------------+---------------+-----------------+----------------------------+----------------+---------------+--------------+--------------+--------------+--------------+-------------+---------------------+---------------+------------------------+------------------+------------------+--------------+--------------+------------------+-------------------+------------------------+------------------------+------------------------+------------------------+----------------------+---------------+---------------+---------------+---------------+---------------+---------------+---------------+---------------+----------------+----------------+----------------+----------------+----------------+----------------+----------------+----------------+----------------+----------------+----------------+----------------+--------------------------+-------------------------+--------------------------+-------------------------+-------------------------+--------------------------+\n",
      "|SK_ID_CURR|TARGET|NAME_CONTRACT_TYPE|CODE_GENDER|FLAG_OWN_CAR|FLAG_OWN_REALTY|CNT_CHILDREN|AMT_INCOME_TOTAL|AMT_CREDIT|AMT_ANNUITY|AMT_GOODS_PRICE|NAME_TYPE_SUITE|NAME_INCOME_TYPE|NAME_EDUCATION_TYPE|NAME_FAMILY_STATUS|NAME_HOUSING_TYPE|REGION_POPULATION_RELATIVE|DAYS_BIRTH|DAYS_EMPLOYED|DAYS_REGISTRATION|DAYS_ID_PUBLISH|OWN_CAR_AGE|FLAG_MOBIL|FLAG_EMP_PHONE|FLAG_WORK_PHONE|FLAG_CONT_MOBILE|FLAG_PHONE|FLAG_EMAIL|OCCUPATION_TYPE|CNT_FAM_MEMBERS|REGION_RATING_CLIENT|REGION_RATING_CLIENT_W_CITY|WEEKDAY_APPR_PROCESS_START|HOUR_APPR_PROCESS_START|REG_REGION_NOT_LIVE_REGION|REG_REGION_NOT_WORK_REGION|LIVE_REGION_NOT_WORK_REGION|REG_CITY_NOT_LIVE_CITY|REG_CITY_NOT_WORK_CITY|LIVE_CITY_NOT_WORK_CITY|ORGANIZATION_TYPE|EXT_SOURCE_1|EXT_SOURCE_2|EXT_SOURCE_3|APARTMENTS_AVG|BASEMENTAREA_AVG|YEARS_BEGINEXPLUATATION_AVG|YEARS_BUILD_AVG|COMMONAREA_AVG|ELEVATORS_AVG|ENTRANCES_AVG|FLOORSMAX_AVG|FLOORSMIN_AVG|LANDAREA_AVG|LIVINGAPARTMENTS_AVG|LIVINGAREA_AVG|NONLIVINGAPARTMENTS_AVG|NONLIVINGAREA_AVG|APARTMENTS_MODE|BASEMENTAREA_MODE|YEARS_BEGINEXPLUATATION_MODE|YEARS_BUILD_MODE|COMMONAREA_MODE|ELEVATORS_MODE|ENTRANCES_MODE|FLOORSMAX_MODE|FLOORSMIN_MODE|LANDAREA_MODE|LIVINGAPARTMENTS_MODE|LIVINGAREA_MODE|NONLIVINGAPARTMENTS_MODE|NONLIVINGAREA_MODE|APARTMENTS_MEDI|BASEMENTAREA_MEDI|YEARS_BEGINEXPLUATATION_MEDI|YEARS_BUILD_MEDI|COMMONAREA_MEDI|ELEVATORS_MEDI|ENTRANCES_MEDI|FLOORSMAX_MEDI|FLOORSMIN_MEDI|LANDAREA_MEDI|LIVINGAPARTMENTS_MEDI|LIVINGAREA_MEDI|NONLIVINGAPARTMENTS_MEDI|NONLIVINGAREA_MEDI|FONDKAPREMONT_MODE|HOUSETYPE_MODE|TOTALAREA_MODE|WALLSMATERIAL_MODE|EMERGENCYSTATE_MODE|OBS_30_CNT_SOCIAL_CIRCLE|DEF_30_CNT_SOCIAL_CIRCLE|OBS_60_CNT_SOCIAL_CIRCLE|DEF_60_CNT_SOCIAL_CIRCLE|DAYS_LAST_PHONE_CHANGE|FLAG_DOCUMENT_2|FLAG_DOCUMENT_3|FLAG_DOCUMENT_4|FLAG_DOCUMENT_5|FLAG_DOCUMENT_6|FLAG_DOCUMENT_7|FLAG_DOCUMENT_8|FLAG_DOCUMENT_9|FLAG_DOCUMENT_10|FLAG_DOCUMENT_11|FLAG_DOCUMENT_12|FLAG_DOCUMENT_13|FLAG_DOCUMENT_14|FLAG_DOCUMENT_15|FLAG_DOCUMENT_16|FLAG_DOCUMENT_17|FLAG_DOCUMENT_18|FLAG_DOCUMENT_19|FLAG_DOCUMENT_20|FLAG_DOCUMENT_21|AMT_REQ_CREDIT_BUREAU_HOUR|AMT_REQ_CREDIT_BUREAU_DAY|AMT_REQ_CREDIT_BUREAU_WEEK|AMT_REQ_CREDIT_BUREAU_MON|AMT_REQ_CREDIT_BUREAU_QRT|AMT_REQ_CREDIT_BUREAU_YEAR|\n",
      "+----------+------+------------------+-----------+------------+---------------+------------+----------------+----------+-----------+---------------+---------------+----------------+-------------------+------------------+-----------------+--------------------------+----------+-------------+-----------------+---------------+-----------+----------+--------------+---------------+----------------+----------+----------+---------------+---------------+--------------------+---------------------------+--------------------------+-----------------------+--------------------------+--------------------------+---------------------------+----------------------+----------------------+-----------------------+-----------------+------------+------------+------------+--------------+----------------+---------------------------+---------------+--------------+-------------+-------------+-------------+-------------+------------+--------------------+--------------+-----------------------+-----------------+---------------+-----------------+----------------------------+----------------+---------------+--------------+--------------+--------------+--------------+-------------+---------------------+---------------+------------------------+------------------+---------------+-----------------+----------------------------+----------------+---------------+--------------+--------------+--------------+--------------+-------------+---------------------+---------------+------------------------+------------------+------------------+--------------+--------------+------------------+-------------------+------------------------+------------------------+------------------------+------------------------+----------------------+---------------+---------------+---------------+---------------+---------------+---------------+---------------+---------------+----------------+----------------+----------------+----------------+----------------+----------------+----------------+----------------+----------------+----------------+----------------+----------------+--------------------------+-------------------------+--------------------------+-------------------------+-------------------------+--------------------------+\n",
      "|         0|     0|                 0|          0|           0|              0|           0|               0|         0|         12|            278|           1292|               0|                  0|                 0|                0|                         0|         0|            0|                0|              0|     202929|         0|             0|              0|               0|         0|         0|          96391|              2|                   0|                          0|                         0|                      0|                         0|                         0|                          0|                     0|                     0|                      0|                0|      173378|         660|       60965|        156061|          179943|                     150007|         204488|        214865|       163891|       154828|       153020|       208642|      182590|              210199|        154350|                 213514|           169682|         156061|           179943|                      150007|          204488|         214865|        163891|        154828|        153020|        208642|       182590|               210199|         154350|                  213514|            169682|         156061|           179943|                      150007|          204488|         214865|        163891|        154828|        153020|        208642|       182590|               210199|         154350|                  213514|            169682|            210295|        154297|        148431|            156341|             145755|                    1021|                    1021|                    1021|                    1021|                     1|              0|              0|              0|              0|              0|              0|              0|              0|               0|               0|               0|               0|               0|               0|               0|               0|               0|               0|               0|               0|                     41519|                    41519|                     41519|                    41519|                    41519|                     41519|\n",
      "+----------+------+------------------+-----------+------------+---------------+------------+----------------+----------+-----------+---------------+---------------+----------------+-------------------+------------------+-----------------+--------------------------+----------+-------------+-----------------+---------------+-----------+----------+--------------+---------------+----------------+----------+----------+---------------+---------------+--------------------+---------------------------+--------------------------+-----------------------+--------------------------+--------------------------+---------------------------+----------------------+----------------------+-----------------------+-----------------+------------+------------+------------+--------------+----------------+---------------------------+---------------+--------------+-------------+-------------+-------------+-------------+------------+--------------------+--------------+-----------------------+-----------------+---------------+-----------------+----------------------------+----------------+---------------+--------------+--------------+--------------+--------------+-------------+---------------------+---------------+------------------------+------------------+---------------+-----------------+----------------------------+----------------+---------------+--------------+--------------+--------------+--------------+-------------+---------------------+---------------+------------------------+------------------+------------------+--------------+--------------+------------------+-------------------+------------------------+------------------------+------------------------+------------------------+----------------------+---------------+---------------+---------------+---------------+---------------+---------------+---------------+---------------+----------------+----------------+----------------+----------------+----------------+----------------+----------------+----------------+----------------+----------------+----------------+----------------+--------------------------+-------------------------+--------------------------+-------------------------+-------------------------+--------------------------+\n",
      "\n"
     ]
    }
   ],
   "source": [
    "#checking Nan's value\n",
    "new_df.select(*(sum(col(c).isNull().cast(\"int\")).alias(c) for c in new_df.columns)).show()\n"
   ]
  },
  {
   "cell_type": "code",
   "execution_count": null,
   "metadata": {
    "colab": {},
    "colab_type": "code",
    "id": "opEZuYEdZ05I"
   },
   "outputs": [],
   "source": []
  },
  {
   "cell_type": "markdown",
   "metadata": {
    "colab_type": "text",
    "id": "xuhD6Vl4Z7YA"
   },
   "source": [
    "## printing column"
   ]
  },
  {
   "cell_type": "code",
   "execution_count": 13,
   "metadata": {
    "colab": {
     "base_uri": "https://localhost:8080/",
     "height": 1000
    },
    "colab_type": "code",
    "id": "jVHbEA6IZ0_5",
    "outputId": "ea45ed53-6de2-4751-807f-06246e3b9a65"
   },
   "outputs": [
    {
     "name": "stdout",
     "output_type": "stream",
     "text": [
      "root\n",
      " |-- SK_ID_CURR: string (nullable = true)\n",
      " |-- TARGET: string (nullable = true)\n",
      " |-- NAME_CONTRACT_TYPE: string (nullable = true)\n",
      " |-- CODE_GENDER: string (nullable = true)\n",
      " |-- FLAG_OWN_CAR: string (nullable = true)\n",
      " |-- FLAG_OWN_REALTY: string (nullable = true)\n",
      " |-- CNT_CHILDREN: string (nullable = true)\n",
      " |-- AMT_INCOME_TOTAL: string (nullable = true)\n",
      " |-- AMT_CREDIT: string (nullable = true)\n",
      " |-- AMT_ANNUITY: string (nullable = true)\n",
      " |-- AMT_GOODS_PRICE: string (nullable = true)\n",
      " |-- NAME_TYPE_SUITE: string (nullable = true)\n",
      " |-- NAME_INCOME_TYPE: string (nullable = true)\n",
      " |-- NAME_EDUCATION_TYPE: string (nullable = true)\n",
      " |-- NAME_FAMILY_STATUS: string (nullable = true)\n",
      " |-- NAME_HOUSING_TYPE: string (nullable = true)\n",
      " |-- REGION_POPULATION_RELATIVE: string (nullable = true)\n",
      " |-- DAYS_BIRTH: string (nullable = true)\n",
      " |-- DAYS_EMPLOYED: string (nullable = true)\n",
      " |-- DAYS_REGISTRATION: string (nullable = true)\n",
      " |-- DAYS_ID_PUBLISH: string (nullable = true)\n",
      " |-- OWN_CAR_AGE: string (nullable = true)\n",
      " |-- FLAG_MOBIL: string (nullable = true)\n",
      " |-- FLAG_EMP_PHONE: string (nullable = true)\n",
      " |-- FLAG_WORK_PHONE: string (nullable = true)\n",
      " |-- FLAG_CONT_MOBILE: string (nullable = true)\n",
      " |-- FLAG_PHONE: string (nullable = true)\n",
      " |-- FLAG_EMAIL: string (nullable = true)\n",
      " |-- OCCUPATION_TYPE: string (nullable = true)\n",
      " |-- CNT_FAM_MEMBERS: string (nullable = true)\n",
      " |-- REGION_RATING_CLIENT: string (nullable = true)\n",
      " |-- REGION_RATING_CLIENT_W_CITY: string (nullable = true)\n",
      " |-- WEEKDAY_APPR_PROCESS_START: string (nullable = true)\n",
      " |-- HOUR_APPR_PROCESS_START: string (nullable = true)\n",
      " |-- REG_REGION_NOT_LIVE_REGION: string (nullable = true)\n",
      " |-- REG_REGION_NOT_WORK_REGION: string (nullable = true)\n",
      " |-- LIVE_REGION_NOT_WORK_REGION: string (nullable = true)\n",
      " |-- REG_CITY_NOT_LIVE_CITY: string (nullable = true)\n",
      " |-- REG_CITY_NOT_WORK_CITY: string (nullable = true)\n",
      " |-- LIVE_CITY_NOT_WORK_CITY: string (nullable = true)\n",
      " |-- ORGANIZATION_TYPE: string (nullable = true)\n",
      " |-- EXT_SOURCE_1: string (nullable = true)\n",
      " |-- EXT_SOURCE_2: string (nullable = true)\n",
      " |-- EXT_SOURCE_3: string (nullable = true)\n",
      " |-- APARTMENTS_AVG: string (nullable = true)\n",
      " |-- BASEMENTAREA_AVG: string (nullable = true)\n",
      " |-- YEARS_BEGINEXPLUATATION_AVG: string (nullable = true)\n",
      " |-- YEARS_BUILD_AVG: string (nullable = true)\n",
      " |-- COMMONAREA_AVG: string (nullable = true)\n",
      " |-- ELEVATORS_AVG: string (nullable = true)\n",
      " |-- ENTRANCES_AVG: string (nullable = true)\n",
      " |-- FLOORSMAX_AVG: string (nullable = true)\n",
      " |-- FLOORSMIN_AVG: string (nullable = true)\n",
      " |-- LANDAREA_AVG: string (nullable = true)\n",
      " |-- LIVINGAPARTMENTS_AVG: string (nullable = true)\n",
      " |-- LIVINGAREA_AVG: string (nullable = true)\n",
      " |-- NONLIVINGAPARTMENTS_AVG: string (nullable = true)\n",
      " |-- NONLIVINGAREA_AVG: string (nullable = true)\n",
      " |-- APARTMENTS_MODE: string (nullable = true)\n",
      " |-- BASEMENTAREA_MODE: string (nullable = true)\n",
      " |-- YEARS_BEGINEXPLUATATION_MODE: string (nullable = true)\n",
      " |-- YEARS_BUILD_MODE: string (nullable = true)\n",
      " |-- COMMONAREA_MODE: string (nullable = true)\n",
      " |-- ELEVATORS_MODE: string (nullable = true)\n",
      " |-- ENTRANCES_MODE: string (nullable = true)\n",
      " |-- FLOORSMAX_MODE: string (nullable = true)\n",
      " |-- FLOORSMIN_MODE: string (nullable = true)\n",
      " |-- LANDAREA_MODE: string (nullable = true)\n",
      " |-- LIVINGAPARTMENTS_MODE: string (nullable = true)\n",
      " |-- LIVINGAREA_MODE: string (nullable = true)\n",
      " |-- NONLIVINGAPARTMENTS_MODE: string (nullable = true)\n",
      " |-- NONLIVINGAREA_MODE: string (nullable = true)\n",
      " |-- APARTMENTS_MEDI: string (nullable = true)\n",
      " |-- BASEMENTAREA_MEDI: string (nullable = true)\n",
      " |-- YEARS_BEGINEXPLUATATION_MEDI: string (nullable = true)\n",
      " |-- YEARS_BUILD_MEDI: string (nullable = true)\n",
      " |-- COMMONAREA_MEDI: string (nullable = true)\n",
      " |-- ELEVATORS_MEDI: string (nullable = true)\n",
      " |-- ENTRANCES_MEDI: string (nullable = true)\n",
      " |-- FLOORSMAX_MEDI: string (nullable = true)\n",
      " |-- FLOORSMIN_MEDI: string (nullable = true)\n",
      " |-- LANDAREA_MEDI: string (nullable = true)\n",
      " |-- LIVINGAPARTMENTS_MEDI: string (nullable = true)\n",
      " |-- LIVINGAREA_MEDI: string (nullable = true)\n",
      " |-- NONLIVINGAPARTMENTS_MEDI: string (nullable = true)\n",
      " |-- NONLIVINGAREA_MEDI: string (nullable = true)\n",
      " |-- FONDKAPREMONT_MODE: string (nullable = true)\n",
      " |-- HOUSETYPE_MODE: string (nullable = true)\n",
      " |-- TOTALAREA_MODE: string (nullable = true)\n",
      " |-- WALLSMATERIAL_MODE: string (nullable = true)\n",
      " |-- EMERGENCYSTATE_MODE: string (nullable = true)\n",
      " |-- OBS_30_CNT_SOCIAL_CIRCLE: string (nullable = true)\n",
      " |-- DEF_30_CNT_SOCIAL_CIRCLE: string (nullable = true)\n",
      " |-- OBS_60_CNT_SOCIAL_CIRCLE: string (nullable = true)\n",
      " |-- DEF_60_CNT_SOCIAL_CIRCLE: string (nullable = true)\n",
      " |-- DAYS_LAST_PHONE_CHANGE: string (nullable = true)\n",
      " |-- FLAG_DOCUMENT_2: string (nullable = true)\n",
      " |-- FLAG_DOCUMENT_3: string (nullable = true)\n",
      " |-- FLAG_DOCUMENT_4: string (nullable = true)\n",
      " |-- FLAG_DOCUMENT_5: string (nullable = true)\n",
      " |-- FLAG_DOCUMENT_6: string (nullable = true)\n",
      " |-- FLAG_DOCUMENT_7: string (nullable = true)\n",
      " |-- FLAG_DOCUMENT_8: string (nullable = true)\n",
      " |-- FLAG_DOCUMENT_9: string (nullable = true)\n",
      " |-- FLAG_DOCUMENT_10: string (nullable = true)\n",
      " |-- FLAG_DOCUMENT_11: string (nullable = true)\n",
      " |-- FLAG_DOCUMENT_12: string (nullable = true)\n",
      " |-- FLAG_DOCUMENT_13: string (nullable = true)\n",
      " |-- FLAG_DOCUMENT_14: string (nullable = true)\n",
      " |-- FLAG_DOCUMENT_15: string (nullable = true)\n",
      " |-- FLAG_DOCUMENT_16: string (nullable = true)\n",
      " |-- FLAG_DOCUMENT_17: string (nullable = true)\n",
      " |-- FLAG_DOCUMENT_18: string (nullable = true)\n",
      " |-- FLAG_DOCUMENT_19: string (nullable = true)\n",
      " |-- FLAG_DOCUMENT_20: string (nullable = true)\n",
      " |-- FLAG_DOCUMENT_21: string (nullable = true)\n",
      " |-- AMT_REQ_CREDIT_BUREAU_HOUR: string (nullable = true)\n",
      " |-- AMT_REQ_CREDIT_BUREAU_DAY: string (nullable = true)\n",
      " |-- AMT_REQ_CREDIT_BUREAU_WEEK: string (nullable = true)\n",
      " |-- AMT_REQ_CREDIT_BUREAU_MON: string (nullable = true)\n",
      " |-- AMT_REQ_CREDIT_BUREAU_QRT: string (nullable = true)\n",
      " |-- AMT_REQ_CREDIT_BUREAU_YEAR: string (nullable = true)\n",
      "\n"
     ]
    }
   ],
   "source": [
    "new_df.printSchema()"
   ]
  },
  {
   "cell_type": "code",
   "execution_count": null,
   "metadata": {
    "colab": {},
    "colab_type": "code",
    "id": "HEKkgLBlZ1Cf"
   },
   "outputs": [],
   "source": []
  },
  {
   "cell_type": "markdown",
   "metadata": {
    "colab_type": "text",
    "id": "-ojm4a63aF07"
   },
   "source": [
    "## Reducing column and Changing column name"
   ]
  },
  {
   "cell_type": "code",
   "execution_count": 14,
   "metadata": {
    "colab": {
     "base_uri": "https://localhost:8080/",
     "height": 112
    },
    "colab_type": "code",
    "id": "u9RHkhcRZ1HH",
    "outputId": "5d0645ab-1b4d-43f9-c5b6-91eea1510515"
   },
   "outputs": [
    {
     "data": {
      "text/html": [
       "<div>\n",
       "<style scoped>\n",
       "    .dataframe tbody tr th:only-of-type {\n",
       "        vertical-align: middle;\n",
       "    }\n",
       "\n",
       "    .dataframe tbody tr th {\n",
       "        vertical-align: top;\n",
       "    }\n",
       "\n",
       "    .dataframe thead th {\n",
       "        text-align: right;\n",
       "    }\n",
       "</style>\n",
       "<table border=\"1\" class=\"dataframe\">\n",
       "  <thead>\n",
       "    <tr style=\"text-align: right;\">\n",
       "      <th></th>\n",
       "      <th>label</th>\n",
       "      <th>count</th>\n",
       "    </tr>\n",
       "  </thead>\n",
       "  <tbody>\n",
       "    <tr>\n",
       "      <th>0</th>\n",
       "      <td>0</td>\n",
       "      <td>282686</td>\n",
       "    </tr>\n",
       "    <tr>\n",
       "      <th>1</th>\n",
       "      <td>1</td>\n",
       "      <td>24825</td>\n",
       "    </tr>\n",
       "  </tbody>\n",
       "</table>\n",
       "</div>"
      ],
      "text/plain": [
       "  label   count\n",
       "0     0  282686\n",
       "1     1   24825"
      ]
     },
     "execution_count": 14,
     "metadata": {
      "tags": []
     },
     "output_type": "execute_result"
    }
   ],
   "source": [
    "drop_col = ['SK_ID_CURR']\n",
    "\n",
    "new_df = new_df.select([column for column in new_df.columns if column not in drop_col])\n",
    "\n",
    "new_df = new_df.withColumnRenamed('TARGET', 'label')\n",
    "new_df.groupby('label').count().toPandas()"
   ]
  },
  {
   "cell_type": "code",
   "execution_count": null,
   "metadata": {
    "colab": {},
    "colab_type": "code",
    "id": "xkq01xISZ09X"
   },
   "outputs": [],
   "source": []
  },
  {
   "cell_type": "markdown",
   "metadata": {
    "colab_type": "text",
    "id": "Pa3mOwTAaOyf"
   },
   "source": [
    "## printing in pandas dataframe"
   ]
  },
  {
   "cell_type": "code",
   "execution_count": 15,
   "metadata": {
    "colab": {
     "base_uri": "https://localhost:8080/",
     "height": 551
    },
    "colab_type": "code",
    "id": "HmEkxdPDaQiJ",
    "outputId": "aea690d6-7805-41c6-b31c-8c59089eebfc"
   },
   "outputs": [
    {
     "data": {
      "text/html": [
       "<div>\n",
       "<style scoped>\n",
       "    .dataframe tbody tr th:only-of-type {\n",
       "        vertical-align: middle;\n",
       "    }\n",
       "\n",
       "    .dataframe tbody tr th {\n",
       "        vertical-align: top;\n",
       "    }\n",
       "\n",
       "    .dataframe thead th {\n",
       "        text-align: right;\n",
       "    }\n",
       "</style>\n",
       "<table border=\"1\" class=\"dataframe\">\n",
       "  <thead>\n",
       "    <tr style=\"text-align: right;\">\n",
       "      <th></th>\n",
       "      <th>label</th>\n",
       "      <th>NAME_CONTRACT_TYPE</th>\n",
       "      <th>CODE_GENDER</th>\n",
       "      <th>FLAG_OWN_CAR</th>\n",
       "      <th>FLAG_OWN_REALTY</th>\n",
       "      <th>CNT_CHILDREN</th>\n",
       "      <th>AMT_INCOME_TOTAL</th>\n",
       "      <th>AMT_CREDIT</th>\n",
       "      <th>AMT_ANNUITY</th>\n",
       "      <th>AMT_GOODS_PRICE</th>\n",
       "      <th>NAME_TYPE_SUITE</th>\n",
       "      <th>NAME_INCOME_TYPE</th>\n",
       "      <th>NAME_EDUCATION_TYPE</th>\n",
       "      <th>NAME_FAMILY_STATUS</th>\n",
       "      <th>NAME_HOUSING_TYPE</th>\n",
       "      <th>REGION_POPULATION_RELATIVE</th>\n",
       "      <th>DAYS_BIRTH</th>\n",
       "      <th>DAYS_EMPLOYED</th>\n",
       "      <th>DAYS_REGISTRATION</th>\n",
       "      <th>DAYS_ID_PUBLISH</th>\n",
       "      <th>OWN_CAR_AGE</th>\n",
       "      <th>FLAG_MOBIL</th>\n",
       "      <th>FLAG_EMP_PHONE</th>\n",
       "      <th>FLAG_WORK_PHONE</th>\n",
       "      <th>FLAG_CONT_MOBILE</th>\n",
       "      <th>FLAG_PHONE</th>\n",
       "      <th>FLAG_EMAIL</th>\n",
       "      <th>OCCUPATION_TYPE</th>\n",
       "      <th>CNT_FAM_MEMBERS</th>\n",
       "      <th>REGION_RATING_CLIENT</th>\n",
       "      <th>REGION_RATING_CLIENT_W_CITY</th>\n",
       "      <th>WEEKDAY_APPR_PROCESS_START</th>\n",
       "      <th>HOUR_APPR_PROCESS_START</th>\n",
       "      <th>REG_REGION_NOT_LIVE_REGION</th>\n",
       "      <th>REG_REGION_NOT_WORK_REGION</th>\n",
       "      <th>LIVE_REGION_NOT_WORK_REGION</th>\n",
       "      <th>REG_CITY_NOT_LIVE_CITY</th>\n",
       "      <th>REG_CITY_NOT_WORK_CITY</th>\n",
       "      <th>LIVE_CITY_NOT_WORK_CITY</th>\n",
       "      <th>ORGANIZATION_TYPE</th>\n",
       "      <th>...</th>\n",
       "      <th>LIVINGAPARTMENTS_MEDI</th>\n",
       "      <th>LIVINGAREA_MEDI</th>\n",
       "      <th>NONLIVINGAPARTMENTS_MEDI</th>\n",
       "      <th>NONLIVINGAREA_MEDI</th>\n",
       "      <th>FONDKAPREMONT_MODE</th>\n",
       "      <th>HOUSETYPE_MODE</th>\n",
       "      <th>TOTALAREA_MODE</th>\n",
       "      <th>WALLSMATERIAL_MODE</th>\n",
       "      <th>EMERGENCYSTATE_MODE</th>\n",
       "      <th>OBS_30_CNT_SOCIAL_CIRCLE</th>\n",
       "      <th>DEF_30_CNT_SOCIAL_CIRCLE</th>\n",
       "      <th>OBS_60_CNT_SOCIAL_CIRCLE</th>\n",
       "      <th>DEF_60_CNT_SOCIAL_CIRCLE</th>\n",
       "      <th>DAYS_LAST_PHONE_CHANGE</th>\n",
       "      <th>FLAG_DOCUMENT_2</th>\n",
       "      <th>FLAG_DOCUMENT_3</th>\n",
       "      <th>FLAG_DOCUMENT_4</th>\n",
       "      <th>FLAG_DOCUMENT_5</th>\n",
       "      <th>FLAG_DOCUMENT_6</th>\n",
       "      <th>FLAG_DOCUMENT_7</th>\n",
       "      <th>FLAG_DOCUMENT_8</th>\n",
       "      <th>FLAG_DOCUMENT_9</th>\n",
       "      <th>FLAG_DOCUMENT_10</th>\n",
       "      <th>FLAG_DOCUMENT_11</th>\n",
       "      <th>FLAG_DOCUMENT_12</th>\n",
       "      <th>FLAG_DOCUMENT_13</th>\n",
       "      <th>FLAG_DOCUMENT_14</th>\n",
       "      <th>FLAG_DOCUMENT_15</th>\n",
       "      <th>FLAG_DOCUMENT_16</th>\n",
       "      <th>FLAG_DOCUMENT_17</th>\n",
       "      <th>FLAG_DOCUMENT_18</th>\n",
       "      <th>FLAG_DOCUMENT_19</th>\n",
       "      <th>FLAG_DOCUMENT_20</th>\n",
       "      <th>FLAG_DOCUMENT_21</th>\n",
       "      <th>AMT_REQ_CREDIT_BUREAU_HOUR</th>\n",
       "      <th>AMT_REQ_CREDIT_BUREAU_DAY</th>\n",
       "      <th>AMT_REQ_CREDIT_BUREAU_WEEK</th>\n",
       "      <th>AMT_REQ_CREDIT_BUREAU_MON</th>\n",
       "      <th>AMT_REQ_CREDIT_BUREAU_QRT</th>\n",
       "      <th>AMT_REQ_CREDIT_BUREAU_YEAR</th>\n",
       "    </tr>\n",
       "  </thead>\n",
       "  <tbody>\n",
       "    <tr>\n",
       "      <th>0</th>\n",
       "      <td>1</td>\n",
       "      <td>Cash loans</td>\n",
       "      <td>M</td>\n",
       "      <td>N</td>\n",
       "      <td>Y</td>\n",
       "      <td>0</td>\n",
       "      <td>202500</td>\n",
       "      <td>406597.5</td>\n",
       "      <td>24700.5</td>\n",
       "      <td>351000</td>\n",
       "      <td>Unaccompanied</td>\n",
       "      <td>Working</td>\n",
       "      <td>Secondary / secondary special</td>\n",
       "      <td>Single / not married</td>\n",
       "      <td>House / apartment</td>\n",
       "      <td>0.018801</td>\n",
       "      <td>-9461</td>\n",
       "      <td>-637</td>\n",
       "      <td>-3648</td>\n",
       "      <td>-2120</td>\n",
       "      <td>None</td>\n",
       "      <td>1</td>\n",
       "      <td>1</td>\n",
       "      <td>0</td>\n",
       "      <td>1</td>\n",
       "      <td>1</td>\n",
       "      <td>0</td>\n",
       "      <td>Laborers</td>\n",
       "      <td>1</td>\n",
       "      <td>2</td>\n",
       "      <td>2</td>\n",
       "      <td>WEDNESDAY</td>\n",
       "      <td>10</td>\n",
       "      <td>0</td>\n",
       "      <td>0</td>\n",
       "      <td>0</td>\n",
       "      <td>0</td>\n",
       "      <td>0</td>\n",
       "      <td>0</td>\n",
       "      <td>Business Entity Type 3</td>\n",
       "      <td>...</td>\n",
       "      <td>0.0205</td>\n",
       "      <td>0.0193</td>\n",
       "      <td>0</td>\n",
       "      <td>0</td>\n",
       "      <td>reg oper account</td>\n",
       "      <td>block of flats</td>\n",
       "      <td>0.0149</td>\n",
       "      <td>Stone, brick</td>\n",
       "      <td>No</td>\n",
       "      <td>2</td>\n",
       "      <td>2</td>\n",
       "      <td>2</td>\n",
       "      <td>2</td>\n",
       "      <td>-1134</td>\n",
       "      <td>0</td>\n",
       "      <td>1</td>\n",
       "      <td>0</td>\n",
       "      <td>0</td>\n",
       "      <td>0</td>\n",
       "      <td>0</td>\n",
       "      <td>0</td>\n",
       "      <td>0</td>\n",
       "      <td>0</td>\n",
       "      <td>0</td>\n",
       "      <td>0</td>\n",
       "      <td>0</td>\n",
       "      <td>0</td>\n",
       "      <td>0</td>\n",
       "      <td>0</td>\n",
       "      <td>0</td>\n",
       "      <td>0</td>\n",
       "      <td>0</td>\n",
       "      <td>0</td>\n",
       "      <td>0</td>\n",
       "      <td>0</td>\n",
       "      <td>0</td>\n",
       "      <td>0</td>\n",
       "      <td>0</td>\n",
       "      <td>0</td>\n",
       "      <td>1</td>\n",
       "    </tr>\n",
       "    <tr>\n",
       "      <th>1</th>\n",
       "      <td>0</td>\n",
       "      <td>Cash loans</td>\n",
       "      <td>F</td>\n",
       "      <td>N</td>\n",
       "      <td>N</td>\n",
       "      <td>0</td>\n",
       "      <td>270000</td>\n",
       "      <td>1293502.5</td>\n",
       "      <td>35698.5</td>\n",
       "      <td>1129500</td>\n",
       "      <td>Family</td>\n",
       "      <td>State servant</td>\n",
       "      <td>Higher education</td>\n",
       "      <td>Married</td>\n",
       "      <td>House / apartment</td>\n",
       "      <td>0.003541</td>\n",
       "      <td>-16765</td>\n",
       "      <td>-1188</td>\n",
       "      <td>-1186</td>\n",
       "      <td>-291</td>\n",
       "      <td>None</td>\n",
       "      <td>1</td>\n",
       "      <td>1</td>\n",
       "      <td>0</td>\n",
       "      <td>1</td>\n",
       "      <td>1</td>\n",
       "      <td>0</td>\n",
       "      <td>Core staff</td>\n",
       "      <td>2</td>\n",
       "      <td>1</td>\n",
       "      <td>1</td>\n",
       "      <td>MONDAY</td>\n",
       "      <td>11</td>\n",
       "      <td>0</td>\n",
       "      <td>0</td>\n",
       "      <td>0</td>\n",
       "      <td>0</td>\n",
       "      <td>0</td>\n",
       "      <td>0</td>\n",
       "      <td>School</td>\n",
       "      <td>...</td>\n",
       "      <td>0.0787</td>\n",
       "      <td>0.0558</td>\n",
       "      <td>0.0039</td>\n",
       "      <td>0.01</td>\n",
       "      <td>reg oper account</td>\n",
       "      <td>block of flats</td>\n",
       "      <td>0.0714</td>\n",
       "      <td>Block</td>\n",
       "      <td>No</td>\n",
       "      <td>1</td>\n",
       "      <td>0</td>\n",
       "      <td>1</td>\n",
       "      <td>0</td>\n",
       "      <td>-828</td>\n",
       "      <td>0</td>\n",
       "      <td>1</td>\n",
       "      <td>0</td>\n",
       "      <td>0</td>\n",
       "      <td>0</td>\n",
       "      <td>0</td>\n",
       "      <td>0</td>\n",
       "      <td>0</td>\n",
       "      <td>0</td>\n",
       "      <td>0</td>\n",
       "      <td>0</td>\n",
       "      <td>0</td>\n",
       "      <td>0</td>\n",
       "      <td>0</td>\n",
       "      <td>0</td>\n",
       "      <td>0</td>\n",
       "      <td>0</td>\n",
       "      <td>0</td>\n",
       "      <td>0</td>\n",
       "      <td>0</td>\n",
       "      <td>0</td>\n",
       "      <td>0</td>\n",
       "      <td>0</td>\n",
       "      <td>0</td>\n",
       "      <td>0</td>\n",
       "      <td>0</td>\n",
       "    </tr>\n",
       "    <tr>\n",
       "      <th>2</th>\n",
       "      <td>0</td>\n",
       "      <td>Revolving loans</td>\n",
       "      <td>M</td>\n",
       "      <td>Y</td>\n",
       "      <td>Y</td>\n",
       "      <td>0</td>\n",
       "      <td>67500</td>\n",
       "      <td>135000</td>\n",
       "      <td>6750</td>\n",
       "      <td>135000</td>\n",
       "      <td>Unaccompanied</td>\n",
       "      <td>Working</td>\n",
       "      <td>Secondary / secondary special</td>\n",
       "      <td>Single / not married</td>\n",
       "      <td>House / apartment</td>\n",
       "      <td>0.010032</td>\n",
       "      <td>-19046</td>\n",
       "      <td>-225</td>\n",
       "      <td>-4260</td>\n",
       "      <td>-2531</td>\n",
       "      <td>26</td>\n",
       "      <td>1</td>\n",
       "      <td>1</td>\n",
       "      <td>1</td>\n",
       "      <td>1</td>\n",
       "      <td>1</td>\n",
       "      <td>0</td>\n",
       "      <td>Laborers</td>\n",
       "      <td>1</td>\n",
       "      <td>2</td>\n",
       "      <td>2</td>\n",
       "      <td>MONDAY</td>\n",
       "      <td>9</td>\n",
       "      <td>0</td>\n",
       "      <td>0</td>\n",
       "      <td>0</td>\n",
       "      <td>0</td>\n",
       "      <td>0</td>\n",
       "      <td>0</td>\n",
       "      <td>Government</td>\n",
       "      <td>...</td>\n",
       "      <td>None</td>\n",
       "      <td>None</td>\n",
       "      <td>None</td>\n",
       "      <td>None</td>\n",
       "      <td>None</td>\n",
       "      <td>None</td>\n",
       "      <td>None</td>\n",
       "      <td>None</td>\n",
       "      <td>None</td>\n",
       "      <td>0</td>\n",
       "      <td>0</td>\n",
       "      <td>0</td>\n",
       "      <td>0</td>\n",
       "      <td>-815</td>\n",
       "      <td>0</td>\n",
       "      <td>0</td>\n",
       "      <td>0</td>\n",
       "      <td>0</td>\n",
       "      <td>0</td>\n",
       "      <td>0</td>\n",
       "      <td>0</td>\n",
       "      <td>0</td>\n",
       "      <td>0</td>\n",
       "      <td>0</td>\n",
       "      <td>0</td>\n",
       "      <td>0</td>\n",
       "      <td>0</td>\n",
       "      <td>0</td>\n",
       "      <td>0</td>\n",
       "      <td>0</td>\n",
       "      <td>0</td>\n",
       "      <td>0</td>\n",
       "      <td>0</td>\n",
       "      <td>0</td>\n",
       "      <td>0</td>\n",
       "      <td>0</td>\n",
       "      <td>0</td>\n",
       "      <td>0</td>\n",
       "      <td>0</td>\n",
       "      <td>0</td>\n",
       "    </tr>\n",
       "    <tr>\n",
       "      <th>3</th>\n",
       "      <td>0</td>\n",
       "      <td>Cash loans</td>\n",
       "      <td>F</td>\n",
       "      <td>N</td>\n",
       "      <td>Y</td>\n",
       "      <td>0</td>\n",
       "      <td>135000</td>\n",
       "      <td>312682.5</td>\n",
       "      <td>29686.5</td>\n",
       "      <td>297000</td>\n",
       "      <td>Unaccompanied</td>\n",
       "      <td>Working</td>\n",
       "      <td>Secondary / secondary special</td>\n",
       "      <td>Civil marriage</td>\n",
       "      <td>House / apartment</td>\n",
       "      <td>0.008019</td>\n",
       "      <td>-19005</td>\n",
       "      <td>-3039</td>\n",
       "      <td>-9833</td>\n",
       "      <td>-2437</td>\n",
       "      <td>None</td>\n",
       "      <td>1</td>\n",
       "      <td>1</td>\n",
       "      <td>0</td>\n",
       "      <td>1</td>\n",
       "      <td>0</td>\n",
       "      <td>0</td>\n",
       "      <td>Laborers</td>\n",
       "      <td>2</td>\n",
       "      <td>2</td>\n",
       "      <td>2</td>\n",
       "      <td>WEDNESDAY</td>\n",
       "      <td>17</td>\n",
       "      <td>0</td>\n",
       "      <td>0</td>\n",
       "      <td>0</td>\n",
       "      <td>0</td>\n",
       "      <td>0</td>\n",
       "      <td>0</td>\n",
       "      <td>Business Entity Type 3</td>\n",
       "      <td>...</td>\n",
       "      <td>None</td>\n",
       "      <td>None</td>\n",
       "      <td>None</td>\n",
       "      <td>None</td>\n",
       "      <td>None</td>\n",
       "      <td>None</td>\n",
       "      <td>None</td>\n",
       "      <td>None</td>\n",
       "      <td>None</td>\n",
       "      <td>2</td>\n",
       "      <td>0</td>\n",
       "      <td>2</td>\n",
       "      <td>0</td>\n",
       "      <td>-617</td>\n",
       "      <td>0</td>\n",
       "      <td>1</td>\n",
       "      <td>0</td>\n",
       "      <td>0</td>\n",
       "      <td>0</td>\n",
       "      <td>0</td>\n",
       "      <td>0</td>\n",
       "      <td>0</td>\n",
       "      <td>0</td>\n",
       "      <td>0</td>\n",
       "      <td>0</td>\n",
       "      <td>0</td>\n",
       "      <td>0</td>\n",
       "      <td>0</td>\n",
       "      <td>0</td>\n",
       "      <td>0</td>\n",
       "      <td>0</td>\n",
       "      <td>0</td>\n",
       "      <td>0</td>\n",
       "      <td>0</td>\n",
       "      <td>None</td>\n",
       "      <td>None</td>\n",
       "      <td>None</td>\n",
       "      <td>None</td>\n",
       "      <td>None</td>\n",
       "      <td>None</td>\n",
       "    </tr>\n",
       "    <tr>\n",
       "      <th>4</th>\n",
       "      <td>0</td>\n",
       "      <td>Cash loans</td>\n",
       "      <td>M</td>\n",
       "      <td>N</td>\n",
       "      <td>Y</td>\n",
       "      <td>0</td>\n",
       "      <td>121500</td>\n",
       "      <td>513000</td>\n",
       "      <td>21865.5</td>\n",
       "      <td>513000</td>\n",
       "      <td>Unaccompanied</td>\n",
       "      <td>Working</td>\n",
       "      <td>Secondary / secondary special</td>\n",
       "      <td>Single / not married</td>\n",
       "      <td>House / apartment</td>\n",
       "      <td>0.028663</td>\n",
       "      <td>-19932</td>\n",
       "      <td>-3038</td>\n",
       "      <td>-4311</td>\n",
       "      <td>-3458</td>\n",
       "      <td>None</td>\n",
       "      <td>1</td>\n",
       "      <td>1</td>\n",
       "      <td>0</td>\n",
       "      <td>1</td>\n",
       "      <td>0</td>\n",
       "      <td>0</td>\n",
       "      <td>Core staff</td>\n",
       "      <td>1</td>\n",
       "      <td>2</td>\n",
       "      <td>2</td>\n",
       "      <td>THURSDAY</td>\n",
       "      <td>11</td>\n",
       "      <td>0</td>\n",
       "      <td>0</td>\n",
       "      <td>0</td>\n",
       "      <td>0</td>\n",
       "      <td>1</td>\n",
       "      <td>1</td>\n",
       "      <td>Religion</td>\n",
       "      <td>...</td>\n",
       "      <td>None</td>\n",
       "      <td>None</td>\n",
       "      <td>None</td>\n",
       "      <td>None</td>\n",
       "      <td>None</td>\n",
       "      <td>None</td>\n",
       "      <td>None</td>\n",
       "      <td>None</td>\n",
       "      <td>None</td>\n",
       "      <td>0</td>\n",
       "      <td>0</td>\n",
       "      <td>0</td>\n",
       "      <td>0</td>\n",
       "      <td>-1106</td>\n",
       "      <td>0</td>\n",
       "      <td>0</td>\n",
       "      <td>0</td>\n",
       "      <td>0</td>\n",
       "      <td>0</td>\n",
       "      <td>0</td>\n",
       "      <td>1</td>\n",
       "      <td>0</td>\n",
       "      <td>0</td>\n",
       "      <td>0</td>\n",
       "      <td>0</td>\n",
       "      <td>0</td>\n",
       "      <td>0</td>\n",
       "      <td>0</td>\n",
       "      <td>0</td>\n",
       "      <td>0</td>\n",
       "      <td>0</td>\n",
       "      <td>0</td>\n",
       "      <td>0</td>\n",
       "      <td>0</td>\n",
       "      <td>0</td>\n",
       "      <td>0</td>\n",
       "      <td>0</td>\n",
       "      <td>0</td>\n",
       "      <td>0</td>\n",
       "      <td>0</td>\n",
       "    </tr>\n",
       "    <tr>\n",
       "      <th>5</th>\n",
       "      <td>0</td>\n",
       "      <td>Cash loans</td>\n",
       "      <td>M</td>\n",
       "      <td>N</td>\n",
       "      <td>Y</td>\n",
       "      <td>0</td>\n",
       "      <td>99000</td>\n",
       "      <td>490495.5</td>\n",
       "      <td>27517.5</td>\n",
       "      <td>454500</td>\n",
       "      <td>Spouse, partner</td>\n",
       "      <td>State servant</td>\n",
       "      <td>Secondary / secondary special</td>\n",
       "      <td>Married</td>\n",
       "      <td>House / apartment</td>\n",
       "      <td>0.035792</td>\n",
       "      <td>-16941</td>\n",
       "      <td>-1588</td>\n",
       "      <td>-4970</td>\n",
       "      <td>-477</td>\n",
       "      <td>None</td>\n",
       "      <td>1</td>\n",
       "      <td>1</td>\n",
       "      <td>1</td>\n",
       "      <td>1</td>\n",
       "      <td>1</td>\n",
       "      <td>0</td>\n",
       "      <td>Laborers</td>\n",
       "      <td>2</td>\n",
       "      <td>2</td>\n",
       "      <td>2</td>\n",
       "      <td>WEDNESDAY</td>\n",
       "      <td>16</td>\n",
       "      <td>0</td>\n",
       "      <td>0</td>\n",
       "      <td>0</td>\n",
       "      <td>0</td>\n",
       "      <td>0</td>\n",
       "      <td>0</td>\n",
       "      <td>Other</td>\n",
       "      <td>...</td>\n",
       "      <td>None</td>\n",
       "      <td>None</td>\n",
       "      <td>None</td>\n",
       "      <td>None</td>\n",
       "      <td>None</td>\n",
       "      <td>None</td>\n",
       "      <td>None</td>\n",
       "      <td>None</td>\n",
       "      <td>None</td>\n",
       "      <td>0</td>\n",
       "      <td>0</td>\n",
       "      <td>0</td>\n",
       "      <td>0</td>\n",
       "      <td>-2536</td>\n",
       "      <td>0</td>\n",
       "      <td>1</td>\n",
       "      <td>0</td>\n",
       "      <td>0</td>\n",
       "      <td>0</td>\n",
       "      <td>0</td>\n",
       "      <td>0</td>\n",
       "      <td>0</td>\n",
       "      <td>0</td>\n",
       "      <td>0</td>\n",
       "      <td>0</td>\n",
       "      <td>0</td>\n",
       "      <td>0</td>\n",
       "      <td>0</td>\n",
       "      <td>0</td>\n",
       "      <td>0</td>\n",
       "      <td>0</td>\n",
       "      <td>0</td>\n",
       "      <td>0</td>\n",
       "      <td>0</td>\n",
       "      <td>0</td>\n",
       "      <td>0</td>\n",
       "      <td>0</td>\n",
       "      <td>0</td>\n",
       "      <td>1</td>\n",
       "      <td>1</td>\n",
       "    </tr>\n",
       "    <tr>\n",
       "      <th>6</th>\n",
       "      <td>0</td>\n",
       "      <td>Cash loans</td>\n",
       "      <td>F</td>\n",
       "      <td>Y</td>\n",
       "      <td>Y</td>\n",
       "      <td>1</td>\n",
       "      <td>171000</td>\n",
       "      <td>1560726</td>\n",
       "      <td>41301</td>\n",
       "      <td>1395000</td>\n",
       "      <td>Unaccompanied</td>\n",
       "      <td>Commercial associate</td>\n",
       "      <td>Higher education</td>\n",
       "      <td>Married</td>\n",
       "      <td>House / apartment</td>\n",
       "      <td>0.035792</td>\n",
       "      <td>-13778</td>\n",
       "      <td>-3130</td>\n",
       "      <td>-1213</td>\n",
       "      <td>-619</td>\n",
       "      <td>17</td>\n",
       "      <td>1</td>\n",
       "      <td>1</td>\n",
       "      <td>0</td>\n",
       "      <td>1</td>\n",
       "      <td>1</td>\n",
       "      <td>0</td>\n",
       "      <td>Accountants</td>\n",
       "      <td>3</td>\n",
       "      <td>2</td>\n",
       "      <td>2</td>\n",
       "      <td>SUNDAY</td>\n",
       "      <td>16</td>\n",
       "      <td>0</td>\n",
       "      <td>0</td>\n",
       "      <td>0</td>\n",
       "      <td>0</td>\n",
       "      <td>0</td>\n",
       "      <td>0</td>\n",
       "      <td>Business Entity Type 3</td>\n",
       "      <td>...</td>\n",
       "      <td>None</td>\n",
       "      <td>None</td>\n",
       "      <td>None</td>\n",
       "      <td>None</td>\n",
       "      <td>None</td>\n",
       "      <td>None</td>\n",
       "      <td>None</td>\n",
       "      <td>None</td>\n",
       "      <td>None</td>\n",
       "      <td>1</td>\n",
       "      <td>0</td>\n",
       "      <td>1</td>\n",
       "      <td>0</td>\n",
       "      <td>-1562</td>\n",
       "      <td>0</td>\n",
       "      <td>0</td>\n",
       "      <td>0</td>\n",
       "      <td>0</td>\n",
       "      <td>0</td>\n",
       "      <td>0</td>\n",
       "      <td>1</td>\n",
       "      <td>0</td>\n",
       "      <td>0</td>\n",
       "      <td>0</td>\n",
       "      <td>0</td>\n",
       "      <td>0</td>\n",
       "      <td>1</td>\n",
       "      <td>0</td>\n",
       "      <td>0</td>\n",
       "      <td>0</td>\n",
       "      <td>0</td>\n",
       "      <td>0</td>\n",
       "      <td>0</td>\n",
       "      <td>0</td>\n",
       "      <td>0</td>\n",
       "      <td>0</td>\n",
       "      <td>0</td>\n",
       "      <td>1</td>\n",
       "      <td>1</td>\n",
       "      <td>2</td>\n",
       "    </tr>\n",
       "    <tr>\n",
       "      <th>7</th>\n",
       "      <td>0</td>\n",
       "      <td>Cash loans</td>\n",
       "      <td>M</td>\n",
       "      <td>Y</td>\n",
       "      <td>Y</td>\n",
       "      <td>0</td>\n",
       "      <td>360000</td>\n",
       "      <td>1530000</td>\n",
       "      <td>42075</td>\n",
       "      <td>1530000</td>\n",
       "      <td>Unaccompanied</td>\n",
       "      <td>State servant</td>\n",
       "      <td>Higher education</td>\n",
       "      <td>Married</td>\n",
       "      <td>House / apartment</td>\n",
       "      <td>0.003122</td>\n",
       "      <td>-18850</td>\n",
       "      <td>-449</td>\n",
       "      <td>-4597</td>\n",
       "      <td>-2379</td>\n",
       "      <td>8</td>\n",
       "      <td>1</td>\n",
       "      <td>1</td>\n",
       "      <td>1</td>\n",
       "      <td>1</td>\n",
       "      <td>0</td>\n",
       "      <td>0</td>\n",
       "      <td>Managers</td>\n",
       "      <td>2</td>\n",
       "      <td>3</td>\n",
       "      <td>3</td>\n",
       "      <td>MONDAY</td>\n",
       "      <td>16</td>\n",
       "      <td>0</td>\n",
       "      <td>0</td>\n",
       "      <td>0</td>\n",
       "      <td>0</td>\n",
       "      <td>1</td>\n",
       "      <td>1</td>\n",
       "      <td>Other</td>\n",
       "      <td>...</td>\n",
       "      <td>None</td>\n",
       "      <td>None</td>\n",
       "      <td>None</td>\n",
       "      <td>None</td>\n",
       "      <td>None</td>\n",
       "      <td>None</td>\n",
       "      <td>None</td>\n",
       "      <td>None</td>\n",
       "      <td>None</td>\n",
       "      <td>2</td>\n",
       "      <td>0</td>\n",
       "      <td>2</td>\n",
       "      <td>0</td>\n",
       "      <td>-1070</td>\n",
       "      <td>0</td>\n",
       "      <td>1</td>\n",
       "      <td>0</td>\n",
       "      <td>0</td>\n",
       "      <td>0</td>\n",
       "      <td>0</td>\n",
       "      <td>0</td>\n",
       "      <td>0</td>\n",
       "      <td>0</td>\n",
       "      <td>0</td>\n",
       "      <td>0</td>\n",
       "      <td>0</td>\n",
       "      <td>0</td>\n",
       "      <td>0</td>\n",
       "      <td>0</td>\n",
       "      <td>0</td>\n",
       "      <td>0</td>\n",
       "      <td>0</td>\n",
       "      <td>0</td>\n",
       "      <td>0</td>\n",
       "      <td>0</td>\n",
       "      <td>0</td>\n",
       "      <td>0</td>\n",
       "      <td>0</td>\n",
       "      <td>0</td>\n",
       "      <td>0</td>\n",
       "    </tr>\n",
       "    <tr>\n",
       "      <th>8</th>\n",
       "      <td>0</td>\n",
       "      <td>Cash loans</td>\n",
       "      <td>F</td>\n",
       "      <td>N</td>\n",
       "      <td>Y</td>\n",
       "      <td>0</td>\n",
       "      <td>112500</td>\n",
       "      <td>1019610</td>\n",
       "      <td>33826.5</td>\n",
       "      <td>913500</td>\n",
       "      <td>Children</td>\n",
       "      <td>Pensioner</td>\n",
       "      <td>Secondary / secondary special</td>\n",
       "      <td>Married</td>\n",
       "      <td>House / apartment</td>\n",
       "      <td>0.018634</td>\n",
       "      <td>-20099</td>\n",
       "      <td>365243</td>\n",
       "      <td>-7427</td>\n",
       "      <td>-3514</td>\n",
       "      <td>None</td>\n",
       "      <td>1</td>\n",
       "      <td>0</td>\n",
       "      <td>0</td>\n",
       "      <td>1</td>\n",
       "      <td>0</td>\n",
       "      <td>0</td>\n",
       "      <td>None</td>\n",
       "      <td>2</td>\n",
       "      <td>2</td>\n",
       "      <td>2</td>\n",
       "      <td>WEDNESDAY</td>\n",
       "      <td>14</td>\n",
       "      <td>0</td>\n",
       "      <td>0</td>\n",
       "      <td>0</td>\n",
       "      <td>0</td>\n",
       "      <td>0</td>\n",
       "      <td>0</td>\n",
       "      <td>XNA</td>\n",
       "      <td>...</td>\n",
       "      <td>None</td>\n",
       "      <td>None</td>\n",
       "      <td>None</td>\n",
       "      <td>None</td>\n",
       "      <td>None</td>\n",
       "      <td>None</td>\n",
       "      <td>None</td>\n",
       "      <td>None</td>\n",
       "      <td>None</td>\n",
       "      <td>1</td>\n",
       "      <td>0</td>\n",
       "      <td>1</td>\n",
       "      <td>0</td>\n",
       "      <td>0</td>\n",
       "      <td>0</td>\n",
       "      <td>1</td>\n",
       "      <td>0</td>\n",
       "      <td>0</td>\n",
       "      <td>0</td>\n",
       "      <td>0</td>\n",
       "      <td>0</td>\n",
       "      <td>0</td>\n",
       "      <td>0</td>\n",
       "      <td>0</td>\n",
       "      <td>0</td>\n",
       "      <td>0</td>\n",
       "      <td>0</td>\n",
       "      <td>0</td>\n",
       "      <td>0</td>\n",
       "      <td>0</td>\n",
       "      <td>0</td>\n",
       "      <td>0</td>\n",
       "      <td>0</td>\n",
       "      <td>0</td>\n",
       "      <td>0</td>\n",
       "      <td>0</td>\n",
       "      <td>0</td>\n",
       "      <td>0</td>\n",
       "      <td>0</td>\n",
       "      <td>1</td>\n",
       "    </tr>\n",
       "    <tr>\n",
       "      <th>9</th>\n",
       "      <td>0</td>\n",
       "      <td>Revolving loans</td>\n",
       "      <td>M</td>\n",
       "      <td>N</td>\n",
       "      <td>Y</td>\n",
       "      <td>0</td>\n",
       "      <td>135000</td>\n",
       "      <td>405000</td>\n",
       "      <td>20250</td>\n",
       "      <td>405000</td>\n",
       "      <td>Unaccompanied</td>\n",
       "      <td>Working</td>\n",
       "      <td>Secondary / secondary special</td>\n",
       "      <td>Single / not married</td>\n",
       "      <td>House / apartment</td>\n",
       "      <td>0.019689</td>\n",
       "      <td>-14469</td>\n",
       "      <td>-2019</td>\n",
       "      <td>-14437</td>\n",
       "      <td>-3992</td>\n",
       "      <td>None</td>\n",
       "      <td>1</td>\n",
       "      <td>1</td>\n",
       "      <td>0</td>\n",
       "      <td>1</td>\n",
       "      <td>0</td>\n",
       "      <td>0</td>\n",
       "      <td>Laborers</td>\n",
       "      <td>1</td>\n",
       "      <td>2</td>\n",
       "      <td>2</td>\n",
       "      <td>THURSDAY</td>\n",
       "      <td>8</td>\n",
       "      <td>0</td>\n",
       "      <td>0</td>\n",
       "      <td>0</td>\n",
       "      <td>0</td>\n",
       "      <td>0</td>\n",
       "      <td>0</td>\n",
       "      <td>Electricity</td>\n",
       "      <td>...</td>\n",
       "      <td>None</td>\n",
       "      <td>None</td>\n",
       "      <td>None</td>\n",
       "      <td>None</td>\n",
       "      <td>None</td>\n",
       "      <td>None</td>\n",
       "      <td>None</td>\n",
       "      <td>None</td>\n",
       "      <td>None</td>\n",
       "      <td>2</td>\n",
       "      <td>0</td>\n",
       "      <td>2</td>\n",
       "      <td>0</td>\n",
       "      <td>-1673</td>\n",
       "      <td>0</td>\n",
       "      <td>0</td>\n",
       "      <td>0</td>\n",
       "      <td>0</td>\n",
       "      <td>0</td>\n",
       "      <td>0</td>\n",
       "      <td>0</td>\n",
       "      <td>0</td>\n",
       "      <td>0</td>\n",
       "      <td>0</td>\n",
       "      <td>0</td>\n",
       "      <td>0</td>\n",
       "      <td>0</td>\n",
       "      <td>0</td>\n",
       "      <td>0</td>\n",
       "      <td>0</td>\n",
       "      <td>0</td>\n",
       "      <td>0</td>\n",
       "      <td>0</td>\n",
       "      <td>0</td>\n",
       "      <td>None</td>\n",
       "      <td>None</td>\n",
       "      <td>None</td>\n",
       "      <td>None</td>\n",
       "      <td>None</td>\n",
       "      <td>None</td>\n",
       "    </tr>\n",
       "  </tbody>\n",
       "</table>\n",
       "<p>10 rows × 121 columns</p>\n",
       "</div>"
      ],
      "text/plain": [
       "  label NAME_CONTRACT_TYPE  ... AMT_REQ_CREDIT_BUREAU_QRT AMT_REQ_CREDIT_BUREAU_YEAR\n",
       "0     1         Cash loans  ...                         0                          1\n",
       "1     0         Cash loans  ...                         0                          0\n",
       "2     0    Revolving loans  ...                         0                          0\n",
       "3     0         Cash loans  ...                      None                       None\n",
       "4     0         Cash loans  ...                         0                          0\n",
       "5     0         Cash loans  ...                         1                          1\n",
       "6     0         Cash loans  ...                         1                          2\n",
       "7     0         Cash loans  ...                         0                          0\n",
       "8     0         Cash loans  ...                         0                          1\n",
       "9     0    Revolving loans  ...                      None                       None\n",
       "\n",
       "[10 rows x 121 columns]"
      ]
     },
     "execution_count": 15,
     "metadata": {
      "tags": []
     },
     "output_type": "execute_result"
    }
   ],
   "source": [
    "# let's see how everything look in Pandas\n",
    "pd.DataFrame(new_df.take(10), columns= new_df.columns)\n"
   ]
  },
  {
   "cell_type": "code",
   "execution_count": null,
   "metadata": {
    "colab": {},
    "colab_type": "code",
    "id": "aH3gwq5pagnC"
   },
   "outputs": [],
   "source": []
  },
  {
   "cell_type": "markdown",
   "metadata": {
    "colab_type": "text",
    "id": "fgc4-95waeCl"
   },
   "source": [
    "## Changing datatype of the column"
   ]
  },
  {
   "cell_type": "code",
   "execution_count": 16,
   "metadata": {
    "colab": {},
    "colab_type": "code",
    "id": "OKL_4ZS2aQlY"
   },
   "outputs": [],
   "source": [
    "new_df = new_df.withColumn(\"label\", new_df[\"label\"].cast(IntegerType()))\n",
    "new_df = new_df.withColumn(\"CNT_CHILDREN\", new_df[\"CNT_CHILDREN\"].cast(IntegerType()))\n",
    "new_df = new_df.withColumn(\"AMT_INCOME_TOTAL\", new_df[\"AMT_INCOME_TOTAL\"].cast(IntegerType()))\n",
    "new_df = new_df.withColumn(\"AMT_CREDIT\", new_df[\"AMT_CREDIT\"].cast(DoubleType()))\n",
    "new_df = new_df.withColumn(\"AMT_ANNUITY\", new_df[\"AMT_ANNUITY\"].cast(DoubleType()))\n",
    "new_df = new_df.withColumn(\"AMT_GOODS_PRICE\", new_df[\"AMT_GOODS_PRICE\"].cast(IntegerType()))\n",
    "new_df = new_df.withColumn(\"REGION_POPULATION_RELATIVE\", new_df[\"REGION_POPULATION_RELATIVE\"].cast(DoubleType()))\n",
    "new_df = new_df.withColumn(\"DAYS_BIRTH\", new_df[\"DAYS_BIRTH\"].cast(IntegerType()))\n",
    "new_df = new_df.withColumn(\"DAYS_EMPLOYED\", new_df[\"DAYS_EMPLOYED\"].cast(IntegerType()))\n",
    "new_df = new_df.withColumn(\"DAYS_REGISTRATION\", new_df[\"DAYS_REGISTRATION\"].cast(IntegerType()))\n",
    "new_df = new_df.withColumn(\"DAYS_ID_PUBLISH\", new_df[\"DAYS_ID_PUBLISH\"].cast(IntegerType()))\n",
    "new_df = new_df.withColumn(\"OWN_CAR_AGE\", new_df[\"OWN_CAR_AGE\"].cast(IntegerType()))\n",
    "new_df = new_df.withColumn(\"FLAG_MOBIL\", new_df[\"FLAG_MOBIL\"].cast(IntegerType()))\n",
    "new_df = new_df.withColumn(\"FLAG_EMP_PHONE\", new_df[\"FLAG_EMP_PHONE\"].cast(IntegerType()))\n",
    "new_df = new_df.withColumn(\"FLAG_WORK_PHONE\", new_df[\"FLAG_WORK_PHONE\"].cast(IntegerType()))\n",
    "new_df = new_df.withColumn(\"FLAG_CONT_MOBILE\", new_df[\"FLAG_CONT_MOBILE\"].cast(IntegerType()))\n",
    "new_df = new_df.withColumn(\"FLAG_PHONE\", new_df[\"FLAG_PHONE\"].cast(IntegerType()))\n",
    "new_df = new_df.withColumn(\"FLAG_EMAIL\", new_df[\"FLAG_EMAIL\"].cast(IntegerType()))\n",
    "new_df = new_df.withColumn(\"CNT_FAM_MEMBERS\", new_df[\"CNT_FAM_MEMBERS\"].cast(IntegerType()))\n",
    "new_df = new_df.withColumn(\"REGION_RATING_CLIENT\", new_df[\"REGION_RATING_CLIENT\"].cast(IntegerType()))\n",
    "new_df = new_df.withColumn(\"REGION_RATING_CLIENT_W_CITY\", new_df[\"REGION_RATING_CLIENT_W_CITY\"].cast(IntegerType()))\n",
    "new_df = new_df.withColumn(\"HOUR_APPR_PROCESS_START\", new_df[\"HOUR_APPR_PROCESS_START\"].cast(IntegerType()))\n",
    "new_df = new_df.withColumn(\"REG_REGION_NOT_LIVE_REGION\", new_df[\"REG_REGION_NOT_LIVE_REGION\"].cast(IntegerType()))\n",
    "new_df = new_df.withColumn(\"REG_REGION_NOT_WORK_REGION\", new_df[\"REG_REGION_NOT_WORK_REGION\"].cast(IntegerType()))\n",
    "new_df = new_df.withColumn(\"LIVE_REGION_NOT_WORK_REGION\", new_df[\"LIVE_REGION_NOT_WORK_REGION\"].cast(IntegerType()))\n",
    "new_df = new_df.withColumn(\"REG_CITY_NOT_LIVE_CITY\", new_df[\"REG_CITY_NOT_LIVE_CITY\"].cast(IntegerType()))\n",
    "new_df = new_df.withColumn(\"REG_CITY_NOT_WORK_CITY\", new_df[\"REG_CITY_NOT_WORK_CITY\"].cast(IntegerType()))\n",
    "new_df = new_df.withColumn(\"LIVE_CITY_NOT_WORK_CITY\", new_df[\"LIVE_CITY_NOT_WORK_CITY\"].cast(IntegerType()))\n",
    "new_df = new_df.withColumn(\"EXT_SOURCE_1\", new_df[\"EXT_SOURCE_1\"].cast(DoubleType()))\n",
    "new_df = new_df.withColumn(\"EXT_SOURCE_2\", new_df[\"EXT_SOURCE_2\"].cast(DoubleType()))\n",
    "new_df = new_df.withColumn(\"EXT_SOURCE_3\", new_df[\"EXT_SOURCE_3\"].cast(DoubleType()))\n",
    "new_df = new_df.withColumn(\"APARTMENTS_AVG\", new_df[\"APARTMENTS_AVG\"].cast(DoubleType()))\n",
    "new_df = new_df.withColumn(\"BASEMENTAREA_AVG\", new_df[\"BASEMENTAREA_AVG\"].cast(DoubleType()))\n",
    "new_df = new_df.withColumn(\"YEARS_BEGINEXPLUATATION_AVG\", new_df[\"YEARS_BEGINEXPLUATATION_AVG\"].cast(DoubleType()))\n",
    "new_df = new_df.withColumn(\"YEARS_BUILD_AVG\", new_df[\"YEARS_BUILD_AVG\"].cast(DoubleType()))\n",
    "new_df = new_df.withColumn(\"COMMONAREA_AVG\", new_df[\"COMMONAREA_AVG\"].cast(DoubleType()))\n",
    "new_df = new_df.withColumn(\"ELEVATORS_AVG\", new_df[\"ELEVATORS_AVG\"].cast(DoubleType()))\n",
    "new_df = new_df.withColumn(\"ENTRANCES_AVG\", new_df[\"ENTRANCES_AVG\"].cast(DoubleType()))\n",
    "new_df = new_df.withColumn(\"FLOORSMAX_AVG\", new_df[\"FLOORSMAX_AVG\"].cast(DoubleType()))\n",
    "new_df = new_df.withColumn(\"FLOORSMIN_AVG\", new_df[\"FLOORSMIN_AVG\"].cast(DoubleType()))\n",
    "new_df = new_df.withColumn(\"LANDAREA_AVG\", new_df[\"LANDAREA_AVG\"].cast(DoubleType()))\n",
    "new_df = new_df.withColumn(\"LIVINGAPARTMENTS_AVG\", new_df[\"LIVINGAPARTMENTS_AVG\"].cast(DoubleType()))\n",
    "new_df = new_df.withColumn(\"LIVINGAREA_AVG\", new_df[\"LIVINGAREA_AVG\"].cast(DoubleType()))\n",
    "new_df = new_df.withColumn(\"NONLIVINGAPARTMENTS_AVG\", new_df[\"NONLIVINGAPARTMENTS_AVG\"].cast(DoubleType()))\n",
    "new_df = new_df.withColumn(\"NONLIVINGAREA_AVG\", new_df[\"NONLIVINGAREA_AVG\"].cast(DoubleType()))\n",
    "new_df = new_df.withColumn(\"APARTMENTS_MODE\", new_df[\"APARTMENTS_MODE\"].cast(DoubleType()))\n",
    "new_df = new_df.withColumn(\"BASEMENTAREA_MODE\", new_df[\"BASEMENTAREA_MODE\"].cast(DoubleType()))\n",
    "new_df = new_df.withColumn(\"YEARS_BEGINEXPLUATATION_MODE\", new_df[\"YEARS_BEGINEXPLUATATION_MODE\"].cast(DoubleType()))\n",
    "new_df = new_df.withColumn(\"YEARS_BUILD_MODE\", new_df[\"YEARS_BUILD_MODE\"].cast(DoubleType()))\n",
    "new_df = new_df.withColumn(\"COMMONAREA_MODE\", new_df[\"COMMONAREA_MODE\"].cast(DoubleType()))\n",
    "new_df = new_df.withColumn(\"ELEVATORS_MODE\", new_df[\"ELEVATORS_MODE\"].cast(DoubleType()))\n",
    "new_df = new_df.withColumn(\"ENTRANCES_MODE\", new_df[\"ENTRANCES_MODE\"].cast(DoubleType()))\n",
    "new_df = new_df.withColumn(\"FLOORSMAX_MODE\", new_df[\"FLOORSMAX_MODE\"].cast(DoubleType()))\n",
    "new_df = new_df.withColumn(\"FLOORSMIN_MODE\", new_df[\"FLOORSMIN_MODE\"].cast(DoubleType()))\n",
    "new_df = new_df.withColumn(\"LANDAREA_MODE\", new_df[\"LANDAREA_MODE\"].cast(DoubleType()))\n",
    "new_df = new_df.withColumn(\"LIVINGAPARTMENTS_MODE\", new_df[\"LIVINGAPARTMENTS_MODE\"].cast(DoubleType()))\n",
    "new_df = new_df.withColumn(\"LIVINGAREA_MODE\", new_df[\"LIVINGAREA_MODE\"].cast(DoubleType()))\n",
    "new_df = new_df.withColumn(\"NONLIVINGAPARTMENTS_MODE\", new_df[\"NONLIVINGAPARTMENTS_MODE\"].cast(DoubleType()))\n",
    "new_df = new_df.withColumn(\"NONLIVINGAREA_MODE\", new_df[\"NONLIVINGAREA_MODE\"].cast(DoubleType()))\n",
    "new_df = new_df.withColumn(\"APARTMENTS_MEDI\", new_df[\"APARTMENTS_MEDI\"].cast(DoubleType()))\n",
    "new_df = new_df.withColumn(\"BASEMENTAREA_MEDI\", new_df[\"BASEMENTAREA_MEDI\"].cast(DoubleType()))\n",
    "new_df = new_df.withColumn(\"YEARS_BEGINEXPLUATATION_MEDI\", new_df[\"YEARS_BEGINEXPLUATATION_MEDI\"].cast(DoubleType()))\n",
    "new_df = new_df.withColumn(\"YEARS_BUILD_MEDI\", new_df[\"YEARS_BUILD_MEDI\"].cast(DoubleType()))\n",
    "new_df = new_df.withColumn(\"COMMONAREA_MEDI\", new_df[\"COMMONAREA_MEDI\"].cast(DoubleType()))\n",
    "new_df = new_df.withColumn(\"ELEVATORS_MEDI\", new_df[\"ELEVATORS_MEDI\"].cast(DoubleType()))\n",
    "new_df = new_df.withColumn(\"ENTRANCES_MEDI\", new_df[\"ENTRANCES_MEDI\"].cast(DoubleType()))\n",
    "new_df = new_df.withColumn(\"FLOORSMAX_MEDI\", new_df[\"FLOORSMAX_MEDI\"].cast(DoubleType()))\n",
    "new_df = new_df.withColumn(\"FLOORSMIN_MEDI\", new_df[\"FLOORSMIN_MEDI\"].cast(DoubleType()))\n",
    "new_df = new_df.withColumn(\"LANDAREA_MEDI\", new_df[\"LANDAREA_MEDI\"].cast(DoubleType()))\n",
    "new_df = new_df.withColumn(\"LIVINGAPARTMENTS_MEDI\", new_df[\"LIVINGAPARTMENTS_MEDI\"].cast(DoubleType()))\n",
    "new_df = new_df.withColumn(\"LIVINGAREA_MEDI\", new_df[\"LIVINGAREA_MEDI\"].cast(DoubleType()))\n",
    "new_df = new_df.withColumn(\"NONLIVINGAPARTMENTS_MEDI\", new_df[\"NONLIVINGAPARTMENTS_MEDI\"].cast(DoubleType()))\n",
    "new_df = new_df.withColumn(\"NONLIVINGAREA_MEDI\", new_df[\"NONLIVINGAREA_MEDI\"].cast(DoubleType()))\n",
    "new_df = new_df.withColumn(\"TOTALAREA_MODE\", new_df[\"TOTALAREA_MODE\"].cast(DoubleType()))\n",
    "new_df = new_df.withColumn(\"OBS_30_CNT_SOCIAL_CIRCLE\", new_df[\"OBS_30_CNT_SOCIAL_CIRCLE\"].cast(IntegerType()))\n",
    "new_df = new_df.withColumn(\"DEF_30_CNT_SOCIAL_CIRCLE\", new_df[\"DEF_30_CNT_SOCIAL_CIRCLE\"].cast(IntegerType()))\n",
    "new_df = new_df.withColumn(\"OBS_60_CNT_SOCIAL_CIRCLE\", new_df[\"OBS_60_CNT_SOCIAL_CIRCLE\"].cast(IntegerType()))\n",
    "new_df = new_df.withColumn(\"DEF_60_CNT_SOCIAL_CIRCLE\", new_df[\"DEF_60_CNT_SOCIAL_CIRCLE\"].cast(IntegerType()))\n",
    "new_df = new_df.withColumn(\"DAYS_LAST_PHONE_CHANGE\", new_df[\"DAYS_LAST_PHONE_CHANGE\"].cast(IntegerType()))\n",
    "new_df = new_df.withColumn(\"FLAG_DOCUMENT_2\", new_df[\"FLAG_DOCUMENT_2\"].cast(IntegerType()))\n",
    "new_df = new_df.withColumn(\"FLAG_DOCUMENT_3\", new_df[\"FLAG_DOCUMENT_3\"].cast(IntegerType()))\n",
    "new_df = new_df.withColumn(\"FLAG_DOCUMENT_4\", new_df[\"FLAG_DOCUMENT_4\"].cast(IntegerType()))\n",
    "new_df = new_df.withColumn(\"FLAG_DOCUMENT_5\", new_df[\"FLAG_DOCUMENT_5\"].cast(IntegerType()))\n",
    "new_df = new_df.withColumn(\"FLAG_DOCUMENT_6\", new_df[\"FLAG_DOCUMENT_6\"].cast(IntegerType()))\n",
    "new_df = new_df.withColumn(\"FLAG_DOCUMENT_7\", new_df[\"FLAG_DOCUMENT_7\"].cast(IntegerType()))\n",
    "new_df = new_df.withColumn(\"FLAG_DOCUMENT_8\", new_df[\"FLAG_DOCUMENT_8\"].cast(IntegerType()))\n",
    "new_df = new_df.withColumn(\"FLAG_DOCUMENT_9\", new_df[\"FLAG_DOCUMENT_9\"].cast(IntegerType()))\n",
    "new_df = new_df.withColumn(\"FLAG_DOCUMENT_10\", new_df[\"FLAG_DOCUMENT_10\"].cast(IntegerType()))\n",
    "new_df = new_df.withColumn(\"FLAG_DOCUMENT_11\", new_df[\"FLAG_DOCUMENT_11\"].cast(IntegerType()))\n",
    "new_df = new_df.withColumn(\"FLAG_DOCUMENT_12\", new_df[\"FLAG_DOCUMENT_12\"].cast(IntegerType()))\n",
    "new_df = new_df.withColumn(\"FLAG_DOCUMENT_13\", new_df[\"FLAG_DOCUMENT_13\"].cast(IntegerType()))\n",
    "new_df = new_df.withColumn(\"FLAG_DOCUMENT_14\", new_df[\"FLAG_DOCUMENT_14\"].cast(IntegerType()))\n",
    "new_df = new_df.withColumn(\"FLAG_DOCUMENT_15\", new_df[\"FLAG_DOCUMENT_15\"].cast(IntegerType()))\n",
    "new_df = new_df.withColumn(\"FLAG_DOCUMENT_16\", new_df[\"FLAG_DOCUMENT_16\"].cast(IntegerType()))\n",
    "new_df = new_df.withColumn(\"FLAG_DOCUMENT_17\", new_df[\"FLAG_DOCUMENT_17\"].cast(IntegerType()))\n",
    "new_df = new_df.withColumn(\"FLAG_DOCUMENT_18\", new_df[\"FLAG_DOCUMENT_18\"].cast(IntegerType()))\n",
    "new_df = new_df.withColumn(\"FLAG_DOCUMENT_19\", new_df[\"FLAG_DOCUMENT_19\"].cast(IntegerType()))\n",
    "new_df = new_df.withColumn(\"FLAG_DOCUMENT_20\", new_df[\"FLAG_DOCUMENT_20\"].cast(IntegerType()))\n",
    "new_df = new_df.withColumn(\"FLAG_DOCUMENT_21\", new_df[\"FLAG_DOCUMENT_21\"].cast(IntegerType()))\n",
    "new_df = new_df.withColumn(\"AMT_REQ_CREDIT_BUREAU_HOUR\", new_df[\"AMT_REQ_CREDIT_BUREAU_HOUR\"].cast(IntegerType()))\n",
    "new_df = new_df.withColumn(\"AMT_REQ_CREDIT_BUREAU_DAY\", new_df[\"AMT_REQ_CREDIT_BUREAU_DAY\"].cast(IntegerType()))\n",
    "new_df = new_df.withColumn(\"AMT_REQ_CREDIT_BUREAU_WEEK\", new_df[\"AMT_REQ_CREDIT_BUREAU_WEEK\"].cast(IntegerType()))\n",
    "new_df = new_df.withColumn(\"AMT_REQ_CREDIT_BUREAU_MON\", new_df[\"AMT_REQ_CREDIT_BUREAU_MON\"].cast(IntegerType()))\n",
    "new_df = new_df.withColumn(\"AMT_REQ_CREDIT_BUREAU_QRT\", new_df[\"AMT_REQ_CREDIT_BUREAU_QRT\"].cast(IntegerType()))\n",
    "new_df = new_df.withColumn(\"AMT_REQ_CREDIT_BUREAU_YEAR\", new_df[\"AMT_REQ_CREDIT_BUREAU_YEAR\"].cast(IntegerType()))\n",
    "\n"
   ]
  },
  {
   "cell_type": "code",
   "execution_count": 17,
   "metadata": {
    "colab": {
     "base_uri": "https://localhost:8080/",
     "height": 1000
    },
    "colab_type": "code",
    "id": "W9O1KD6FaQob",
    "outputId": "b9964723-56a5-4203-dc8f-776afee2e5b7"
   },
   "outputs": [
    {
     "name": "stdout",
     "output_type": "stream",
     "text": [
      "root\n",
      " |-- label: integer (nullable = true)\n",
      " |-- NAME_CONTRACT_TYPE: string (nullable = true)\n",
      " |-- CODE_GENDER: string (nullable = true)\n",
      " |-- FLAG_OWN_CAR: string (nullable = true)\n",
      " |-- FLAG_OWN_REALTY: string (nullable = true)\n",
      " |-- CNT_CHILDREN: integer (nullable = true)\n",
      " |-- AMT_INCOME_TOTAL: integer (nullable = true)\n",
      " |-- AMT_CREDIT: double (nullable = true)\n",
      " |-- AMT_ANNUITY: double (nullable = true)\n",
      " |-- AMT_GOODS_PRICE: integer (nullable = true)\n",
      " |-- NAME_TYPE_SUITE: string (nullable = true)\n",
      " |-- NAME_INCOME_TYPE: string (nullable = true)\n",
      " |-- NAME_EDUCATION_TYPE: string (nullable = true)\n",
      " |-- NAME_FAMILY_STATUS: string (nullable = true)\n",
      " |-- NAME_HOUSING_TYPE: string (nullable = true)\n",
      " |-- REGION_POPULATION_RELATIVE: double (nullable = true)\n",
      " |-- DAYS_BIRTH: integer (nullable = true)\n",
      " |-- DAYS_EMPLOYED: integer (nullable = true)\n",
      " |-- DAYS_REGISTRATION: integer (nullable = true)\n",
      " |-- DAYS_ID_PUBLISH: integer (nullable = true)\n",
      " |-- OWN_CAR_AGE: integer (nullable = true)\n",
      " |-- FLAG_MOBIL: integer (nullable = true)\n",
      " |-- FLAG_EMP_PHONE: integer (nullable = true)\n",
      " |-- FLAG_WORK_PHONE: integer (nullable = true)\n",
      " |-- FLAG_CONT_MOBILE: integer (nullable = true)\n",
      " |-- FLAG_PHONE: integer (nullable = true)\n",
      " |-- FLAG_EMAIL: integer (nullable = true)\n",
      " |-- OCCUPATION_TYPE: string (nullable = true)\n",
      " |-- CNT_FAM_MEMBERS: integer (nullable = true)\n",
      " |-- REGION_RATING_CLIENT: integer (nullable = true)\n",
      " |-- REGION_RATING_CLIENT_W_CITY: integer (nullable = true)\n",
      " |-- WEEKDAY_APPR_PROCESS_START: string (nullable = true)\n",
      " |-- HOUR_APPR_PROCESS_START: integer (nullable = true)\n",
      " |-- REG_REGION_NOT_LIVE_REGION: integer (nullable = true)\n",
      " |-- REG_REGION_NOT_WORK_REGION: integer (nullable = true)\n",
      " |-- LIVE_REGION_NOT_WORK_REGION: integer (nullable = true)\n",
      " |-- REG_CITY_NOT_LIVE_CITY: integer (nullable = true)\n",
      " |-- REG_CITY_NOT_WORK_CITY: integer (nullable = true)\n",
      " |-- LIVE_CITY_NOT_WORK_CITY: integer (nullable = true)\n",
      " |-- ORGANIZATION_TYPE: string (nullable = true)\n",
      " |-- EXT_SOURCE_1: double (nullable = true)\n",
      " |-- EXT_SOURCE_2: double (nullable = true)\n",
      " |-- EXT_SOURCE_3: double (nullable = true)\n",
      " |-- APARTMENTS_AVG: double (nullable = true)\n",
      " |-- BASEMENTAREA_AVG: double (nullable = true)\n",
      " |-- YEARS_BEGINEXPLUATATION_AVG: double (nullable = true)\n",
      " |-- YEARS_BUILD_AVG: double (nullable = true)\n",
      " |-- COMMONAREA_AVG: double (nullable = true)\n",
      " |-- ELEVATORS_AVG: double (nullable = true)\n",
      " |-- ENTRANCES_AVG: double (nullable = true)\n",
      " |-- FLOORSMAX_AVG: double (nullable = true)\n",
      " |-- FLOORSMIN_AVG: double (nullable = true)\n",
      " |-- LANDAREA_AVG: double (nullable = true)\n",
      " |-- LIVINGAPARTMENTS_AVG: double (nullable = true)\n",
      " |-- LIVINGAREA_AVG: double (nullable = true)\n",
      " |-- NONLIVINGAPARTMENTS_AVG: double (nullable = true)\n",
      " |-- NONLIVINGAREA_AVG: double (nullable = true)\n",
      " |-- APARTMENTS_MODE: double (nullable = true)\n",
      " |-- BASEMENTAREA_MODE: double (nullable = true)\n",
      " |-- YEARS_BEGINEXPLUATATION_MODE: double (nullable = true)\n",
      " |-- YEARS_BUILD_MODE: double (nullable = true)\n",
      " |-- COMMONAREA_MODE: double (nullable = true)\n",
      " |-- ELEVATORS_MODE: double (nullable = true)\n",
      " |-- ENTRANCES_MODE: double (nullable = true)\n",
      " |-- FLOORSMAX_MODE: double (nullable = true)\n",
      " |-- FLOORSMIN_MODE: double (nullable = true)\n",
      " |-- LANDAREA_MODE: double (nullable = true)\n",
      " |-- LIVINGAPARTMENTS_MODE: double (nullable = true)\n",
      " |-- LIVINGAREA_MODE: double (nullable = true)\n",
      " |-- NONLIVINGAPARTMENTS_MODE: double (nullable = true)\n",
      " |-- NONLIVINGAREA_MODE: double (nullable = true)\n",
      " |-- APARTMENTS_MEDI: double (nullable = true)\n",
      " |-- BASEMENTAREA_MEDI: double (nullable = true)\n",
      " |-- YEARS_BEGINEXPLUATATION_MEDI: double (nullable = true)\n",
      " |-- YEARS_BUILD_MEDI: double (nullable = true)\n",
      " |-- COMMONAREA_MEDI: double (nullable = true)\n",
      " |-- ELEVATORS_MEDI: double (nullable = true)\n",
      " |-- ENTRANCES_MEDI: double (nullable = true)\n",
      " |-- FLOORSMAX_MEDI: double (nullable = true)\n",
      " |-- FLOORSMIN_MEDI: double (nullable = true)\n",
      " |-- LANDAREA_MEDI: double (nullable = true)\n",
      " |-- LIVINGAPARTMENTS_MEDI: double (nullable = true)\n",
      " |-- LIVINGAREA_MEDI: double (nullable = true)\n",
      " |-- NONLIVINGAPARTMENTS_MEDI: double (nullable = true)\n",
      " |-- NONLIVINGAREA_MEDI: double (nullable = true)\n",
      " |-- FONDKAPREMONT_MODE: string (nullable = true)\n",
      " |-- HOUSETYPE_MODE: string (nullable = true)\n",
      " |-- TOTALAREA_MODE: double (nullable = true)\n",
      " |-- WALLSMATERIAL_MODE: string (nullable = true)\n",
      " |-- EMERGENCYSTATE_MODE: string (nullable = true)\n",
      " |-- OBS_30_CNT_SOCIAL_CIRCLE: integer (nullable = true)\n",
      " |-- DEF_30_CNT_SOCIAL_CIRCLE: integer (nullable = true)\n",
      " |-- OBS_60_CNT_SOCIAL_CIRCLE: integer (nullable = true)\n",
      " |-- DEF_60_CNT_SOCIAL_CIRCLE: integer (nullable = true)\n",
      " |-- DAYS_LAST_PHONE_CHANGE: integer (nullable = true)\n",
      " |-- FLAG_DOCUMENT_2: integer (nullable = true)\n",
      " |-- FLAG_DOCUMENT_3: integer (nullable = true)\n",
      " |-- FLAG_DOCUMENT_4: integer (nullable = true)\n",
      " |-- FLAG_DOCUMENT_5: integer (nullable = true)\n",
      " |-- FLAG_DOCUMENT_6: integer (nullable = true)\n",
      " |-- FLAG_DOCUMENT_7: integer (nullable = true)\n",
      " |-- FLAG_DOCUMENT_8: integer (nullable = true)\n",
      " |-- FLAG_DOCUMENT_9: integer (nullable = true)\n",
      " |-- FLAG_DOCUMENT_10: integer (nullable = true)\n",
      " |-- FLAG_DOCUMENT_11: integer (nullable = true)\n",
      " |-- FLAG_DOCUMENT_12: integer (nullable = true)\n",
      " |-- FLAG_DOCUMENT_13: integer (nullable = true)\n",
      " |-- FLAG_DOCUMENT_14: integer (nullable = true)\n",
      " |-- FLAG_DOCUMENT_15: integer (nullable = true)\n",
      " |-- FLAG_DOCUMENT_16: integer (nullable = true)\n",
      " |-- FLAG_DOCUMENT_17: integer (nullable = true)\n",
      " |-- FLAG_DOCUMENT_18: integer (nullable = true)\n",
      " |-- FLAG_DOCUMENT_19: integer (nullable = true)\n",
      " |-- FLAG_DOCUMENT_20: integer (nullable = true)\n",
      " |-- FLAG_DOCUMENT_21: integer (nullable = true)\n",
      " |-- AMT_REQ_CREDIT_BUREAU_HOUR: integer (nullable = true)\n",
      " |-- AMT_REQ_CREDIT_BUREAU_DAY: integer (nullable = true)\n",
      " |-- AMT_REQ_CREDIT_BUREAU_WEEK: integer (nullable = true)\n",
      " |-- AMT_REQ_CREDIT_BUREAU_MON: integer (nullable = true)\n",
      " |-- AMT_REQ_CREDIT_BUREAU_QRT: integer (nullable = true)\n",
      " |-- AMT_REQ_CREDIT_BUREAU_YEAR: integer (nullable = true)\n",
      "\n"
     ]
    }
   ],
   "source": [
    "#checking data type\n",
    "new_df.printSchema()"
   ]
  },
  {
   "cell_type": "code",
   "execution_count": null,
   "metadata": {
    "colab": {},
    "colab_type": "code",
    "id": "olMrypwPaQvs"
   },
   "outputs": [],
   "source": []
  },
  {
   "cell_type": "markdown",
   "metadata": {
    "colab_type": "text",
    "id": "LLskq67Aa0JE"
   },
   "source": [
    "## Graph of Label data"
   ]
  },
  {
   "cell_type": "code",
   "execution_count": 18,
   "metadata": {
    "colab": {
     "base_uri": "https://localhost:8080/",
     "height": 623
    },
    "colab_type": "code",
    "id": "uD4P-MLSaQ1S",
    "outputId": "1937f36b-f55a-49ed-cf04-e7421d55b6b9"
   },
   "outputs": [
    {
     "data": {
      "text/plain": [
       "<matplotlib.axes._subplots.AxesSubplot at 0x7fd6cf1a0208>"
      ]
     },
     "execution_count": 18,
     "metadata": {
      "tags": []
     },
     "output_type": "execute_result"
    },
    {
     "data": {
      "image/png": "[encoded data removed]",
      "text/plain": [
       "<Figure size 864x720 with 1 Axes>"
      ]
     },
     "metadata": {
      "needs_background": "light",
      "tags": []
     },
     "output_type": "display_data"
    }
   ],
   "source": [
    "df_pd = new_df.toPandas()\n",
    "\n",
    "plt.figure(figsize=(12,10))\n",
    "sns.countplot(x='label', data=df_pd, order=df_pd['label'].value_counts().index)\n"
   ]
  },
  {
   "cell_type": "code",
   "execution_count": null,
   "metadata": {
    "colab": {},
    "colab_type": "code",
    "id": "uVMIh0WlaQ6O"
   },
   "outputs": [],
   "source": []
  },
  {
   "cell_type": "markdown",
   "metadata": {
    "colab_type": "text",
    "id": "T-D9Zx8da6ho"
   },
   "source": [
    "## Total number of Categorical and Numerical data"
   ]
  },
  {
   "cell_type": "code",
   "execution_count": 19,
   "metadata": {
    "colab": {
     "base_uri": "https://localhost:8080/",
     "height": 34
    },
    "colab_type": "code",
    "id": "4SbqedWEaQ43",
    "outputId": "97f5c7db-981b-4e65-fdf4-8c4ba18eea19"
   },
   "outputs": [
    {
     "name": "stdout",
     "output_type": "stream",
     "text": [
      "16  categorical features\n"
     ]
    }
   ],
   "source": [
    "cat_cols = [item[0] for item in new_df.dtypes if item[1].startswith('string')] \n",
    "print(str(len(cat_cols)) + '  categorical features')"
   ]
  },
  {
   "cell_type": "code",
   "execution_count": 20,
   "metadata": {
    "colab": {
     "base_uri": "https://localhost:8080/",
     "height": 295
    },
    "colab_type": "code",
    "id": "u0FrLZigaQym",
    "outputId": "c38fa039-5044-4678-f013-aeba7d3de01f"
   },
   "outputs": [
    {
     "data": {
      "text/plain": [
       "['NAME_CONTRACT_TYPE',\n",
       " 'CODE_GENDER',\n",
       " 'FLAG_OWN_CAR',\n",
       " 'FLAG_OWN_REALTY',\n",
       " 'NAME_TYPE_SUITE',\n",
       " 'NAME_INCOME_TYPE',\n",
       " 'NAME_EDUCATION_TYPE',\n",
       " 'NAME_FAMILY_STATUS',\n",
       " 'NAME_HOUSING_TYPE',\n",
       " 'OCCUPATION_TYPE',\n",
       " 'WEEKDAY_APPR_PROCESS_START',\n",
       " 'ORGANIZATION_TYPE',\n",
       " 'FONDKAPREMONT_MODE',\n",
       " 'HOUSETYPE_MODE',\n",
       " 'WALLSMATERIAL_MODE',\n",
       " 'EMERGENCYSTATE_MODE']"
      ]
     },
     "execution_count": 20,
     "metadata": {
      "tags": []
     },
     "output_type": "execute_result"
    }
   ],
   "source": [
    "cat_cols"
   ]
  },
  {
   "cell_type": "code",
   "execution_count": 21,
   "metadata": {
    "colab": {
     "base_uri": "https://localhost:8080/",
     "height": 34
    },
    "colab_type": "code",
    "id": "-z6_5KenaQs7",
    "outputId": "6e3acac5-8e97-481f-c137-f08fe9e77b67"
   },
   "outputs": [
    {
     "name": "stdout",
     "output_type": "stream",
     "text": [
      "104  numerical features\n"
     ]
    }
   ],
   "source": [
    "#numerical columns\n",
    "num_cols = [item[0] for item in new_df.dtypes if item[1].startswith('int') | item[1].startswith('double')][1:]\n",
    "print(str(len(num_cols)) + '  numerical features')\n"
   ]
  },
  {
   "cell_type": "code",
   "execution_count": 22,
   "metadata": {
    "colab": {
     "base_uri": "https://localhost:8080/",
     "height": 1000
    },
    "colab_type": "code",
    "id": "c-CC-vmOaQrg",
    "outputId": "5faaab47-ff8f-45f3-9a0a-62742bcbb2a3"
   },
   "outputs": [
    {
     "data": {
      "text/plain": [
       "['CNT_CHILDREN',\n",
       " 'AMT_INCOME_TOTAL',\n",
       " 'AMT_CREDIT',\n",
       " 'AMT_ANNUITY',\n",
       " 'AMT_GOODS_PRICE',\n",
       " 'REGION_POPULATION_RELATIVE',\n",
       " 'DAYS_BIRTH',\n",
       " 'DAYS_EMPLOYED',\n",
       " 'DAYS_REGISTRATION',\n",
       " 'DAYS_ID_PUBLISH',\n",
       " 'OWN_CAR_AGE',\n",
       " 'FLAG_MOBIL',\n",
       " 'FLAG_EMP_PHONE',\n",
       " 'FLAG_WORK_PHONE',\n",
       " 'FLAG_CONT_MOBILE',\n",
       " 'FLAG_PHONE',\n",
       " 'FLAG_EMAIL',\n",
       " 'CNT_FAM_MEMBERS',\n",
       " 'REGION_RATING_CLIENT',\n",
       " 'REGION_RATING_CLIENT_W_CITY',\n",
       " 'HOUR_APPR_PROCESS_START',\n",
       " 'REG_REGION_NOT_LIVE_REGION',\n",
       " 'REG_REGION_NOT_WORK_REGION',\n",
       " 'LIVE_REGION_NOT_WORK_REGION',\n",
       " 'REG_CITY_NOT_LIVE_CITY',\n",
       " 'REG_CITY_NOT_WORK_CITY',\n",
       " 'LIVE_CITY_NOT_WORK_CITY',\n",
       " 'EXT_SOURCE_1',\n",
       " 'EXT_SOURCE_2',\n",
       " 'EXT_SOURCE_3',\n",
       " 'APARTMENTS_AVG',\n",
       " 'BASEMENTAREA_AVG',\n",
       " 'YEARS_BEGINEXPLUATATION_AVG',\n",
       " 'YEARS_BUILD_AVG',\n",
       " 'COMMONAREA_AVG',\n",
       " 'ELEVATORS_AVG',\n",
       " 'ENTRANCES_AVG',\n",
       " 'FLOORSMAX_AVG',\n",
       " 'FLOORSMIN_AVG',\n",
       " 'LANDAREA_AVG',\n",
       " 'LIVINGAPARTMENTS_AVG',\n",
       " 'LIVINGAREA_AVG',\n",
       " 'NONLIVINGAPARTMENTS_AVG',\n",
       " 'NONLIVINGAREA_AVG',\n",
       " 'APARTMENTS_MODE',\n",
       " 'BASEMENTAREA_MODE',\n",
       " 'YEARS_BEGINEXPLUATATION_MODE',\n",
       " 'YEARS_BUILD_MODE',\n",
       " 'COMMONAREA_MODE',\n",
       " 'ELEVATORS_MODE',\n",
       " 'ENTRANCES_MODE',\n",
       " 'FLOORSMAX_MODE',\n",
       " 'FLOORSMIN_MODE',\n",
       " 'LANDAREA_MODE',\n",
       " 'LIVINGAPARTMENTS_MODE',\n",
       " 'LIVINGAREA_MODE',\n",
       " 'NONLIVINGAPARTMENTS_MODE',\n",
       " 'NONLIVINGAREA_MODE',\n",
       " 'APARTMENTS_MEDI',\n",
       " 'BASEMENTAREA_MEDI',\n",
       " 'YEARS_BEGINEXPLUATATION_MEDI',\n",
       " 'YEARS_BUILD_MEDI',\n",
       " 'COMMONAREA_MEDI',\n",
       " 'ELEVATORS_MEDI',\n",
       " 'ENTRANCES_MEDI',\n",
       " 'FLOORSMAX_MEDI',\n",
       " 'FLOORSMIN_MEDI',\n",
       " 'LANDAREA_MEDI',\n",
       " 'LIVINGAPARTMENTS_MEDI',\n",
       " 'LIVINGAREA_MEDI',\n",
       " 'NONLIVINGAPARTMENTS_MEDI',\n",
       " 'NONLIVINGAREA_MEDI',\n",
       " 'TOTALAREA_MODE',\n",
       " 'OBS_30_CNT_SOCIAL_CIRCLE',\n",
       " 'DEF_30_CNT_SOCIAL_CIRCLE',\n",
       " 'OBS_60_CNT_SOCIAL_CIRCLE',\n",
       " 'DEF_60_CNT_SOCIAL_CIRCLE',\n",
       " 'DAYS_LAST_PHONE_CHANGE',\n",
       " 'FLAG_DOCUMENT_2',\n",
       " 'FLAG_DOCUMENT_3',\n",
       " 'FLAG_DOCUMENT_4',\n",
       " 'FLAG_DOCUMENT_5',\n",
       " 'FLAG_DOCUMENT_6',\n",
       " 'FLAG_DOCUMENT_7',\n",
       " 'FLAG_DOCUMENT_8',\n",
       " 'FLAG_DOCUMENT_9',\n",
       " 'FLAG_DOCUMENT_10',\n",
       " 'FLAG_DOCUMENT_11',\n",
       " 'FLAG_DOCUMENT_12',\n",
       " 'FLAG_DOCUMENT_13',\n",
       " 'FLAG_DOCUMENT_14',\n",
       " 'FLAG_DOCUMENT_15',\n",
       " 'FLAG_DOCUMENT_16',\n",
       " 'FLAG_DOCUMENT_17',\n",
       " 'FLAG_DOCUMENT_18',\n",
       " 'FLAG_DOCUMENT_19',\n",
       " 'FLAG_DOCUMENT_20',\n",
       " 'FLAG_DOCUMENT_21',\n",
       " 'AMT_REQ_CREDIT_BUREAU_HOUR',\n",
       " 'AMT_REQ_CREDIT_BUREAU_DAY',\n",
       " 'AMT_REQ_CREDIT_BUREAU_WEEK',\n",
       " 'AMT_REQ_CREDIT_BUREAU_MON',\n",
       " 'AMT_REQ_CREDIT_BUREAU_QRT',\n",
       " 'AMT_REQ_CREDIT_BUREAU_YEAR']"
      ]
     },
     "execution_count": 22,
     "metadata": {
      "tags": []
     },
     "output_type": "execute_result"
    }
   ],
   "source": [
    "num_cols"
   ]
  },
  {
   "cell_type": "code",
   "execution_count": null,
   "metadata": {
    "colab": {},
    "colab_type": "code",
    "id": "M_I5KaR8cNrc"
   },
   "outputs": [],
   "source": []
  },
  {
   "cell_type": "markdown",
   "metadata": {
    "colab_type": "text",
    "id": "q9JXXyn7cVKK"
   },
   "source": [
    "## Counting Missing Values"
   ]
  },
  {
   "cell_type": "code",
   "execution_count": 23,
   "metadata": {
    "colab": {
     "base_uri": "https://localhost:8080/",
     "height": 459
    },
    "colab_type": "code",
    "id": "gm-kfdWYcN6P",
    "outputId": "0bf80b78-a1f6-45c9-dcb0-316db45d5223"
   },
   "outputs": [
    {
     "name": "stdout",
     "output_type": "stream",
     "text": [
      "Your selected dataframe has 121 columns.\n",
      "There are 67 columns that have missing values.\n"
     ]
    },
    {
     "data": {
      "text/html": [
       "<div>\n",
       "<style scoped>\n",
       "    .dataframe tbody tr th:only-of-type {\n",
       "        vertical-align: middle;\n",
       "    }\n",
       "\n",
       "    .dataframe tbody tr th {\n",
       "        vertical-align: top;\n",
       "    }\n",
       "\n",
       "    .dataframe thead th {\n",
       "        text-align: right;\n",
       "    }\n",
       "</style>\n",
       "<table border=\"1\" class=\"dataframe\">\n",
       "  <thead>\n",
       "    <tr style=\"text-align: right;\">\n",
       "      <th></th>\n",
       "      <th>Missing Values</th>\n",
       "      <th>% of Total Values</th>\n",
       "    </tr>\n",
       "  </thead>\n",
       "  <tbody>\n",
       "    <tr>\n",
       "      <th>COMMONAREA_MEDI</th>\n",
       "      <td>214865</td>\n",
       "      <td>69.9</td>\n",
       "    </tr>\n",
       "    <tr>\n",
       "      <th>COMMONAREA_AVG</th>\n",
       "      <td>214865</td>\n",
       "      <td>69.9</td>\n",
       "    </tr>\n",
       "    <tr>\n",
       "      <th>COMMONAREA_MODE</th>\n",
       "      <td>214865</td>\n",
       "      <td>69.9</td>\n",
       "    </tr>\n",
       "    <tr>\n",
       "      <th>NONLIVINGAPARTMENTS_MEDI</th>\n",
       "      <td>213514</td>\n",
       "      <td>69.4</td>\n",
       "    </tr>\n",
       "    <tr>\n",
       "      <th>NONLIVINGAPARTMENTS_MODE</th>\n",
       "      <td>213514</td>\n",
       "      <td>69.4</td>\n",
       "    </tr>\n",
       "    <tr>\n",
       "      <th>...</th>\n",
       "      <td>...</td>\n",
       "      <td>...</td>\n",
       "    </tr>\n",
       "    <tr>\n",
       "      <th>EXT_SOURCE_2</th>\n",
       "      <td>660</td>\n",
       "      <td>0.2</td>\n",
       "    </tr>\n",
       "    <tr>\n",
       "      <th>AMT_GOODS_PRICE</th>\n",
       "      <td>278</td>\n",
       "      <td>0.1</td>\n",
       "    </tr>\n",
       "    <tr>\n",
       "      <th>AMT_ANNUITY</th>\n",
       "      <td>12</td>\n",
       "      <td>0.0</td>\n",
       "    </tr>\n",
       "    <tr>\n",
       "      <th>CNT_FAM_MEMBERS</th>\n",
       "      <td>2</td>\n",
       "      <td>0.0</td>\n",
       "    </tr>\n",
       "    <tr>\n",
       "      <th>DAYS_LAST_PHONE_CHANGE</th>\n",
       "      <td>1</td>\n",
       "      <td>0.0</td>\n",
       "    </tr>\n",
       "  </tbody>\n",
       "</table>\n",
       "<p>67 rows × 2 columns</p>\n",
       "</div>"
      ],
      "text/plain": [
       "                          Missing Values  % of Total Values\n",
       "COMMONAREA_MEDI                   214865               69.9\n",
       "COMMONAREA_AVG                    214865               69.9\n",
       "COMMONAREA_MODE                   214865               69.9\n",
       "NONLIVINGAPARTMENTS_MEDI          213514               69.4\n",
       "NONLIVINGAPARTMENTS_MODE          213514               69.4\n",
       "...                                  ...                ...\n",
       "EXT_SOURCE_2                         660                0.2\n",
       "AMT_GOODS_PRICE                      278                0.1\n",
       "AMT_ANNUITY                           12                0.0\n",
       "CNT_FAM_MEMBERS                        2                0.0\n",
       "DAYS_LAST_PHONE_CHANGE                 1                0.0\n",
       "\n",
       "[67 rows x 2 columns]"
      ]
     },
     "execution_count": 23,
     "metadata": {
      "tags": []
     },
     "output_type": "execute_result"
    }
   ],
   "source": [
    "def info_missing_table(df_pd):\n",
    "    mis_val = df_pd.isnull().sum()\n",
    "    mis_val_percent = 100 * df_pd.isnull().sum() / len(df_pd) \n",
    "    mis_val_table = pd.concat([mis_val, mis_val_percent], axis=1) \n",
    "    \n",
    "    mis_val_table_ren_columns = mis_val_table.rename(columns = {0 : 'Missing Values', 1 : '% of Total Values'}) \n",
    "    mis_val_table_ren_columns = mis_val_table_ren_columns[\n",
    "    mis_val_table_ren_columns.iloc[:,1] != 0].sort_values('% of Total Values', ascending=False).round(1) \n",
    "        \n",
    "    print (\"Your selected dataframe has \" + str(df_pd.shape[1]) + \" columns.\\n\" \n",
    "    \"There are \" + str(mis_val_table_ren_columns.shape[0]) + \" columns that have missing values.\") \n",
    "    \n",
    "    return mis_val_table_ren_columns\n",
    "  \n",
    "    \n",
    "missings = info_missing_table(df_pd)\n",
    "missings\n",
    "    "
   ]
  },
  {
   "cell_type": "code",
   "execution_count": null,
   "metadata": {
    "colab": {},
    "colab_type": "code",
    "id": "Z3ZFKgrOcN9n"
   },
   "outputs": [],
   "source": []
  },
  {
   "cell_type": "markdown",
   "metadata": {
    "colab_type": "text",
    "id": "Xa-uRSDhcgVm"
   },
   "source": [
    "## Counting missing values in every column"
   ]
  },
  {
   "cell_type": "code",
   "execution_count": 24,
   "metadata": {
    "colab": {
     "base_uri": "https://localhost:8080/",
     "height": 424
    },
    "colab_type": "code",
    "id": "TVRP3Px6cfWR",
    "outputId": "00b53ceb-901d-4f49-88a2-87535c367de5"
   },
   "outputs": [
    {
     "data": {
      "text/html": [
       "<div>\n",
       "<style scoped>\n",
       "    .dataframe tbody tr th:only-of-type {\n",
       "        vertical-align: middle;\n",
       "    }\n",
       "\n",
       "    .dataframe tbody tr th {\n",
       "        vertical-align: top;\n",
       "    }\n",
       "\n",
       "    .dataframe thead th {\n",
       "        text-align: right;\n",
       "    }\n",
       "</style>\n",
       "<table border=\"1\" class=\"dataframe\">\n",
       "  <thead>\n",
       "    <tr style=\"text-align: right;\">\n",
       "      <th></th>\n",
       "      <th>0</th>\n",
       "    </tr>\n",
       "  </thead>\n",
       "  <tbody>\n",
       "    <tr>\n",
       "      <th>COMMONAREA_AVG</th>\n",
       "      <td>214865</td>\n",
       "    </tr>\n",
       "    <tr>\n",
       "      <th>COMMONAREA_MODE</th>\n",
       "      <td>214865</td>\n",
       "    </tr>\n",
       "    <tr>\n",
       "      <th>COMMONAREA_MEDI</th>\n",
       "      <td>214865</td>\n",
       "    </tr>\n",
       "    <tr>\n",
       "      <th>NONLIVINGAPARTMENTS_AVG</th>\n",
       "      <td>213514</td>\n",
       "    </tr>\n",
       "    <tr>\n",
       "      <th>NONLIVINGAPARTMENTS_MODE</th>\n",
       "      <td>213514</td>\n",
       "    </tr>\n",
       "    <tr>\n",
       "      <th>...</th>\n",
       "      <td>...</td>\n",
       "    </tr>\n",
       "    <tr>\n",
       "      <th>REGION_POPULATION_RELATIVE</th>\n",
       "      <td>0</td>\n",
       "    </tr>\n",
       "    <tr>\n",
       "      <th>NAME_HOUSING_TYPE</th>\n",
       "      <td>0</td>\n",
       "    </tr>\n",
       "    <tr>\n",
       "      <th>NAME_FAMILY_STATUS</th>\n",
       "      <td>0</td>\n",
       "    </tr>\n",
       "    <tr>\n",
       "      <th>NAME_EDUCATION_TYPE</th>\n",
       "      <td>0</td>\n",
       "    </tr>\n",
       "    <tr>\n",
       "      <th>label</th>\n",
       "      <td>0</td>\n",
       "    </tr>\n",
       "  </tbody>\n",
       "</table>\n",
       "<p>121 rows × 1 columns</p>\n",
       "</div>"
      ],
      "text/plain": [
       "                                 0\n",
       "COMMONAREA_AVG              214865\n",
       "COMMONAREA_MODE             214865\n",
       "COMMONAREA_MEDI             214865\n",
       "NONLIVINGAPARTMENTS_AVG     213514\n",
       "NONLIVINGAPARTMENTS_MODE    213514\n",
       "...                            ...\n",
       "REGION_POPULATION_RELATIVE       0\n",
       "NAME_HOUSING_TYPE                0\n",
       "NAME_FAMILY_STATUS               0\n",
       "NAME_EDUCATION_TYPE              0\n",
       "label                            0\n",
       "\n",
       "[121 rows x 1 columns]"
      ]
     },
     "execution_count": 24,
     "metadata": {
      "tags": []
     },
     "output_type": "execute_result"
    }
   ],
   "source": [
    "new_df.select([count(when(col(c).isNull(), c)).alias(c) for c in new_df.columns]).toPandas().T.sort_values(0, ascending=False)\n"
   ]
  },
  {
   "cell_type": "code",
   "execution_count": null,
   "metadata": {
    "colab": {},
    "colab_type": "code",
    "id": "1uOq4mNkcfaW"
   },
   "outputs": [],
   "source": []
  },
  {
   "cell_type": "markdown",
   "metadata": {
    "colab_type": "text",
    "id": "31gLqydWctwk"
   },
   "source": [
    "## Duplicate data checking"
   ]
  },
  {
   "cell_type": "code",
   "execution_count": 25,
   "metadata": {
    "colab": {
     "base_uri": "https://localhost:8080/",
     "height": 34
    },
    "colab_type": "code",
    "id": "SbSRQrEKcfgv",
    "outputId": "a9379b01-36c7-4425-d37c-c9fa1f3db450"
   },
   "outputs": [
    {
     "data": {
      "text/plain": [
       "307511"
      ]
     },
     "execution_count": 25,
     "metadata": {
      "tags": []
     },
     "output_type": "execute_result"
    }
   ],
   "source": [
    "new_df.distinct().count()"
   ]
  },
  {
   "cell_type": "code",
   "execution_count": null,
   "metadata": {
    "colab": {},
    "colab_type": "code",
    "id": "GHj21mqRcfer"
   },
   "outputs": [],
   "source": []
  },
  {
   "cell_type": "markdown",
   "metadata": {
    "colab_type": "text",
    "id": "EkIv9kK0c1N8"
   },
   "source": [
    "## Detecting Categorical and Numerical column"
   ]
  },
  {
   "cell_type": "code",
   "execution_count": 26,
   "metadata": {
    "colab": {
     "base_uri": "https://localhost:8080/",
     "height": 1000
    },
    "colab_type": "code",
    "id": "WIrqxx9acybk",
    "outputId": "90f2a80e-7f75-4318-dcd1-dc3b2b37b885"
   },
   "outputs": [
    {
     "data": {
      "text/plain": [
       "['AMT_ANNUITY',\n",
       " 'AMT_GOODS_PRICE',\n",
       " 'NAME_TYPE_SUITE',\n",
       " 'OWN_CAR_AGE',\n",
       " 'OCCUPATION_TYPE',\n",
       " 'CNT_FAM_MEMBERS',\n",
       " 'EXT_SOURCE_1',\n",
       " 'EXT_SOURCE_2',\n",
       " 'EXT_SOURCE_3',\n",
       " 'APARTMENTS_AVG',\n",
       " 'BASEMENTAREA_AVG',\n",
       " 'YEARS_BEGINEXPLUATATION_AVG',\n",
       " 'YEARS_BUILD_AVG',\n",
       " 'COMMONAREA_AVG',\n",
       " 'ELEVATORS_AVG',\n",
       " 'ENTRANCES_AVG',\n",
       " 'FLOORSMAX_AVG',\n",
       " 'FLOORSMIN_AVG',\n",
       " 'LANDAREA_AVG',\n",
       " 'LIVINGAPARTMENTS_AVG',\n",
       " 'LIVINGAREA_AVG',\n",
       " 'NONLIVINGAPARTMENTS_AVG',\n",
       " 'NONLIVINGAREA_AVG',\n",
       " 'APARTMENTS_MODE',\n",
       " 'BASEMENTAREA_MODE',\n",
       " 'YEARS_BEGINEXPLUATATION_MODE',\n",
       " 'YEARS_BUILD_MODE',\n",
       " 'COMMONAREA_MODE',\n",
       " 'ELEVATORS_MODE',\n",
       " 'ENTRANCES_MODE',\n",
       " 'FLOORSMAX_MODE',\n",
       " 'FLOORSMIN_MODE',\n",
       " 'LANDAREA_MODE',\n",
       " 'LIVINGAPARTMENTS_MODE',\n",
       " 'LIVINGAREA_MODE',\n",
       " 'NONLIVINGAPARTMENTS_MODE',\n",
       " 'NONLIVINGAREA_MODE',\n",
       " 'APARTMENTS_MEDI',\n",
       " 'BASEMENTAREA_MEDI',\n",
       " 'YEARS_BEGINEXPLUATATION_MEDI',\n",
       " 'YEARS_BUILD_MEDI',\n",
       " 'COMMONAREA_MEDI',\n",
       " 'ELEVATORS_MEDI',\n",
       " 'ENTRANCES_MEDI',\n",
       " 'FLOORSMAX_MEDI',\n",
       " 'FLOORSMIN_MEDI',\n",
       " 'LANDAREA_MEDI',\n",
       " 'LIVINGAPARTMENTS_MEDI',\n",
       " 'LIVINGAREA_MEDI',\n",
       " 'NONLIVINGAPARTMENTS_MEDI',\n",
       " 'NONLIVINGAREA_MEDI',\n",
       " 'FONDKAPREMONT_MODE',\n",
       " 'HOUSETYPE_MODE',\n",
       " 'TOTALAREA_MODE',\n",
       " 'WALLSMATERIAL_MODE',\n",
       " 'EMERGENCYSTATE_MODE',\n",
       " 'OBS_30_CNT_SOCIAL_CIRCLE',\n",
       " 'DEF_30_CNT_SOCIAL_CIRCLE',\n",
       " 'OBS_60_CNT_SOCIAL_CIRCLE',\n",
       " 'DEF_60_CNT_SOCIAL_CIRCLE',\n",
       " 'DAYS_LAST_PHONE_CHANGE',\n",
       " 'AMT_REQ_CREDIT_BUREAU_HOUR',\n",
       " 'AMT_REQ_CREDIT_BUREAU_DAY',\n",
       " 'AMT_REQ_CREDIT_BUREAU_WEEK',\n",
       " 'AMT_REQ_CREDIT_BUREAU_MON',\n",
       " 'AMT_REQ_CREDIT_BUREAU_QRT',\n",
       " 'AMT_REQ_CREDIT_BUREAU_YEAR']"
      ]
     },
     "execution_count": 26,
     "metadata": {
      "tags": []
     },
     "output_type": "execute_result"
    }
   ],
   "source": [
    "df = new_df.toPandas()\n",
    "miss_counts = df.columns[df.isnull().any()].tolist()\n",
    "miss_counts"
   ]
  },
  {
   "cell_type": "code",
   "execution_count": 27,
   "metadata": {
    "colab": {
     "base_uri": "https://localhost:8080/",
     "height": 72
    },
    "colab_type": "code",
    "id": "KJqB0-ltcyl3",
    "outputId": "38756e34-9076-4927-d19e-9f02b1f53f3a"
   },
   "outputs": [
    {
     "name": "stdout",
     "output_type": "stream",
     "text": [
      "cateogrical columns_miss: ['NAME_TYPE_SUITE', 'OCCUPATION_TYPE', 'FONDKAPREMONT_MODE', 'HOUSETYPE_MODE', 'WALLSMATERIAL_MODE', 'EMERGENCYSTATE_MODE']\n",
      "numerical columns_miss: ['AMT_ANNUITY', 'AMT_GOODS_PRICE', 'OWN_CAR_AGE', 'CNT_FAM_MEMBERS', 'EXT_SOURCE_1', 'EXT_SOURCE_2', 'EXT_SOURCE_3', 'APARTMENTS_AVG', 'BASEMENTAREA_AVG', 'YEARS_BEGINEXPLUATATION_AVG', 'YEARS_BUILD_AVG', 'COMMONAREA_AVG', 'ELEVATORS_AVG', 'ENTRANCES_AVG', 'FLOORSMAX_AVG', 'FLOORSMIN_AVG', 'LANDAREA_AVG', 'LIVINGAPARTMENTS_AVG', 'LIVINGAREA_AVG', 'NONLIVINGAPARTMENTS_AVG', 'NONLIVINGAREA_AVG', 'APARTMENTS_MODE', 'BASEMENTAREA_MODE', 'YEARS_BEGINEXPLUATATION_MODE', 'YEARS_BUILD_MODE', 'COMMONAREA_MODE', 'ELEVATORS_MODE', 'ENTRANCES_MODE', 'FLOORSMAX_MODE', 'FLOORSMIN_MODE', 'LANDAREA_MODE', 'LIVINGAPARTMENTS_MODE', 'LIVINGAREA_MODE', 'NONLIVINGAPARTMENTS_MODE', 'NONLIVINGAREA_MODE', 'APARTMENTS_MEDI', 'BASEMENTAREA_MEDI', 'YEARS_BEGINEXPLUATATION_MEDI', 'YEARS_BUILD_MEDI', 'COMMONAREA_MEDI', 'ELEVATORS_MEDI', 'ENTRANCES_MEDI', 'FLOORSMAX_MEDI', 'FLOORSMIN_MEDI', 'LANDAREA_MEDI', 'LIVINGAPARTMENTS_MEDI', 'LIVINGAREA_MEDI', 'NONLIVINGAPARTMENTS_MEDI', 'NONLIVINGAREA_MEDI', 'TOTALAREA_MODE', 'OBS_30_CNT_SOCIAL_CIRCLE', 'DEF_30_CNT_SOCIAL_CIRCLE', 'OBS_60_CNT_SOCIAL_CIRCLE', 'DEF_60_CNT_SOCIAL_CIRCLE', 'DAYS_LAST_PHONE_CHANGE', 'AMT_REQ_CREDIT_BUREAU_HOUR', 'AMT_REQ_CREDIT_BUREAU_DAY', 'AMT_REQ_CREDIT_BUREAU_WEEK', 'AMT_REQ_CREDIT_BUREAU_MON', 'AMT_REQ_CREDIT_BUREAU_QRT', 'AMT_REQ_CREDIT_BUREAU_YEAR']\n"
     ]
    }
   ],
   "source": [
    "list_cols_miss=[x for x in miss_counts]\n",
    "df_miss= new_df.select(*list_cols_miss)\n",
    "\n",
    "#categorical columns\n",
    "catcolums_miss=[item[0] for item in df_miss.dtypes if item[1].startswith('string')]  #will select name of column with string data type\n",
    "print(\"cateogrical columns_miss:\", catcolums_miss)\n",
    "\n",
    "### numerical columns\n",
    "numcolumns_miss = [item[0] for item in df_miss.dtypes if item[1].startswith('int') | item[1].startswith('double')] #will select name of column with integer or double data type\n",
    "print(\"numerical columns_miss:\", numcolumns_miss)\n",
    "\n"
   ]
  },
  {
   "cell_type": "code",
   "execution_count": null,
   "metadata": {
    "colab": {},
    "colab_type": "code",
    "id": "CiXlTINXcyfP"
   },
   "outputs": [],
   "source": []
  },
  {
   "cell_type": "markdown",
   "metadata": {
    "colab_type": "text",
    "id": "NMBbm95qdKoY"
   },
   "source": [
    "## Filling Missing Values"
   ]
  },
  {
   "cell_type": "code",
   "execution_count": 29,
   "metadata": {
    "colab": {
     "base_uri": "https://localhost:8080/",
     "height": 1000
    },
    "colab_type": "code",
    "id": "ppucL3WOdMzb",
    "outputId": "d47a5f4c-c2cf-4d96-ee6e-eeb888587935"
   },
   "outputs": [
    {
     "name": "stdout",
     "output_type": "stream",
     "text": [
      "NAME_TYPE_SUITE Unaccompanied\n",
      "OCCUPATION_TYPE Laborers\n",
      "FONDKAPREMONT_MODE reg oper account\n",
      "HOUSETYPE_MODE block of flats\n",
      "WALLSMATERIAL_MODE Panel\n",
      "EMERGENCYSTATE_MODE No\n",
      "AMT_ANNUITY 27109.0\n",
      "AMT_GOODS_PRICE 538396.0\n",
      "OWN_CAR_AGE 12.0\n",
      "CNT_FAM_MEMBERS 2.0\n",
      "EXT_SOURCE_1 1.0\n",
      "EXT_SOURCE_2 1.0\n",
      "EXT_SOURCE_3 1.0\n",
      "APARTMENTS_AVG 0.0\n",
      "BASEMENTAREA_AVG 0.0\n",
      "YEARS_BEGINEXPLUATATION_AVG 1.0\n",
      "YEARS_BUILD_AVG 1.0\n",
      "COMMONAREA_AVG 0.0\n",
      "ELEVATORS_AVG 0.0\n",
      "ENTRANCES_AVG 0.0\n",
      "FLOORSMAX_AVG 0.0\n",
      "FLOORSMIN_AVG 0.0\n",
      "LANDAREA_AVG 0.0\n",
      "LIVINGAPARTMENTS_AVG 0.0\n",
      "LIVINGAREA_AVG 0.0\n",
      "NONLIVINGAPARTMENTS_AVG 0.0\n",
      "NONLIVINGAREA_AVG 0.0\n",
      "APARTMENTS_MODE 0.0\n",
      "BASEMENTAREA_MODE 0.0\n",
      "YEARS_BEGINEXPLUATATION_MODE 1.0\n",
      "YEARS_BUILD_MODE 1.0\n",
      "COMMONAREA_MODE 0.0\n",
      "ELEVATORS_MODE 0.0\n",
      "ENTRANCES_MODE 0.0\n",
      "FLOORSMAX_MODE 0.0\n",
      "FLOORSMIN_MODE 0.0\n",
      "LANDAREA_MODE 0.0\n",
      "LIVINGAPARTMENTS_MODE 0.0\n",
      "LIVINGAREA_MODE 0.0\n",
      "NONLIVINGAPARTMENTS_MODE 0.0\n",
      "NONLIVINGAREA_MODE 0.0\n",
      "APARTMENTS_MEDI 0.0\n",
      "BASEMENTAREA_MEDI 0.0\n",
      "YEARS_BEGINEXPLUATATION_MEDI 1.0\n",
      "YEARS_BUILD_MEDI 1.0\n",
      "COMMONAREA_MEDI 0.0\n",
      "ELEVATORS_MEDI 0.0\n",
      "ENTRANCES_MEDI 0.0\n",
      "FLOORSMAX_MEDI 0.0\n",
      "FLOORSMIN_MEDI 0.0\n",
      "LANDAREA_MEDI 0.0\n",
      "LIVINGAPARTMENTS_MEDI 0.0\n",
      "LIVINGAREA_MEDI 0.0\n",
      "NONLIVINGAPARTMENTS_MEDI 0.0\n",
      "NONLIVINGAREA_MEDI 0.0\n",
      "TOTALAREA_MODE 0.0\n",
      "OBS_30_CNT_SOCIAL_CIRCLE 1.0\n",
      "DEF_30_CNT_SOCIAL_CIRCLE 0.0\n",
      "OBS_60_CNT_SOCIAL_CIRCLE 1.0\n",
      "DEF_60_CNT_SOCIAL_CIRCLE 0.0\n",
      "DAYS_LAST_PHONE_CHANGE -963.0\n",
      "AMT_REQ_CREDIT_BUREAU_HOUR 0.0\n",
      "AMT_REQ_CREDIT_BUREAU_DAY 0.0\n",
      "AMT_REQ_CREDIT_BUREAU_WEEK 0.0\n",
      "AMT_REQ_CREDIT_BUREAU_MON 0.0\n",
      "AMT_REQ_CREDIT_BUREAU_QRT 0.0\n",
      "AMT_REQ_CREDIT_BUREAU_YEAR 2.0\n"
     ]
    }
   ],
   "source": [
    "df_Nomiss=new_df.na.drop()\n",
    "for x in catcolums_miss:                  \n",
    "    mode=df_Nomiss.groupBy(x).count().sort(col(\"count\").desc()).collect()[0][0] \n",
    "    print(x, mode) #print name of columns and it's most categories \n",
    "    \n",
    "    new_df = new_df.na.fill({x:mode})\n",
    "    # and we fill the missing numerical values with the average of each \n",
    "    #column\n",
    "    \n",
    "for i in numcolumns_miss:\n",
    "    meanvalue = new_df.select(round(mean(i))).collect()[0][0] \n",
    "    print(i, meanvalue) \n",
    "    new_df=new_df.na.fill({i:meanvalue})\n",
    "    "
   ]
  },
  {
   "cell_type": "code",
   "execution_count": null,
   "metadata": {
    "colab": {},
    "colab_type": "code",
    "id": "XcSdXeNOdMxM"
   },
   "outputs": [],
   "source": []
  },
  {
   "cell_type": "markdown",
   "metadata": {
    "colab_type": "text",
    "id": "Rgi8jRwzdhsx"
   },
   "source": [
    "## checking missing value again"
   ]
  },
  {
   "cell_type": "code",
   "execution_count": 30,
   "metadata": {
    "colab": {
     "base_uri": "https://localhost:8080/",
     "height": 141
    },
    "colab_type": "code",
    "id": "zemKQNXudMvU",
    "outputId": "3b62da7b-3a59-493c-c8ce-2522d6b02b20"
   },
   "outputs": [
    {
     "name": "stdout",
     "output_type": "stream",
     "text": [
      "+-----+------------------+-----------+------------+---------------+------------+----------------+----------+-----------+---------------+---------------+----------------+-------------------+------------------+-----------------+--------------------------+----------+-------------+-----------------+---------------+-----------+----------+--------------+---------------+----------------+----------+----------+---------------+---------------+--------------------+---------------------------+--------------------------+-----------------------+--------------------------+--------------------------+---------------------------+----------------------+----------------------+-----------------------+-----------------+------------+------------+------------+--------------+----------------+---------------------------+---------------+--------------+-------------+-------------+-------------+-------------+------------+--------------------+--------------+-----------------------+-----------------+---------------+-----------------+----------------------------+----------------+---------------+--------------+--------------+--------------+--------------+-------------+---------------------+---------------+------------------------+------------------+---------------+-----------------+----------------------------+----------------+---------------+--------------+--------------+--------------+--------------+-------------+---------------------+---------------+------------------------+------------------+------------------+--------------+--------------+------------------+-------------------+------------------------+------------------------+------------------------+------------------------+----------------------+---------------+---------------+---------------+---------------+---------------+---------------+---------------+---------------+----------------+----------------+----------------+----------------+----------------+----------------+----------------+----------------+----------------+----------------+----------------+----------------+--------------------------+-------------------------+--------------------------+-------------------------+-------------------------+--------------------------+\n",
      "|label|NAME_CONTRACT_TYPE|CODE_GENDER|FLAG_OWN_CAR|FLAG_OWN_REALTY|CNT_CHILDREN|AMT_INCOME_TOTAL|AMT_CREDIT|AMT_ANNUITY|AMT_GOODS_PRICE|NAME_TYPE_SUITE|NAME_INCOME_TYPE|NAME_EDUCATION_TYPE|NAME_FAMILY_STATUS|NAME_HOUSING_TYPE|REGION_POPULATION_RELATIVE|DAYS_BIRTH|DAYS_EMPLOYED|DAYS_REGISTRATION|DAYS_ID_PUBLISH|OWN_CAR_AGE|FLAG_MOBIL|FLAG_EMP_PHONE|FLAG_WORK_PHONE|FLAG_CONT_MOBILE|FLAG_PHONE|FLAG_EMAIL|OCCUPATION_TYPE|CNT_FAM_MEMBERS|REGION_RATING_CLIENT|REGION_RATING_CLIENT_W_CITY|WEEKDAY_APPR_PROCESS_START|HOUR_APPR_PROCESS_START|REG_REGION_NOT_LIVE_REGION|REG_REGION_NOT_WORK_REGION|LIVE_REGION_NOT_WORK_REGION|REG_CITY_NOT_LIVE_CITY|REG_CITY_NOT_WORK_CITY|LIVE_CITY_NOT_WORK_CITY|ORGANIZATION_TYPE|EXT_SOURCE_1|EXT_SOURCE_2|EXT_SOURCE_3|APARTMENTS_AVG|BASEMENTAREA_AVG|YEARS_BEGINEXPLUATATION_AVG|YEARS_BUILD_AVG|COMMONAREA_AVG|ELEVATORS_AVG|ENTRANCES_AVG|FLOORSMAX_AVG|FLOORSMIN_AVG|LANDAREA_AVG|LIVINGAPARTMENTS_AVG|LIVINGAREA_AVG|NONLIVINGAPARTMENTS_AVG|NONLIVINGAREA_AVG|APARTMENTS_MODE|BASEMENTAREA_MODE|YEARS_BEGINEXPLUATATION_MODE|YEARS_BUILD_MODE|COMMONAREA_MODE|ELEVATORS_MODE|ENTRANCES_MODE|FLOORSMAX_MODE|FLOORSMIN_MODE|LANDAREA_MODE|LIVINGAPARTMENTS_MODE|LIVINGAREA_MODE|NONLIVINGAPARTMENTS_MODE|NONLIVINGAREA_MODE|APARTMENTS_MEDI|BASEMENTAREA_MEDI|YEARS_BEGINEXPLUATATION_MEDI|YEARS_BUILD_MEDI|COMMONAREA_MEDI|ELEVATORS_MEDI|ENTRANCES_MEDI|FLOORSMAX_MEDI|FLOORSMIN_MEDI|LANDAREA_MEDI|LIVINGAPARTMENTS_MEDI|LIVINGAREA_MEDI|NONLIVINGAPARTMENTS_MEDI|NONLIVINGAREA_MEDI|FONDKAPREMONT_MODE|HOUSETYPE_MODE|TOTALAREA_MODE|WALLSMATERIAL_MODE|EMERGENCYSTATE_MODE|OBS_30_CNT_SOCIAL_CIRCLE|DEF_30_CNT_SOCIAL_CIRCLE|OBS_60_CNT_SOCIAL_CIRCLE|DEF_60_CNT_SOCIAL_CIRCLE|DAYS_LAST_PHONE_CHANGE|FLAG_DOCUMENT_2|FLAG_DOCUMENT_3|FLAG_DOCUMENT_4|FLAG_DOCUMENT_5|FLAG_DOCUMENT_6|FLAG_DOCUMENT_7|FLAG_DOCUMENT_8|FLAG_DOCUMENT_9|FLAG_DOCUMENT_10|FLAG_DOCUMENT_11|FLAG_DOCUMENT_12|FLAG_DOCUMENT_13|FLAG_DOCUMENT_14|FLAG_DOCUMENT_15|FLAG_DOCUMENT_16|FLAG_DOCUMENT_17|FLAG_DOCUMENT_18|FLAG_DOCUMENT_19|FLAG_DOCUMENT_20|FLAG_DOCUMENT_21|AMT_REQ_CREDIT_BUREAU_HOUR|AMT_REQ_CREDIT_BUREAU_DAY|AMT_REQ_CREDIT_BUREAU_WEEK|AMT_REQ_CREDIT_BUREAU_MON|AMT_REQ_CREDIT_BUREAU_QRT|AMT_REQ_CREDIT_BUREAU_YEAR|\n",
      "+-----+------------------+-----------+------------+---------------+------------+----------------+----------+-----------+---------------+---------------+----------------+-------------------+------------------+-----------------+--------------------------+----------+-------------+-----------------+---------------+-----------+----------+--------------+---------------+----------------+----------+----------+---------------+---------------+--------------------+---------------------------+--------------------------+-----------------------+--------------------------+--------------------------+---------------------------+----------------------+----------------------+-----------------------+-----------------+------------+------------+------------+--------------+----------------+---------------------------+---------------+--------------+-------------+-------------+-------------+-------------+------------+--------------------+--------------+-----------------------+-----------------+---------------+-----------------+----------------------------+----------------+---------------+--------------+--------------+--------------+--------------+-------------+---------------------+---------------+------------------------+------------------+---------------+-----------------+----------------------------+----------------+---------------+--------------+--------------+--------------+--------------+-------------+---------------------+---------------+------------------------+------------------+------------------+--------------+--------------+------------------+-------------------+------------------------+------------------------+------------------------+------------------------+----------------------+---------------+---------------+---------------+---------------+---------------+---------------+---------------+---------------+----------------+----------------+----------------+----------------+----------------+----------------+----------------+----------------+----------------+----------------+----------------+----------------+--------------------------+-------------------------+--------------------------+-------------------------+-------------------------+--------------------------+\n",
      "|    0|                 0|          0|           0|              0|           0|               0|         0|          0|              0|              0|               0|                  0|                 0|                0|                         0|         0|            0|                0|              0|          0|         0|             0|              0|               0|         0|         0|              0|              0|                   0|                          0|                         0|                      0|                         0|                         0|                          0|                     0|                     0|                      0|                0|           0|           0|           0|             0|               0|                          0|              0|             0|            0|            0|            0|            0|           0|                   0|             0|                      0|                0|              0|                0|                           0|               0|              0|             0|             0|             0|             0|            0|                    0|              0|                       0|                 0|              0|                0|                           0|               0|              0|             0|             0|             0|             0|            0|                    0|              0|                       0|                 0|                 0|             0|             0|                 0|                  0|                       0|                       0|                       0|                       0|                     0|              0|              0|              0|              0|              0|              0|              0|              0|               0|               0|               0|               0|               0|               0|               0|               0|               0|               0|               0|               0|                         0|                        0|                         0|                        0|                        0|                         0|\n",
      "+-----+------------------+-----------+------------+---------------+------------+----------------+----------+-----------+---------------+---------------+----------------+-------------------+------------------+-----------------+--------------------------+----------+-------------+-----------------+---------------+-----------+----------+--------------+---------------+----------------+----------+----------+---------------+---------------+--------------------+---------------------------+--------------------------+-----------------------+--------------------------+--------------------------+---------------------------+----------------------+----------------------+-----------------------+-----------------+------------+------------+------------+--------------+----------------+---------------------------+---------------+--------------+-------------+-------------+-------------+-------------+------------+--------------------+--------------+-----------------------+-----------------+---------------+-----------------+----------------------------+----------------+---------------+--------------+--------------+--------------+--------------+-------------+---------------------+---------------+------------------------+------------------+---------------+-----------------+----------------------------+----------------+---------------+--------------+--------------+--------------+--------------+-------------+---------------------+---------------+------------------------+------------------+------------------+--------------+--------------+------------------+-------------------+------------------------+------------------------+------------------------+------------------------+----------------------+---------------+---------------+---------------+---------------+---------------+---------------+---------------+---------------+----------------+----------------+----------------+----------------+----------------+----------------+----------------+----------------+----------------+----------------+----------------+----------------+--------------------------+-------------------------+--------------------------+-------------------------+-------------------------+--------------------------+\n",
      "\n"
     ]
    }
   ],
   "source": [
    "new_df.select(*(sum(col(c).isNull().cast(\"int\")).alias(c) for c in new_df.columns)).show()\n"
   ]
  },
  {
   "cell_type": "code",
   "execution_count": null,
   "metadata": {
    "colab": {},
    "colab_type": "code",
    "id": "RBSsncH2dr7d"
   },
   "outputs": [],
   "source": []
  },
  {
   "cell_type": "markdown",
   "metadata": {
    "colab_type": "text",
    "id": "F4Eahb7AdsN6"
   },
   "source": [
    "## Encoding"
   ]
  },
  {
   "cell_type": "code",
   "execution_count": 32,
   "metadata": {
    "colab": {},
    "colab_type": "code",
    "id": "McdxMAqOdtx_"
   },
   "outputs": [],
   "source": [
    "stages = []\n",
    "for categoricalCol in cat_cols:\n",
    "    stringIndexer = StringIndexer(inputCol = categoricalCol, outputCol = categoricalCol + 'Index')\n",
    "    encoder = OneHotEncoder(inputCols=[stringIndexer.getOutputCol()], outputCols=[categoricalCol + \"classVec\"])\n",
    "    stages += [stringIndexer, encoder]\n",
    "    \n",
    "assemblerInputs = [c + \"classVec\" for c in cat_cols] + num_cols\n",
    "assembler = VectorAssembler(inputCols=assemblerInputs, outputCol=\"features\")\n",
    "stages += [assembler]\n",
    "    "
   ]
  },
  {
   "cell_type": "code",
   "execution_count": 33,
   "metadata": {
    "colab": {
     "base_uri": "https://localhost:8080/",
     "height": 590
    },
    "colab_type": "code",
    "id": "-R4rQHPudt1j",
    "outputId": "b961dc35-911b-44c6-dafa-c4357b70f2df"
   },
   "outputs": [
    {
     "data": {
      "text/plain": [
       "[StringIndexer_0326b12573ae,\n",
       " OneHotEncoder_1249f49601aa,\n",
       " StringIndexer_4c2a651e9608,\n",
       " OneHotEncoder_eda2c4bef371,\n",
       " StringIndexer_208ce78a7f3f,\n",
       " OneHotEncoder_ab6c7aa01402,\n",
       " StringIndexer_1881142e6bbb,\n",
       " OneHotEncoder_23d060c9c5d3,\n",
       " StringIndexer_7d2f7c139a81,\n",
       " OneHotEncoder_944a662d1edd,\n",
       " StringIndexer_9fe10a0779b8,\n",
       " OneHotEncoder_cce7a5551e41,\n",
       " StringIndexer_3c90aca1b51c,\n",
       " OneHotEncoder_477f5fd15651,\n",
       " StringIndexer_70962ada92f2,\n",
       " OneHotEncoder_9d86a079f14c,\n",
       " StringIndexer_f17cf43753b8,\n",
       " OneHotEncoder_556ffdaf4afe,\n",
       " StringIndexer_59abb4ace763,\n",
       " OneHotEncoder_e37c30145593,\n",
       " StringIndexer_605d5535508e,\n",
       " OneHotEncoder_f8ddb17e3c1a,\n",
       " StringIndexer_99bf852fa2ef,\n",
       " OneHotEncoder_277a731a4e48,\n",
       " StringIndexer_defd1e42ecf3,\n",
       " OneHotEncoder_e6cdc89aac67,\n",
       " StringIndexer_81345d5789ba,\n",
       " OneHotEncoder_4cc92a301ffc,\n",
       " StringIndexer_9f53420627a8,\n",
       " OneHotEncoder_0fbb04400315,\n",
       " StringIndexer_9bf39c1af47c,\n",
       " OneHotEncoder_cebe6108f2de,\n",
       " VectorAssembler_5d482c9b6b5e]"
      ]
     },
     "execution_count": 33,
     "metadata": {
      "tags": []
     },
     "output_type": "execute_result"
    }
   ],
   "source": [
    "stages"
   ]
  },
  {
   "cell_type": "code",
   "execution_count": null,
   "metadata": {
    "colab": {},
    "colab_type": "code",
    "id": "33oMtaqndt48"
   },
   "outputs": [],
   "source": []
  },
  {
   "cell_type": "markdown",
   "metadata": {
    "colab_type": "text",
    "id": "mI6sM0GIeaRV"
   },
   "source": [
    "## Pipeline"
   ]
  },
  {
   "cell_type": "code",
   "execution_count": 35,
   "metadata": {
    "colab": {
     "base_uri": "https://localhost:8080/",
     "height": 603
    },
    "colab_type": "code",
    "id": "mEMv2Jrrdt_8",
    "outputId": "6419de82-0343-4aa0-c5ea-97c125fed3e7"
   },
   "outputs": [
    {
     "data": {
      "text/html": [
       "<div>\n",
       "<style scoped>\n",
       "    .dataframe tbody tr th:only-of-type {\n",
       "        vertical-align: middle;\n",
       "    }\n",
       "\n",
       "    .dataframe tbody tr th {\n",
       "        vertical-align: top;\n",
       "    }\n",
       "\n",
       "    .dataframe thead th {\n",
       "        text-align: right;\n",
       "    }\n",
       "</style>\n",
       "<table border=\"1\" class=\"dataframe\">\n",
       "  <thead>\n",
       "    <tr style=\"text-align: right;\">\n",
       "      <th></th>\n",
       "      <th>features</th>\n",
       "      <th>label</th>\n",
       "      <th>NAME_CONTRACT_TYPE</th>\n",
       "      <th>CODE_GENDER</th>\n",
       "      <th>FLAG_OWN_CAR</th>\n",
       "      <th>FLAG_OWN_REALTY</th>\n",
       "      <th>CNT_CHILDREN</th>\n",
       "      <th>AMT_INCOME_TOTAL</th>\n",
       "      <th>AMT_CREDIT</th>\n",
       "      <th>AMT_ANNUITY</th>\n",
       "      <th>AMT_GOODS_PRICE</th>\n",
       "      <th>NAME_TYPE_SUITE</th>\n",
       "      <th>NAME_INCOME_TYPE</th>\n",
       "      <th>NAME_EDUCATION_TYPE</th>\n",
       "      <th>NAME_FAMILY_STATUS</th>\n",
       "      <th>NAME_HOUSING_TYPE</th>\n",
       "      <th>REGION_POPULATION_RELATIVE</th>\n",
       "      <th>DAYS_BIRTH</th>\n",
       "      <th>DAYS_EMPLOYED</th>\n",
       "      <th>DAYS_REGISTRATION</th>\n",
       "      <th>DAYS_ID_PUBLISH</th>\n",
       "      <th>OWN_CAR_AGE</th>\n",
       "      <th>FLAG_MOBIL</th>\n",
       "      <th>FLAG_EMP_PHONE</th>\n",
       "      <th>FLAG_WORK_PHONE</th>\n",
       "      <th>FLAG_CONT_MOBILE</th>\n",
       "      <th>FLAG_PHONE</th>\n",
       "      <th>FLAG_EMAIL</th>\n",
       "      <th>OCCUPATION_TYPE</th>\n",
       "      <th>CNT_FAM_MEMBERS</th>\n",
       "      <th>REGION_RATING_CLIENT</th>\n",
       "      <th>REGION_RATING_CLIENT_W_CITY</th>\n",
       "      <th>WEEKDAY_APPR_PROCESS_START</th>\n",
       "      <th>HOUR_APPR_PROCESS_START</th>\n",
       "      <th>REG_REGION_NOT_LIVE_REGION</th>\n",
       "      <th>REG_REGION_NOT_WORK_REGION</th>\n",
       "      <th>LIVE_REGION_NOT_WORK_REGION</th>\n",
       "      <th>REG_CITY_NOT_LIVE_CITY</th>\n",
       "      <th>REG_CITY_NOT_WORK_CITY</th>\n",
       "      <th>LIVE_CITY_NOT_WORK_CITY</th>\n",
       "      <th>...</th>\n",
       "      <th>LIVINGAPARTMENTS_MEDI</th>\n",
       "      <th>LIVINGAREA_MEDI</th>\n",
       "      <th>NONLIVINGAPARTMENTS_MEDI</th>\n",
       "      <th>NONLIVINGAREA_MEDI</th>\n",
       "      <th>FONDKAPREMONT_MODE</th>\n",
       "      <th>HOUSETYPE_MODE</th>\n",
       "      <th>TOTALAREA_MODE</th>\n",
       "      <th>WALLSMATERIAL_MODE</th>\n",
       "      <th>EMERGENCYSTATE_MODE</th>\n",
       "      <th>OBS_30_CNT_SOCIAL_CIRCLE</th>\n",
       "      <th>DEF_30_CNT_SOCIAL_CIRCLE</th>\n",
       "      <th>OBS_60_CNT_SOCIAL_CIRCLE</th>\n",
       "      <th>DEF_60_CNT_SOCIAL_CIRCLE</th>\n",
       "      <th>DAYS_LAST_PHONE_CHANGE</th>\n",
       "      <th>FLAG_DOCUMENT_2</th>\n",
       "      <th>FLAG_DOCUMENT_3</th>\n",
       "      <th>FLAG_DOCUMENT_4</th>\n",
       "      <th>FLAG_DOCUMENT_5</th>\n",
       "      <th>FLAG_DOCUMENT_6</th>\n",
       "      <th>FLAG_DOCUMENT_7</th>\n",
       "      <th>FLAG_DOCUMENT_8</th>\n",
       "      <th>FLAG_DOCUMENT_9</th>\n",
       "      <th>FLAG_DOCUMENT_10</th>\n",
       "      <th>FLAG_DOCUMENT_11</th>\n",
       "      <th>FLAG_DOCUMENT_12</th>\n",
       "      <th>FLAG_DOCUMENT_13</th>\n",
       "      <th>FLAG_DOCUMENT_14</th>\n",
       "      <th>FLAG_DOCUMENT_15</th>\n",
       "      <th>FLAG_DOCUMENT_16</th>\n",
       "      <th>FLAG_DOCUMENT_17</th>\n",
       "      <th>FLAG_DOCUMENT_18</th>\n",
       "      <th>FLAG_DOCUMENT_19</th>\n",
       "      <th>FLAG_DOCUMENT_20</th>\n",
       "      <th>FLAG_DOCUMENT_21</th>\n",
       "      <th>AMT_REQ_CREDIT_BUREAU_HOUR</th>\n",
       "      <th>AMT_REQ_CREDIT_BUREAU_DAY</th>\n",
       "      <th>AMT_REQ_CREDIT_BUREAU_WEEK</th>\n",
       "      <th>AMT_REQ_CREDIT_BUREAU_MON</th>\n",
       "      <th>AMT_REQ_CREDIT_BUREAU_QRT</th>\n",
       "      <th>AMT_REQ_CREDIT_BUREAU_YEAR</th>\n",
       "    </tr>\n",
       "  </thead>\n",
       "  <tbody>\n",
       "    <tr>\n",
       "      <th>0</th>\n",
       "      <td>(1.0, 0.0, 1.0, 1.0, 1.0, 1.0, 0.0, 0.0, 0.0, ...</td>\n",
       "      <td>1</td>\n",
       "      <td>Cash loans</td>\n",
       "      <td>M</td>\n",
       "      <td>N</td>\n",
       "      <td>Y</td>\n",
       "      <td>0</td>\n",
       "      <td>202500</td>\n",
       "      <td>406597.5</td>\n",
       "      <td>24700.5</td>\n",
       "      <td>351000</td>\n",
       "      <td>Unaccompanied</td>\n",
       "      <td>Working</td>\n",
       "      <td>Secondary / secondary special</td>\n",
       "      <td>Single / not married</td>\n",
       "      <td>House / apartment</td>\n",
       "      <td>0.018801</td>\n",
       "      <td>-9461</td>\n",
       "      <td>-637</td>\n",
       "      <td>-3648</td>\n",
       "      <td>-2120</td>\n",
       "      <td>12</td>\n",
       "      <td>1</td>\n",
       "      <td>1</td>\n",
       "      <td>0</td>\n",
       "      <td>1</td>\n",
       "      <td>1</td>\n",
       "      <td>0</td>\n",
       "      <td>Laborers</td>\n",
       "      <td>1</td>\n",
       "      <td>2</td>\n",
       "      <td>2</td>\n",
       "      <td>WEDNESDAY</td>\n",
       "      <td>10</td>\n",
       "      <td>0</td>\n",
       "      <td>0</td>\n",
       "      <td>0</td>\n",
       "      <td>0</td>\n",
       "      <td>0</td>\n",
       "      <td>0</td>\n",
       "      <td>...</td>\n",
       "      <td>0.0205</td>\n",
       "      <td>0.0193</td>\n",
       "      <td>0.0000</td>\n",
       "      <td>0.00</td>\n",
       "      <td>reg oper account</td>\n",
       "      <td>block of flats</td>\n",
       "      <td>0.0149</td>\n",
       "      <td>Stone, brick</td>\n",
       "      <td>No</td>\n",
       "      <td>2</td>\n",
       "      <td>2</td>\n",
       "      <td>2</td>\n",
       "      <td>2</td>\n",
       "      <td>-1134</td>\n",
       "      <td>0</td>\n",
       "      <td>1</td>\n",
       "      <td>0</td>\n",
       "      <td>0</td>\n",
       "      <td>0</td>\n",
       "      <td>0</td>\n",
       "      <td>0</td>\n",
       "      <td>0</td>\n",
       "      <td>0</td>\n",
       "      <td>0</td>\n",
       "      <td>0</td>\n",
       "      <td>0</td>\n",
       "      <td>0</td>\n",
       "      <td>0</td>\n",
       "      <td>0</td>\n",
       "      <td>0</td>\n",
       "      <td>0</td>\n",
       "      <td>0</td>\n",
       "      <td>0</td>\n",
       "      <td>0</td>\n",
       "      <td>0</td>\n",
       "      <td>0</td>\n",
       "      <td>0</td>\n",
       "      <td>0</td>\n",
       "      <td>0</td>\n",
       "      <td>1</td>\n",
       "    </tr>\n",
       "    <tr>\n",
       "      <th>1</th>\n",
       "      <td>(1.0, 1.0, 0.0, 1.0, 0.0, 0.0, 1.0, 0.0, 0.0, ...</td>\n",
       "      <td>0</td>\n",
       "      <td>Cash loans</td>\n",
       "      <td>F</td>\n",
       "      <td>N</td>\n",
       "      <td>N</td>\n",
       "      <td>0</td>\n",
       "      <td>270000</td>\n",
       "      <td>1293502.5</td>\n",
       "      <td>35698.5</td>\n",
       "      <td>1129500</td>\n",
       "      <td>Family</td>\n",
       "      <td>State servant</td>\n",
       "      <td>Higher education</td>\n",
       "      <td>Married</td>\n",
       "      <td>House / apartment</td>\n",
       "      <td>0.003541</td>\n",
       "      <td>-16765</td>\n",
       "      <td>-1188</td>\n",
       "      <td>-1186</td>\n",
       "      <td>-291</td>\n",
       "      <td>12</td>\n",
       "      <td>1</td>\n",
       "      <td>1</td>\n",
       "      <td>0</td>\n",
       "      <td>1</td>\n",
       "      <td>1</td>\n",
       "      <td>0</td>\n",
       "      <td>Core staff</td>\n",
       "      <td>2</td>\n",
       "      <td>1</td>\n",
       "      <td>1</td>\n",
       "      <td>MONDAY</td>\n",
       "      <td>11</td>\n",
       "      <td>0</td>\n",
       "      <td>0</td>\n",
       "      <td>0</td>\n",
       "      <td>0</td>\n",
       "      <td>0</td>\n",
       "      <td>0</td>\n",
       "      <td>...</td>\n",
       "      <td>0.0787</td>\n",
       "      <td>0.0558</td>\n",
       "      <td>0.0039</td>\n",
       "      <td>0.01</td>\n",
       "      <td>reg oper account</td>\n",
       "      <td>block of flats</td>\n",
       "      <td>0.0714</td>\n",
       "      <td>Block</td>\n",
       "      <td>No</td>\n",
       "      <td>1</td>\n",
       "      <td>0</td>\n",
       "      <td>1</td>\n",
       "      <td>0</td>\n",
       "      <td>-828</td>\n",
       "      <td>0</td>\n",
       "      <td>1</td>\n",
       "      <td>0</td>\n",
       "      <td>0</td>\n",
       "      <td>0</td>\n",
       "      <td>0</td>\n",
       "      <td>0</td>\n",
       "      <td>0</td>\n",
       "      <td>0</td>\n",
       "      <td>0</td>\n",
       "      <td>0</td>\n",
       "      <td>0</td>\n",
       "      <td>0</td>\n",
       "      <td>0</td>\n",
       "      <td>0</td>\n",
       "      <td>0</td>\n",
       "      <td>0</td>\n",
       "      <td>0</td>\n",
       "      <td>0</td>\n",
       "      <td>0</td>\n",
       "      <td>0</td>\n",
       "      <td>0</td>\n",
       "      <td>0</td>\n",
       "      <td>0</td>\n",
       "      <td>0</td>\n",
       "      <td>0</td>\n",
       "    </tr>\n",
       "    <tr>\n",
       "      <th>2</th>\n",
       "      <td>(0.0, 0.0, 1.0, 0.0, 1.0, 1.0, 0.0, 0.0, 0.0, ...</td>\n",
       "      <td>0</td>\n",
       "      <td>Revolving loans</td>\n",
       "      <td>M</td>\n",
       "      <td>Y</td>\n",
       "      <td>Y</td>\n",
       "      <td>0</td>\n",
       "      <td>67500</td>\n",
       "      <td>135000.0</td>\n",
       "      <td>6750.0</td>\n",
       "      <td>135000</td>\n",
       "      <td>Unaccompanied</td>\n",
       "      <td>Working</td>\n",
       "      <td>Secondary / secondary special</td>\n",
       "      <td>Single / not married</td>\n",
       "      <td>House / apartment</td>\n",
       "      <td>0.010032</td>\n",
       "      <td>-19046</td>\n",
       "      <td>-225</td>\n",
       "      <td>-4260</td>\n",
       "      <td>-2531</td>\n",
       "      <td>26</td>\n",
       "      <td>1</td>\n",
       "      <td>1</td>\n",
       "      <td>1</td>\n",
       "      <td>1</td>\n",
       "      <td>1</td>\n",
       "      <td>0</td>\n",
       "      <td>Laborers</td>\n",
       "      <td>1</td>\n",
       "      <td>2</td>\n",
       "      <td>2</td>\n",
       "      <td>MONDAY</td>\n",
       "      <td>9</td>\n",
       "      <td>0</td>\n",
       "      <td>0</td>\n",
       "      <td>0</td>\n",
       "      <td>0</td>\n",
       "      <td>0</td>\n",
       "      <td>0</td>\n",
       "      <td>...</td>\n",
       "      <td>0.0000</td>\n",
       "      <td>0.0000</td>\n",
       "      <td>0.0000</td>\n",
       "      <td>0.00</td>\n",
       "      <td>reg oper account</td>\n",
       "      <td>block of flats</td>\n",
       "      <td>0.0000</td>\n",
       "      <td>Panel</td>\n",
       "      <td>No</td>\n",
       "      <td>0</td>\n",
       "      <td>0</td>\n",
       "      <td>0</td>\n",
       "      <td>0</td>\n",
       "      <td>-815</td>\n",
       "      <td>0</td>\n",
       "      <td>0</td>\n",
       "      <td>0</td>\n",
       "      <td>0</td>\n",
       "      <td>0</td>\n",
       "      <td>0</td>\n",
       "      <td>0</td>\n",
       "      <td>0</td>\n",
       "      <td>0</td>\n",
       "      <td>0</td>\n",
       "      <td>0</td>\n",
       "      <td>0</td>\n",
       "      <td>0</td>\n",
       "      <td>0</td>\n",
       "      <td>0</td>\n",
       "      <td>0</td>\n",
       "      <td>0</td>\n",
       "      <td>0</td>\n",
       "      <td>0</td>\n",
       "      <td>0</td>\n",
       "      <td>0</td>\n",
       "      <td>0</td>\n",
       "      <td>0</td>\n",
       "      <td>0</td>\n",
       "      <td>0</td>\n",
       "      <td>0</td>\n",
       "    </tr>\n",
       "    <tr>\n",
       "      <th>3</th>\n",
       "      <td>(1.0, 1.0, 0.0, 1.0, 1.0, 1.0, 0.0, 0.0, 0.0, ...</td>\n",
       "      <td>0</td>\n",
       "      <td>Cash loans</td>\n",
       "      <td>F</td>\n",
       "      <td>N</td>\n",
       "      <td>Y</td>\n",
       "      <td>0</td>\n",
       "      <td>135000</td>\n",
       "      <td>312682.5</td>\n",
       "      <td>29686.5</td>\n",
       "      <td>297000</td>\n",
       "      <td>Unaccompanied</td>\n",
       "      <td>Working</td>\n",
       "      <td>Secondary / secondary special</td>\n",
       "      <td>Civil marriage</td>\n",
       "      <td>House / apartment</td>\n",
       "      <td>0.008019</td>\n",
       "      <td>-19005</td>\n",
       "      <td>-3039</td>\n",
       "      <td>-9833</td>\n",
       "      <td>-2437</td>\n",
       "      <td>12</td>\n",
       "      <td>1</td>\n",
       "      <td>1</td>\n",
       "      <td>0</td>\n",
       "      <td>1</td>\n",
       "      <td>0</td>\n",
       "      <td>0</td>\n",
       "      <td>Laborers</td>\n",
       "      <td>2</td>\n",
       "      <td>2</td>\n",
       "      <td>2</td>\n",
       "      <td>WEDNESDAY</td>\n",
       "      <td>17</td>\n",
       "      <td>0</td>\n",
       "      <td>0</td>\n",
       "      <td>0</td>\n",
       "      <td>0</td>\n",
       "      <td>0</td>\n",
       "      <td>0</td>\n",
       "      <td>...</td>\n",
       "      <td>0.0000</td>\n",
       "      <td>0.0000</td>\n",
       "      <td>0.0000</td>\n",
       "      <td>0.00</td>\n",
       "      <td>reg oper account</td>\n",
       "      <td>block of flats</td>\n",
       "      <td>0.0000</td>\n",
       "      <td>Panel</td>\n",
       "      <td>No</td>\n",
       "      <td>2</td>\n",
       "      <td>0</td>\n",
       "      <td>2</td>\n",
       "      <td>0</td>\n",
       "      <td>-617</td>\n",
       "      <td>0</td>\n",
       "      <td>1</td>\n",
       "      <td>0</td>\n",
       "      <td>0</td>\n",
       "      <td>0</td>\n",
       "      <td>0</td>\n",
       "      <td>0</td>\n",
       "      <td>0</td>\n",
       "      <td>0</td>\n",
       "      <td>0</td>\n",
       "      <td>0</td>\n",
       "      <td>0</td>\n",
       "      <td>0</td>\n",
       "      <td>0</td>\n",
       "      <td>0</td>\n",
       "      <td>0</td>\n",
       "      <td>0</td>\n",
       "      <td>0</td>\n",
       "      <td>0</td>\n",
       "      <td>0</td>\n",
       "      <td>0</td>\n",
       "      <td>0</td>\n",
       "      <td>0</td>\n",
       "      <td>0</td>\n",
       "      <td>0</td>\n",
       "      <td>2</td>\n",
       "    </tr>\n",
       "    <tr>\n",
       "      <th>4</th>\n",
       "      <td>(1.0, 0.0, 1.0, 1.0, 1.0, 1.0, 0.0, 0.0, 0.0, ...</td>\n",
       "      <td>0</td>\n",
       "      <td>Cash loans</td>\n",
       "      <td>M</td>\n",
       "      <td>N</td>\n",
       "      <td>Y</td>\n",
       "      <td>0</td>\n",
       "      <td>121500</td>\n",
       "      <td>513000.0</td>\n",
       "      <td>21865.5</td>\n",
       "      <td>513000</td>\n",
       "      <td>Unaccompanied</td>\n",
       "      <td>Working</td>\n",
       "      <td>Secondary / secondary special</td>\n",
       "      <td>Single / not married</td>\n",
       "      <td>House / apartment</td>\n",
       "      <td>0.028663</td>\n",
       "      <td>-19932</td>\n",
       "      <td>-3038</td>\n",
       "      <td>-4311</td>\n",
       "      <td>-3458</td>\n",
       "      <td>12</td>\n",
       "      <td>1</td>\n",
       "      <td>1</td>\n",
       "      <td>0</td>\n",
       "      <td>1</td>\n",
       "      <td>0</td>\n",
       "      <td>0</td>\n",
       "      <td>Core staff</td>\n",
       "      <td>1</td>\n",
       "      <td>2</td>\n",
       "      <td>2</td>\n",
       "      <td>THURSDAY</td>\n",
       "      <td>11</td>\n",
       "      <td>0</td>\n",
       "      <td>0</td>\n",
       "      <td>0</td>\n",
       "      <td>0</td>\n",
       "      <td>1</td>\n",
       "      <td>1</td>\n",
       "      <td>...</td>\n",
       "      <td>0.0000</td>\n",
       "      <td>0.0000</td>\n",
       "      <td>0.0000</td>\n",
       "      <td>0.00</td>\n",
       "      <td>reg oper account</td>\n",
       "      <td>block of flats</td>\n",
       "      <td>0.0000</td>\n",
       "      <td>Panel</td>\n",
       "      <td>No</td>\n",
       "      <td>0</td>\n",
       "      <td>0</td>\n",
       "      <td>0</td>\n",
       "      <td>0</td>\n",
       "      <td>-1106</td>\n",
       "      <td>0</td>\n",
       "      <td>0</td>\n",
       "      <td>0</td>\n",
       "      <td>0</td>\n",
       "      <td>0</td>\n",
       "      <td>0</td>\n",
       "      <td>1</td>\n",
       "      <td>0</td>\n",
       "      <td>0</td>\n",
       "      <td>0</td>\n",
       "      <td>0</td>\n",
       "      <td>0</td>\n",
       "      <td>0</td>\n",
       "      <td>0</td>\n",
       "      <td>0</td>\n",
       "      <td>0</td>\n",
       "      <td>0</td>\n",
       "      <td>0</td>\n",
       "      <td>0</td>\n",
       "      <td>0</td>\n",
       "      <td>0</td>\n",
       "      <td>0</td>\n",
       "      <td>0</td>\n",
       "      <td>0</td>\n",
       "      <td>0</td>\n",
       "      <td>0</td>\n",
       "    </tr>\n",
       "  </tbody>\n",
       "</table>\n",
       "<p>5 rows × 122 columns</p>\n",
       "</div>"
      ],
      "text/plain": [
       "                                            features  ...  AMT_REQ_CREDIT_BUREAU_YEAR\n",
       "0  (1.0, 0.0, 1.0, 1.0, 1.0, 1.0, 0.0, 0.0, 0.0, ...  ...                           1\n",
       "1  (1.0, 1.0, 0.0, 1.0, 0.0, 0.0, 1.0, 0.0, 0.0, ...  ...                           0\n",
       "2  (0.0, 0.0, 1.0, 0.0, 1.0, 1.0, 0.0, 0.0, 0.0, ...  ...                           0\n",
       "3  (1.0, 1.0, 0.0, 1.0, 1.0, 1.0, 0.0, 0.0, 0.0, ...  ...                           2\n",
       "4  (1.0, 0.0, 1.0, 1.0, 1.0, 1.0, 0.0, 0.0, 0.0, ...  ...                           0\n",
       "\n",
       "[5 rows x 122 columns]"
      ]
     },
     "execution_count": 35,
     "metadata": {
      "tags": []
     },
     "output_type": "execute_result"
    }
   ],
   "source": [
    "cols = new_df.columns\n",
    "pipeline = Pipeline(stages = stages)\n",
    "pipelineModel = pipeline.fit(new_df)\n",
    "new_df = pipelineModel.transform(new_df)\n",
    "\n",
    "selectedCols = ['features']+cols\n",
    "new_df = new_df.select(selectedCols)\n",
    "pd.DataFrame(new_df.take(5), columns=new_df.columns)\n"
   ]
  },
  {
   "cell_type": "code",
   "execution_count": null,
   "metadata": {
    "colab": {},
    "colab_type": "code",
    "id": "KrOtN-WuflGA"
   },
   "outputs": [],
   "source": []
  },
  {
   "cell_type": "markdown",
   "metadata": {
    "colab_type": "text",
    "id": "q86qVgr6hx3_"
   },
   "source": [
    "## Dividing Dataset"
   ]
  },
  {
   "cell_type": "code",
   "execution_count": 36,
   "metadata": {
    "colab": {
     "base_uri": "https://localhost:8080/",
     "height": 52
    },
    "colab_type": "code",
    "id": "AHfstWaZflNq",
    "outputId": "e1aa7c14-62dc-462b-ddae-414b1bcf1d2c"
   },
   "outputs": [
    {
     "name": "stdout",
     "output_type": "stream",
     "text": [
      "245965\n",
      "61546\n"
     ]
    }
   ],
   "source": [
    "train, test = new_df.randomSplit([0.80, 0.20], seed = 42)\n",
    "print(train.count())\n",
    "print(test.count())"
   ]
  },
  {
   "cell_type": "code",
   "execution_count": null,
   "metadata": {
    "colab": {},
    "colab_type": "code",
    "id": "T2phEGx0flMJ"
   },
   "outputs": [],
   "source": []
  },
  {
   "cell_type": "markdown",
   "metadata": {
    "colab_type": "text",
    "id": "jwFK73GcibKC"
   },
   "source": [
    "## Model"
   ]
  },
  {
   "cell_type": "code",
   "execution_count": 37,
   "metadata": {
    "colab": {},
    "colab_type": "code",
    "id": "-7OCqlhVflKB"
   },
   "outputs": [],
   "source": [
    "LR = LogisticRegression(featuresCol = 'features', labelCol = 'label', maxIter=15)\n",
    "LR_model = LR.fit(train)"
   ]
  },
  {
   "cell_type": "code",
   "execution_count": 38,
   "metadata": {
    "colab": {
     "base_uri": "https://localhost:8080/",
     "height": 34
    },
    "colab_type": "code",
    "id": "eaEiNQt9idzA",
    "outputId": "f131aeaa-5dd4-4796-87f8-5cdd157a7244"
   },
   "outputs": [
    {
     "data": {
      "text/plain": [
       "<pyspark.ml.classification.BinaryLogisticRegressionTrainingSummary at 0x7fd6c60b1320>"
      ]
     },
     "execution_count": 38,
     "metadata": {
      "tags": []
     },
     "output_type": "execute_result"
    }
   ],
   "source": [
    "trainingSummary = LR_model.summary\n",
    "trainingSummary"
   ]
  },
  {
   "cell_type": "code",
   "execution_count": null,
   "metadata": {
    "colab": {},
    "colab_type": "code",
    "id": "KynW58qYVfTE"
   },
   "outputs": [],
   "source": []
  },
  {
   "cell_type": "markdown",
   "metadata": {
    "colab_type": "text",
    "id": "4tDzeWnSiyOl"
   },
   "source": [
    "## plotting the ROC Curve"
   ]
  },
  {
   "cell_type": "code",
   "execution_count": 40,
   "metadata": {
    "colab": {
     "base_uri": "https://localhost:8080/",
     "height": 312
    },
    "colab_type": "code",
    "id": "9uLon1chid9T",
    "outputId": "43648582-4891-43f4-9045-a002ae80b101"
   },
   "outputs": [
    {
     "data": {
      "image/png": "[encoded data removed]",
      "text/plain": [
       "<Figure size 432x288 with 1 Axes>"
      ]
     },
     "metadata": {
      "needs_background": "light",
      "tags": []
     },
     "output_type": "display_data"
    },
    {
     "name": "stdout",
     "output_type": "stream",
     "text": [
      "Training set ROC: 0.7144445038950614\n"
     ]
    }
   ],
   "source": [
    "roc = trainingSummary.roc.toPandas()\n",
    "plt.plot(roc['FPR'],roc['TPR'])\n",
    "plt.ylabel('False Positive Rate')\n",
    "plt.xlabel('True Positive Rate')\n",
    "plt.title('ROC Curve')\n",
    "plt.show()\n",
    "\n",
    "print('Training set ROC: ' + str(trainingSummary.areaUnderROC))\n"
   ]
  },
  {
   "cell_type": "code",
   "execution_count": null,
   "metadata": {
    "colab": {},
    "colab_type": "code",
    "id": "05SIrZ9Bid7J"
   },
   "outputs": [],
   "source": []
  },
  {
   "cell_type": "markdown",
   "metadata": {
    "colab_type": "text",
    "id": "s08ns9L2jN-j"
   },
   "source": [
    "## checking model’s performance on the testing set:"
   ]
  },
  {
   "cell_type": "code",
   "execution_count": 41,
   "metadata": {
    "colab": {
     "base_uri": "https://localhost:8080/",
     "height": 34
    },
    "colab_type": "code",
    "id": "QpM5Ktcjid5T",
    "outputId": "0b5ed42b-502d-4c9e-da7d-abc1aa707b87"
   },
   "outputs": [
    {
     "name": "stdout",
     "output_type": "stream",
     "text": [
      "Test_SET (Area Under ROC): 0.7237657554381305\n"
     ]
    }
   ],
   "source": [
    "predictions_LR = LR_model.transform(test)\n",
    "evaluator = BinaryClassificationEvaluator()\n",
    "print(\"Test_SET (Area Under ROC): \" + str(evaluator.evaluate(predictions_LR, {evaluator.metricName: \"areaUnderROC\"})))\n"
   ]
  },
  {
   "cell_type": "code",
   "execution_count": null,
   "metadata": {
    "colab": {},
    "colab_type": "code",
    "id": "vID8awXjid3a"
   },
   "outputs": [],
   "source": []
  },
  {
   "cell_type": "code",
   "execution_count": null,
   "metadata": {
    "colab": {},
    "colab_type": "code",
    "id": "8ON4e2f2exv2"
   },
   "outputs": [],
   "source": []
  },
  {
   "cell_type": "code",
   "execution_count": null,
   "metadata": {
    "colab": {},
    "colab_type": "code",
    "id": "NXACuM7lex1e"
   },
   "outputs": [],
   "source": []
  },
  {
   "cell_type": "markdown",
   "metadata": {
    "colab_type": "text",
    "id": "A3HoyNdVV_lV"
   },
   "source": [
    "## Training with Gradient Boosting Trees"
   ]
  },
  {
   "cell_type": "markdown",
   "metadata": {
    "colab_type": "text",
    "id": "YOpK40IRWVax"
   },
   "source": [
    "#### Model"
   ]
  },
  {
   "cell_type": "code",
   "execution_count": 43,
   "metadata": {
    "colab": {},
    "colab_type": "code",
    "id": "GlTPtxLDWGvK"
   },
   "outputs": [],
   "source": [
    "gbt = GBTClassifier(maxIter=15)\n",
    "GBT_Model = gbt.fit(train)\n"
   ]
  },
  {
   "cell_type": "code",
   "execution_count": null,
   "metadata": {
    "colab": {},
    "colab_type": "code",
    "id": "8GFXXUmZWG2n"
   },
   "outputs": [],
   "source": []
  },
  {
   "cell_type": "markdown",
   "metadata": {
    "colab_type": "text",
    "id": "JPynI94cXY9v"
   },
   "source": [
    "#### checking model’s performance on the testing set:"
   ]
  },
  {
   "cell_type": "code",
   "execution_count": 45,
   "metadata": {
    "colab": {
     "base_uri": "https://localhost:8080/",
     "height": 34
    },
    "colab_type": "code",
    "id": "NqxjrArwW12i",
    "outputId": "0797431a-0293-4796-b2ac-8496ef36d3ca"
   },
   "outputs": [
    {
     "name": "stdout",
     "output_type": "stream",
     "text": [
      "Test_SET (Area Under ROC): 0.7384162452581505\n"
     ]
    }
   ],
   "source": [
    "gbt_predictions = GBT_Model.transform(test)\n",
    "evaluator = BinaryClassificationEvaluator()\n",
    "print(\"Test_SET (Area Under ROC): \" + str(evaluator.evaluate(gbt_predictions, {evaluator.metricName: \"areaUnderROC\"})))\n"
   ]
  },
  {
   "cell_type": "code",
   "execution_count": null,
   "metadata": {
    "colab": {},
    "colab_type": "code",
    "id": "zhT8SmRmW181"
   },
   "outputs": [],
   "source": []
  },
  {
   "cell_type": "markdown",
   "metadata": {
    "colab_type": "text",
    "id": "EdudkhUEX-9g"
   },
   "source": [
    "#### Hyperparameter Tuning"
   ]
  },
  {
   "cell_type": "code",
   "execution_count": 48,
   "metadata": {
    "colab": {},
    "colab_type": "code",
    "id": "NRJk4br1W16w"
   },
   "outputs": [],
   "source": [
    "paramGrid = (ParamGridBuilder()\n",
    "             .addGrid(gbt.maxDepth, [2, 4, 6])\n",
    "             .addGrid(gbt.maxBins, [20, 30])\n",
    "             .addGrid(gbt.maxIter, [10, 15])\n",
    "             .build())\n"
   ]
  },
  {
   "cell_type": "code",
   "execution_count": 49,
   "metadata": {
    "colab": {},
    "colab_type": "code",
    "id": "RNmVCiz2YDCk"
   },
   "outputs": [],
   "source": [
    "cv = CrossValidator(estimator=gbt, estimatorParamMaps=paramGrid, evaluator=evaluator, numFolds=5)"
   ]
  },
  {
   "cell_type": "code",
   "execution_count": 50,
   "metadata": {
    "colab": {
     "base_uri": "https://localhost:8080/",
     "height": 34
    },
    "colab_type": "code",
    "id": "0mwX5EmiYDHx",
    "outputId": "b6f00eb4-8152-4d34-c528-a24faf368f5b"
   },
   "outputs": [
    {
     "data": {
      "text/plain": [
       "0.7421587092788171"
      ]
     },
     "execution_count": 50,
     "metadata": {
      "tags": []
     },
     "output_type": "execute_result"
    }
   ],
   "source": [
    "cvModel = cv.fit(train)\n",
    "gbt_cv_predictions = cvModel.transform(test)\n",
    "evaluator.evaluate(gbt_cv_predictions)\n"
   ]
  },
  {
   "cell_type": "code",
   "execution_count": null,
   "metadata": {
    "colab": {},
    "colab_type": "code",
    "id": "tNTnAdfQZN6F"
   },
   "outputs": [],
   "source": []
  },
  {
   "cell_type": "code",
   "execution_count": null,
   "metadata": {
    "colab": {},
    "colab_type": "code",
    "id": "GQ5ZnQZZZN-X"
   },
   "outputs": [],
   "source": []
  }
 ],
 "metadata": {
  "accelerator": "GPU",
  "colab": {
   "collapsed_sections": [],
   "name": "Home Credit Default Risk.ipynb",
   "provenance": [],
   "toc_visible": true
  },
  "kernelspec": {
   "display_name": "Python 3",
   "language": "python",
   "name": "python3"
  },
  "language_info": {
   "codemirror_mode": {
    "name": "ipython",
    "version": 3
   },
   "file_extension": ".py",
   "mimetype": "text/x-python",
   "name": "python",
   "nbconvert_exporter": "python",
   "pygments_lexer": "ipython3",
   "version": "3.7.4"
  }
 },
 "nbformat": 4,
 "nbformat_minor": 1
}
