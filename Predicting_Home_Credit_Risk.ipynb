{
  "nbformat": 4,
  "nbformat_minor": 0,
  "metadata": {
    "colab": {
      "name": "Predicting Home Credit Risk.ipynb",
      "provenance": [],
      "collapsed_sections": [],
      "toc_visible": true
    },
    "kernelspec": {
      "name": "python3",
      "display_name": "Python 3"
    },
    "accelerator": "GPU"
  },
  "cells": [
    {
      "cell_type": "code",
      "metadata": {
        "id": "PZ9Lbq3mmGbv",
        "colab_type": "code",
        "colab": {
          "resources": {
            "http://localhost:8080/nbextensions/google.colab/files.js": {
              "data": "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",
              "ok": true,
              "headers": [
                [
                  "content-type",
                  "application/javascript"
                ]
              ],
              "status": 200,
              "status_text": "OK"
            }
          },
          "base_uri": "https://localhost:8080/",
          "height": 98
        },
        "outputId": "9218ffd7-76cb-48f1-e3e5-1aff812a6dce"
      },
      "source": [
        "from google.colab import files\n",
        "files.upload()"
      ],
      "execution_count": 1,
      "outputs": [
        {
          "output_type": "display_data",
          "data": {
            "text/html": [
              "\n",
              "     <input type=\"file\" id=\"files-dc0a3f50-b355-4fba-b3da-d7c7a9aa54d4\" name=\"files[]\" multiple disabled\n",
              "        style=\"border:none\" />\n",
              "     <output id=\"result-dc0a3f50-b355-4fba-b3da-d7c7a9aa54d4\">\n",
              "      Upload widget is only available when the cell has been executed in the\n",
              "      current browser session. Please rerun this cell to enable.\n",
              "      </output>\n",
              "      <script src=\"/nbextensions/google.colab/files.js\"></script> "
            ],
            "text/plain": [
              "<IPython.core.display.HTML object>"
            ]
          },
          "metadata": {
            "tags": []
          }
        },
        {
          "output_type": "stream",
          "text": [
            "Saving kaggle.json to kaggle.json\n"
          ],
          "name": "stdout"
        },
        {
          "output_type": "execute_result",
          "data": {
            "text/plain": [
              "{'kaggle.json': b'{\"username\":\"hasanmoni\",\"key\":\"f5fa3f523180cab359233a5780583cc7\"}'}"
            ]
          },
          "metadata": {
            "tags": []
          },
          "execution_count": 1
        }
      ]
    },
    {
      "cell_type": "code",
      "metadata": {
        "id": "yxunZSWrmhze",
        "colab_type": "code",
        "colab": {
          "base_uri": "https://localhost:8080/",
          "height": 34
        },
        "outputId": "12e38b11-101f-4c60-818f-15d4631594dd"
      },
      "source": [
        "!pip install -q kaggle\n",
        "!mkdir -p ~/.kaggle\n",
        "!cp kaggle.json ~/.kaggle/\n",
        "!ls ~/.kaggle\n",
        "!chmod 600 /root/.kaggle/kaggle.json  # set permission"
      ],
      "execution_count": 2,
      "outputs": [
        {
          "output_type": "stream",
          "text": [
            "kaggle.json\n"
          ],
          "name": "stdout"
        }
      ]
    },
    {
      "cell_type": "code",
      "metadata": {
        "id": "caTQ1W39mh4l",
        "colab_type": "code",
        "colab": {}
      },
      "source": [
        "!apt-get install openjdk-8-jdk-headless -qq > /dev/null\n",
        "!wget -q http://apache.osuosl.org/spark/spark-3.0.0/spark-3.0.0-bin-hadoop2.7.tgz\n",
        "!tar xf spark-3.0.0-bin-hadoop2.7.tgz\n",
        "!pip install -q findspark\n"
      ],
      "execution_count": 3,
      "outputs": []
    },
    {
      "cell_type": "code",
      "metadata": {
        "id": "RXwiHqpHm6v4",
        "colab_type": "code",
        "colab": {}
      },
      "source": [
        "import os\n",
        "os.environ[\"JAVA_HOME\"] = \"/usr/lib/jvm/java-8-openjdk-amd64\"\n",
        "os.environ[\"SPARK_HOME\"] = \"/content/spark-3.0.0-bin-hadoop2.7\"\n"
      ],
      "execution_count": 4,
      "outputs": []
    },
    {
      "cell_type": "code",
      "metadata": {
        "id": "f5vYI-JXm6zt",
        "colab_type": "code",
        "colab": {}
      },
      "source": [
        ""
      ],
      "execution_count": null,
      "outputs": []
    },
    {
      "cell_type": "markdown",
      "metadata": {
        "id": "bKZezEsgnDVD",
        "colab_type": "text"
      },
      "source": [
        "##### I Completed this project on Google Colaboratory. For this I written some code in upper cell to access google colaboratory. If you run this code on your local machine you don't need upper cells!¶"
      ]
    },
    {
      "cell_type": "code",
      "metadata": {
        "id": "gBWpZKBDnCK7",
        "colab_type": "code",
        "colab": {}
      },
      "source": [
        ""
      ],
      "execution_count": null,
      "outputs": []
    },
    {
      "cell_type": "markdown",
      "metadata": {
        "id": "-cLnlKL4nLm6",
        "colab_type": "text"
      },
      "source": [
        "### Pyspark Initialising"
      ]
    },
    {
      "cell_type": "code",
      "metadata": {
        "id": "EuQU0EqMmh2v",
        "colab_type": "code",
        "colab": {}
      },
      "source": [
        "import findspark\n",
        "findspark.init()\n",
        "\n",
        "import pyspark\n",
        "from pyspark import SparkContext\n",
        "sc = SparkContext.getOrCreate()\n",
        "\n",
        "#initializasing SparkSession for creating Spark DataFrame\n",
        "from pyspark.sql import SparkSession\n",
        "spark = SparkSession.builder.getOrCreate()\n"
      ],
      "execution_count": 5,
      "outputs": []
    },
    {
      "cell_type": "markdown",
      "metadata": {
        "id": "HN4HkziJnQAW",
        "colab_type": "text"
      },
      "source": [
        "### Load Libraries"
      ]
    },
    {
      "cell_type": "code",
      "metadata": {
        "id": "vOKfZPvrmA0Y",
        "colab_type": "code",
        "colab": {}
      },
      "source": [
        "import numpy as np\n",
        "import pandas as pd\n",
        "import matplotlib.pyplot as plt\n",
        "import seaborn as sns\n",
        "%matplotlib inline\n",
        "\n",
        "\n",
        "from pyspark.sql import SparkSession\n",
        "from pyspark.sql.functions import col, sum\n",
        "from pyspark.sql.types import DoubleType, IntegerType\n",
        "from pyspark.sql.functions import isnan, when, count, col\n",
        "from pyspark.sql.functions import rank, sum, col\n",
        "from pyspark.sql.functions import mean, round\n",
        "from pyspark.sql import Window\n",
        " \n",
        "from sklearn.metrics import roc_curve, auc, log_loss\n",
        "from pyspark.ml.feature import OneHotEncoder, StringIndexer, VectorAssembler\n",
        "from pyspark.ml import Pipeline\n",
        "from pyspark.ml.evaluation import BinaryClassificationEvaluator\n",
        "from pyspark.ml.tuning import ParamGridBuilder, CrossValidator\n",
        "from pyspark.ml.classification import LogisticRegression\n",
        "from pyspark.ml.classification import GBTClassifier\n",
        "from pyspark.ml.evaluation import BinaryClassificationEvaluator, MulticlassClassificationEvaluator\n",
        "from pyspark.mllib.evaluation import BinaryClassificationMetrics\n",
        "\n",
        "window = Window.rowsBetween(Window.unboundedPreceding,Window.unboundedFollowing)"
      ],
      "execution_count": 76,
      "outputs": []
    },
    {
      "cell_type": "code",
      "metadata": {
        "id": "NyOUiFwTmGed",
        "colab_type": "code",
        "colab": {}
      },
      "source": [
        ""
      ],
      "execution_count": null,
      "outputs": []
    },
    {
      "cell_type": "markdown",
      "metadata": {
        "id": "JIE9aebfnZ1i",
        "colab_type": "text"
      },
      "source": [
        "### Reading Dataset"
      ]
    },
    {
      "cell_type": "code",
      "metadata": {
        "id": "jBiqem_lmGhQ",
        "colab_type": "code",
        "colab": {}
      },
      "source": [
        "file_type = 'text'\n",
        "path=r'/content/drive/My Drive/AAA/application_train.csv'\n",
        "delimeter=','"
      ],
      "execution_count": 7,
      "outputs": []
    },
    {
      "cell_type": "code",
      "metadata": {
        "id": "CdVUs8DomGl4",
        "colab_type": "code",
        "colab": {}
      },
      "source": [
        "def load_data(file_type):\n",
        "    \"\"\"input type of file \"text\" or \"parquet\" and Return pyspark dataframe\"\"\"\n",
        "    if file_type ==\"text\": # use text as file type input\n",
        "        df = spark.read.option(\"header\", \"true\") \\\n",
        "                       .option(\"delimeter\",delimeter)\\\n",
        "                       .option(\"inferSchema\", \"true\") \\\n",
        "                       .csv(path)  #path file that you want import\n",
        "    else:  \n",
        "        df= spark.read.parquet(\"example.parquet\") #path file that you want import\n",
        "    return df"
      ],
      "execution_count": 8,
      "outputs": []
    },
    {
      "cell_type": "code",
      "metadata": {
        "id": "ymBRTyVUmGoy",
        "colab_type": "code",
        "colab": {}
      },
      "source": [
        "df = load_data(file_type)\n"
      ],
      "execution_count": 9,
      "outputs": []
    },
    {
      "cell_type": "code",
      "metadata": {
        "id": "Lic1yFxJmGrK",
        "colab_type": "code",
        "colab": {}
      },
      "source": [
        ""
      ],
      "execution_count": null,
      "outputs": []
    },
    {
      "cell_type": "markdown",
      "metadata": {
        "id": "1N_EC25hnuqz",
        "colab_type": "text"
      },
      "source": [
        "### Initializing Dataset"
      ]
    },
    {
      "cell_type": "code",
      "metadata": {
        "id": "fIDkLZ-RmGt8",
        "colab_type": "code",
        "colab": {
          "base_uri": "https://localhost:8080/",
          "height": 228
        },
        "outputId": "26f78aee-9110-4d56-c7fc-5d8404b8bff5"
      },
      "source": [
        "df.show(5)\n"
      ],
      "execution_count": 10,
      "outputs": [
        {
          "output_type": "stream",
          "text": [
            "+----------+------+------------------+-----------+------------+---------------+------------+----------------+----------+-----------+---------------+---------------+----------------+--------------------+--------------------+-----------------+--------------------------+----------+-------------+-----------------+---------------+-----------+----------+--------------+---------------+----------------+----------+----------+---------------+---------------+--------------------+---------------------------+--------------------------+-----------------------+--------------------------+--------------------------+---------------------------+----------------------+----------------------+-----------------------+--------------------+-----------------+-----------------+-----------------+--------------+----------------+---------------------------+---------------+--------------+-------------+-------------+-------------+-------------+------------+--------------------+--------------+-----------------------+-----------------+---------------+-----------------+----------------------------+----------------+---------------+--------------+--------------+--------------+--------------+-------------+---------------------+---------------+------------------------+------------------+---------------+-----------------+----------------------------+----------------+---------------+--------------+--------------+--------------+--------------+-------------+---------------------+---------------+------------------------+------------------+------------------+--------------+--------------+------------------+-------------------+------------------------+------------------------+------------------------+------------------------+----------------------+---------------+---------------+---------------+---------------+---------------+---------------+---------------+---------------+----------------+----------------+----------------+----------------+----------------+----------------+----------------+----------------+----------------+----------------+----------------+----------------+--------------------------+-------------------------+--------------------------+-------------------------+-------------------------+--------------------------+\n",
            "|SK_ID_CURR|TARGET|NAME_CONTRACT_TYPE|CODE_GENDER|FLAG_OWN_CAR|FLAG_OWN_REALTY|CNT_CHILDREN|AMT_INCOME_TOTAL|AMT_CREDIT|AMT_ANNUITY|AMT_GOODS_PRICE|NAME_TYPE_SUITE|NAME_INCOME_TYPE| NAME_EDUCATION_TYPE|  NAME_FAMILY_STATUS|NAME_HOUSING_TYPE|REGION_POPULATION_RELATIVE|DAYS_BIRTH|DAYS_EMPLOYED|DAYS_REGISTRATION|DAYS_ID_PUBLISH|OWN_CAR_AGE|FLAG_MOBIL|FLAG_EMP_PHONE|FLAG_WORK_PHONE|FLAG_CONT_MOBILE|FLAG_PHONE|FLAG_EMAIL|OCCUPATION_TYPE|CNT_FAM_MEMBERS|REGION_RATING_CLIENT|REGION_RATING_CLIENT_W_CITY|WEEKDAY_APPR_PROCESS_START|HOUR_APPR_PROCESS_START|REG_REGION_NOT_LIVE_REGION|REG_REGION_NOT_WORK_REGION|LIVE_REGION_NOT_WORK_REGION|REG_CITY_NOT_LIVE_CITY|REG_CITY_NOT_WORK_CITY|LIVE_CITY_NOT_WORK_CITY|   ORGANIZATION_TYPE|     EXT_SOURCE_1|     EXT_SOURCE_2|     EXT_SOURCE_3|APARTMENTS_AVG|BASEMENTAREA_AVG|YEARS_BEGINEXPLUATATION_AVG|YEARS_BUILD_AVG|COMMONAREA_AVG|ELEVATORS_AVG|ENTRANCES_AVG|FLOORSMAX_AVG|FLOORSMIN_AVG|LANDAREA_AVG|LIVINGAPARTMENTS_AVG|LIVINGAREA_AVG|NONLIVINGAPARTMENTS_AVG|NONLIVINGAREA_AVG|APARTMENTS_MODE|BASEMENTAREA_MODE|YEARS_BEGINEXPLUATATION_MODE|YEARS_BUILD_MODE|COMMONAREA_MODE|ELEVATORS_MODE|ENTRANCES_MODE|FLOORSMAX_MODE|FLOORSMIN_MODE|LANDAREA_MODE|LIVINGAPARTMENTS_MODE|LIVINGAREA_MODE|NONLIVINGAPARTMENTS_MODE|NONLIVINGAREA_MODE|APARTMENTS_MEDI|BASEMENTAREA_MEDI|YEARS_BEGINEXPLUATATION_MEDI|YEARS_BUILD_MEDI|COMMONAREA_MEDI|ELEVATORS_MEDI|ENTRANCES_MEDI|FLOORSMAX_MEDI|FLOORSMIN_MEDI|LANDAREA_MEDI|LIVINGAPARTMENTS_MEDI|LIVINGAREA_MEDI|NONLIVINGAPARTMENTS_MEDI|NONLIVINGAREA_MEDI|FONDKAPREMONT_MODE|HOUSETYPE_MODE|TOTALAREA_MODE|WALLSMATERIAL_MODE|EMERGENCYSTATE_MODE|OBS_30_CNT_SOCIAL_CIRCLE|DEF_30_CNT_SOCIAL_CIRCLE|OBS_60_CNT_SOCIAL_CIRCLE|DEF_60_CNT_SOCIAL_CIRCLE|DAYS_LAST_PHONE_CHANGE|FLAG_DOCUMENT_2|FLAG_DOCUMENT_3|FLAG_DOCUMENT_4|FLAG_DOCUMENT_5|FLAG_DOCUMENT_6|FLAG_DOCUMENT_7|FLAG_DOCUMENT_8|FLAG_DOCUMENT_9|FLAG_DOCUMENT_10|FLAG_DOCUMENT_11|FLAG_DOCUMENT_12|FLAG_DOCUMENT_13|FLAG_DOCUMENT_14|FLAG_DOCUMENT_15|FLAG_DOCUMENT_16|FLAG_DOCUMENT_17|FLAG_DOCUMENT_18|FLAG_DOCUMENT_19|FLAG_DOCUMENT_20|FLAG_DOCUMENT_21|AMT_REQ_CREDIT_BUREAU_HOUR|AMT_REQ_CREDIT_BUREAU_DAY|AMT_REQ_CREDIT_BUREAU_WEEK|AMT_REQ_CREDIT_BUREAU_MON|AMT_REQ_CREDIT_BUREAU_QRT|AMT_REQ_CREDIT_BUREAU_YEAR|\n",
            "+----------+------+------------------+-----------+------------+---------------+------------+----------------+----------+-----------+---------------+---------------+----------------+--------------------+--------------------+-----------------+--------------------------+----------+-------------+-----------------+---------------+-----------+----------+--------------+---------------+----------------+----------+----------+---------------+---------------+--------------------+---------------------------+--------------------------+-----------------------+--------------------------+--------------------------+---------------------------+----------------------+----------------------+-----------------------+--------------------+-----------------+-----------------+-----------------+--------------+----------------+---------------------------+---------------+--------------+-------------+-------------+-------------+-------------+------------+--------------------+--------------+-----------------------+-----------------+---------------+-----------------+----------------------------+----------------+---------------+--------------+--------------+--------------+--------------+-------------+---------------------+---------------+------------------------+------------------+---------------+-----------------+----------------------------+----------------+---------------+--------------+--------------+--------------+--------------+-------------+---------------------+---------------+------------------------+------------------+------------------+--------------+--------------+------------------+-------------------+------------------------+------------------------+------------------------+------------------------+----------------------+---------------+---------------+---------------+---------------+---------------+---------------+---------------+---------------+----------------+----------------+----------------+----------------+----------------+----------------+----------------+----------------+----------------+----------------+----------------+----------------+--------------------------+-------------------------+--------------------------+-------------------------+-------------------------+--------------------------+\n",
            "|    100002|     1|        Cash loans|          M|           N|              Y|           0|        202500.0|  406597.5|    24700.5|       351000.0|  Unaccompanied|         Working|Secondary / secon...|Single / not married|House / apartment|                  0.018801|     -9461|         -637|          -3648.0|          -2120|       null|         1|             1|              0|               1|         1|         0|       Laborers|              1|                   2|                          2|                 WEDNESDAY|                     10|                         0|                         0|                          0|                     0|                     0|                      0|Business Entity T...|0.083036967391323|0.262948592747178| 0.13937578009979|        0.0247|          0.0369|                     0.9722|         0.6192|        0.0143|          0.0|        0.069|       0.0833|        0.125|      0.0369|              0.0202|         0.019|                    0.0|              0.0|         0.0252|           0.0383|                      0.9722|          0.6341|         0.0144|           0.0|         0.069|        0.0833|         0.125|       0.0377|                0.022|         0.0198|                     0.0|               0.0|          0.025|           0.0369|                      0.9722|          0.6243|         0.0144|           0.0|         0.069|        0.0833|         0.125|       0.0375|               0.0205|         0.0193|                     0.0|               0.0|  reg oper account|block of flats|        0.0149|      Stone, brick|                 No|                       2|                       2|                       2|                       2|                 -1134|              0|              1|              0|              0|              0|              0|              0|              0|               0|               0|               0|               0|               0|               0|               0|               0|               0|               0|               0|               0|                         0|                        0|                         0|                        0|                        0|                         1|\n",
            "|    100003|     0|        Cash loans|          F|           N|              N|           0|        270000.0| 1293502.5|    35698.5|      1129500.0|         Family|   State servant|    Higher education|             Married|House / apartment|                  0.003541|    -16765|        -1188|          -1186.0|           -291|       null|         1|             1|              0|               1|         1|         0|     Core staff|              2|                   1|                          1|                    MONDAY|                     11|                         0|                         0|                          0|                     0|                     0|                      0|              School|0.311267311381222| 0.62224577525551|             null|        0.0959|          0.0529|                     0.9851|          0.796|        0.0605|         0.08|       0.0345|       0.2917|       0.3333|       0.013|              0.0773|        0.0549|                 0.0039|           0.0098|         0.0924|           0.0538|                      0.9851|           0.804|         0.0497|        0.0806|        0.0345|        0.2917|        0.3333|       0.0128|                0.079|         0.0554|                     0.0|               0.0|         0.0968|           0.0529|                      0.9851|          0.7987|         0.0608|          0.08|        0.0345|        0.2917|        0.3333|       0.0132|               0.0787|         0.0558|                  0.0039|              0.01|  reg oper account|block of flats|        0.0714|             Block|                 No|                       1|                       0|                       1|                       0|                  -828|              0|              1|              0|              0|              0|              0|              0|              0|               0|               0|               0|               0|               0|               0|               0|               0|               0|               0|               0|               0|                         0|                        0|                         0|                        0|                        0|                         0|\n",
            "|    100004|     0|   Revolving loans|          M|           Y|              Y|           0|         67500.0|  135000.0|     6750.0|       135000.0|  Unaccompanied|         Working|Secondary / secon...|Single / not married|House / apartment|                  0.010032|    -19046|         -225|          -4260.0|          -2531|         26|         1|             1|              1|               1|         1|         0|       Laborers|              1|                   2|                          2|                    MONDAY|                      9|                         0|                         0|                          0|                     0|                     0|                      0|          Government|             null|0.555912083390443|0.729566690706015|          null|            null|                       null|           null|          null|         null|         null|         null|         null|        null|                null|          null|                   null|             null|           null|             null|                        null|            null|           null|          null|          null|          null|          null|         null|                 null|           null|                    null|              null|           null|             null|                        null|            null|           null|          null|          null|          null|          null|         null|                 null|           null|                    null|              null|              null|          null|          null|              null|               null|                       0|                       0|                       0|                       0|                  -815|              0|              0|              0|              0|              0|              0|              0|              0|               0|               0|               0|               0|               0|               0|               0|               0|               0|               0|               0|               0|                         0|                        0|                         0|                        0|                        0|                         0|\n",
            "|    100006|     0|        Cash loans|          F|           N|              Y|           0|        135000.0|  312682.5|    29686.5|       297000.0|  Unaccompanied|         Working|Secondary / secon...|      Civil marriage|House / apartment|                  0.008019|    -19005|        -3039|          -9833.0|          -2437|       null|         1|             1|              0|               1|         0|         0|       Laborers|              2|                   2|                          2|                 WEDNESDAY|                     17|                         0|                         0|                          0|                     0|                     0|                      0|Business Entity T...|             null|0.650441690401465|             null|          null|            null|                       null|           null|          null|         null|         null|         null|         null|        null|                null|          null|                   null|             null|           null|             null|                        null|            null|           null|          null|          null|          null|          null|         null|                 null|           null|                    null|              null|           null|             null|                        null|            null|           null|          null|          null|          null|          null|         null|                 null|           null|                    null|              null|              null|          null|          null|              null|               null|                       2|                       0|                       2|                       0|                  -617|              0|              1|              0|              0|              0|              0|              0|              0|               0|               0|               0|               0|               0|               0|               0|               0|               0|               0|               0|               0|                      null|                     null|                      null|                     null|                     null|                      null|\n",
            "|    100007|     0|        Cash loans|          M|           N|              Y|           0|        121500.0|  513000.0|    21865.5|       513000.0|  Unaccompanied|         Working|Secondary / secon...|Single / not married|House / apartment|                  0.028663|    -19932|        -3038|          -4311.0|          -3458|       null|         1|             1|              0|               1|         0|         0|     Core staff|              1|                   2|                          2|                  THURSDAY|                     11|                         0|                         0|                          0|                     0|                     1|                      1|            Religion|             null|0.322738286970405|             null|          null|            null|                       null|           null|          null|         null|         null|         null|         null|        null|                null|          null|                   null|             null|           null|             null|                        null|            null|           null|          null|          null|          null|          null|         null|                 null|           null|                    null|              null|           null|             null|                        null|            null|           null|          null|          null|          null|          null|         null|                 null|           null|                    null|              null|              null|          null|          null|              null|               null|                       0|                       0|                       0|                       0|                 -1106|              0|              0|              0|              0|              0|              0|              1|              0|               0|               0|               0|               0|               0|               0|               0|               0|               0|               0|               0|               0|                         0|                        0|                         0|                        0|                        0|                         0|\n",
            "+----------+------+------------------+-----------+------------+---------------+------------+----------------+----------+-----------+---------------+---------------+----------------+--------------------+--------------------+-----------------+--------------------------+----------+-------------+-----------------+---------------+-----------+----------+--------------+---------------+----------------+----------+----------+---------------+---------------+--------------------+---------------------------+--------------------------+-----------------------+--------------------------+--------------------------+---------------------------+----------------------+----------------------+-----------------------+--------------------+-----------------+-----------------+-----------------+--------------+----------------+---------------------------+---------------+--------------+-------------+-------------+-------------+-------------+------------+--------------------+--------------+-----------------------+-----------------+---------------+-----------------+----------------------------+----------------+---------------+--------------+--------------+--------------+--------------+-------------+---------------------+---------------+------------------------+------------------+---------------+-----------------+----------------------------+----------------+---------------+--------------+--------------+--------------+--------------+-------------+---------------------+---------------+------------------------+------------------+------------------+--------------+--------------+------------------+-------------------+------------------------+------------------------+------------------------+------------------------+----------------------+---------------+---------------+---------------+---------------+---------------+---------------+---------------+---------------+----------------+----------------+----------------+----------------+----------------+----------------+----------------+----------------+----------------+----------------+----------------+----------------+--------------------------+-------------------------+--------------------------+-------------------------+-------------------------+--------------------------+\n",
            "only showing top 5 rows\n",
            "\n"
          ],
          "name": "stdout"
        }
      ]
    },
    {
      "cell_type": "code",
      "metadata": {
        "id": "OtEyLPIWowZv",
        "colab_type": "code",
        "colab": {
          "base_uri": "https://localhost:8080/",
          "height": 34
        },
        "outputId": "eafb014a-2f73-4c81-9f56-973d7adc0590"
      },
      "source": [
        "df.count()"
      ],
      "execution_count": 11,
      "outputs": [
        {
          "output_type": "execute_result",
          "data": {
            "text/plain": [
              "307511"
            ]
          },
          "metadata": {
            "tags": []
          },
          "execution_count": 11
        }
      ]
    },
    {
      "cell_type": "code",
      "metadata": {
        "id": "NPtsBjnRmGwC",
        "colab_type": "code",
        "colab": {
          "base_uri": "https://localhost:8080/",
          "height": 34
        },
        "outputId": "a3b7dca0-1d7e-4001-a8b0-b0907e9ea83e"
      },
      "source": [
        "type(df)"
      ],
      "execution_count": 12,
      "outputs": [
        {
          "output_type": "execute_result",
          "data": {
            "text/plain": [
              "pyspark.sql.dataframe.DataFrame"
            ]
          },
          "metadata": {
            "tags": []
          },
          "execution_count": 12
        }
      ]
    },
    {
      "cell_type": "code",
      "metadata": {
        "id": "ePWjPIDHmG1W",
        "colab_type": "code",
        "colab": {
          "base_uri": "https://localhost:8080/",
          "height": 34
        },
        "outputId": "522f11ef-90cf-4c0c-9d6c-93ed65b1fcf2"
      },
      "source": [
        "len(df.columns)"
      ],
      "execution_count": 13,
      "outputs": [
        {
          "output_type": "execute_result",
          "data": {
            "text/plain": [
              "122"
            ]
          },
          "metadata": {
            "tags": []
          },
          "execution_count": 13
        }
      ]
    },
    {
      "cell_type": "code",
      "metadata": {
        "id": "phAuV7HdmG5Z",
        "colab_type": "code",
        "colab": {
          "base_uri": "https://localhost:8080/",
          "height": 1000
        },
        "outputId": "6cabec66-4ec5-4693-be0c-afba50d4aa02"
      },
      "source": [
        "df.printSchema()"
      ],
      "execution_count": 14,
      "outputs": [
        {
          "output_type": "stream",
          "text": [
            "root\n",
            " |-- SK_ID_CURR: integer (nullable = true)\n",
            " |-- TARGET: integer (nullable = true)\n",
            " |-- NAME_CONTRACT_TYPE: string (nullable = true)\n",
            " |-- CODE_GENDER: string (nullable = true)\n",
            " |-- FLAG_OWN_CAR: string (nullable = true)\n",
            " |-- FLAG_OWN_REALTY: string (nullable = true)\n",
            " |-- CNT_CHILDREN: integer (nullable = true)\n",
            " |-- AMT_INCOME_TOTAL: double (nullable = true)\n",
            " |-- AMT_CREDIT: double (nullable = true)\n",
            " |-- AMT_ANNUITY: double (nullable = true)\n",
            " |-- AMT_GOODS_PRICE: double (nullable = true)\n",
            " |-- NAME_TYPE_SUITE: string (nullable = true)\n",
            " |-- NAME_INCOME_TYPE: string (nullable = true)\n",
            " |-- NAME_EDUCATION_TYPE: string (nullable = true)\n",
            " |-- NAME_FAMILY_STATUS: string (nullable = true)\n",
            " |-- NAME_HOUSING_TYPE: string (nullable = true)\n",
            " |-- REGION_POPULATION_RELATIVE: double (nullable = true)\n",
            " |-- DAYS_BIRTH: integer (nullable = true)\n",
            " |-- DAYS_EMPLOYED: integer (nullable = true)\n",
            " |-- DAYS_REGISTRATION: double (nullable = true)\n",
            " |-- DAYS_ID_PUBLISH: integer (nullable = true)\n",
            " |-- OWN_CAR_AGE: integer (nullable = true)\n",
            " |-- FLAG_MOBIL: integer (nullable = true)\n",
            " |-- FLAG_EMP_PHONE: integer (nullable = true)\n",
            " |-- FLAG_WORK_PHONE: integer (nullable = true)\n",
            " |-- FLAG_CONT_MOBILE: integer (nullable = true)\n",
            " |-- FLAG_PHONE: integer (nullable = true)\n",
            " |-- FLAG_EMAIL: integer (nullable = true)\n",
            " |-- OCCUPATION_TYPE: string (nullable = true)\n",
            " |-- CNT_FAM_MEMBERS: integer (nullable = true)\n",
            " |-- REGION_RATING_CLIENT: integer (nullable = true)\n",
            " |-- REGION_RATING_CLIENT_W_CITY: integer (nullable = true)\n",
            " |-- WEEKDAY_APPR_PROCESS_START: string (nullable = true)\n",
            " |-- HOUR_APPR_PROCESS_START: integer (nullable = true)\n",
            " |-- REG_REGION_NOT_LIVE_REGION: integer (nullable = true)\n",
            " |-- REG_REGION_NOT_WORK_REGION: integer (nullable = true)\n",
            " |-- LIVE_REGION_NOT_WORK_REGION: integer (nullable = true)\n",
            " |-- REG_CITY_NOT_LIVE_CITY: integer (nullable = true)\n",
            " |-- REG_CITY_NOT_WORK_CITY: integer (nullable = true)\n",
            " |-- LIVE_CITY_NOT_WORK_CITY: integer (nullable = true)\n",
            " |-- ORGANIZATION_TYPE: string (nullable = true)\n",
            " |-- EXT_SOURCE_1: double (nullable = true)\n",
            " |-- EXT_SOURCE_2: double (nullable = true)\n",
            " |-- EXT_SOURCE_3: double (nullable = true)\n",
            " |-- APARTMENTS_AVG: double (nullable = true)\n",
            " |-- BASEMENTAREA_AVG: double (nullable = true)\n",
            " |-- YEARS_BEGINEXPLUATATION_AVG: double (nullable = true)\n",
            " |-- YEARS_BUILD_AVG: double (nullable = true)\n",
            " |-- COMMONAREA_AVG: double (nullable = true)\n",
            " |-- ELEVATORS_AVG: double (nullable = true)\n",
            " |-- ENTRANCES_AVG: double (nullable = true)\n",
            " |-- FLOORSMAX_AVG: double (nullable = true)\n",
            " |-- FLOORSMIN_AVG: double (nullable = true)\n",
            " |-- LANDAREA_AVG: double (nullable = true)\n",
            " |-- LIVINGAPARTMENTS_AVG: double (nullable = true)\n",
            " |-- LIVINGAREA_AVG: double (nullable = true)\n",
            " |-- NONLIVINGAPARTMENTS_AVG: double (nullable = true)\n",
            " |-- NONLIVINGAREA_AVG: double (nullable = true)\n",
            " |-- APARTMENTS_MODE: double (nullable = true)\n",
            " |-- BASEMENTAREA_MODE: double (nullable = true)\n",
            " |-- YEARS_BEGINEXPLUATATION_MODE: double (nullable = true)\n",
            " |-- YEARS_BUILD_MODE: double (nullable = true)\n",
            " |-- COMMONAREA_MODE: double (nullable = true)\n",
            " |-- ELEVATORS_MODE: double (nullable = true)\n",
            " |-- ENTRANCES_MODE: double (nullable = true)\n",
            " |-- FLOORSMAX_MODE: double (nullable = true)\n",
            " |-- FLOORSMIN_MODE: double (nullable = true)\n",
            " |-- LANDAREA_MODE: double (nullable = true)\n",
            " |-- LIVINGAPARTMENTS_MODE: double (nullable = true)\n",
            " |-- LIVINGAREA_MODE: double (nullable = true)\n",
            " |-- NONLIVINGAPARTMENTS_MODE: double (nullable = true)\n",
            " |-- NONLIVINGAREA_MODE: double (nullable = true)\n",
            " |-- APARTMENTS_MEDI: double (nullable = true)\n",
            " |-- BASEMENTAREA_MEDI: double (nullable = true)\n",
            " |-- YEARS_BEGINEXPLUATATION_MEDI: double (nullable = true)\n",
            " |-- YEARS_BUILD_MEDI: double (nullable = true)\n",
            " |-- COMMONAREA_MEDI: double (nullable = true)\n",
            " |-- ELEVATORS_MEDI: double (nullable = true)\n",
            " |-- ENTRANCES_MEDI: double (nullable = true)\n",
            " |-- FLOORSMAX_MEDI: double (nullable = true)\n",
            " |-- FLOORSMIN_MEDI: double (nullable = true)\n",
            " |-- LANDAREA_MEDI: double (nullable = true)\n",
            " |-- LIVINGAPARTMENTS_MEDI: double (nullable = true)\n",
            " |-- LIVINGAREA_MEDI: double (nullable = true)\n",
            " |-- NONLIVINGAPARTMENTS_MEDI: double (nullable = true)\n",
            " |-- NONLIVINGAREA_MEDI: double (nullable = true)\n",
            " |-- FONDKAPREMONT_MODE: string (nullable = true)\n",
            " |-- HOUSETYPE_MODE: string (nullable = true)\n",
            " |-- TOTALAREA_MODE: double (nullable = true)\n",
            " |-- WALLSMATERIAL_MODE: string (nullable = true)\n",
            " |-- EMERGENCYSTATE_MODE: string (nullable = true)\n",
            " |-- OBS_30_CNT_SOCIAL_CIRCLE: integer (nullable = true)\n",
            " |-- DEF_30_CNT_SOCIAL_CIRCLE: integer (nullable = true)\n",
            " |-- OBS_60_CNT_SOCIAL_CIRCLE: integer (nullable = true)\n",
            " |-- DEF_60_CNT_SOCIAL_CIRCLE: integer (nullable = true)\n",
            " |-- DAYS_LAST_PHONE_CHANGE: integer (nullable = true)\n",
            " |-- FLAG_DOCUMENT_2: integer (nullable = true)\n",
            " |-- FLAG_DOCUMENT_3: integer (nullable = true)\n",
            " |-- FLAG_DOCUMENT_4: integer (nullable = true)\n",
            " |-- FLAG_DOCUMENT_5: integer (nullable = true)\n",
            " |-- FLAG_DOCUMENT_6: integer (nullable = true)\n",
            " |-- FLAG_DOCUMENT_7: integer (nullable = true)\n",
            " |-- FLAG_DOCUMENT_8: integer (nullable = true)\n",
            " |-- FLAG_DOCUMENT_9: integer (nullable = true)\n",
            " |-- FLAG_DOCUMENT_10: integer (nullable = true)\n",
            " |-- FLAG_DOCUMENT_11: integer (nullable = true)\n",
            " |-- FLAG_DOCUMENT_12: integer (nullable = true)\n",
            " |-- FLAG_DOCUMENT_13: integer (nullable = true)\n",
            " |-- FLAG_DOCUMENT_14: integer (nullable = true)\n",
            " |-- FLAG_DOCUMENT_15: integer (nullable = true)\n",
            " |-- FLAG_DOCUMENT_16: integer (nullable = true)\n",
            " |-- FLAG_DOCUMENT_17: integer (nullable = true)\n",
            " |-- FLAG_DOCUMENT_18: integer (nullable = true)\n",
            " |-- FLAG_DOCUMENT_19: integer (nullable = true)\n",
            " |-- FLAG_DOCUMENT_20: integer (nullable = true)\n",
            " |-- FLAG_DOCUMENT_21: integer (nullable = true)\n",
            " |-- AMT_REQ_CREDIT_BUREAU_HOUR: integer (nullable = true)\n",
            " |-- AMT_REQ_CREDIT_BUREAU_DAY: integer (nullable = true)\n",
            " |-- AMT_REQ_CREDIT_BUREAU_WEEK: integer (nullable = true)\n",
            " |-- AMT_REQ_CREDIT_BUREAU_MON: integer (nullable = true)\n",
            " |-- AMT_REQ_CREDIT_BUREAU_QRT: integer (nullable = true)\n",
            " |-- AMT_REQ_CREDIT_BUREAU_YEAR: integer (nullable = true)\n",
            "\n"
          ],
          "name": "stdout"
        }
      ]
    },
    {
      "cell_type": "code",
      "metadata": {
        "id": "cAZmnWVymG-5",
        "colab_type": "code",
        "colab": {}
      },
      "source": [
        ""
      ],
      "execution_count": null,
      "outputs": []
    },
    {
      "cell_type": "markdown",
      "metadata": {
        "id": "rKbIskxApqf_",
        "colab_type": "text"
      },
      "source": [
        "### Dropping Unnecessary Column"
      ]
    },
    {
      "cell_type": "code",
      "metadata": {
        "id": "7RqzBIgjppop",
        "colab_type": "code",
        "colab": {
          "base_uri": "https://localhost:8080/",
          "height": 228
        },
        "outputId": "b8f9eee9-b606-479f-f8c1-ef0b8c472dfb"
      },
      "source": [
        "df = df.drop('SK_ID_CURR')\n",
        "df.show(5)"
      ],
      "execution_count": 15,
      "outputs": [
        {
          "output_type": "stream",
          "text": [
            "+------+------------------+-----------+------------+---------------+------------+----------------+----------+-----------+---------------+---------------+----------------+--------------------+--------------------+-----------------+--------------------------+----------+-------------+-----------------+---------------+-----------+----------+--------------+---------------+----------------+----------+----------+---------------+---------------+--------------------+---------------------------+--------------------------+-----------------------+--------------------------+--------------------------+---------------------------+----------------------+----------------------+-----------------------+--------------------+-----------------+-----------------+-----------------+--------------+----------------+---------------------------+---------------+--------------+-------------+-------------+-------------+-------------+------------+--------------------+--------------+-----------------------+-----------------+---------------+-----------------+----------------------------+----------------+---------------+--------------+--------------+--------------+--------------+-------------+---------------------+---------------+------------------------+------------------+---------------+-----------------+----------------------------+----------------+---------------+--------------+--------------+--------------+--------------+-------------+---------------------+---------------+------------------------+------------------+------------------+--------------+--------------+------------------+-------------------+------------------------+------------------------+------------------------+------------------------+----------------------+---------------+---------------+---------------+---------------+---------------+---------------+---------------+---------------+----------------+----------------+----------------+----------------+----------------+----------------+----------------+----------------+----------------+----------------+----------------+----------------+--------------------------+-------------------------+--------------------------+-------------------------+-------------------------+--------------------------+\n",
            "|TARGET|NAME_CONTRACT_TYPE|CODE_GENDER|FLAG_OWN_CAR|FLAG_OWN_REALTY|CNT_CHILDREN|AMT_INCOME_TOTAL|AMT_CREDIT|AMT_ANNUITY|AMT_GOODS_PRICE|NAME_TYPE_SUITE|NAME_INCOME_TYPE| NAME_EDUCATION_TYPE|  NAME_FAMILY_STATUS|NAME_HOUSING_TYPE|REGION_POPULATION_RELATIVE|DAYS_BIRTH|DAYS_EMPLOYED|DAYS_REGISTRATION|DAYS_ID_PUBLISH|OWN_CAR_AGE|FLAG_MOBIL|FLAG_EMP_PHONE|FLAG_WORK_PHONE|FLAG_CONT_MOBILE|FLAG_PHONE|FLAG_EMAIL|OCCUPATION_TYPE|CNT_FAM_MEMBERS|REGION_RATING_CLIENT|REGION_RATING_CLIENT_W_CITY|WEEKDAY_APPR_PROCESS_START|HOUR_APPR_PROCESS_START|REG_REGION_NOT_LIVE_REGION|REG_REGION_NOT_WORK_REGION|LIVE_REGION_NOT_WORK_REGION|REG_CITY_NOT_LIVE_CITY|REG_CITY_NOT_WORK_CITY|LIVE_CITY_NOT_WORK_CITY|   ORGANIZATION_TYPE|     EXT_SOURCE_1|     EXT_SOURCE_2|     EXT_SOURCE_3|APARTMENTS_AVG|BASEMENTAREA_AVG|YEARS_BEGINEXPLUATATION_AVG|YEARS_BUILD_AVG|COMMONAREA_AVG|ELEVATORS_AVG|ENTRANCES_AVG|FLOORSMAX_AVG|FLOORSMIN_AVG|LANDAREA_AVG|LIVINGAPARTMENTS_AVG|LIVINGAREA_AVG|NONLIVINGAPARTMENTS_AVG|NONLIVINGAREA_AVG|APARTMENTS_MODE|BASEMENTAREA_MODE|YEARS_BEGINEXPLUATATION_MODE|YEARS_BUILD_MODE|COMMONAREA_MODE|ELEVATORS_MODE|ENTRANCES_MODE|FLOORSMAX_MODE|FLOORSMIN_MODE|LANDAREA_MODE|LIVINGAPARTMENTS_MODE|LIVINGAREA_MODE|NONLIVINGAPARTMENTS_MODE|NONLIVINGAREA_MODE|APARTMENTS_MEDI|BASEMENTAREA_MEDI|YEARS_BEGINEXPLUATATION_MEDI|YEARS_BUILD_MEDI|COMMONAREA_MEDI|ELEVATORS_MEDI|ENTRANCES_MEDI|FLOORSMAX_MEDI|FLOORSMIN_MEDI|LANDAREA_MEDI|LIVINGAPARTMENTS_MEDI|LIVINGAREA_MEDI|NONLIVINGAPARTMENTS_MEDI|NONLIVINGAREA_MEDI|FONDKAPREMONT_MODE|HOUSETYPE_MODE|TOTALAREA_MODE|WALLSMATERIAL_MODE|EMERGENCYSTATE_MODE|OBS_30_CNT_SOCIAL_CIRCLE|DEF_30_CNT_SOCIAL_CIRCLE|OBS_60_CNT_SOCIAL_CIRCLE|DEF_60_CNT_SOCIAL_CIRCLE|DAYS_LAST_PHONE_CHANGE|FLAG_DOCUMENT_2|FLAG_DOCUMENT_3|FLAG_DOCUMENT_4|FLAG_DOCUMENT_5|FLAG_DOCUMENT_6|FLAG_DOCUMENT_7|FLAG_DOCUMENT_8|FLAG_DOCUMENT_9|FLAG_DOCUMENT_10|FLAG_DOCUMENT_11|FLAG_DOCUMENT_12|FLAG_DOCUMENT_13|FLAG_DOCUMENT_14|FLAG_DOCUMENT_15|FLAG_DOCUMENT_16|FLAG_DOCUMENT_17|FLAG_DOCUMENT_18|FLAG_DOCUMENT_19|FLAG_DOCUMENT_20|FLAG_DOCUMENT_21|AMT_REQ_CREDIT_BUREAU_HOUR|AMT_REQ_CREDIT_BUREAU_DAY|AMT_REQ_CREDIT_BUREAU_WEEK|AMT_REQ_CREDIT_BUREAU_MON|AMT_REQ_CREDIT_BUREAU_QRT|AMT_REQ_CREDIT_BUREAU_YEAR|\n",
            "+------+------------------+-----------+------------+---------------+------------+----------------+----------+-----------+---------------+---------------+----------------+--------------------+--------------------+-----------------+--------------------------+----------+-------------+-----------------+---------------+-----------+----------+--------------+---------------+----------------+----------+----------+---------------+---------------+--------------------+---------------------------+--------------------------+-----------------------+--------------------------+--------------------------+---------------------------+----------------------+----------------------+-----------------------+--------------------+-----------------+-----------------+-----------------+--------------+----------------+---------------------------+---------------+--------------+-------------+-------------+-------------+-------------+------------+--------------------+--------------+-----------------------+-----------------+---------------+-----------------+----------------------------+----------------+---------------+--------------+--------------+--------------+--------------+-------------+---------------------+---------------+------------------------+------------------+---------------+-----------------+----------------------------+----------------+---------------+--------------+--------------+--------------+--------------+-------------+---------------------+---------------+------------------------+------------------+------------------+--------------+--------------+------------------+-------------------+------------------------+------------------------+------------------------+------------------------+----------------------+---------------+---------------+---------------+---------------+---------------+---------------+---------------+---------------+----------------+----------------+----------------+----------------+----------------+----------------+----------------+----------------+----------------+----------------+----------------+----------------+--------------------------+-------------------------+--------------------------+-------------------------+-------------------------+--------------------------+\n",
            "|     1|        Cash loans|          M|           N|              Y|           0|        202500.0|  406597.5|    24700.5|       351000.0|  Unaccompanied|         Working|Secondary / secon...|Single / not married|House / apartment|                  0.018801|     -9461|         -637|          -3648.0|          -2120|       null|         1|             1|              0|               1|         1|         0|       Laborers|              1|                   2|                          2|                 WEDNESDAY|                     10|                         0|                         0|                          0|                     0|                     0|                      0|Business Entity T...|0.083036967391323|0.262948592747178| 0.13937578009979|        0.0247|          0.0369|                     0.9722|         0.6192|        0.0143|          0.0|        0.069|       0.0833|        0.125|      0.0369|              0.0202|         0.019|                    0.0|              0.0|         0.0252|           0.0383|                      0.9722|          0.6341|         0.0144|           0.0|         0.069|        0.0833|         0.125|       0.0377|                0.022|         0.0198|                     0.0|               0.0|          0.025|           0.0369|                      0.9722|          0.6243|         0.0144|           0.0|         0.069|        0.0833|         0.125|       0.0375|               0.0205|         0.0193|                     0.0|               0.0|  reg oper account|block of flats|        0.0149|      Stone, brick|                 No|                       2|                       2|                       2|                       2|                 -1134|              0|              1|              0|              0|              0|              0|              0|              0|               0|               0|               0|               0|               0|               0|               0|               0|               0|               0|               0|               0|                         0|                        0|                         0|                        0|                        0|                         1|\n",
            "|     0|        Cash loans|          F|           N|              N|           0|        270000.0| 1293502.5|    35698.5|      1129500.0|         Family|   State servant|    Higher education|             Married|House / apartment|                  0.003541|    -16765|        -1188|          -1186.0|           -291|       null|         1|             1|              0|               1|         1|         0|     Core staff|              2|                   1|                          1|                    MONDAY|                     11|                         0|                         0|                          0|                     0|                     0|                      0|              School|0.311267311381222| 0.62224577525551|             null|        0.0959|          0.0529|                     0.9851|          0.796|        0.0605|         0.08|       0.0345|       0.2917|       0.3333|       0.013|              0.0773|        0.0549|                 0.0039|           0.0098|         0.0924|           0.0538|                      0.9851|           0.804|         0.0497|        0.0806|        0.0345|        0.2917|        0.3333|       0.0128|                0.079|         0.0554|                     0.0|               0.0|         0.0968|           0.0529|                      0.9851|          0.7987|         0.0608|          0.08|        0.0345|        0.2917|        0.3333|       0.0132|               0.0787|         0.0558|                  0.0039|              0.01|  reg oper account|block of flats|        0.0714|             Block|                 No|                       1|                       0|                       1|                       0|                  -828|              0|              1|              0|              0|              0|              0|              0|              0|               0|               0|               0|               0|               0|               0|               0|               0|               0|               0|               0|               0|                         0|                        0|                         0|                        0|                        0|                         0|\n",
            "|     0|   Revolving loans|          M|           Y|              Y|           0|         67500.0|  135000.0|     6750.0|       135000.0|  Unaccompanied|         Working|Secondary / secon...|Single / not married|House / apartment|                  0.010032|    -19046|         -225|          -4260.0|          -2531|         26|         1|             1|              1|               1|         1|         0|       Laborers|              1|                   2|                          2|                    MONDAY|                      9|                         0|                         0|                          0|                     0|                     0|                      0|          Government|             null|0.555912083390443|0.729566690706015|          null|            null|                       null|           null|          null|         null|         null|         null|         null|        null|                null|          null|                   null|             null|           null|             null|                        null|            null|           null|          null|          null|          null|          null|         null|                 null|           null|                    null|              null|           null|             null|                        null|            null|           null|          null|          null|          null|          null|         null|                 null|           null|                    null|              null|              null|          null|          null|              null|               null|                       0|                       0|                       0|                       0|                  -815|              0|              0|              0|              0|              0|              0|              0|              0|               0|               0|               0|               0|               0|               0|               0|               0|               0|               0|               0|               0|                         0|                        0|                         0|                        0|                        0|                         0|\n",
            "|     0|        Cash loans|          F|           N|              Y|           0|        135000.0|  312682.5|    29686.5|       297000.0|  Unaccompanied|         Working|Secondary / secon...|      Civil marriage|House / apartment|                  0.008019|    -19005|        -3039|          -9833.0|          -2437|       null|         1|             1|              0|               1|         0|         0|       Laborers|              2|                   2|                          2|                 WEDNESDAY|                     17|                         0|                         0|                          0|                     0|                     0|                      0|Business Entity T...|             null|0.650441690401465|             null|          null|            null|                       null|           null|          null|         null|         null|         null|         null|        null|                null|          null|                   null|             null|           null|             null|                        null|            null|           null|          null|          null|          null|          null|         null|                 null|           null|                    null|              null|           null|             null|                        null|            null|           null|          null|          null|          null|          null|         null|                 null|           null|                    null|              null|              null|          null|          null|              null|               null|                       2|                       0|                       2|                       0|                  -617|              0|              1|              0|              0|              0|              0|              0|              0|               0|               0|               0|               0|               0|               0|               0|               0|               0|               0|               0|               0|                      null|                     null|                      null|                     null|                     null|                      null|\n",
            "|     0|        Cash loans|          M|           N|              Y|           0|        121500.0|  513000.0|    21865.5|       513000.0|  Unaccompanied|         Working|Secondary / secon...|Single / not married|House / apartment|                  0.028663|    -19932|        -3038|          -4311.0|          -3458|       null|         1|             1|              0|               1|         0|         0|     Core staff|              1|                   2|                          2|                  THURSDAY|                     11|                         0|                         0|                          0|                     0|                     1|                      1|            Religion|             null|0.322738286970405|             null|          null|            null|                       null|           null|          null|         null|         null|         null|         null|        null|                null|          null|                   null|             null|           null|             null|                        null|            null|           null|          null|          null|          null|          null|         null|                 null|           null|                    null|              null|           null|             null|                        null|            null|           null|          null|          null|          null|          null|         null|                 null|           null|                    null|              null|              null|          null|          null|              null|               null|                       0|                       0|                       0|                       0|                 -1106|              0|              0|              0|              0|              0|              0|              1|              0|               0|               0|               0|               0|               0|               0|               0|               0|               0|               0|               0|               0|                         0|                        0|                         0|                        0|                        0|                         0|\n",
            "+------+------------------+-----------+------------+---------------+------------+----------------+----------+-----------+---------------+---------------+----------------+--------------------+--------------------+-----------------+--------------------------+----------+-------------+-----------------+---------------+-----------+----------+--------------+---------------+----------------+----------+----------+---------------+---------------+--------------------+---------------------------+--------------------------+-----------------------+--------------------------+--------------------------+---------------------------+----------------------+----------------------+-----------------------+--------------------+-----------------+-----------------+-----------------+--------------+----------------+---------------------------+---------------+--------------+-------------+-------------+-------------+-------------+------------+--------------------+--------------+-----------------------+-----------------+---------------+-----------------+----------------------------+----------------+---------------+--------------+--------------+--------------+--------------+-------------+---------------------+---------------+------------------------+------------------+---------------+-----------------+----------------------------+----------------+---------------+--------------+--------------+--------------+--------------+-------------+---------------------+---------------+------------------------+------------------+------------------+--------------+--------------+------------------+-------------------+------------------------+------------------------+------------------------+------------------------+----------------------+---------------+---------------+---------------+---------------+---------------+---------------+---------------+---------------+----------------+----------------+----------------+----------------+----------------+----------------+----------------+----------------+----------------+----------------+----------------+----------------+--------------------------+-------------------------+--------------------------+-------------------------+-------------------------+--------------------------+\n",
            "only showing top 5 rows\n",
            "\n"
          ],
          "name": "stdout"
        }
      ]
    },
    {
      "cell_type": "code",
      "metadata": {
        "id": "ZPZFoOV2ppsq",
        "colab_type": "code",
        "colab": {}
      },
      "source": [
        ""
      ],
      "execution_count": null,
      "outputs": []
    },
    {
      "cell_type": "markdown",
      "metadata": {
        "id": "ZJYWN6AxpECi",
        "colab_type": "text"
      },
      "source": [
        "### Column Name Change"
      ]
    },
    {
      "cell_type": "code",
      "metadata": {
        "id": "HKEpF7-DmHB_",
        "colab_type": "code",
        "colab": {
          "base_uri": "https://localhost:8080/",
          "height": 228
        },
        "outputId": "a2557e35-27b1-4263-ddc9-c86a52872b40"
      },
      "source": [
        "df_final = df.withColumnRenamed('TARGET','label')\n",
        "df_final.show(5)"
      ],
      "execution_count": 16,
      "outputs": [
        {
          "output_type": "stream",
          "text": [
            "+-----+------------------+-----------+------------+---------------+------------+----------------+----------+-----------+---------------+---------------+----------------+--------------------+--------------------+-----------------+--------------------------+----------+-------------+-----------------+---------------+-----------+----------+--------------+---------------+----------------+----------+----------+---------------+---------------+--------------------+---------------------------+--------------------------+-----------------------+--------------------------+--------------------------+---------------------------+----------------------+----------------------+-----------------------+--------------------+-----------------+-----------------+-----------------+--------------+----------------+---------------------------+---------------+--------------+-------------+-------------+-------------+-------------+------------+--------------------+--------------+-----------------------+-----------------+---------------+-----------------+----------------------------+----------------+---------------+--------------+--------------+--------------+--------------+-------------+---------------------+---------------+------------------------+------------------+---------------+-----------------+----------------------------+----------------+---------------+--------------+--------------+--------------+--------------+-------------+---------------------+---------------+------------------------+------------------+------------------+--------------+--------------+------------------+-------------------+------------------------+------------------------+------------------------+------------------------+----------------------+---------------+---------------+---------------+---------------+---------------+---------------+---------------+---------------+----------------+----------------+----------------+----------------+----------------+----------------+----------------+----------------+----------------+----------------+----------------+----------------+--------------------------+-------------------------+--------------------------+-------------------------+-------------------------+--------------------------+\n",
            "|label|NAME_CONTRACT_TYPE|CODE_GENDER|FLAG_OWN_CAR|FLAG_OWN_REALTY|CNT_CHILDREN|AMT_INCOME_TOTAL|AMT_CREDIT|AMT_ANNUITY|AMT_GOODS_PRICE|NAME_TYPE_SUITE|NAME_INCOME_TYPE| NAME_EDUCATION_TYPE|  NAME_FAMILY_STATUS|NAME_HOUSING_TYPE|REGION_POPULATION_RELATIVE|DAYS_BIRTH|DAYS_EMPLOYED|DAYS_REGISTRATION|DAYS_ID_PUBLISH|OWN_CAR_AGE|FLAG_MOBIL|FLAG_EMP_PHONE|FLAG_WORK_PHONE|FLAG_CONT_MOBILE|FLAG_PHONE|FLAG_EMAIL|OCCUPATION_TYPE|CNT_FAM_MEMBERS|REGION_RATING_CLIENT|REGION_RATING_CLIENT_W_CITY|WEEKDAY_APPR_PROCESS_START|HOUR_APPR_PROCESS_START|REG_REGION_NOT_LIVE_REGION|REG_REGION_NOT_WORK_REGION|LIVE_REGION_NOT_WORK_REGION|REG_CITY_NOT_LIVE_CITY|REG_CITY_NOT_WORK_CITY|LIVE_CITY_NOT_WORK_CITY|   ORGANIZATION_TYPE|     EXT_SOURCE_1|     EXT_SOURCE_2|     EXT_SOURCE_3|APARTMENTS_AVG|BASEMENTAREA_AVG|YEARS_BEGINEXPLUATATION_AVG|YEARS_BUILD_AVG|COMMONAREA_AVG|ELEVATORS_AVG|ENTRANCES_AVG|FLOORSMAX_AVG|FLOORSMIN_AVG|LANDAREA_AVG|LIVINGAPARTMENTS_AVG|LIVINGAREA_AVG|NONLIVINGAPARTMENTS_AVG|NONLIVINGAREA_AVG|APARTMENTS_MODE|BASEMENTAREA_MODE|YEARS_BEGINEXPLUATATION_MODE|YEARS_BUILD_MODE|COMMONAREA_MODE|ELEVATORS_MODE|ENTRANCES_MODE|FLOORSMAX_MODE|FLOORSMIN_MODE|LANDAREA_MODE|LIVINGAPARTMENTS_MODE|LIVINGAREA_MODE|NONLIVINGAPARTMENTS_MODE|NONLIVINGAREA_MODE|APARTMENTS_MEDI|BASEMENTAREA_MEDI|YEARS_BEGINEXPLUATATION_MEDI|YEARS_BUILD_MEDI|COMMONAREA_MEDI|ELEVATORS_MEDI|ENTRANCES_MEDI|FLOORSMAX_MEDI|FLOORSMIN_MEDI|LANDAREA_MEDI|LIVINGAPARTMENTS_MEDI|LIVINGAREA_MEDI|NONLIVINGAPARTMENTS_MEDI|NONLIVINGAREA_MEDI|FONDKAPREMONT_MODE|HOUSETYPE_MODE|TOTALAREA_MODE|WALLSMATERIAL_MODE|EMERGENCYSTATE_MODE|OBS_30_CNT_SOCIAL_CIRCLE|DEF_30_CNT_SOCIAL_CIRCLE|OBS_60_CNT_SOCIAL_CIRCLE|DEF_60_CNT_SOCIAL_CIRCLE|DAYS_LAST_PHONE_CHANGE|FLAG_DOCUMENT_2|FLAG_DOCUMENT_3|FLAG_DOCUMENT_4|FLAG_DOCUMENT_5|FLAG_DOCUMENT_6|FLAG_DOCUMENT_7|FLAG_DOCUMENT_8|FLAG_DOCUMENT_9|FLAG_DOCUMENT_10|FLAG_DOCUMENT_11|FLAG_DOCUMENT_12|FLAG_DOCUMENT_13|FLAG_DOCUMENT_14|FLAG_DOCUMENT_15|FLAG_DOCUMENT_16|FLAG_DOCUMENT_17|FLAG_DOCUMENT_18|FLAG_DOCUMENT_19|FLAG_DOCUMENT_20|FLAG_DOCUMENT_21|AMT_REQ_CREDIT_BUREAU_HOUR|AMT_REQ_CREDIT_BUREAU_DAY|AMT_REQ_CREDIT_BUREAU_WEEK|AMT_REQ_CREDIT_BUREAU_MON|AMT_REQ_CREDIT_BUREAU_QRT|AMT_REQ_CREDIT_BUREAU_YEAR|\n",
            "+-----+------------------+-----------+------------+---------------+------------+----------------+----------+-----------+---------------+---------------+----------------+--------------------+--------------------+-----------------+--------------------------+----------+-------------+-----------------+---------------+-----------+----------+--------------+---------------+----------------+----------+----------+---------------+---------------+--------------------+---------------------------+--------------------------+-----------------------+--------------------------+--------------------------+---------------------------+----------------------+----------------------+-----------------------+--------------------+-----------------+-----------------+-----------------+--------------+----------------+---------------------------+---------------+--------------+-------------+-------------+-------------+-------------+------------+--------------------+--------------+-----------------------+-----------------+---------------+-----------------+----------------------------+----------------+---------------+--------------+--------------+--------------+--------------+-------------+---------------------+---------------+------------------------+------------------+---------------+-----------------+----------------------------+----------------+---------------+--------------+--------------+--------------+--------------+-------------+---------------------+---------------+------------------------+------------------+------------------+--------------+--------------+------------------+-------------------+------------------------+------------------------+------------------------+------------------------+----------------------+---------------+---------------+---------------+---------------+---------------+---------------+---------------+---------------+----------------+----------------+----------------+----------------+----------------+----------------+----------------+----------------+----------------+----------------+----------------+----------------+--------------------------+-------------------------+--------------------------+-------------------------+-------------------------+--------------------------+\n",
            "|    1|        Cash loans|          M|           N|              Y|           0|        202500.0|  406597.5|    24700.5|       351000.0|  Unaccompanied|         Working|Secondary / secon...|Single / not married|House / apartment|                  0.018801|     -9461|         -637|          -3648.0|          -2120|       null|         1|             1|              0|               1|         1|         0|       Laborers|              1|                   2|                          2|                 WEDNESDAY|                     10|                         0|                         0|                          0|                     0|                     0|                      0|Business Entity T...|0.083036967391323|0.262948592747178| 0.13937578009979|        0.0247|          0.0369|                     0.9722|         0.6192|        0.0143|          0.0|        0.069|       0.0833|        0.125|      0.0369|              0.0202|         0.019|                    0.0|              0.0|         0.0252|           0.0383|                      0.9722|          0.6341|         0.0144|           0.0|         0.069|        0.0833|         0.125|       0.0377|                0.022|         0.0198|                     0.0|               0.0|          0.025|           0.0369|                      0.9722|          0.6243|         0.0144|           0.0|         0.069|        0.0833|         0.125|       0.0375|               0.0205|         0.0193|                     0.0|               0.0|  reg oper account|block of flats|        0.0149|      Stone, brick|                 No|                       2|                       2|                       2|                       2|                 -1134|              0|              1|              0|              0|              0|              0|              0|              0|               0|               0|               0|               0|               0|               0|               0|               0|               0|               0|               0|               0|                         0|                        0|                         0|                        0|                        0|                         1|\n",
            "|    0|        Cash loans|          F|           N|              N|           0|        270000.0| 1293502.5|    35698.5|      1129500.0|         Family|   State servant|    Higher education|             Married|House / apartment|                  0.003541|    -16765|        -1188|          -1186.0|           -291|       null|         1|             1|              0|               1|         1|         0|     Core staff|              2|                   1|                          1|                    MONDAY|                     11|                         0|                         0|                          0|                     0|                     0|                      0|              School|0.311267311381222| 0.62224577525551|             null|        0.0959|          0.0529|                     0.9851|          0.796|        0.0605|         0.08|       0.0345|       0.2917|       0.3333|       0.013|              0.0773|        0.0549|                 0.0039|           0.0098|         0.0924|           0.0538|                      0.9851|           0.804|         0.0497|        0.0806|        0.0345|        0.2917|        0.3333|       0.0128|                0.079|         0.0554|                     0.0|               0.0|         0.0968|           0.0529|                      0.9851|          0.7987|         0.0608|          0.08|        0.0345|        0.2917|        0.3333|       0.0132|               0.0787|         0.0558|                  0.0039|              0.01|  reg oper account|block of flats|        0.0714|             Block|                 No|                       1|                       0|                       1|                       0|                  -828|              0|              1|              0|              0|              0|              0|              0|              0|               0|               0|               0|               0|               0|               0|               0|               0|               0|               0|               0|               0|                         0|                        0|                         0|                        0|                        0|                         0|\n",
            "|    0|   Revolving loans|          M|           Y|              Y|           0|         67500.0|  135000.0|     6750.0|       135000.0|  Unaccompanied|         Working|Secondary / secon...|Single / not married|House / apartment|                  0.010032|    -19046|         -225|          -4260.0|          -2531|         26|         1|             1|              1|               1|         1|         0|       Laborers|              1|                   2|                          2|                    MONDAY|                      9|                         0|                         0|                          0|                     0|                     0|                      0|          Government|             null|0.555912083390443|0.729566690706015|          null|            null|                       null|           null|          null|         null|         null|         null|         null|        null|                null|          null|                   null|             null|           null|             null|                        null|            null|           null|          null|          null|          null|          null|         null|                 null|           null|                    null|              null|           null|             null|                        null|            null|           null|          null|          null|          null|          null|         null|                 null|           null|                    null|              null|              null|          null|          null|              null|               null|                       0|                       0|                       0|                       0|                  -815|              0|              0|              0|              0|              0|              0|              0|              0|               0|               0|               0|               0|               0|               0|               0|               0|               0|               0|               0|               0|                         0|                        0|                         0|                        0|                        0|                         0|\n",
            "|    0|        Cash loans|          F|           N|              Y|           0|        135000.0|  312682.5|    29686.5|       297000.0|  Unaccompanied|         Working|Secondary / secon...|      Civil marriage|House / apartment|                  0.008019|    -19005|        -3039|          -9833.0|          -2437|       null|         1|             1|              0|               1|         0|         0|       Laborers|              2|                   2|                          2|                 WEDNESDAY|                     17|                         0|                         0|                          0|                     0|                     0|                      0|Business Entity T...|             null|0.650441690401465|             null|          null|            null|                       null|           null|          null|         null|         null|         null|         null|        null|                null|          null|                   null|             null|           null|             null|                        null|            null|           null|          null|          null|          null|          null|         null|                 null|           null|                    null|              null|           null|             null|                        null|            null|           null|          null|          null|          null|          null|         null|                 null|           null|                    null|              null|              null|          null|          null|              null|               null|                       2|                       0|                       2|                       0|                  -617|              0|              1|              0|              0|              0|              0|              0|              0|               0|               0|               0|               0|               0|               0|               0|               0|               0|               0|               0|               0|                      null|                     null|                      null|                     null|                     null|                      null|\n",
            "|    0|        Cash loans|          M|           N|              Y|           0|        121500.0|  513000.0|    21865.5|       513000.0|  Unaccompanied|         Working|Secondary / secon...|Single / not married|House / apartment|                  0.028663|    -19932|        -3038|          -4311.0|          -3458|       null|         1|             1|              0|               1|         0|         0|     Core staff|              1|                   2|                          2|                  THURSDAY|                     11|                         0|                         0|                          0|                     0|                     1|                      1|            Religion|             null|0.322738286970405|             null|          null|            null|                       null|           null|          null|         null|         null|         null|         null|        null|                null|          null|                   null|             null|           null|             null|                        null|            null|           null|          null|          null|          null|          null|         null|                 null|           null|                    null|              null|           null|             null|                        null|            null|           null|          null|          null|          null|          null|         null|                 null|           null|                    null|              null|              null|          null|          null|              null|               null|                       0|                       0|                       0|                       0|                 -1106|              0|              0|              0|              0|              0|              0|              1|              0|               0|               0|               0|               0|               0|               0|               0|               0|               0|               0|               0|               0|                         0|                        0|                         0|                        0|                        0|                         0|\n",
            "+-----+------------------+-----------+------------+---------------+------------+----------------+----------+-----------+---------------+---------------+----------------+--------------------+--------------------+-----------------+--------------------------+----------+-------------+-----------------+---------------+-----------+----------+--------------+---------------+----------------+----------+----------+---------------+---------------+--------------------+---------------------------+--------------------------+-----------------------+--------------------------+--------------------------+---------------------------+----------------------+----------------------+-----------------------+--------------------+-----------------+-----------------+-----------------+--------------+----------------+---------------------------+---------------+--------------+-------------+-------------+-------------+-------------+------------+--------------------+--------------+-----------------------+-----------------+---------------+-----------------+----------------------------+----------------+---------------+--------------+--------------+--------------+--------------+-------------+---------------------+---------------+------------------------+------------------+---------------+-----------------+----------------------------+----------------+---------------+--------------+--------------+--------------+--------------+-------------+---------------------+---------------+------------------------+------------------+------------------+--------------+--------------+------------------+-------------------+------------------------+------------------------+------------------------+------------------------+----------------------+---------------+---------------+---------------+---------------+---------------+---------------+---------------+---------------+----------------+----------------+----------------+----------------+----------------+----------------+----------------+----------------+----------------+----------------+----------------+----------------+--------------------------+-------------------------+--------------------------+-------------------------+-------------------------+--------------------------+\n",
            "only showing top 5 rows\n",
            "\n"
          ],
          "name": "stdout"
        }
      ]
    },
    {
      "cell_type": "code",
      "metadata": {
        "id": "5WsTygpOmHEX",
        "colab_type": "code",
        "colab": {}
      },
      "source": [
        ""
      ],
      "execution_count": null,
      "outputs": []
    },
    {
      "cell_type": "markdown",
      "metadata": {
        "id": "w8cfYSesq1LC",
        "colab_type": "text"
      },
      "source": [
        "### Columns Name and Type"
      ]
    },
    {
      "cell_type": "code",
      "metadata": {
        "id": "JO6qU71tmHHU",
        "colab_type": "code",
        "colab": {
          "base_uri": "https://localhost:8080/",
          "height": 1000
        },
        "outputId": "414dd434-525e-45c9-b940-f664e84636ee"
      },
      "source": [
        "df_final.printSchema()\n"
      ],
      "execution_count": 17,
      "outputs": [
        {
          "output_type": "stream",
          "text": [
            "root\n",
            " |-- label: integer (nullable = true)\n",
            " |-- NAME_CONTRACT_TYPE: string (nullable = true)\n",
            " |-- CODE_GENDER: string (nullable = true)\n",
            " |-- FLAG_OWN_CAR: string (nullable = true)\n",
            " |-- FLAG_OWN_REALTY: string (nullable = true)\n",
            " |-- CNT_CHILDREN: integer (nullable = true)\n",
            " |-- AMT_INCOME_TOTAL: double (nullable = true)\n",
            " |-- AMT_CREDIT: double (nullable = true)\n",
            " |-- AMT_ANNUITY: double (nullable = true)\n",
            " |-- AMT_GOODS_PRICE: double (nullable = true)\n",
            " |-- NAME_TYPE_SUITE: string (nullable = true)\n",
            " |-- NAME_INCOME_TYPE: string (nullable = true)\n",
            " |-- NAME_EDUCATION_TYPE: string (nullable = true)\n",
            " |-- NAME_FAMILY_STATUS: string (nullable = true)\n",
            " |-- NAME_HOUSING_TYPE: string (nullable = true)\n",
            " |-- REGION_POPULATION_RELATIVE: double (nullable = true)\n",
            " |-- DAYS_BIRTH: integer (nullable = true)\n",
            " |-- DAYS_EMPLOYED: integer (nullable = true)\n",
            " |-- DAYS_REGISTRATION: double (nullable = true)\n",
            " |-- DAYS_ID_PUBLISH: integer (nullable = true)\n",
            " |-- OWN_CAR_AGE: integer (nullable = true)\n",
            " |-- FLAG_MOBIL: integer (nullable = true)\n",
            " |-- FLAG_EMP_PHONE: integer (nullable = true)\n",
            " |-- FLAG_WORK_PHONE: integer (nullable = true)\n",
            " |-- FLAG_CONT_MOBILE: integer (nullable = true)\n",
            " |-- FLAG_PHONE: integer (nullable = true)\n",
            " |-- FLAG_EMAIL: integer (nullable = true)\n",
            " |-- OCCUPATION_TYPE: string (nullable = true)\n",
            " |-- CNT_FAM_MEMBERS: integer (nullable = true)\n",
            " |-- REGION_RATING_CLIENT: integer (nullable = true)\n",
            " |-- REGION_RATING_CLIENT_W_CITY: integer (nullable = true)\n",
            " |-- WEEKDAY_APPR_PROCESS_START: string (nullable = true)\n",
            " |-- HOUR_APPR_PROCESS_START: integer (nullable = true)\n",
            " |-- REG_REGION_NOT_LIVE_REGION: integer (nullable = true)\n",
            " |-- REG_REGION_NOT_WORK_REGION: integer (nullable = true)\n",
            " |-- LIVE_REGION_NOT_WORK_REGION: integer (nullable = true)\n",
            " |-- REG_CITY_NOT_LIVE_CITY: integer (nullable = true)\n",
            " |-- REG_CITY_NOT_WORK_CITY: integer (nullable = true)\n",
            " |-- LIVE_CITY_NOT_WORK_CITY: integer (nullable = true)\n",
            " |-- ORGANIZATION_TYPE: string (nullable = true)\n",
            " |-- EXT_SOURCE_1: double (nullable = true)\n",
            " |-- EXT_SOURCE_2: double (nullable = true)\n",
            " |-- EXT_SOURCE_3: double (nullable = true)\n",
            " |-- APARTMENTS_AVG: double (nullable = true)\n",
            " |-- BASEMENTAREA_AVG: double (nullable = true)\n",
            " |-- YEARS_BEGINEXPLUATATION_AVG: double (nullable = true)\n",
            " |-- YEARS_BUILD_AVG: double (nullable = true)\n",
            " |-- COMMONAREA_AVG: double (nullable = true)\n",
            " |-- ELEVATORS_AVG: double (nullable = true)\n",
            " |-- ENTRANCES_AVG: double (nullable = true)\n",
            " |-- FLOORSMAX_AVG: double (nullable = true)\n",
            " |-- FLOORSMIN_AVG: double (nullable = true)\n",
            " |-- LANDAREA_AVG: double (nullable = true)\n",
            " |-- LIVINGAPARTMENTS_AVG: double (nullable = true)\n",
            " |-- LIVINGAREA_AVG: double (nullable = true)\n",
            " |-- NONLIVINGAPARTMENTS_AVG: double (nullable = true)\n",
            " |-- NONLIVINGAREA_AVG: double (nullable = true)\n",
            " |-- APARTMENTS_MODE: double (nullable = true)\n",
            " |-- BASEMENTAREA_MODE: double (nullable = true)\n",
            " |-- YEARS_BEGINEXPLUATATION_MODE: double (nullable = true)\n",
            " |-- YEARS_BUILD_MODE: double (nullable = true)\n",
            " |-- COMMONAREA_MODE: double (nullable = true)\n",
            " |-- ELEVATORS_MODE: double (nullable = true)\n",
            " |-- ENTRANCES_MODE: double (nullable = true)\n",
            " |-- FLOORSMAX_MODE: double (nullable = true)\n",
            " |-- FLOORSMIN_MODE: double (nullable = true)\n",
            " |-- LANDAREA_MODE: double (nullable = true)\n",
            " |-- LIVINGAPARTMENTS_MODE: double (nullable = true)\n",
            " |-- LIVINGAREA_MODE: double (nullable = true)\n",
            " |-- NONLIVINGAPARTMENTS_MODE: double (nullable = true)\n",
            " |-- NONLIVINGAREA_MODE: double (nullable = true)\n",
            " |-- APARTMENTS_MEDI: double (nullable = true)\n",
            " |-- BASEMENTAREA_MEDI: double (nullable = true)\n",
            " |-- YEARS_BEGINEXPLUATATION_MEDI: double (nullable = true)\n",
            " |-- YEARS_BUILD_MEDI: double (nullable = true)\n",
            " |-- COMMONAREA_MEDI: double (nullable = true)\n",
            " |-- ELEVATORS_MEDI: double (nullable = true)\n",
            " |-- ENTRANCES_MEDI: double (nullable = true)\n",
            " |-- FLOORSMAX_MEDI: double (nullable = true)\n",
            " |-- FLOORSMIN_MEDI: double (nullable = true)\n",
            " |-- LANDAREA_MEDI: double (nullable = true)\n",
            " |-- LIVINGAPARTMENTS_MEDI: double (nullable = true)\n",
            " |-- LIVINGAREA_MEDI: double (nullable = true)\n",
            " |-- NONLIVINGAPARTMENTS_MEDI: double (nullable = true)\n",
            " |-- NONLIVINGAREA_MEDI: double (nullable = true)\n",
            " |-- FONDKAPREMONT_MODE: string (nullable = true)\n",
            " |-- HOUSETYPE_MODE: string (nullable = true)\n",
            " |-- TOTALAREA_MODE: double (nullable = true)\n",
            " |-- WALLSMATERIAL_MODE: string (nullable = true)\n",
            " |-- EMERGENCYSTATE_MODE: string (nullable = true)\n",
            " |-- OBS_30_CNT_SOCIAL_CIRCLE: integer (nullable = true)\n",
            " |-- DEF_30_CNT_SOCIAL_CIRCLE: integer (nullable = true)\n",
            " |-- OBS_60_CNT_SOCIAL_CIRCLE: integer (nullable = true)\n",
            " |-- DEF_60_CNT_SOCIAL_CIRCLE: integer (nullable = true)\n",
            " |-- DAYS_LAST_PHONE_CHANGE: integer (nullable = true)\n",
            " |-- FLAG_DOCUMENT_2: integer (nullable = true)\n",
            " |-- FLAG_DOCUMENT_3: integer (nullable = true)\n",
            " |-- FLAG_DOCUMENT_4: integer (nullable = true)\n",
            " |-- FLAG_DOCUMENT_5: integer (nullable = true)\n",
            " |-- FLAG_DOCUMENT_6: integer (nullable = true)\n",
            " |-- FLAG_DOCUMENT_7: integer (nullable = true)\n",
            " |-- FLAG_DOCUMENT_8: integer (nullable = true)\n",
            " |-- FLAG_DOCUMENT_9: integer (nullable = true)\n",
            " |-- FLAG_DOCUMENT_10: integer (nullable = true)\n",
            " |-- FLAG_DOCUMENT_11: integer (nullable = true)\n",
            " |-- FLAG_DOCUMENT_12: integer (nullable = true)\n",
            " |-- FLAG_DOCUMENT_13: integer (nullable = true)\n",
            " |-- FLAG_DOCUMENT_14: integer (nullable = true)\n",
            " |-- FLAG_DOCUMENT_15: integer (nullable = true)\n",
            " |-- FLAG_DOCUMENT_16: integer (nullable = true)\n",
            " |-- FLAG_DOCUMENT_17: integer (nullable = true)\n",
            " |-- FLAG_DOCUMENT_18: integer (nullable = true)\n",
            " |-- FLAG_DOCUMENT_19: integer (nullable = true)\n",
            " |-- FLAG_DOCUMENT_20: integer (nullable = true)\n",
            " |-- FLAG_DOCUMENT_21: integer (nullable = true)\n",
            " |-- AMT_REQ_CREDIT_BUREAU_HOUR: integer (nullable = true)\n",
            " |-- AMT_REQ_CREDIT_BUREAU_DAY: integer (nullable = true)\n",
            " |-- AMT_REQ_CREDIT_BUREAU_WEEK: integer (nullable = true)\n",
            " |-- AMT_REQ_CREDIT_BUREAU_MON: integer (nullable = true)\n",
            " |-- AMT_REQ_CREDIT_BUREAU_QRT: integer (nullable = true)\n",
            " |-- AMT_REQ_CREDIT_BUREAU_YEAR: integer (nullable = true)\n",
            "\n"
          ],
          "name": "stdout"
        }
      ]
    },
    {
      "cell_type": "code",
      "metadata": {
        "id": "ZpUmy9r2mHL0",
        "colab_type": "code",
        "colab": {}
      },
      "source": [
        ""
      ],
      "execution_count": null,
      "outputs": []
    },
    {
      "cell_type": "markdown",
      "metadata": {
        "id": "BKdv_sRbtu5R",
        "colab_type": "text"
      },
      "source": [
        "### Checking Null values"
      ]
    },
    {
      "cell_type": "code",
      "metadata": {
        "id": "qwNPosvytuQk",
        "colab_type": "code",
        "colab": {
          "base_uri": "https://localhost:8080/",
          "height": 141
        },
        "outputId": "56d34dad-792d-4368-c89b-77ec3ff3c974"
      },
      "source": [
        "#checking Nan's value\n",
        "df_final.select(*(sum(col(c).isNull().cast(\"int\")).alias(c) for c in df_final.columns)).show()\n"
      ],
      "execution_count": 18,
      "outputs": [
        {
          "output_type": "stream",
          "text": [
            "+-----+------------------+-----------+------------+---------------+------------+----------------+----------+-----------+---------------+---------------+----------------+-------------------+------------------+-----------------+--------------------------+----------+-------------+-----------------+---------------+-----------+----------+--------------+---------------+----------------+----------+----------+---------------+---------------+--------------------+---------------------------+--------------------------+-----------------------+--------------------------+--------------------------+---------------------------+----------------------+----------------------+-----------------------+-----------------+------------+------------+------------+--------------+----------------+---------------------------+---------------+--------------+-------------+-------------+-------------+-------------+------------+--------------------+--------------+-----------------------+-----------------+---------------+-----------------+----------------------------+----------------+---------------+--------------+--------------+--------------+--------------+-------------+---------------------+---------------+------------------------+------------------+---------------+-----------------+----------------------------+----------------+---------------+--------------+--------------+--------------+--------------+-------------+---------------------+---------------+------------------------+------------------+------------------+--------------+--------------+------------------+-------------------+------------------------+------------------------+------------------------+------------------------+----------------------+---------------+---------------+---------------+---------------+---------------+---------------+---------------+---------------+----------------+----------------+----------------+----------------+----------------+----------------+----------------+----------------+----------------+----------------+----------------+----------------+--------------------------+-------------------------+--------------------------+-------------------------+-------------------------+--------------------------+\n",
            "|label|NAME_CONTRACT_TYPE|CODE_GENDER|FLAG_OWN_CAR|FLAG_OWN_REALTY|CNT_CHILDREN|AMT_INCOME_TOTAL|AMT_CREDIT|AMT_ANNUITY|AMT_GOODS_PRICE|NAME_TYPE_SUITE|NAME_INCOME_TYPE|NAME_EDUCATION_TYPE|NAME_FAMILY_STATUS|NAME_HOUSING_TYPE|REGION_POPULATION_RELATIVE|DAYS_BIRTH|DAYS_EMPLOYED|DAYS_REGISTRATION|DAYS_ID_PUBLISH|OWN_CAR_AGE|FLAG_MOBIL|FLAG_EMP_PHONE|FLAG_WORK_PHONE|FLAG_CONT_MOBILE|FLAG_PHONE|FLAG_EMAIL|OCCUPATION_TYPE|CNT_FAM_MEMBERS|REGION_RATING_CLIENT|REGION_RATING_CLIENT_W_CITY|WEEKDAY_APPR_PROCESS_START|HOUR_APPR_PROCESS_START|REG_REGION_NOT_LIVE_REGION|REG_REGION_NOT_WORK_REGION|LIVE_REGION_NOT_WORK_REGION|REG_CITY_NOT_LIVE_CITY|REG_CITY_NOT_WORK_CITY|LIVE_CITY_NOT_WORK_CITY|ORGANIZATION_TYPE|EXT_SOURCE_1|EXT_SOURCE_2|EXT_SOURCE_3|APARTMENTS_AVG|BASEMENTAREA_AVG|YEARS_BEGINEXPLUATATION_AVG|YEARS_BUILD_AVG|COMMONAREA_AVG|ELEVATORS_AVG|ENTRANCES_AVG|FLOORSMAX_AVG|FLOORSMIN_AVG|LANDAREA_AVG|LIVINGAPARTMENTS_AVG|LIVINGAREA_AVG|NONLIVINGAPARTMENTS_AVG|NONLIVINGAREA_AVG|APARTMENTS_MODE|BASEMENTAREA_MODE|YEARS_BEGINEXPLUATATION_MODE|YEARS_BUILD_MODE|COMMONAREA_MODE|ELEVATORS_MODE|ENTRANCES_MODE|FLOORSMAX_MODE|FLOORSMIN_MODE|LANDAREA_MODE|LIVINGAPARTMENTS_MODE|LIVINGAREA_MODE|NONLIVINGAPARTMENTS_MODE|NONLIVINGAREA_MODE|APARTMENTS_MEDI|BASEMENTAREA_MEDI|YEARS_BEGINEXPLUATATION_MEDI|YEARS_BUILD_MEDI|COMMONAREA_MEDI|ELEVATORS_MEDI|ENTRANCES_MEDI|FLOORSMAX_MEDI|FLOORSMIN_MEDI|LANDAREA_MEDI|LIVINGAPARTMENTS_MEDI|LIVINGAREA_MEDI|NONLIVINGAPARTMENTS_MEDI|NONLIVINGAREA_MEDI|FONDKAPREMONT_MODE|HOUSETYPE_MODE|TOTALAREA_MODE|WALLSMATERIAL_MODE|EMERGENCYSTATE_MODE|OBS_30_CNT_SOCIAL_CIRCLE|DEF_30_CNT_SOCIAL_CIRCLE|OBS_60_CNT_SOCIAL_CIRCLE|DEF_60_CNT_SOCIAL_CIRCLE|DAYS_LAST_PHONE_CHANGE|FLAG_DOCUMENT_2|FLAG_DOCUMENT_3|FLAG_DOCUMENT_4|FLAG_DOCUMENT_5|FLAG_DOCUMENT_6|FLAG_DOCUMENT_7|FLAG_DOCUMENT_8|FLAG_DOCUMENT_9|FLAG_DOCUMENT_10|FLAG_DOCUMENT_11|FLAG_DOCUMENT_12|FLAG_DOCUMENT_13|FLAG_DOCUMENT_14|FLAG_DOCUMENT_15|FLAG_DOCUMENT_16|FLAG_DOCUMENT_17|FLAG_DOCUMENT_18|FLAG_DOCUMENT_19|FLAG_DOCUMENT_20|FLAG_DOCUMENT_21|AMT_REQ_CREDIT_BUREAU_HOUR|AMT_REQ_CREDIT_BUREAU_DAY|AMT_REQ_CREDIT_BUREAU_WEEK|AMT_REQ_CREDIT_BUREAU_MON|AMT_REQ_CREDIT_BUREAU_QRT|AMT_REQ_CREDIT_BUREAU_YEAR|\n",
            "+-----+------------------+-----------+------------+---------------+------------+----------------+----------+-----------+---------------+---------------+----------------+-------------------+------------------+-----------------+--------------------------+----------+-------------+-----------------+---------------+-----------+----------+--------------+---------------+----------------+----------+----------+---------------+---------------+--------------------+---------------------------+--------------------------+-----------------------+--------------------------+--------------------------+---------------------------+----------------------+----------------------+-----------------------+-----------------+------------+------------+------------+--------------+----------------+---------------------------+---------------+--------------+-------------+-------------+-------------+-------------+------------+--------------------+--------------+-----------------------+-----------------+---------------+-----------------+----------------------------+----------------+---------------+--------------+--------------+--------------+--------------+-------------+---------------------+---------------+------------------------+------------------+---------------+-----------------+----------------------------+----------------+---------------+--------------+--------------+--------------+--------------+-------------+---------------------+---------------+------------------------+------------------+------------------+--------------+--------------+------------------+-------------------+------------------------+------------------------+------------------------+------------------------+----------------------+---------------+---------------+---------------+---------------+---------------+---------------+---------------+---------------+----------------+----------------+----------------+----------------+----------------+----------------+----------------+----------------+----------------+----------------+----------------+----------------+--------------------------+-------------------------+--------------------------+-------------------------+-------------------------+--------------------------+\n",
            "|    0|                 0|          0|           0|              0|           0|               0|         0|         12|            278|           1292|               0|                  0|                 0|                0|                         0|         0|            0|                0|              0|     202929|         0|             0|              0|               0|         0|         0|          96391|              2|                   0|                          0|                         0|                      0|                         0|                         0|                          0|                     0|                     0|                      0|                0|      173378|         660|       60965|        156061|          179943|                     150007|         204488|        214865|       163891|       154828|       153020|       208642|      182590|              210199|        154350|                 213514|           169682|         156061|           179943|                      150007|          204488|         214865|        163891|        154828|        153020|        208642|       182590|               210199|         154350|                  213514|            169682|         156061|           179943|                      150007|          204488|         214865|        163891|        154828|        153020|        208642|       182590|               210199|         154350|                  213514|            169682|            210295|        154297|        148431|            156341|             145755|                    1021|                    1021|                    1021|                    1021|                     1|              0|              0|              0|              0|              0|              0|              0|              0|               0|               0|               0|               0|               0|               0|               0|               0|               0|               0|               0|               0|                     41519|                    41519|                     41519|                    41519|                    41519|                     41519|\n",
            "+-----+------------------+-----------+------------+---------------+------------+----------------+----------+-----------+---------------+---------------+----------------+-------------------+------------------+-----------------+--------------------------+----------+-------------+-----------------+---------------+-----------+----------+--------------+---------------+----------------+----------+----------+---------------+---------------+--------------------+---------------------------+--------------------------+-----------------------+--------------------------+--------------------------+---------------------------+----------------------+----------------------+-----------------------+-----------------+------------+------------+------------+--------------+----------------+---------------------------+---------------+--------------+-------------+-------------+-------------+-------------+------------+--------------------+--------------+-----------------------+-----------------+---------------+-----------------+----------------------------+----------------+---------------+--------------+--------------+--------------+--------------+-------------+---------------------+---------------+------------------------+------------------+---------------+-----------------+----------------------------+----------------+---------------+--------------+--------------+--------------+--------------+-------------+---------------------+---------------+------------------------+------------------+------------------+--------------+--------------+------------------+-------------------+------------------------+------------------------+------------------------+------------------------+----------------------+---------------+---------------+---------------+---------------+---------------+---------------+---------------+---------------+----------------+----------------+----------------+----------------+----------------+----------------+----------------+----------------+----------------+----------------+----------------+----------------+--------------------------+-------------------------+--------------------------+-------------------------+-------------------------+--------------------------+\n",
            "\n"
          ],
          "name": "stdout"
        }
      ]
    },
    {
      "cell_type": "code",
      "metadata": {
        "id": "wb4M77rvtuZE",
        "colab_type": "code",
        "colab": {}
      },
      "source": [
        ""
      ],
      "execution_count": null,
      "outputs": []
    },
    {
      "cell_type": "markdown",
      "metadata": {
        "id": "-_MlSVKMtA-b",
        "colab_type": "text"
      },
      "source": [
        "### Seperating Categorical and Numerical Columns"
      ]
    },
    {
      "cell_type": "code",
      "metadata": {
        "id": "5m0z1QTYmHWE",
        "colab_type": "code",
        "colab": {
          "base_uri": "https://localhost:8080/",
          "height": 72
        },
        "outputId": "9fbc3b83-2fb9-4df9-e644-74e976213ac2"
      },
      "source": [
        "# categorical column\n",
        "cat_cols = [item[0] for item in df_final.dtypes if item[1].startswith('string')] \n",
        "print(\"cat_cols:\", cat_cols)\n",
        "\n",
        "# numerical column\n",
        "num_cols = [item[0] for item in df_final.dtypes if item[1].startswith('int') | item[1].startswith('double')] \n",
        "print(\"num_cols:\", num_cols)\n"
      ],
      "execution_count": 19,
      "outputs": [
        {
          "output_type": "stream",
          "text": [
            "cat_cols: ['NAME_CONTRACT_TYPE', 'CODE_GENDER', 'FLAG_OWN_CAR', 'FLAG_OWN_REALTY', 'NAME_TYPE_SUITE', 'NAME_INCOME_TYPE', 'NAME_EDUCATION_TYPE', 'NAME_FAMILY_STATUS', 'NAME_HOUSING_TYPE', 'OCCUPATION_TYPE', 'WEEKDAY_APPR_PROCESS_START', 'ORGANIZATION_TYPE', 'FONDKAPREMONT_MODE', 'HOUSETYPE_MODE', 'WALLSMATERIAL_MODE', 'EMERGENCYSTATE_MODE']\n",
            "num_cols: ['label', 'CNT_CHILDREN', 'AMT_INCOME_TOTAL', 'AMT_CREDIT', 'AMT_ANNUITY', 'AMT_GOODS_PRICE', 'REGION_POPULATION_RELATIVE', 'DAYS_BIRTH', 'DAYS_EMPLOYED', 'DAYS_REGISTRATION', 'DAYS_ID_PUBLISH', 'OWN_CAR_AGE', 'FLAG_MOBIL', 'FLAG_EMP_PHONE', 'FLAG_WORK_PHONE', 'FLAG_CONT_MOBILE', 'FLAG_PHONE', 'FLAG_EMAIL', 'CNT_FAM_MEMBERS', 'REGION_RATING_CLIENT', 'REGION_RATING_CLIENT_W_CITY', 'HOUR_APPR_PROCESS_START', 'REG_REGION_NOT_LIVE_REGION', 'REG_REGION_NOT_WORK_REGION', 'LIVE_REGION_NOT_WORK_REGION', 'REG_CITY_NOT_LIVE_CITY', 'REG_CITY_NOT_WORK_CITY', 'LIVE_CITY_NOT_WORK_CITY', 'EXT_SOURCE_1', 'EXT_SOURCE_2', 'EXT_SOURCE_3', 'APARTMENTS_AVG', 'BASEMENTAREA_AVG', 'YEARS_BEGINEXPLUATATION_AVG', 'YEARS_BUILD_AVG', 'COMMONAREA_AVG', 'ELEVATORS_AVG', 'ENTRANCES_AVG', 'FLOORSMAX_AVG', 'FLOORSMIN_AVG', 'LANDAREA_AVG', 'LIVINGAPARTMENTS_AVG', 'LIVINGAREA_AVG', 'NONLIVINGAPARTMENTS_AVG', 'NONLIVINGAREA_AVG', 'APARTMENTS_MODE', 'BASEMENTAREA_MODE', 'YEARS_BEGINEXPLUATATION_MODE', 'YEARS_BUILD_MODE', 'COMMONAREA_MODE', 'ELEVATORS_MODE', 'ENTRANCES_MODE', 'FLOORSMAX_MODE', 'FLOORSMIN_MODE', 'LANDAREA_MODE', 'LIVINGAPARTMENTS_MODE', 'LIVINGAREA_MODE', 'NONLIVINGAPARTMENTS_MODE', 'NONLIVINGAREA_MODE', 'APARTMENTS_MEDI', 'BASEMENTAREA_MEDI', 'YEARS_BEGINEXPLUATATION_MEDI', 'YEARS_BUILD_MEDI', 'COMMONAREA_MEDI', 'ELEVATORS_MEDI', 'ENTRANCES_MEDI', 'FLOORSMAX_MEDI', 'FLOORSMIN_MEDI', 'LANDAREA_MEDI', 'LIVINGAPARTMENTS_MEDI', 'LIVINGAREA_MEDI', 'NONLIVINGAPARTMENTS_MEDI', 'NONLIVINGAREA_MEDI', 'TOTALAREA_MODE', 'OBS_30_CNT_SOCIAL_CIRCLE', 'DEF_30_CNT_SOCIAL_CIRCLE', 'OBS_60_CNT_SOCIAL_CIRCLE', 'DEF_60_CNT_SOCIAL_CIRCLE', 'DAYS_LAST_PHONE_CHANGE', 'FLAG_DOCUMENT_2', 'FLAG_DOCUMENT_3', 'FLAG_DOCUMENT_4', 'FLAG_DOCUMENT_5', 'FLAG_DOCUMENT_6', 'FLAG_DOCUMENT_7', 'FLAG_DOCUMENT_8', 'FLAG_DOCUMENT_9', 'FLAG_DOCUMENT_10', 'FLAG_DOCUMENT_11', 'FLAG_DOCUMENT_12', 'FLAG_DOCUMENT_13', 'FLAG_DOCUMENT_14', 'FLAG_DOCUMENT_15', 'FLAG_DOCUMENT_16', 'FLAG_DOCUMENT_17', 'FLAG_DOCUMENT_18', 'FLAG_DOCUMENT_19', 'FLAG_DOCUMENT_20', 'FLAG_DOCUMENT_21', 'AMT_REQ_CREDIT_BUREAU_HOUR', 'AMT_REQ_CREDIT_BUREAU_DAY', 'AMT_REQ_CREDIT_BUREAU_WEEK', 'AMT_REQ_CREDIT_BUREAU_MON', 'AMT_REQ_CREDIT_BUREAU_QRT', 'AMT_REQ_CREDIT_BUREAU_YEAR']\n"
          ],
          "name": "stdout"
        }
      ]
    },
    {
      "cell_type": "code",
      "metadata": {
        "id": "sgaXxSYamHa1",
        "colab_type": "code",
        "colab": {}
      },
      "source": [
        ""
      ],
      "execution_count": null,
      "outputs": []
    },
    {
      "cell_type": "markdown",
      "metadata": {
        "id": "ohoQxZV7yi_1",
        "colab_type": "text"
      },
      "source": [
        "### Describe of Numerical columns"
      ]
    },
    {
      "cell_type": "code",
      "metadata": {
        "id": "cfjzdic6mHmT",
        "colab_type": "code",
        "colab": {
          "base_uri": "https://localhost:8080/",
          "height": 211
        },
        "outputId": "837d1a29-bd40-4995-d053-4c77754637cc"
      },
      "source": [
        "# Check summary statistic of numerical columns\n",
        "df_final.select(num_cols).describe().show()"
      ],
      "execution_count": 20,
      "outputs": [
        {
          "output_type": "stream",
          "text": [
            "+-------+-------------------+------------------+------------------+-----------------+------------------+-----------------+--------------------------+-------------------+-----------------+------------------+-------------------+------------------+--------------------+-------------------+------------------+--------------------+-------------------+-------------------+-----------------+--------------------+---------------------------+-----------------------+--------------------------+--------------------------+---------------------------+----------------------+----------------------+-----------------------+-------------------+-------------------+------------------+-------------------+-------------------+---------------------------+-------------------+-------------------+-------------------+-------------------+-------------------+-------------------+-------------------+--------------------+-------------------+-----------------------+--------------------+-------------------+-------------------+----------------------------+-------------------+-------------------+-------------------+-------------------+-------------------+-------------------+-------------------+---------------------+-------------------+------------------------+-------------------+-------------------+-------------------+----------------------------+-------------------+--------------------+-------------------+-------------------+-------------------+-------------------+-------------------+---------------------+-------------------+------------------------+-------------------+-------------------+------------------------+------------------------+------------------------+------------------------+----------------------+--------------------+------------------+--------------------+--------------------+-------------------+--------------------+-------------------+-------------------+--------------------+--------------------+--------------------+--------------------+--------------------+--------------------+--------------------+--------------------+--------------------+--------------------+--------------------+--------------------+--------------------------+-------------------------+--------------------------+-------------------------+-------------------------+--------------------------+\n",
            "|summary|              label|      CNT_CHILDREN|  AMT_INCOME_TOTAL|       AMT_CREDIT|       AMT_ANNUITY|  AMT_GOODS_PRICE|REGION_POPULATION_RELATIVE|         DAYS_BIRTH|    DAYS_EMPLOYED| DAYS_REGISTRATION|    DAYS_ID_PUBLISH|       OWN_CAR_AGE|          FLAG_MOBIL|     FLAG_EMP_PHONE|   FLAG_WORK_PHONE|    FLAG_CONT_MOBILE|         FLAG_PHONE|         FLAG_EMAIL|  CNT_FAM_MEMBERS|REGION_RATING_CLIENT|REGION_RATING_CLIENT_W_CITY|HOUR_APPR_PROCESS_START|REG_REGION_NOT_LIVE_REGION|REG_REGION_NOT_WORK_REGION|LIVE_REGION_NOT_WORK_REGION|REG_CITY_NOT_LIVE_CITY|REG_CITY_NOT_WORK_CITY|LIVE_CITY_NOT_WORK_CITY|       EXT_SOURCE_1|       EXT_SOURCE_2|      EXT_SOURCE_3|     APARTMENTS_AVG|   BASEMENTAREA_AVG|YEARS_BEGINEXPLUATATION_AVG|    YEARS_BUILD_AVG|     COMMONAREA_AVG|      ELEVATORS_AVG|      ENTRANCES_AVG|      FLOORSMAX_AVG|      FLOORSMIN_AVG|       LANDAREA_AVG|LIVINGAPARTMENTS_AVG|     LIVINGAREA_AVG|NONLIVINGAPARTMENTS_AVG|   NONLIVINGAREA_AVG|    APARTMENTS_MODE|  BASEMENTAREA_MODE|YEARS_BEGINEXPLUATATION_MODE|   YEARS_BUILD_MODE|    COMMONAREA_MODE|     ELEVATORS_MODE|     ENTRANCES_MODE|     FLOORSMAX_MODE|     FLOORSMIN_MODE|      LANDAREA_MODE|LIVINGAPARTMENTS_MODE|    LIVINGAREA_MODE|NONLIVINGAPARTMENTS_MODE| NONLIVINGAREA_MODE|    APARTMENTS_MEDI|  BASEMENTAREA_MEDI|YEARS_BEGINEXPLUATATION_MEDI|   YEARS_BUILD_MEDI|     COMMONAREA_MEDI|     ELEVATORS_MEDI|     ENTRANCES_MEDI|     FLOORSMAX_MEDI|     FLOORSMIN_MEDI|      LANDAREA_MEDI|LIVINGAPARTMENTS_MEDI|    LIVINGAREA_MEDI|NONLIVINGAPARTMENTS_MEDI| NONLIVINGAREA_MEDI|     TOTALAREA_MODE|OBS_30_CNT_SOCIAL_CIRCLE|DEF_30_CNT_SOCIAL_CIRCLE|OBS_60_CNT_SOCIAL_CIRCLE|DEF_60_CNT_SOCIAL_CIRCLE|DAYS_LAST_PHONE_CHANGE|     FLAG_DOCUMENT_2|   FLAG_DOCUMENT_3|     FLAG_DOCUMENT_4|     FLAG_DOCUMENT_5|    FLAG_DOCUMENT_6|     FLAG_DOCUMENT_7|    FLAG_DOCUMENT_8|    FLAG_DOCUMENT_9|    FLAG_DOCUMENT_10|    FLAG_DOCUMENT_11|    FLAG_DOCUMENT_12|    FLAG_DOCUMENT_13|    FLAG_DOCUMENT_14|    FLAG_DOCUMENT_15|    FLAG_DOCUMENT_16|    FLAG_DOCUMENT_17|    FLAG_DOCUMENT_18|    FLAG_DOCUMENT_19|    FLAG_DOCUMENT_20|    FLAG_DOCUMENT_21|AMT_REQ_CREDIT_BUREAU_HOUR|AMT_REQ_CREDIT_BUREAU_DAY|AMT_REQ_CREDIT_BUREAU_WEEK|AMT_REQ_CREDIT_BUREAU_MON|AMT_REQ_CREDIT_BUREAU_QRT|AMT_REQ_CREDIT_BUREAU_YEAR|\n",
            "+-------+-------------------+------------------+------------------+-----------------+------------------+-----------------+--------------------------+-------------------+-----------------+------------------+-------------------+------------------+--------------------+-------------------+------------------+--------------------+-------------------+-------------------+-----------------+--------------------+---------------------------+-----------------------+--------------------------+--------------------------+---------------------------+----------------------+----------------------+-----------------------+-------------------+-------------------+------------------+-------------------+-------------------+---------------------------+-------------------+-------------------+-------------------+-------------------+-------------------+-------------------+-------------------+--------------------+-------------------+-----------------------+--------------------+-------------------+-------------------+----------------------------+-------------------+-------------------+-------------------+-------------------+-------------------+-------------------+-------------------+---------------------+-------------------+------------------------+-------------------+-------------------+-------------------+----------------------------+-------------------+--------------------+-------------------+-------------------+-------------------+-------------------+-------------------+---------------------+-------------------+------------------------+-------------------+-------------------+------------------------+------------------------+------------------------+------------------------+----------------------+--------------------+------------------+--------------------+--------------------+-------------------+--------------------+-------------------+-------------------+--------------------+--------------------+--------------------+--------------------+--------------------+--------------------+--------------------+--------------------+--------------------+--------------------+--------------------+--------------------+--------------------------+-------------------------+--------------------------+-------------------------+-------------------------+--------------------------+\n",
            "|  count|             307511|            307511|            307511|           307511|            307499|           307233|                    307511|             307511|           307511|            307511|             307511|            104582|              307511|             307511|            307511|              307511|             307511|             307511|           307509|              307511|                     307511|                 307511|                    307511|                    307511|                     307511|                307511|                307511|                 307511|             134133|             306851|            246546|             151450|             127568|                     157504|             103023|              92646|             143620|             152683|             154491|              98869|             124921|               97312|             153161|                  93997|              137829|             151450|             127568|                      157504|             103023|              92646|             143620|             152683|             154491|              98869|             124921|                97312|             153161|                   93997|             137829|             151450|             127568|                      157504|             103023|               92646|             143620|             152683|             154491|              98869|             124921|                97312|             153161|                   93997|             137829|             159080|                  306490|                  306490|                  306490|                  306490|                307510|              307511|            307511|              307511|              307511|             307511|              307511|             307511|             307511|              307511|              307511|              307511|              307511|              307511|              307511|              307511|              307511|              307511|              307511|              307511|              307511|                    265992|                   265992|                    265992|                   265992|                   265992|                    265992|\n",
            "|   mean|0.08072881945686496|0.4170517477423572|168797.91929698453|599025.9997057016|27108.573909183444|538396.2074288895|       0.02086811205779088|-16036.995066843137|63815.04590404896|-4986.120327538418|-2994.2023732484367|12.061090818687727|  0.9999967480838083| 0.8198893698111612|0.1993684778755882|  0.9981334001060125|0.28106636835755466| 0.0567199222141647|2.152665450442101|  2.0524631639193394|          2.031520823645333|     12.063418869568894|      0.015144173704355291|       0.05076891558350758|        0.04065870814377372|   0.07817281333025486|   0.23045354475124466|    0.17955455252007246| 0.5021298056566657| 0.5143926741308396| 0.510852906179926|0.11744049917464647|0.08844221905180051|         0.9777348581622165| 0.7524714325927284|0.04462071541135103| 0.0789415123241662|0.14972467006798332| 0.2262819070366472|0.23189350049056462|0.06633318417239707| 0.10077477495067381|0.10739901933259945|   0.008808672617209091|0.028357757075796745|0.11423100693299625|0.08754321224758498|          0.9770653729428672| 0.7596373227337413|0.04255313775014628|0.07448973610916801| 0.1451926586456249|0.22231504747847533|0.22805849255076463|0.06495768445657651|  0.10564485674943509|0.10597505043712188|     0.00807638754428191|0.02702231968598766|0.11784992076593202|0.08795485466574758|          0.9777522640693695| 0.7557462721916708|0.044595101785290886|0.07807784431135321|0.14921278072862992|  0.225896590092615|0.23162493804935408| 0.0671687490493997|  0.10195447324073277| 0.1086067360489957|     0.00865101333021032|0.02823592059726216|0.10254666268544117|      1.4222454239942575|      0.1434206662533851|      1.4052921791901856|     0.10004894123788705|    -962.8587883320868|4.227491049100682...|0.7100233812774177|8.129790479039775E-5|0.015114906458630749| 0.0880553866365756|1.918630553053386...|0.08137595077899652|0.00389579559755586|2.276341334131137E-5|0.003912055178513939|6.503832383231819E-6|0.003525077151711646|0.002936480321029...|0.001209712823281...|0.009928100133003373|2.666571277125046E-4|0.008129790479039774|5.951006630657115E-4|5.072989258920819E-4|3.349473677364387E-4|      0.006402448193930645|     0.007000210532647...|        0.0343619356973142|      0.26739526000781977|      0.26547414959848414|         1.899974435321363|\n",
            "| stddev|0.27241864564839474| 0.722121384437624|237123.14627885292| 402490.776995853|14493.737315118282|369446.4605400566|      0.013831280122704629|  4363.988631785589|141275.7665187273|3522.8863209630777| 1509.4504190030332|11.944811582242773|0.001803307015351...|0.38428019893876375|0.3995262281502264|0.043163894142432276| 0.4495205468567571|0.23130703972270691|0.910681569179293|  0.5090339028156775|         0.5027370329147685|      3.265832255437868|       0.12212647628215206|       0.21952582879696056|        0.19749861882842384|    0.2684437723734038|   0.42112383591389924|     0.3838166153855956|0.21106224927392506|0.19106015498493648|0.1948443644637484|0.10824029130032205|0.08243815873568476|       0.059223314358362554|0.11327992663224673|0.07603574505040901|0.13457600110034387|0.10004912076035892|0.14464069954800424|0.16138028880013744| 0.0811836407017938| 0.09257613396049744|0.11056452318371306|    0.04773166205034787| 0.06952318332123585|0.10793603908753319|0.08430717486924529|         0.06457543708048025|0.11011102734194857|0.07444452253839144|0.13225614415050632|0.10097698816024635|0.14370940659531603|0.16115977149547567|0.08175027780843543|  0.09788044657879318|0.11184526587783407|    0.046276266219835584|0.07025385904394443|0.10907590600115318|0.08217874951463429|         0.05989731850511966|0.11206630964404385|  0.0761442622409145|0.13446714769067428|0.10036839449763227|0.14506702591935114|0.16193354145715583|0.08216701028007181|  0.09364233271153849|0.11226025867534772|    0.047414727907802684|0.07016648150682478|0.10746232414961904|       2.400988746109015|     0.44669842938152937|       2.379803351979393|     0.36229080397557306|     826.8084870406564|0.006501789045489796|0.4537519684327408|0.009016183216550844| 0.12201022281354137|0.28337589286299125|0.013850157677017437|  0.273412048944513|0.06229471080039372|0.004771055354069199| 0.06242406326684521|0.002550257091597873| 0.05926771807375299|0.054109767376428676| 0.03475993882769264| 0.09914416233784976|0.016327488741596622|   0.089798236109396| 0.02438746506586233|0.022517620268446066|0.018298531822437545|       0.08384912844747716|      0.11075740632435481|       0.20468487581282396|       0.9160023961526145|       0.7940556483207586|        1.8692949981815645|\n",
            "|    min|                  0|                 0|           25650.0|          45000.0|            1615.5|          40500.0|                    2.9E-4|             -25229|           -17912|          -24672.0|              -7197|                 0|                   0|                  0|                 0|                   0|                  0|                  0|                1|                   1|                          1|                      0|                         0|                         0|                          0|                     0|                     0|                      0|  0.014568132412446| 8.1736165188844E-8|   5.2726523871E-4|                0.0|                0.0|                        0.0|                0.0|                0.0|                0.0|                0.0|                0.0|                0.0|                0.0|                 0.0|                0.0|                    0.0|                 0.0|                0.0|                0.0|                         0.0|                0.0|                0.0|                0.0|                0.0|                0.0|                0.0|                0.0|                  0.0|                0.0|                     0.0|                0.0|                0.0|                0.0|                         0.0|                0.0|                 0.0|                0.0|                0.0|                0.0|                0.0|                0.0|                  0.0|                0.0|                     0.0|                0.0|                0.0|                       0|                       0|                       0|                       0|                 -4292|                   0|                 0|                   0|                   0|                  0|                   0|                  0|                  0|                   0|                   0|                   0|                   0|                   0|                   0|                   0|                   0|                   0|                   0|                   0|                   0|                         0|                        0|                         0|                        0|                        0|                         0|\n",
            "|    max|                  1|                19|            1.17E8|        4050000.0|          258025.5|        4050000.0|                  0.072508|              -7489|           365243|               0.0|                  0|                91|                   1|                  1|                 1|                   1|                  1|                  1|               20|                   3|                          3|                     23|                         1|                         1|                          1|                     1|                     1|                      1|  0.962692770561306|  0.854999666404701|  0.89600954949484|                1.0|                1.0|                        1.0|                1.0|                1.0|                1.0|                1.0|                1.0|                1.0|                1.0|                 1.0|                1.0|                    1.0|                 1.0|                1.0|                1.0|                         1.0|                1.0|                1.0|                1.0|                1.0|                1.0|                1.0|                1.0|                  1.0|                1.0|                     1.0|                1.0|                1.0|                1.0|                         1.0|                1.0|                 1.0|                1.0|                1.0|                1.0|                1.0|                1.0|                  1.0|                1.0|                     1.0|                1.0|                1.0|                     348|                      34|                     344|                      24|                     0|                   1|                 1|                   1|                   1|                  1|                   1|                  1|                  1|                   1|                   1|                   1|                   1|                   1|                   1|                   1|                   1|                   1|                   1|                   1|                   1|                         4|                        9|                         8|                       27|                      261|                        25|\n",
            "+-------+-------------------+------------------+------------------+-----------------+------------------+-----------------+--------------------------+-------------------+-----------------+------------------+-------------------+------------------+--------------------+-------------------+------------------+--------------------+-------------------+-------------------+-----------------+--------------------+---------------------------+-----------------------+--------------------------+--------------------------+---------------------------+----------------------+----------------------+-----------------------+-------------------+-------------------+------------------+-------------------+-------------------+---------------------------+-------------------+-------------------+-------------------+-------------------+-------------------+-------------------+-------------------+--------------------+-------------------+-----------------------+--------------------+-------------------+-------------------+----------------------------+-------------------+-------------------+-------------------+-------------------+-------------------+-------------------+-------------------+---------------------+-------------------+------------------------+-------------------+-------------------+-------------------+----------------------------+-------------------+--------------------+-------------------+-------------------+-------------------+-------------------+-------------------+---------------------+-------------------+------------------------+-------------------+-------------------+------------------------+------------------------+------------------------+------------------------+----------------------+--------------------+------------------+--------------------+--------------------+-------------------+--------------------+-------------------+-------------------+--------------------+--------------------+--------------------+--------------------+--------------------+--------------------+--------------------+--------------------+--------------------+--------------------+--------------------+--------------------+--------------------------+-------------------------+--------------------------+-------------------------+-------------------------+--------------------------+\n",
            "\n"
          ],
          "name": "stdout"
        }
      ]
    },
    {
      "cell_type": "code",
      "metadata": {
        "id": "A-H2jB_HmHwd",
        "colab_type": "code",
        "colab": {}
      },
      "source": [
        ""
      ],
      "execution_count": null,
      "outputs": []
    },
    {
      "cell_type": "markdown",
      "metadata": {
        "id": "k8PDVaWAy7_M",
        "colab_type": "text"
      },
      "source": [
        "### Checking Missing Values Again"
      ]
    },
    {
      "cell_type": "markdown",
      "metadata": {
        "id": "ZjuhT9fHzCyR",
        "colab_type": "text"
      },
      "source": [
        "\n",
        "We are using two metode to check missing values:\n",
        "\n",
        "    1. Using pandas dataframe\n",
        "    2. Using pyspark dataframe\n",
        "\n"
      ]
    },
    {
      "cell_type": "markdown",
      "metadata": {
        "id": "NUlfIqlRzKaT",
        "colab_type": "text"
      },
      "source": [
        "##### Using Pandas DataFrame"
      ]
    },
    {
      "cell_type": "code",
      "metadata": {
        "id": "CNiaTaU3zsBE",
        "colab_type": "code",
        "colab": {}
      },
      "source": [
        "df_pd = df_final.toPandas()"
      ],
      "execution_count": 21,
      "outputs": []
    },
    {
      "cell_type": "code",
      "metadata": {
        "id": "UmwdLxGmmH2O",
        "colab_type": "code",
        "colab": {}
      },
      "source": [
        "def missing_values_table(df_pd):\n",
        "    \"\"\"Input pandas dataframe and Return columns with missing value&percentage and stored as pandas dataframe\"\"\"\n",
        "    mis_val = df_pd.isnull().sum() #count total of null in each columns in dataframe\n",
        "    mis_val_percent = 100 * df_pd.isnull().sum() / len(df_pd) #count percentage of null in each columns\n",
        "    mis_val_table = pd.concat([mis_val, mis_val_percent], axis=1)  #join to left (as column) between mis_val and mis_val_percent and create it as dataframe\n",
        "    mis_val_table_ren_columns = mis_val_table.rename(\n",
        "    columns = {0 : 'Missing Values', 1 : '% of Total Values'}) #rename columns in table, mis_val to Missing Values and mis_val_percent to % of Total Values\n",
        "    mis_val_table_ren_columns = mis_val_table_ren_columns[\n",
        "    mis_val_table_ren_columns.iloc[:,1] != 0].sort_values(\n",
        "    '% of Total Values', ascending=False).round(1)         #sort column % of Total Values descending and round 1 after point(coma)\n",
        "    print (\"Your selected dataframe has \" + str(df_pd.shape[1]) + \" columns.\\n\"    #.shape[1] : just view total columns in dataframe  \n",
        "    \"There are \" + str(mis_val_table_ren_columns.shape[0]) +              \n",
        "    \" columns that have missing values.\") #.shape[0] : just view total rows in dataframe\n",
        "    return mis_val_table_ren_columns\n",
        "    "
      ],
      "execution_count": 22,
      "outputs": []
    },
    {
      "cell_type": "code",
      "metadata": {
        "id": "a8I2rUnomIA1",
        "colab_type": "code",
        "colab": {
          "base_uri": "https://localhost:8080/",
          "height": 459
        },
        "outputId": "15a35d2d-88a1-43be-8cba-d33dfae897df"
      },
      "source": [
        "b=missing_values_table(df_pd)\n",
        "b"
      ],
      "execution_count": 23,
      "outputs": [
        {
          "output_type": "stream",
          "text": [
            "Your selected dataframe has 121 columns.\n",
            "There are 67 columns that have missing values.\n"
          ],
          "name": "stdout"
        },
        {
          "output_type": "execute_result",
          "data": {
            "text/html": [
              "<div>\n",
              "<style scoped>\n",
              "    .dataframe tbody tr th:only-of-type {\n",
              "        vertical-align: middle;\n",
              "    }\n",
              "\n",
              "    .dataframe tbody tr th {\n",
              "        vertical-align: top;\n",
              "    }\n",
              "\n",
              "    .dataframe thead th {\n",
              "        text-align: right;\n",
              "    }\n",
              "</style>\n",
              "<table border=\"1\" class=\"dataframe\">\n",
              "  <thead>\n",
              "    <tr style=\"text-align: right;\">\n",
              "      <th></th>\n",
              "      <th>Missing Values</th>\n",
              "      <th>% of Total Values</th>\n",
              "    </tr>\n",
              "  </thead>\n",
              "  <tbody>\n",
              "    <tr>\n",
              "      <th>COMMONAREA_MEDI</th>\n",
              "      <td>214865</td>\n",
              "      <td>69.9</td>\n",
              "    </tr>\n",
              "    <tr>\n",
              "      <th>COMMONAREA_AVG</th>\n",
              "      <td>214865</td>\n",
              "      <td>69.9</td>\n",
              "    </tr>\n",
              "    <tr>\n",
              "      <th>COMMONAREA_MODE</th>\n",
              "      <td>214865</td>\n",
              "      <td>69.9</td>\n",
              "    </tr>\n",
              "    <tr>\n",
              "      <th>NONLIVINGAPARTMENTS_MEDI</th>\n",
              "      <td>213514</td>\n",
              "      <td>69.4</td>\n",
              "    </tr>\n",
              "    <tr>\n",
              "      <th>NONLIVINGAPARTMENTS_MODE</th>\n",
              "      <td>213514</td>\n",
              "      <td>69.4</td>\n",
              "    </tr>\n",
              "    <tr>\n",
              "      <th>...</th>\n",
              "      <td>...</td>\n",
              "      <td>...</td>\n",
              "    </tr>\n",
              "    <tr>\n",
              "      <th>EXT_SOURCE_2</th>\n",
              "      <td>660</td>\n",
              "      <td>0.2</td>\n",
              "    </tr>\n",
              "    <tr>\n",
              "      <th>AMT_GOODS_PRICE</th>\n",
              "      <td>278</td>\n",
              "      <td>0.1</td>\n",
              "    </tr>\n",
              "    <tr>\n",
              "      <th>AMT_ANNUITY</th>\n",
              "      <td>12</td>\n",
              "      <td>0.0</td>\n",
              "    </tr>\n",
              "    <tr>\n",
              "      <th>CNT_FAM_MEMBERS</th>\n",
              "      <td>2</td>\n",
              "      <td>0.0</td>\n",
              "    </tr>\n",
              "    <tr>\n",
              "      <th>DAYS_LAST_PHONE_CHANGE</th>\n",
              "      <td>1</td>\n",
              "      <td>0.0</td>\n",
              "    </tr>\n",
              "  </tbody>\n",
              "</table>\n",
              "<p>67 rows × 2 columns</p>\n",
              "</div>"
            ],
            "text/plain": [
              "                          Missing Values  % of Total Values\n",
              "COMMONAREA_MEDI                   214865               69.9\n",
              "COMMONAREA_AVG                    214865               69.9\n",
              "COMMONAREA_MODE                   214865               69.9\n",
              "NONLIVINGAPARTMENTS_MEDI          213514               69.4\n",
              "NONLIVINGAPARTMENTS_MODE          213514               69.4\n",
              "...                                  ...                ...\n",
              "EXT_SOURCE_2                         660                0.2\n",
              "AMT_GOODS_PRICE                      278                0.1\n",
              "AMT_ANNUITY                           12                0.0\n",
              "CNT_FAM_MEMBERS                        2                0.0\n",
              "DAYS_LAST_PHONE_CHANGE                 1                0.0\n",
              "\n",
              "[67 rows x 2 columns]"
            ]
          },
          "metadata": {
            "tags": []
          },
          "execution_count": 23
        }
      ]
    },
    {
      "cell_type": "code",
      "metadata": {
        "id": "WE4hokbPmIDw",
        "colab_type": "code",
        "colab": {}
      },
      "source": [
        ""
      ],
      "execution_count": null,
      "outputs": []
    },
    {
      "cell_type": "markdown",
      "metadata": {
        "id": "oC8JiV2SzWpT",
        "colab_type": "text"
      },
      "source": [
        "### Using PySpark DataFrame"
      ]
    },
    {
      "cell_type": "code",
      "metadata": {
        "id": "rlZ35sxvmII8",
        "colab_type": "code",
        "colab": {}
      },
      "source": [
        "#Check Missing Value in Pyspark Dataframe\n",
        "def count_nulls(df_final):\n",
        "\n",
        "    null_counts = []          #make an empty list to hold our results\n",
        "    for col in df_final.dtypes:     #iterate through the column data types we saw above, e.g. ('C0', 'bigint')\n",
        "        cname = col[0]        #splits out the column name, e.g. 'C0'    \n",
        "        ctype = col[1]        #splits out the column type, e.g. 'bigint'\n",
        "        nulls = df_final.where( df_final[cname].isNull() ).count() #check count of null in column name\n",
        "        result = tuple([cname, nulls])  #new tuple, (column name, null count)\n",
        "        null_counts.append(result)      #put the new tuple in our result list\n",
        "    null_counts=[(x,y) for (x,y) in null_counts if y!=0]  #view just columns that have missing values\n",
        "    return null_counts\n"
      ],
      "execution_count": 24,
      "outputs": []
    },
    {
      "cell_type": "code",
      "metadata": {
        "id": "yq01PrH2mIQp",
        "colab_type": "code",
        "colab": {
          "base_uri": "https://localhost:8080/",
          "height": 1000
        },
        "outputId": "31e727cc-56ed-4c55-8886-986b66c21bc3"
      },
      "source": [
        "#call function check missing values\n",
        "null_counts = count_nulls(df_final)\n",
        "null_counts\n"
      ],
      "execution_count": 25,
      "outputs": [
        {
          "output_type": "execute_result",
          "data": {
            "text/plain": [
              "[('AMT_ANNUITY', 12),\n",
              " ('AMT_GOODS_PRICE', 278),\n",
              " ('NAME_TYPE_SUITE', 1292),\n",
              " ('OWN_CAR_AGE', 202929),\n",
              " ('OCCUPATION_TYPE', 96391),\n",
              " ('CNT_FAM_MEMBERS', 2),\n",
              " ('EXT_SOURCE_1', 173378),\n",
              " ('EXT_SOURCE_2', 660),\n",
              " ('EXT_SOURCE_3', 60965),\n",
              " ('APARTMENTS_AVG', 156061),\n",
              " ('BASEMENTAREA_AVG', 179943),\n",
              " ('YEARS_BEGINEXPLUATATION_AVG', 150007),\n",
              " ('YEARS_BUILD_AVG', 204488),\n",
              " ('COMMONAREA_AVG', 214865),\n",
              " ('ELEVATORS_AVG', 163891),\n",
              " ('ENTRANCES_AVG', 154828),\n",
              " ('FLOORSMAX_AVG', 153020),\n",
              " ('FLOORSMIN_AVG', 208642),\n",
              " ('LANDAREA_AVG', 182590),\n",
              " ('LIVINGAPARTMENTS_AVG', 210199),\n",
              " ('LIVINGAREA_AVG', 154350),\n",
              " ('NONLIVINGAPARTMENTS_AVG', 213514),\n",
              " ('NONLIVINGAREA_AVG', 169682),\n",
              " ('APARTMENTS_MODE', 156061),\n",
              " ('BASEMENTAREA_MODE', 179943),\n",
              " ('YEARS_BEGINEXPLUATATION_MODE', 150007),\n",
              " ('YEARS_BUILD_MODE', 204488),\n",
              " ('COMMONAREA_MODE', 214865),\n",
              " ('ELEVATORS_MODE', 163891),\n",
              " ('ENTRANCES_MODE', 154828),\n",
              " ('FLOORSMAX_MODE', 153020),\n",
              " ('FLOORSMIN_MODE', 208642),\n",
              " ('LANDAREA_MODE', 182590),\n",
              " ('LIVINGAPARTMENTS_MODE', 210199),\n",
              " ('LIVINGAREA_MODE', 154350),\n",
              " ('NONLIVINGAPARTMENTS_MODE', 213514),\n",
              " ('NONLIVINGAREA_MODE', 169682),\n",
              " ('APARTMENTS_MEDI', 156061),\n",
              " ('BASEMENTAREA_MEDI', 179943),\n",
              " ('YEARS_BEGINEXPLUATATION_MEDI', 150007),\n",
              " ('YEARS_BUILD_MEDI', 204488),\n",
              " ('COMMONAREA_MEDI', 214865),\n",
              " ('ELEVATORS_MEDI', 163891),\n",
              " ('ENTRANCES_MEDI', 154828),\n",
              " ('FLOORSMAX_MEDI', 153020),\n",
              " ('FLOORSMIN_MEDI', 208642),\n",
              " ('LANDAREA_MEDI', 182590),\n",
              " ('LIVINGAPARTMENTS_MEDI', 210199),\n",
              " ('LIVINGAREA_MEDI', 154350),\n",
              " ('NONLIVINGAPARTMENTS_MEDI', 213514),\n",
              " ('NONLIVINGAREA_MEDI', 169682),\n",
              " ('FONDKAPREMONT_MODE', 210295),\n",
              " ('HOUSETYPE_MODE', 154297),\n",
              " ('TOTALAREA_MODE', 148431),\n",
              " ('WALLSMATERIAL_MODE', 156341),\n",
              " ('EMERGENCYSTATE_MODE', 145755),\n",
              " ('OBS_30_CNT_SOCIAL_CIRCLE', 1021),\n",
              " ('DEF_30_CNT_SOCIAL_CIRCLE', 1021),\n",
              " ('OBS_60_CNT_SOCIAL_CIRCLE', 1021),\n",
              " ('DEF_60_CNT_SOCIAL_CIRCLE', 1021),\n",
              " ('DAYS_LAST_PHONE_CHANGE', 1),\n",
              " ('AMT_REQ_CREDIT_BUREAU_HOUR', 41519),\n",
              " ('AMT_REQ_CREDIT_BUREAU_DAY', 41519),\n",
              " ('AMT_REQ_CREDIT_BUREAU_WEEK', 41519),\n",
              " ('AMT_REQ_CREDIT_BUREAU_MON', 41519),\n",
              " ('AMT_REQ_CREDIT_BUREAU_QRT', 41519),\n",
              " ('AMT_REQ_CREDIT_BUREAU_YEAR', 41519)]"
            ]
          },
          "metadata": {
            "tags": []
          },
          "execution_count": 25
        }
      ]
    },
    {
      "cell_type": "code",
      "metadata": {
        "id": "Uu6KKGYjmIWX",
        "colab_type": "code",
        "colab": {
          "base_uri": "https://localhost:8080/",
          "height": 1000
        },
        "outputId": "9e4474b6-f094-4c81-eeb6-4941323219a4"
      },
      "source": [
        "# seperating column name with null data\n",
        "list_cols_miss=[x[0] for x in null_counts]\n",
        "list_cols_miss"
      ],
      "execution_count": 26,
      "outputs": [
        {
          "output_type": "execute_result",
          "data": {
            "text/plain": [
              "['AMT_ANNUITY',\n",
              " 'AMT_GOODS_PRICE',\n",
              " 'NAME_TYPE_SUITE',\n",
              " 'OWN_CAR_AGE',\n",
              " 'OCCUPATION_TYPE',\n",
              " 'CNT_FAM_MEMBERS',\n",
              " 'EXT_SOURCE_1',\n",
              " 'EXT_SOURCE_2',\n",
              " 'EXT_SOURCE_3',\n",
              " 'APARTMENTS_AVG',\n",
              " 'BASEMENTAREA_AVG',\n",
              " 'YEARS_BEGINEXPLUATATION_AVG',\n",
              " 'YEARS_BUILD_AVG',\n",
              " 'COMMONAREA_AVG',\n",
              " 'ELEVATORS_AVG',\n",
              " 'ENTRANCES_AVG',\n",
              " 'FLOORSMAX_AVG',\n",
              " 'FLOORSMIN_AVG',\n",
              " 'LANDAREA_AVG',\n",
              " 'LIVINGAPARTMENTS_AVG',\n",
              " 'LIVINGAREA_AVG',\n",
              " 'NONLIVINGAPARTMENTS_AVG',\n",
              " 'NONLIVINGAREA_AVG',\n",
              " 'APARTMENTS_MODE',\n",
              " 'BASEMENTAREA_MODE',\n",
              " 'YEARS_BEGINEXPLUATATION_MODE',\n",
              " 'YEARS_BUILD_MODE',\n",
              " 'COMMONAREA_MODE',\n",
              " 'ELEVATORS_MODE',\n",
              " 'ENTRANCES_MODE',\n",
              " 'FLOORSMAX_MODE',\n",
              " 'FLOORSMIN_MODE',\n",
              " 'LANDAREA_MODE',\n",
              " 'LIVINGAPARTMENTS_MODE',\n",
              " 'LIVINGAREA_MODE',\n",
              " 'NONLIVINGAPARTMENTS_MODE',\n",
              " 'NONLIVINGAREA_MODE',\n",
              " 'APARTMENTS_MEDI',\n",
              " 'BASEMENTAREA_MEDI',\n",
              " 'YEARS_BEGINEXPLUATATION_MEDI',\n",
              " 'YEARS_BUILD_MEDI',\n",
              " 'COMMONAREA_MEDI',\n",
              " 'ELEVATORS_MEDI',\n",
              " 'ENTRANCES_MEDI',\n",
              " 'FLOORSMAX_MEDI',\n",
              " 'FLOORSMIN_MEDI',\n",
              " 'LANDAREA_MEDI',\n",
              " 'LIVINGAPARTMENTS_MEDI',\n",
              " 'LIVINGAREA_MEDI',\n",
              " 'NONLIVINGAPARTMENTS_MEDI',\n",
              " 'NONLIVINGAREA_MEDI',\n",
              " 'FONDKAPREMONT_MODE',\n",
              " 'HOUSETYPE_MODE',\n",
              " 'TOTALAREA_MODE',\n",
              " 'WALLSMATERIAL_MODE',\n",
              " 'EMERGENCYSTATE_MODE',\n",
              " 'OBS_30_CNT_SOCIAL_CIRCLE',\n",
              " 'DEF_30_CNT_SOCIAL_CIRCLE',\n",
              " 'OBS_60_CNT_SOCIAL_CIRCLE',\n",
              " 'DEF_60_CNT_SOCIAL_CIRCLE',\n",
              " 'DAYS_LAST_PHONE_CHANGE',\n",
              " 'AMT_REQ_CREDIT_BUREAU_HOUR',\n",
              " 'AMT_REQ_CREDIT_BUREAU_DAY',\n",
              " 'AMT_REQ_CREDIT_BUREAU_WEEK',\n",
              " 'AMT_REQ_CREDIT_BUREAU_MON',\n",
              " 'AMT_REQ_CREDIT_BUREAU_QRT',\n",
              " 'AMT_REQ_CREDIT_BUREAU_YEAR']"
            ]
          },
          "metadata": {
            "tags": []
          },
          "execution_count": 26
        }
      ]
    },
    {
      "cell_type": "code",
      "metadata": {
        "id": "a1q3g0CmmIam",
        "colab_type": "code",
        "colab": {
          "base_uri": "https://localhost:8080/",
          "height": 1000
        },
        "outputId": "32e46121-4849-41c6-a983-4da29e44beb8"
      },
      "source": [
        "#Create dataframe which just has list_cols_miss\n",
        "df_miss= df_final.select(*list_cols_miss)\n",
        "\n",
        "#view data types in df_miss\n",
        "df_miss.dtypes"
      ],
      "execution_count": 27,
      "outputs": [
        {
          "output_type": "execute_result",
          "data": {
            "text/plain": [
              "[('AMT_ANNUITY', 'double'),\n",
              " ('AMT_GOODS_PRICE', 'double'),\n",
              " ('NAME_TYPE_SUITE', 'string'),\n",
              " ('OWN_CAR_AGE', 'int'),\n",
              " ('OCCUPATION_TYPE', 'string'),\n",
              " ('CNT_FAM_MEMBERS', 'int'),\n",
              " ('EXT_SOURCE_1', 'double'),\n",
              " ('EXT_SOURCE_2', 'double'),\n",
              " ('EXT_SOURCE_3', 'double'),\n",
              " ('APARTMENTS_AVG', 'double'),\n",
              " ('BASEMENTAREA_AVG', 'double'),\n",
              " ('YEARS_BEGINEXPLUATATION_AVG', 'double'),\n",
              " ('YEARS_BUILD_AVG', 'double'),\n",
              " ('COMMONAREA_AVG', 'double'),\n",
              " ('ELEVATORS_AVG', 'double'),\n",
              " ('ENTRANCES_AVG', 'double'),\n",
              " ('FLOORSMAX_AVG', 'double'),\n",
              " ('FLOORSMIN_AVG', 'double'),\n",
              " ('LANDAREA_AVG', 'double'),\n",
              " ('LIVINGAPARTMENTS_AVG', 'double'),\n",
              " ('LIVINGAREA_AVG', 'double'),\n",
              " ('NONLIVINGAPARTMENTS_AVG', 'double'),\n",
              " ('NONLIVINGAREA_AVG', 'double'),\n",
              " ('APARTMENTS_MODE', 'double'),\n",
              " ('BASEMENTAREA_MODE', 'double'),\n",
              " ('YEARS_BEGINEXPLUATATION_MODE', 'double'),\n",
              " ('YEARS_BUILD_MODE', 'double'),\n",
              " ('COMMONAREA_MODE', 'double'),\n",
              " ('ELEVATORS_MODE', 'double'),\n",
              " ('ENTRANCES_MODE', 'double'),\n",
              " ('FLOORSMAX_MODE', 'double'),\n",
              " ('FLOORSMIN_MODE', 'double'),\n",
              " ('LANDAREA_MODE', 'double'),\n",
              " ('LIVINGAPARTMENTS_MODE', 'double'),\n",
              " ('LIVINGAREA_MODE', 'double'),\n",
              " ('NONLIVINGAPARTMENTS_MODE', 'double'),\n",
              " ('NONLIVINGAREA_MODE', 'double'),\n",
              " ('APARTMENTS_MEDI', 'double'),\n",
              " ('BASEMENTAREA_MEDI', 'double'),\n",
              " ('YEARS_BEGINEXPLUATATION_MEDI', 'double'),\n",
              " ('YEARS_BUILD_MEDI', 'double'),\n",
              " ('COMMONAREA_MEDI', 'double'),\n",
              " ('ELEVATORS_MEDI', 'double'),\n",
              " ('ENTRANCES_MEDI', 'double'),\n",
              " ('FLOORSMAX_MEDI', 'double'),\n",
              " ('FLOORSMIN_MEDI', 'double'),\n",
              " ('LANDAREA_MEDI', 'double'),\n",
              " ('LIVINGAPARTMENTS_MEDI', 'double'),\n",
              " ('LIVINGAREA_MEDI', 'double'),\n",
              " ('NONLIVINGAPARTMENTS_MEDI', 'double'),\n",
              " ('NONLIVINGAREA_MEDI', 'double'),\n",
              " ('FONDKAPREMONT_MODE', 'string'),\n",
              " ('HOUSETYPE_MODE', 'string'),\n",
              " ('TOTALAREA_MODE', 'double'),\n",
              " ('WALLSMATERIAL_MODE', 'string'),\n",
              " ('EMERGENCYSTATE_MODE', 'string'),\n",
              " ('OBS_30_CNT_SOCIAL_CIRCLE', 'int'),\n",
              " ('DEF_30_CNT_SOCIAL_CIRCLE', 'int'),\n",
              " ('OBS_60_CNT_SOCIAL_CIRCLE', 'int'),\n",
              " ('DEF_60_CNT_SOCIAL_CIRCLE', 'int'),\n",
              " ('DAYS_LAST_PHONE_CHANGE', 'int'),\n",
              " ('AMT_REQ_CREDIT_BUREAU_HOUR', 'int'),\n",
              " ('AMT_REQ_CREDIT_BUREAU_DAY', 'int'),\n",
              " ('AMT_REQ_CREDIT_BUREAU_WEEK', 'int'),\n",
              " ('AMT_REQ_CREDIT_BUREAU_MON', 'int'),\n",
              " ('AMT_REQ_CREDIT_BUREAU_QRT', 'int'),\n",
              " ('AMT_REQ_CREDIT_BUREAU_YEAR', 'int')]"
            ]
          },
          "metadata": {
            "tags": []
          },
          "execution_count": 27
        }
      ]
    },
    {
      "cell_type": "code",
      "metadata": {
        "id": "BqfQ1tIVmIhb",
        "colab_type": "code",
        "colab": {}
      },
      "source": [
        ""
      ],
      "execution_count": null,
      "outputs": []
    },
    {
      "cell_type": "markdown",
      "metadata": {
        "id": "eaneVixu08xx",
        "colab_type": "text"
      },
      "source": [
        "### Categorical and Numerical columns of missing columns "
      ]
    },
    {
      "cell_type": "code",
      "metadata": {
        "id": "9OzqKzMpmInD",
        "colab_type": "code",
        "colab": {
          "base_uri": "https://localhost:8080/",
          "height": 72
        },
        "outputId": "24996c2e-2985-485a-cd37-7ead49108ca0"
      },
      "source": [
        "### for categorical columns\n",
        "catcolums_miss=[item[0] for item in df_miss.dtypes if item[1].startswith('string')]  #will select name of column with string data type\n",
        "print(\"catcolums_miss:\", catcolums_miss)\n",
        "\n",
        "### for numerical columns\n",
        "numcolumns_miss = [item[0] for item in df_miss.dtypes if item[1].startswith('int') | item[1].startswith('double')] #will select name of column with integer or double data type\n",
        "print(\"numcolumns_miss:\", numcolumns_miss)\n"
      ],
      "execution_count": 28,
      "outputs": [
        {
          "output_type": "stream",
          "text": [
            "catcolums_miss: ['NAME_TYPE_SUITE', 'OCCUPATION_TYPE', 'FONDKAPREMONT_MODE', 'HOUSETYPE_MODE', 'WALLSMATERIAL_MODE', 'EMERGENCYSTATE_MODE']\n",
            "numcolumns_miss: ['AMT_ANNUITY', 'AMT_GOODS_PRICE', 'OWN_CAR_AGE', 'CNT_FAM_MEMBERS', 'EXT_SOURCE_1', 'EXT_SOURCE_2', 'EXT_SOURCE_3', 'APARTMENTS_AVG', 'BASEMENTAREA_AVG', 'YEARS_BEGINEXPLUATATION_AVG', 'YEARS_BUILD_AVG', 'COMMONAREA_AVG', 'ELEVATORS_AVG', 'ENTRANCES_AVG', 'FLOORSMAX_AVG', 'FLOORSMIN_AVG', 'LANDAREA_AVG', 'LIVINGAPARTMENTS_AVG', 'LIVINGAREA_AVG', 'NONLIVINGAPARTMENTS_AVG', 'NONLIVINGAREA_AVG', 'APARTMENTS_MODE', 'BASEMENTAREA_MODE', 'YEARS_BEGINEXPLUATATION_MODE', 'YEARS_BUILD_MODE', 'COMMONAREA_MODE', 'ELEVATORS_MODE', 'ENTRANCES_MODE', 'FLOORSMAX_MODE', 'FLOORSMIN_MODE', 'LANDAREA_MODE', 'LIVINGAPARTMENTS_MODE', 'LIVINGAREA_MODE', 'NONLIVINGAPARTMENTS_MODE', 'NONLIVINGAREA_MODE', 'APARTMENTS_MEDI', 'BASEMENTAREA_MEDI', 'YEARS_BEGINEXPLUATATION_MEDI', 'YEARS_BUILD_MEDI', 'COMMONAREA_MEDI', 'ELEVATORS_MEDI', 'ENTRANCES_MEDI', 'FLOORSMAX_MEDI', 'FLOORSMIN_MEDI', 'LANDAREA_MEDI', 'LIVINGAPARTMENTS_MEDI', 'LIVINGAREA_MEDI', 'NONLIVINGAPARTMENTS_MEDI', 'NONLIVINGAREA_MEDI', 'TOTALAREA_MODE', 'OBS_30_CNT_SOCIAL_CIRCLE', 'DEF_30_CNT_SOCIAL_CIRCLE', 'OBS_60_CNT_SOCIAL_CIRCLE', 'DEF_60_CNT_SOCIAL_CIRCLE', 'DAYS_LAST_PHONE_CHANGE', 'AMT_REQ_CREDIT_BUREAU_HOUR', 'AMT_REQ_CREDIT_BUREAU_DAY', 'AMT_REQ_CREDIT_BUREAU_WEEK', 'AMT_REQ_CREDIT_BUREAU_MON', 'AMT_REQ_CREDIT_BUREAU_QRT', 'AMT_REQ_CREDIT_BUREAU_YEAR']\n"
          ],
          "name": "stdout"
        }
      ]
    },
    {
      "cell_type": "code",
      "metadata": {
        "id": "oyjMn7ZcmIws",
        "colab_type": "code",
        "colab": {}
      },
      "source": [
        ""
      ],
      "execution_count": null,
      "outputs": []
    },
    {
      "cell_type": "markdown",
      "metadata": {
        "id": "xKc1lcqP4Jf0",
        "colab_type": "text"
      },
      "source": [
        "### Filling Missing Values"
      ]
    },
    {
      "cell_type": "code",
      "metadata": {
        "id": "sv4lm4xs4ZJa",
        "colab_type": "code",
        "colab": {}
      },
      "source": [
        "df_Nomiss=df_final.na.drop()"
      ],
      "execution_count": 29,
      "outputs": []
    },
    {
      "cell_type": "code",
      "metadata": {
        "id": "fxJo5jNQmI2k",
        "colab_type": "code",
        "colab": {
          "base_uri": "https://localhost:8080/",
          "height": 1000
        },
        "outputId": "d9a8c84d-0bb5-43c6-f562-85d81f03b60e"
      },
      "source": [
        "for x in catcolums_miss:                  \n",
        "    mode=df_Nomiss.groupBy(x).count().sort(col(\"count\").desc()).collect()[0][0] \n",
        "    print(x, mode) #print name of columns and it's most categories \n",
        "    \n",
        "    df_final = df_final.na.fill({x:mode})\n",
        "    # and we fill the missing numerical values with the average of each \n",
        "    #column\n",
        "    \n",
        "for i in numcolumns_miss:\n",
        "    meanvalue = df_Nomiss.select(round(mean(i))).collect()[0][0] \n",
        "    print(i, meanvalue) \n",
        "    df_final=df_final.na.fill({i:meanvalue})\n"
      ],
      "execution_count": 30,
      "outputs": [
        {
          "output_type": "stream",
          "text": [
            "NAME_TYPE_SUITE Unaccompanied\n",
            "OCCUPATION_TYPE Laborers\n",
            "FONDKAPREMONT_MODE reg oper account\n",
            "HOUSETYPE_MODE block of flats\n",
            "WALLSMATERIAL_MODE Panel\n",
            "EMERGENCYSTATE_MODE No\n",
            "AMT_ANNUITY 31559.0\n",
            "AMT_GOODS_PRICE 633834.0\n",
            "OWN_CAR_AGE 11.0\n",
            "CNT_FAM_MEMBERS 2.0\n",
            "EXT_SOURCE_1 0.0\n",
            "EXT_SOURCE_2 1.0\n",
            "EXT_SOURCE_3 0.0\n",
            "APARTMENTS_AVG 0.0\n",
            "BASEMENTAREA_AVG 0.0\n",
            "YEARS_BEGINEXPLUATATION_AVG 1.0\n",
            "YEARS_BUILD_AVG 1.0\n",
            "COMMONAREA_AVG 0.0\n",
            "ELEVATORS_AVG 0.0\n",
            "ENTRANCES_AVG 0.0\n",
            "FLOORSMAX_AVG 0.0\n",
            "FLOORSMIN_AVG 0.0\n",
            "LANDAREA_AVG 0.0\n",
            "LIVINGAPARTMENTS_AVG 0.0\n",
            "LIVINGAREA_AVG 0.0\n",
            "NONLIVINGAPARTMENTS_AVG 0.0\n",
            "NONLIVINGAREA_AVG 0.0\n",
            "APARTMENTS_MODE 0.0\n",
            "BASEMENTAREA_MODE 0.0\n",
            "YEARS_BEGINEXPLUATATION_MODE 1.0\n",
            "YEARS_BUILD_MODE 1.0\n",
            "COMMONAREA_MODE 0.0\n",
            "ELEVATORS_MODE 0.0\n",
            "ENTRANCES_MODE 0.0\n",
            "FLOORSMAX_MODE 0.0\n",
            "FLOORSMIN_MODE 0.0\n",
            "LANDAREA_MODE 0.0\n",
            "LIVINGAPARTMENTS_MODE 0.0\n",
            "LIVINGAREA_MODE 0.0\n",
            "NONLIVINGAPARTMENTS_MODE 0.0\n",
            "NONLIVINGAREA_MODE 0.0\n",
            "APARTMENTS_MEDI 0.0\n",
            "BASEMENTAREA_MEDI 0.0\n",
            "YEARS_BEGINEXPLUATATION_MEDI 1.0\n",
            "YEARS_BUILD_MEDI 1.0\n",
            "COMMONAREA_MEDI 0.0\n",
            "ELEVATORS_MEDI 0.0\n",
            "ENTRANCES_MEDI 0.0\n",
            "FLOORSMAX_MEDI 0.0\n",
            "FLOORSMIN_MEDI 0.0\n",
            "LANDAREA_MEDI 0.0\n",
            "LIVINGAPARTMENTS_MEDI 0.0\n",
            "LIVINGAREA_MEDI 0.0\n",
            "NONLIVINGAPARTMENTS_MEDI 0.0\n",
            "NONLIVINGAREA_MEDI 0.0\n",
            "TOTALAREA_MODE 0.0\n",
            "OBS_30_CNT_SOCIAL_CIRCLE 1.0\n",
            "DEF_30_CNT_SOCIAL_CIRCLE 0.0\n",
            "OBS_60_CNT_SOCIAL_CIRCLE 1.0\n",
            "DEF_60_CNT_SOCIAL_CIRCLE 0.0\n",
            "DAYS_LAST_PHONE_CHANGE -1109.0\n",
            "AMT_REQ_CREDIT_BUREAU_HOUR 0.0\n",
            "AMT_REQ_CREDIT_BUREAU_DAY 0.0\n",
            "AMT_REQ_CREDIT_BUREAU_WEEK 0.0\n",
            "AMT_REQ_CREDIT_BUREAU_MON 0.0\n",
            "AMT_REQ_CREDIT_BUREAU_QRT 0.0\n",
            "AMT_REQ_CREDIT_BUREAU_YEAR 2.0\n"
          ],
          "name": "stdout"
        }
      ]
    },
    {
      "cell_type": "code",
      "metadata": {
        "id": "xGgaS2v3mI9N",
        "colab_type": "code",
        "colab": {}
      },
      "source": [
        ""
      ],
      "execution_count": null,
      "outputs": []
    },
    {
      "cell_type": "markdown",
      "metadata": {
        "id": "s6o4HD8H6HC6",
        "colab_type": "text"
      },
      "source": [
        "### checking missing value again"
      ]
    },
    {
      "cell_type": "code",
      "metadata": {
        "id": "sGRXL9zbmJDZ",
        "colab_type": "code",
        "colab": {
          "base_uri": "https://localhost:8080/",
          "height": 141
        },
        "outputId": "7964813e-8a40-443f-b36a-6fc1aa36970d"
      },
      "source": [
        "df_final.select(*(sum(col(c).isNull().cast(\"int\")).alias(c) for c in df_final.columns)).show()"
      ],
      "execution_count": 31,
      "outputs": [
        {
          "output_type": "stream",
          "text": [
            "+-----+------------------+-----------+------------+---------------+------------+----------------+----------+-----------+---------------+---------------+----------------+-------------------+------------------+-----------------+--------------------------+----------+-------------+-----------------+---------------+-----------+----------+--------------+---------------+----------------+----------+----------+---------------+---------------+--------------------+---------------------------+--------------------------+-----------------------+--------------------------+--------------------------+---------------------------+----------------------+----------------------+-----------------------+-----------------+------------+------------+------------+--------------+----------------+---------------------------+---------------+--------------+-------------+-------------+-------------+-------------+------------+--------------------+--------------+-----------------------+-----------------+---------------+-----------------+----------------------------+----------------+---------------+--------------+--------------+--------------+--------------+-------------+---------------------+---------------+------------------------+------------------+---------------+-----------------+----------------------------+----------------+---------------+--------------+--------------+--------------+--------------+-------------+---------------------+---------------+------------------------+------------------+------------------+--------------+--------------+------------------+-------------------+------------------------+------------------------+------------------------+------------------------+----------------------+---------------+---------------+---------------+---------------+---------------+---------------+---------------+---------------+----------------+----------------+----------------+----------------+----------------+----------------+----------------+----------------+----------------+----------------+----------------+----------------+--------------------------+-------------------------+--------------------------+-------------------------+-------------------------+--------------------------+\n",
            "|label|NAME_CONTRACT_TYPE|CODE_GENDER|FLAG_OWN_CAR|FLAG_OWN_REALTY|CNT_CHILDREN|AMT_INCOME_TOTAL|AMT_CREDIT|AMT_ANNUITY|AMT_GOODS_PRICE|NAME_TYPE_SUITE|NAME_INCOME_TYPE|NAME_EDUCATION_TYPE|NAME_FAMILY_STATUS|NAME_HOUSING_TYPE|REGION_POPULATION_RELATIVE|DAYS_BIRTH|DAYS_EMPLOYED|DAYS_REGISTRATION|DAYS_ID_PUBLISH|OWN_CAR_AGE|FLAG_MOBIL|FLAG_EMP_PHONE|FLAG_WORK_PHONE|FLAG_CONT_MOBILE|FLAG_PHONE|FLAG_EMAIL|OCCUPATION_TYPE|CNT_FAM_MEMBERS|REGION_RATING_CLIENT|REGION_RATING_CLIENT_W_CITY|WEEKDAY_APPR_PROCESS_START|HOUR_APPR_PROCESS_START|REG_REGION_NOT_LIVE_REGION|REG_REGION_NOT_WORK_REGION|LIVE_REGION_NOT_WORK_REGION|REG_CITY_NOT_LIVE_CITY|REG_CITY_NOT_WORK_CITY|LIVE_CITY_NOT_WORK_CITY|ORGANIZATION_TYPE|EXT_SOURCE_1|EXT_SOURCE_2|EXT_SOURCE_3|APARTMENTS_AVG|BASEMENTAREA_AVG|YEARS_BEGINEXPLUATATION_AVG|YEARS_BUILD_AVG|COMMONAREA_AVG|ELEVATORS_AVG|ENTRANCES_AVG|FLOORSMAX_AVG|FLOORSMIN_AVG|LANDAREA_AVG|LIVINGAPARTMENTS_AVG|LIVINGAREA_AVG|NONLIVINGAPARTMENTS_AVG|NONLIVINGAREA_AVG|APARTMENTS_MODE|BASEMENTAREA_MODE|YEARS_BEGINEXPLUATATION_MODE|YEARS_BUILD_MODE|COMMONAREA_MODE|ELEVATORS_MODE|ENTRANCES_MODE|FLOORSMAX_MODE|FLOORSMIN_MODE|LANDAREA_MODE|LIVINGAPARTMENTS_MODE|LIVINGAREA_MODE|NONLIVINGAPARTMENTS_MODE|NONLIVINGAREA_MODE|APARTMENTS_MEDI|BASEMENTAREA_MEDI|YEARS_BEGINEXPLUATATION_MEDI|YEARS_BUILD_MEDI|COMMONAREA_MEDI|ELEVATORS_MEDI|ENTRANCES_MEDI|FLOORSMAX_MEDI|FLOORSMIN_MEDI|LANDAREA_MEDI|LIVINGAPARTMENTS_MEDI|LIVINGAREA_MEDI|NONLIVINGAPARTMENTS_MEDI|NONLIVINGAREA_MEDI|FONDKAPREMONT_MODE|HOUSETYPE_MODE|TOTALAREA_MODE|WALLSMATERIAL_MODE|EMERGENCYSTATE_MODE|OBS_30_CNT_SOCIAL_CIRCLE|DEF_30_CNT_SOCIAL_CIRCLE|OBS_60_CNT_SOCIAL_CIRCLE|DEF_60_CNT_SOCIAL_CIRCLE|DAYS_LAST_PHONE_CHANGE|FLAG_DOCUMENT_2|FLAG_DOCUMENT_3|FLAG_DOCUMENT_4|FLAG_DOCUMENT_5|FLAG_DOCUMENT_6|FLAG_DOCUMENT_7|FLAG_DOCUMENT_8|FLAG_DOCUMENT_9|FLAG_DOCUMENT_10|FLAG_DOCUMENT_11|FLAG_DOCUMENT_12|FLAG_DOCUMENT_13|FLAG_DOCUMENT_14|FLAG_DOCUMENT_15|FLAG_DOCUMENT_16|FLAG_DOCUMENT_17|FLAG_DOCUMENT_18|FLAG_DOCUMENT_19|FLAG_DOCUMENT_20|FLAG_DOCUMENT_21|AMT_REQ_CREDIT_BUREAU_HOUR|AMT_REQ_CREDIT_BUREAU_DAY|AMT_REQ_CREDIT_BUREAU_WEEK|AMT_REQ_CREDIT_BUREAU_MON|AMT_REQ_CREDIT_BUREAU_QRT|AMT_REQ_CREDIT_BUREAU_YEAR|\n",
            "+-----+------------------+-----------+------------+---------------+------------+----------------+----------+-----------+---------------+---------------+----------------+-------------------+------------------+-----------------+--------------------------+----------+-------------+-----------------+---------------+-----------+----------+--------------+---------------+----------------+----------+----------+---------------+---------------+--------------------+---------------------------+--------------------------+-----------------------+--------------------------+--------------------------+---------------------------+----------------------+----------------------+-----------------------+-----------------+------------+------------+------------+--------------+----------------+---------------------------+---------------+--------------+-------------+-------------+-------------+-------------+------------+--------------------+--------------+-----------------------+-----------------+---------------+-----------------+----------------------------+----------------+---------------+--------------+--------------+--------------+--------------+-------------+---------------------+---------------+------------------------+------------------+---------------+-----------------+----------------------------+----------------+---------------+--------------+--------------+--------------+--------------+-------------+---------------------+---------------+------------------------+------------------+------------------+--------------+--------------+------------------+-------------------+------------------------+------------------------+------------------------+------------------------+----------------------+---------------+---------------+---------------+---------------+---------------+---------------+---------------+---------------+----------------+----------------+----------------+----------------+----------------+----------------+----------------+----------------+----------------+----------------+----------------+----------------+--------------------------+-------------------------+--------------------------+-------------------------+-------------------------+--------------------------+\n",
            "|    0|                 0|          0|           0|              0|           0|               0|         0|          0|              0|              0|               0|                  0|                 0|                0|                         0|         0|            0|                0|              0|          0|         0|             0|              0|               0|         0|         0|              0|              0|                   0|                          0|                         0|                      0|                         0|                         0|                          0|                     0|                     0|                      0|                0|           0|           0|           0|             0|               0|                          0|              0|             0|            0|            0|            0|            0|           0|                   0|             0|                      0|                0|              0|                0|                           0|               0|              0|             0|             0|             0|             0|            0|                    0|              0|                       0|                 0|              0|                0|                           0|               0|              0|             0|             0|             0|             0|            0|                    0|              0|                       0|                 0|                 0|             0|             0|                 0|                  0|                       0|                       0|                       0|                       0|                     0|              0|              0|              0|              0|              0|              0|              0|              0|               0|               0|               0|               0|               0|               0|               0|               0|               0|               0|               0|               0|                         0|                        0|                         0|                        0|                        0|                         0|\n",
            "+-----+------------------+-----------+------------+---------------+------------+----------------+----------+-----------+---------------+---------------+----------------+-------------------+------------------+-----------------+--------------------------+----------+-------------+-----------------+---------------+-----------+----------+--------------+---------------+----------------+----------+----------+---------------+---------------+--------------------+---------------------------+--------------------------+-----------------------+--------------------------+--------------------------+---------------------------+----------------------+----------------------+-----------------------+-----------------+------------+------------+------------+--------------+----------------+---------------------------+---------------+--------------+-------------+-------------+-------------+-------------+------------+--------------------+--------------+-----------------------+-----------------+---------------+-----------------+----------------------------+----------------+---------------+--------------+--------------+--------------+--------------+-------------+---------------------+---------------+------------------------+------------------+---------------+-----------------+----------------------------+----------------+---------------+--------------+--------------+--------------+--------------+-------------+---------------------+---------------+------------------------+------------------+------------------+--------------+--------------+------------------+-------------------+------------------------+------------------------+------------------------+------------------------+----------------------+---------------+---------------+---------------+---------------+---------------+---------------+---------------+---------------+----------------+----------------+----------------+----------------+----------------+----------------+----------------+----------------+----------------+----------------+----------------+----------------+--------------------------+-------------------------+--------------------------+-------------------------+-------------------------+--------------------------+\n",
            "\n"
          ],
          "name": "stdout"
        }
      ]
    },
    {
      "cell_type": "markdown",
      "metadata": {
        "id": "pKy4oJ6n8ZTv",
        "colab_type": "text"
      },
      "source": [
        "##### Yeap! There are no missing values"
      ]
    },
    {
      "cell_type": "code",
      "metadata": {
        "id": "i9Juk3uSmI7i",
        "colab_type": "code",
        "colab": {}
      },
      "source": [
        ""
      ],
      "execution_count": null,
      "outputs": []
    },
    {
      "cell_type": "markdown",
      "metadata": {
        "id": "4r9vTs1eEO1Q",
        "colab_type": "text"
      },
      "source": [
        "### Exploratory Data Analysis"
      ]
    },
    {
      "cell_type": "code",
      "metadata": {
        "id": "tlO6wwpVFTIF",
        "colab_type": "code",
        "colab": {}
      },
      "source": [
        "df_pd = df_final.toPandas()"
      ],
      "execution_count": 32,
      "outputs": []
    },
    {
      "cell_type": "markdown",
      "metadata": {
        "id": "ubgFDd1XEdfp",
        "colab_type": "text"
      },
      "source": [
        "##### Categorical Variables"
      ]
    },
    {
      "cell_type": "code",
      "metadata": {
        "id": "UczjujMDmI1L",
        "colab_type": "code",
        "colab": {
          "base_uri": "https://localhost:8080/",
          "height": 345
        },
        "outputId": "ba36a373-4353-4a80-afad-b4581266d2eb"
      },
      "source": [
        "plt.figure(figsize=(20,7))\n",
        "plt.subplot(131)\n",
        "sns.countplot(x='NAME_TYPE_SUITE', data=df_pd)\n",
        "plt.title('NAME_TYPE_SUITE', fontsize=15)\n",
        "plt.subplot(132)\n",
        "sns.countplot(x='OCCUPATION_TYPE', data=df_pd)\n",
        "plt.title('OCCUPATION_TYPE', fontsize=15)\n",
        "plt.subplot(133)\n",
        "sns.countplot(x='FONDKAPREMONT_MODE', data=df_pd)\n",
        "plt.title('FONDKAPREMONT_MODE', fontsize=15)\n",
        "plt.show()\n"
      ],
      "execution_count": 33,
      "outputs": [
        {
          "output_type": "display_data",
          "data": {
            "image/png": "[encoded data removed]",
            "text/plain": [
              "<Figure size 1440x504 with 3 Axes>"
            ]
          },
          "metadata": {
            "tags": [],
            "needs_background": "light"
          }
        }
      ]
    },
    {
      "cell_type": "code",
      "metadata": {
        "id": "DjYdApqImIua",
        "colab_type": "code",
        "colab": {
          "base_uri": "https://localhost:8080/",
          "height": 344
        },
        "outputId": "6fb17288-bbff-46b7-af5e-a600f5e608dc"
      },
      "source": [
        "plt.figure(figsize=(20,7))\n",
        "plt.subplot(131)\n",
        "sns.countplot(x='HOUSETYPE_MODE', data=df_pd)\n",
        "plt.title('HOUSETYPE_MODE', fontsize=15)\n",
        "plt.subplot(132)\n",
        "sns.countplot(x='WALLSMATERIAL_MODE', data=df_pd)\n",
        "plt.title('WALLSMATERIAL_MODE', fontsize=15)\n",
        "plt.subplot(133)\n",
        "sns.countplot(x='EMERGENCYSTATE_MODE', data=df_pd)\n",
        "plt.title('EMERGENCYSTATE_MODE', fontsize=15)\n",
        "plt.show()\n"
      ],
      "execution_count": 34,
      "outputs": [
        {
          "output_type": "display_data",
          "data": {
            "image/png": "[encoded data removed]",
            "text/plain": [
              "<Figure size 1440x504 with 3 Axes>"
            ]
          },
          "metadata": {
            "tags": [],
            "needs_background": "light"
          }
        }
      ]
    },
    {
      "cell_type": "markdown",
      "metadata": {
        "id": "9L4V7rW6LOJz",
        "colab_type": "text"
      },
      "source": [
        "##### Numerical Variables"
      ]
    },
    {
      "cell_type": "markdown",
      "metadata": {
        "id": "OcOEaMw2LgHc",
        "colab_type": "text"
      },
      "source": [
        "##### Here have so many numerical variables. For this I am going to visualize some of them"
      ]
    },
    {
      "cell_type": "code",
      "metadata": {
        "id": "amgehMAImIsl",
        "colab_type": "code",
        "colab": {
          "base_uri": "https://localhost:8080/",
          "height": 330
        },
        "outputId": "874a51a6-27b0-4f74-cbea-26f69b9aca78"
      },
      "source": [
        "#distribusi of AMT_ANNUITY, AMT_GOODS_PRICE and OWN_CAR_AGE\n",
        "plt.figure(figsize=(24,8))\n",
        "plt.subplot(131)\n",
        "sns.distplot(df_pd['AMT_ANNUITY'])\n",
        "plt.subplot(132)\n",
        "sns.distplot(df_pd['AMT_GOODS_PRICE'])\n",
        "plt.subplot(133)\n",
        "sns.distplot(df_pd['OWN_CAR_AGE'])\n",
        "plt.show()\n"
      ],
      "execution_count": 35,
      "outputs": [
        {
          "output_type": "display_data",
          "data": {
            "image/png": "[encoded data removed]",
            "text/plain": [
              "<Figure size 1728x576 with 3 Axes>"
            ]
          },
          "metadata": {
            "tags": [],
            "needs_background": "light"
          }
        }
      ]
    },
    {
      "cell_type": "code",
      "metadata": {
        "id": "CyIEjFpVLNGE",
        "colab_type": "code",
        "colab": {
          "base_uri": "https://localhost:8080/",
          "height": 323
        },
        "outputId": "c0d2d6fa-b958-42d9-d9a1-fbd28d096cfe"
      },
      "source": [
        "#distribusi of CNT_FAM_MEMBERS, EXT_SOURCE_1 and EXT_SOURCE_2\n",
        "plt.figure(figsize=(24,8))\n",
        "plt.subplot(131)\n",
        "sns.distplot(df_pd['CNT_FAM_MEMBERS'])\n",
        "plt.subplot(132)\n",
        "sns.distplot(df_pd['EXT_SOURCE_1'])\n",
        "plt.subplot(133)\n",
        "sns.distplot(df_pd['EXT_SOURCE_2'])\n",
        "plt.show()\n"
      ],
      "execution_count": 36,
      "outputs": [
        {
          "output_type": "display_data",
          "data": {
            "image/png": "[encoded data removed]",
            "text/plain": [
              "<Figure size 1728x576 with 3 Axes>"
            ]
          },
          "metadata": {
            "tags": [],
            "needs_background": "light"
          }
        }
      ]
    },
    {
      "cell_type": "code",
      "metadata": {
        "id": "DjaqPyunLNNl",
        "colab_type": "code",
        "colab": {
          "base_uri": "https://localhost:8080/",
          "height": 324
        },
        "outputId": "7ad2ddf7-a860-439c-9d58-b594f7fc2743"
      },
      "source": [
        "#distribusi of EXT_SOURCE_3, APARTMENTS_AVG and BASEMENTAREA_AVG\n",
        "plt.figure(figsize=(24,8))\n",
        "plt.subplot(131)\n",
        "sns.distplot(df_pd['EXT_SOURCE_3'])\n",
        "plt.subplot(132)\n",
        "sns.distplot(df_pd['APARTMENTS_AVG'])\n",
        "plt.subplot(133)\n",
        "sns.distplot(df_pd['BASEMENTAREA_AVG'])\n",
        "plt.show()"
      ],
      "execution_count": 37,
      "outputs": [
        {
          "output_type": "display_data",
          "data": {
            "image/png": "[encoded data removed]",
            "text/plain": [
              "<Figure size 1728x576 with 3 Axes>"
            ]
          },
          "metadata": {
            "tags": [],
            "needs_background": "light"
          }
        }
      ]
    },
    {
      "cell_type": "code",
      "metadata": {
        "id": "btvLZFiuLNXU",
        "colab_type": "code",
        "colab": {
          "base_uri": "https://localhost:8080/",
          "height": 325
        },
        "outputId": "dea64d6f-3d7e-4042-80a1-26ae1943bac4"
      },
      "source": [
        "#distribusi of YEARS_BEGINEXPLUATATION_AVG, YEARS_BUILD_AVG and COMMONAREA_AVG\n",
        "plt.figure(figsize=(24,8))\n",
        "plt.subplot(131)\n",
        "sns.distplot(df_pd['YEARS_BEGINEXPLUATATION_AVG'])\n",
        "plt.subplot(132)\n",
        "sns.distplot(df_pd['YEARS_BUILD_AVG'])\n",
        "plt.subplot(133)\n",
        "sns.distplot(df_pd['COMMONAREA_AVG'])\n",
        "plt.show()"
      ],
      "execution_count": 38,
      "outputs": [
        {
          "output_type": "display_data",
          "data": {
            "image/png": "[encoded data removed]",
            "text/plain": [
              "<Figure size 1728x576 with 3 Axes>"
            ]
          },
          "metadata": {
            "tags": [],
            "needs_background": "light"
          }
        }
      ]
    },
    {
      "cell_type": "code",
      "metadata": {
        "id": "i9Yq-rVkLNJ8",
        "colab_type": "code",
        "colab": {}
      },
      "source": [
        ""
      ],
      "execution_count": null,
      "outputs": []
    },
    {
      "cell_type": "markdown",
      "metadata": {
        "id": "-114VTzVH7EC",
        "colab_type": "text"
      },
      "source": [
        "### Replacing Insignificant Categories"
      ]
    },
    {
      "cell_type": "code",
      "metadata": {
        "id": "B_Xw7p8jmIfD",
        "colab_type": "code",
        "colab": {
          "base_uri": "https://localhost:8080/",
          "height": 225
        },
        "outputId": "d6d78fb0-f2fb-4d1a-dff0-a02e85436939"
      },
      "source": [
        "df_percent=df_final.groupBy('NAME_TYPE_SUITE').count().sort(col(\"count\").desc())\\\n",
        "                    .withColumn('total',sum(col('count')).over(window))\\\n",
        "                    .withColumn('Percent',col('count')*100/col('total')) #calculate the percentage-save in Percent columns from each categories\n",
        "df_percent.show()\n"
      ],
      "execution_count": 39,
      "outputs": [
        {
          "output_type": "stream",
          "text": [
            "+---------------+------+------+-------------------+\n",
            "|NAME_TYPE_SUITE| count| total|            Percent|\n",
            "+---------------+------+------+-------------------+\n",
            "|  Unaccompanied|249818|307511|  81.23871991571033|\n",
            "|         Family| 40149|307511| 13.056118317718715|\n",
            "|Spouse, partner| 11370|307511| 3.6974287098672893|\n",
            "|       Children|  3267|307511| 1.0624010198009177|\n",
            "|        Other_B|  1770|307511|  0.575589165916016|\n",
            "|        Other_A|   866|307511|0.28161594219393776|\n",
            "|Group of people|   271|307511|0.08812692879279115|\n",
            "+---------------+------+------+-------------------+\n",
            "\n"
          ],
          "name": "stdout"
        }
      ]
    },
    {
      "cell_type": "code",
      "metadata": {
        "id": "1SBLCg-NmIdL",
        "colab_type": "code",
        "colab": {}
      },
      "source": [
        "threshold=97\n",
        "threshold2=0.7\n"
      ],
      "execution_count": 40,
      "outputs": []
    },
    {
      "cell_type": "code",
      "metadata": {
        "id": "xYV1jot1mIU0",
        "colab_type": "code",
        "colab": {}
      },
      "source": [
        "def replace_cat2(f,cols):\n",
        "    \"\"\"input are dataframe and categorical variables, replace insignificant categories (percentage <=0.7) with largest number\n",
        "    of catgories and output is new dataframe \"\"\"\n",
        "    df_percent=f.groupBy(cols).count().sort(col(\"count\").desc())\\\n",
        "                .withColumn('total',sum(col('count')).over(window))\\\n",
        "                .withColumn('Percent',col('count')*100/col('total')) \n",
        "    dominant_cat=df_percent.select(df_percent['Percent']).collect()[0][0] \n",
        "    count_dist=f.select([cols]).distinct().count() \n",
        "    if count_dist > 2 and dominant_cat <= threshold :\n",
        "        print('column:', cols)\n",
        "        cols_names.append(cols) \n",
        "        replacement=f.groupBy(cols).count().sort(col(\"count\").desc()).collect()[0][0] \n",
        "        print(\"replacement:\",replacement)\n",
        "        replacing.append(replacement)\n",
        "        insign_cat=df_percent.filter(df_percent['Percent']< threshold2).select(df_percent[cols]).collect() \n",
        "        insign_cat=[r[cols] for r in insign_cat] \n",
        "        category.append(insign_cat) \n",
        "        print(\"insign_cat:\",insign_cat)\n",
        "        f=f.replace(insign_cat,replacement, cols) \n",
        "    return f\n"
      ],
      "execution_count": 41,
      "outputs": []
    },
    {
      "cell_type": "code",
      "metadata": {
        "id": "9qPFbrOUmIOS",
        "colab_type": "code",
        "colab": {
          "base_uri": "https://localhost:8080/",
          "height": 610
        },
        "outputId": "6745988d-729d-4952-97c3-282a095399e2"
      },
      "source": [
        "#call function replacing insignificant categories \n",
        "replacing=[]\n",
        "cols_names=[]\n",
        "category=[]\n",
        "for cols in cat_cols:\n",
        "    df_final=replace_cat2(df_final,cols)\n",
        "    "
      ],
      "execution_count": 42,
      "outputs": [
        {
          "output_type": "stream",
          "text": [
            "column: CODE_GENDER\n",
            "replacement: F\n",
            "insign_cat: ['XNA']\n",
            "column: NAME_TYPE_SUITE\n",
            "replacement: Unaccompanied\n",
            "insign_cat: ['Other_B', 'Other_A', 'Group of people']\n",
            "column: NAME_INCOME_TYPE\n",
            "replacement: Working\n",
            "insign_cat: ['Unemployed', 'Student', 'Businessman', 'Maternity leave']\n",
            "column: NAME_EDUCATION_TYPE\n",
            "replacement: Secondary / secondary special\n",
            "insign_cat: ['Academic degree']\n",
            "column: NAME_FAMILY_STATUS\n",
            "replacement: Married\n",
            "insign_cat: ['Unknown']\n",
            "column: NAME_HOUSING_TYPE\n",
            "replacement: House / apartment\n",
            "insign_cat: ['Co-op apartment']\n",
            "column: OCCUPATION_TYPE\n",
            "replacement: Laborers\n",
            "insign_cat: ['Low-skill Laborers', 'Waiters/barmen staff', 'Secretaries', 'Realty agents', 'HR staff', 'IT staff']\n",
            "column: WEEKDAY_APPR_PROCESS_START\n",
            "replacement: TUESDAY\n",
            "insign_cat: []\n",
            "column: ORGANIZATION_TYPE\n",
            "replacement: Business Entity Type 3\n",
            "insign_cat: ['Security Ministries', 'Trade: type 2', 'Restaurant', 'Services', 'University', 'Industry: type 7', 'Transport: type 3', 'Industry: type 1', 'Hotel', 'Electricity', 'Industry: type 4', 'Trade: type 6', 'Industry: type 5', 'Insurance', 'Telecom', 'Emergency', 'Industry: type 2', 'Advertising', 'Realtor', 'Culture', 'Industry: type 12', 'Trade: type 1', 'Mobile', 'Legal Services', 'Cleaning', 'Transport: type 1', 'Industry: type 6', 'Industry: type 10', 'Religion', 'Industry: type 13', 'Trade: type 4', 'Trade: type 5', 'Industry: type 8']\n",
            "column: FONDKAPREMONT_MODE\n",
            "replacement: reg oper account\n",
            "insign_cat: []\n",
            "column: WALLSMATERIAL_MODE\n",
            "replacement: Panel\n",
            "insign_cat: ['Monolithic', 'Others']\n"
          ],
          "name": "stdout"
        }
      ]
    },
    {
      "cell_type": "code",
      "metadata": {
        "id": "84WHy9dsmIMn",
        "colab_type": "code",
        "colab": {
          "base_uri": "https://localhost:8080/",
          "height": 34
        },
        "outputId": "6e878ec6-fc35-4884-d8a5-ac9b5d56697e"
      },
      "source": [
        "#check length in list cols_names, category and replacing\n",
        "len(cols_names), len(category), len(replacing)\n"
      ],
      "execution_count": 43,
      "outputs": [
        {
          "output_type": "execute_result",
          "data": {
            "text/plain": [
              "(11, 11, 11)"
            ]
          },
          "metadata": {
            "tags": []
          },
          "execution_count": 43
        }
      ]
    },
    {
      "cell_type": "code",
      "metadata": {
        "id": "hRsAeSEwmIHh",
        "colab_type": "code",
        "colab": {
          "base_uri": "https://localhost:8080/",
          "height": 295
        },
        "outputId": "468d63db-adb4-4f3c-b3a6-19148ddf7162"
      },
      "source": [
        "#Create dataframe of replaced categories\n",
        "g=spark.createDataFrame(list(zip(cols_names, replacing, category)),['cols_names', 'replacing', 'category'])\n",
        "g.show(10)\n"
      ],
      "execution_count": 44,
      "outputs": [
        {
          "output_type": "stream",
          "text": [
            "+--------------------+--------------------+--------------------+\n",
            "|          cols_names|           replacing|            category|\n",
            "+--------------------+--------------------+--------------------+\n",
            "|         CODE_GENDER|                   F|               [XNA]|\n",
            "|     NAME_TYPE_SUITE|       Unaccompanied|[Other_B, Other_A...|\n",
            "|    NAME_INCOME_TYPE|             Working|[Unemployed, Stud...|\n",
            "| NAME_EDUCATION_TYPE|Secondary / secon...|   [Academic degree]|\n",
            "|  NAME_FAMILY_STATUS|             Married|           [Unknown]|\n",
            "|   NAME_HOUSING_TYPE|   House / apartment|   [Co-op apartment]|\n",
            "|     OCCUPATION_TYPE|            Laborers|[Low-skill Labore...|\n",
            "|WEEKDAY_APPR_PROC...|             TUESDAY|                  []|\n",
            "|   ORGANIZATION_TYPE|Business Entity T...|[Security Ministr...|\n",
            "|  FONDKAPREMONT_MODE|    reg oper account|                  []|\n",
            "+--------------------+--------------------+--------------------+\n",
            "only showing top 10 rows\n",
            "\n"
          ],
          "name": "stdout"
        }
      ]
    },
    {
      "cell_type": "code",
      "metadata": {
        "id": "9k4ybGMbmH-I",
        "colab_type": "code",
        "colab": {
          "base_uri": "https://localhost:8080/",
          "height": 69
        },
        "outputId": "da4325dc-40c8-4e9e-b3bd-25452ae1bb7d"
      },
      "source": [
        "g.dtypes\n"
      ],
      "execution_count": 45,
      "outputs": [
        {
          "output_type": "execute_result",
          "data": {
            "text/plain": [
              "[('cols_names', 'string'),\n",
              " ('replacing', 'string'),\n",
              " ('category', 'array<string>')]"
            ]
          },
          "metadata": {
            "tags": []
          },
          "execution_count": 45
        }
      ]
    },
    {
      "cell_type": "code",
      "metadata": {
        "id": "3Z_zqE3cmH76",
        "colab_type": "code",
        "colab": {
          "base_uri": "https://localhost:8080/",
          "height": 121
        },
        "outputId": "e0ed3c09-6f7b-429b-f98b-22c212a49eda"
      },
      "source": [
        "g.printSchema()"
      ],
      "execution_count": 46,
      "outputs": [
        {
          "output_type": "stream",
          "text": [
            "root\n",
            " |-- cols_names: string (nullable = true)\n",
            " |-- replacing: string (nullable = true)\n",
            " |-- category: array (nullable = true)\n",
            " |    |-- element: string (containsNull = true)\n",
            "\n"
          ],
          "name": "stdout"
        }
      ]
    },
    {
      "cell_type": "code",
      "metadata": {
        "id": "RvlPhtiWmH60",
        "colab_type": "code",
        "colab": {
          "base_uri": "https://localhost:8080/",
          "height": 312
        },
        "outputId": "e43a9d67-f9df-4e18-bb91-c901df787eab"
      },
      "source": [
        "f_percent=df_final.groupBy('OCCUPATION_TYPE').count().sort(col(\"count\").desc())\\\n",
        "                       .withColumn('total',sum(col('count')).over(window))\\\n",
        "                       .withColumn('Percent',col('count')*100/col('total'))\n",
        "\n",
        "f_percent.show()\n"
      ],
      "execution_count": 47,
      "outputs": [
        {
          "output_type": "stream",
          "text": [
            "+--------------------+------+------+------------------+\n",
            "|     OCCUPATION_TYPE| count| total|           Percent|\n",
            "+--------------------+------+------+------------------+\n",
            "|            Laborers|158163|307511| 51.43328206145471|\n",
            "|         Sales staff| 32102|307511|10.439301358325393|\n",
            "|          Core staff| 27570|307511| 8.965532940285064|\n",
            "|            Managers| 21371|307511| 6.949670093102361|\n",
            "|             Drivers| 18603|307511| 6.049539691263076|\n",
            "|High skill tech s...| 11380|307511|3.7006806260589054|\n",
            "|         Accountants|  9813|307511|3.1911053588326923|\n",
            "|      Medicine staff|  8537|307511| 2.776160852782502|\n",
            "|      Security staff|  6721|307511| 2.185612872385053|\n",
            "|       Cooking staff|  5946|307511|  1.93358936753482|\n",
            "|      Cleaning staff|  4653|307511|1.5131166039588828|\n",
            "|Private service s...|  2652|307511|0.8624081740165392|\n",
            "+--------------------+------+------+------------------+\n",
            "\n"
          ],
          "name": "stdout"
        }
      ]
    },
    {
      "cell_type": "code",
      "metadata": {
        "id": "oBs8R8bOmH0R",
        "colab_type": "code",
        "colab": {}
      },
      "source": [
        ""
      ],
      "execution_count": null,
      "outputs": []
    },
    {
      "cell_type": "markdown",
      "metadata": {
        "id": "WLNaBsI8RMuu",
        "colab_type": "text"
      },
      "source": [
        "### Handling Outlier"
      ]
    },
    {
      "cell_type": "code",
      "metadata": {
        "id": "g32XR7TgmHth",
        "colab_type": "code",
        "colab": {}
      },
      "source": [
        "#create quantile dataframe\n",
        "def quantile(e):\n",
        "    \"\"\"Input is dataframe and return new dataframe with value of quantile from numerical columns\"\"\"\n",
        "    percentiles = [0.25, 0.5, 0.75]\n",
        "    quant=spark.createDataFrame(zip(percentiles, *e.approxQuantile(num_cols, percentiles, 0.0)),\n",
        "                               ['percentile']+num_cols) #calculate quantile from pyspark dataframe, 0.0 is relativeError,\n",
        "                                                        #The relative target precision to achieve (>= 0). If set to zero, \n",
        "                                                        #the exact quantiles are computed, which could be very expensive\n",
        "                                                        #and aggregate the result with percentiles variable, \n",
        "                                                        #then create pyspark dataframe\n",
        "    return quant\n"
      ],
      "execution_count": null,
      "outputs": []
    },
    {
      "cell_type": "code",
      "metadata": {
        "id": "ySa6ZLMOmHrV",
        "colab_type": "code",
        "colab": {}
      },
      "source": [
        "#call function quantile\n",
        "quantile=quantile(df_final)\n"
      ],
      "execution_count": 55,
      "outputs": []
    },
    {
      "cell_type": "code",
      "metadata": {
        "id": "4HsPQOSsmHpn",
        "colab_type": "code",
        "colab": {}
      },
      "source": [
        "#function to calculate uppler side\n",
        "def upper_value(b,c):\n",
        "    \"\"\"Input is quantile dataframe and name of numerical column and Retrun upper value from the column\"\"\"\n",
        "    q1 = b.select(c).collect()[0][0] #select value of q1 from the column\n",
        "    q2 = b.select(c).collect()[1][0] #select value of q2 from the column\n",
        "    q3 = b.select(c).collect()[2][0] #select value of q3 from the column\n",
        "    IQR=q3-q1  #calculate the value of IQR\n",
        "    upper= q3 + (IQR*1.5)   #calculate the value of upper side\n",
        "    return upper\n",
        "\n",
        "\n",
        "#function to calculate lower side\n",
        "def lower_value(b,c):\n",
        "    \"\"\"Input is quantile dataframe and name of numerical column and Retrun lower value from the column\"\"\"\n",
        "    q1 = b.select(c).collect()[0][0] #select value of q1 from the column\n",
        "    q2 = b.select(c).collect()[1][0] #select value of q2 from the column\n",
        "    q3 = b.select(c).collect()[2][0] #select value of q3 from the column\n",
        "    IQR=q3-q1                   #calculate the value of IQR\n",
        "    lower= q1 - (IQR*1.5)       #calculate the value of lower side\n",
        "    return lower\n",
        "    "
      ],
      "execution_count": null,
      "outputs": []
    },
    {
      "cell_type": "markdown",
      "metadata": {
        "id": "YgNWR2WZRogX",
        "colab_type": "text"
      },
      "source": [
        "##### Replacing the outlier"
      ]
    },
    {
      "cell_type": "code",
      "metadata": {
        "id": "EbPWVbMPmHjM",
        "colab_type": "code",
        "colab": {}
      },
      "source": [
        "#function for replacing outlier by upper side\n",
        "def replce_outlier_up2(d,col, value):\n",
        "    \"\"\"Input is name of numerical column and it's upper side value\"\"\"\n",
        "    #global d\n",
        "    d=d.withColumn(col, F.when(d[col] > value , value).otherwise(d[col]))\n",
        "    return d\n",
        "\n",
        "\n",
        "#function for replacing outlier by lower side\n",
        "def replce_outlier_low2(d,col, value):\n",
        "    \"\"\"Input is name of numerical column and it's lower side value\"\"\"\n",
        "    #global df_final\n",
        "    d=d.withColumn(col, F.when(d[col] < value , value).otherwise(d[col]))\n",
        "    return d"
      ],
      "execution_count": null,
      "outputs": []
    },
    {
      "cell_type": "code",
      "metadata": {
        "id": "_g3GgoyxmHgw",
        "colab_type": "code",
        "colab": {}
      },
      "source": [
        "#call function to calculate lower side and replace value under lower side with value lower side\n",
        "for i in num_cols:\n",
        "    lower=lower_value(quantile,i)\n",
        "    df_final=replce_outlier_low2(df_final, i, lower)\n",
        "\n",
        "\n",
        "#call function to calculate upper side and replace value above upper side with value upper side\n",
        "for x in num_cols:\n",
        "    upper=upper_value(quantile,x)\n",
        "    df_final=replce_outlier_up2(df_final, x, upper)\n",
        "    "
      ],
      "execution_count": null,
      "outputs": []
    },
    {
      "cell_type": "code",
      "metadata": {
        "id": "SR2z_P_QmHe9",
        "colab_type": "code",
        "colab": {
          "base_uri": "https://localhost:8080/",
          "height": 1000
        },
        "outputId": "e838bfb4-7a0a-4516-bd3a-718c6df87850"
      },
      "source": [
        "df_final.columns"
      ],
      "execution_count": 50,
      "outputs": [
        {
          "output_type": "execute_result",
          "data": {
            "text/plain": [
              "['label',\n",
              " 'NAME_CONTRACT_TYPE',\n",
              " 'CODE_GENDER',\n",
              " 'FLAG_OWN_CAR',\n",
              " 'FLAG_OWN_REALTY',\n",
              " 'CNT_CHILDREN',\n",
              " 'AMT_INCOME_TOTAL',\n",
              " 'AMT_CREDIT',\n",
              " 'AMT_ANNUITY',\n",
              " 'AMT_GOODS_PRICE',\n",
              " 'NAME_TYPE_SUITE',\n",
              " 'NAME_INCOME_TYPE',\n",
              " 'NAME_EDUCATION_TYPE',\n",
              " 'NAME_FAMILY_STATUS',\n",
              " 'NAME_HOUSING_TYPE',\n",
              " 'REGION_POPULATION_RELATIVE',\n",
              " 'DAYS_BIRTH',\n",
              " 'DAYS_EMPLOYED',\n",
              " 'DAYS_REGISTRATION',\n",
              " 'DAYS_ID_PUBLISH',\n",
              " 'OWN_CAR_AGE',\n",
              " 'FLAG_MOBIL',\n",
              " 'FLAG_EMP_PHONE',\n",
              " 'FLAG_WORK_PHONE',\n",
              " 'FLAG_CONT_MOBILE',\n",
              " 'FLAG_PHONE',\n",
              " 'FLAG_EMAIL',\n",
              " 'OCCUPATION_TYPE',\n",
              " 'CNT_FAM_MEMBERS',\n",
              " 'REGION_RATING_CLIENT',\n",
              " 'REGION_RATING_CLIENT_W_CITY',\n",
              " 'WEEKDAY_APPR_PROCESS_START',\n",
              " 'HOUR_APPR_PROCESS_START',\n",
              " 'REG_REGION_NOT_LIVE_REGION',\n",
              " 'REG_REGION_NOT_WORK_REGION',\n",
              " 'LIVE_REGION_NOT_WORK_REGION',\n",
              " 'REG_CITY_NOT_LIVE_CITY',\n",
              " 'REG_CITY_NOT_WORK_CITY',\n",
              " 'LIVE_CITY_NOT_WORK_CITY',\n",
              " 'ORGANIZATION_TYPE',\n",
              " 'EXT_SOURCE_1',\n",
              " 'EXT_SOURCE_2',\n",
              " 'EXT_SOURCE_3',\n",
              " 'APARTMENTS_AVG',\n",
              " 'BASEMENTAREA_AVG',\n",
              " 'YEARS_BEGINEXPLUATATION_AVG',\n",
              " 'YEARS_BUILD_AVG',\n",
              " 'COMMONAREA_AVG',\n",
              " 'ELEVATORS_AVG',\n",
              " 'ENTRANCES_AVG',\n",
              " 'FLOORSMAX_AVG',\n",
              " 'FLOORSMIN_AVG',\n",
              " 'LANDAREA_AVG',\n",
              " 'LIVINGAPARTMENTS_AVG',\n",
              " 'LIVINGAREA_AVG',\n",
              " 'NONLIVINGAPARTMENTS_AVG',\n",
              " 'NONLIVINGAREA_AVG',\n",
              " 'APARTMENTS_MODE',\n",
              " 'BASEMENTAREA_MODE',\n",
              " 'YEARS_BEGINEXPLUATATION_MODE',\n",
              " 'YEARS_BUILD_MODE',\n",
              " 'COMMONAREA_MODE',\n",
              " 'ELEVATORS_MODE',\n",
              " 'ENTRANCES_MODE',\n",
              " 'FLOORSMAX_MODE',\n",
              " 'FLOORSMIN_MODE',\n",
              " 'LANDAREA_MODE',\n",
              " 'LIVINGAPARTMENTS_MODE',\n",
              " 'LIVINGAREA_MODE',\n",
              " 'NONLIVINGAPARTMENTS_MODE',\n",
              " 'NONLIVINGAREA_MODE',\n",
              " 'APARTMENTS_MEDI',\n",
              " 'BASEMENTAREA_MEDI',\n",
              " 'YEARS_BEGINEXPLUATATION_MEDI',\n",
              " 'YEARS_BUILD_MEDI',\n",
              " 'COMMONAREA_MEDI',\n",
              " 'ELEVATORS_MEDI',\n",
              " 'ENTRANCES_MEDI',\n",
              " 'FLOORSMAX_MEDI',\n",
              " 'FLOORSMIN_MEDI',\n",
              " 'LANDAREA_MEDI',\n",
              " 'LIVINGAPARTMENTS_MEDI',\n",
              " 'LIVINGAREA_MEDI',\n",
              " 'NONLIVINGAPARTMENTS_MEDI',\n",
              " 'NONLIVINGAREA_MEDI',\n",
              " 'FONDKAPREMONT_MODE',\n",
              " 'HOUSETYPE_MODE',\n",
              " 'TOTALAREA_MODE',\n",
              " 'WALLSMATERIAL_MODE',\n",
              " 'EMERGENCYSTATE_MODE',\n",
              " 'OBS_30_CNT_SOCIAL_CIRCLE',\n",
              " 'DEF_30_CNT_SOCIAL_CIRCLE',\n",
              " 'OBS_60_CNT_SOCIAL_CIRCLE',\n",
              " 'DEF_60_CNT_SOCIAL_CIRCLE',\n",
              " 'DAYS_LAST_PHONE_CHANGE',\n",
              " 'FLAG_DOCUMENT_2',\n",
              " 'FLAG_DOCUMENT_3',\n",
              " 'FLAG_DOCUMENT_4',\n",
              " 'FLAG_DOCUMENT_5',\n",
              " 'FLAG_DOCUMENT_6',\n",
              " 'FLAG_DOCUMENT_7',\n",
              " 'FLAG_DOCUMENT_8',\n",
              " 'FLAG_DOCUMENT_9',\n",
              " 'FLAG_DOCUMENT_10',\n",
              " 'FLAG_DOCUMENT_11',\n",
              " 'FLAG_DOCUMENT_12',\n",
              " 'FLAG_DOCUMENT_13',\n",
              " 'FLAG_DOCUMENT_14',\n",
              " 'FLAG_DOCUMENT_15',\n",
              " 'FLAG_DOCUMENT_16',\n",
              " 'FLAG_DOCUMENT_17',\n",
              " 'FLAG_DOCUMENT_18',\n",
              " 'FLAG_DOCUMENT_19',\n",
              " 'FLAG_DOCUMENT_20',\n",
              " 'FLAG_DOCUMENT_21',\n",
              " 'AMT_REQ_CREDIT_BUREAU_HOUR',\n",
              " 'AMT_REQ_CREDIT_BUREAU_DAY',\n",
              " 'AMT_REQ_CREDIT_BUREAU_WEEK',\n",
              " 'AMT_REQ_CREDIT_BUREAU_MON',\n",
              " 'AMT_REQ_CREDIT_BUREAU_QRT',\n",
              " 'AMT_REQ_CREDIT_BUREAU_YEAR']"
            ]
          },
          "metadata": {
            "tags": []
          },
          "execution_count": 50
        }
      ]
    },
    {
      "cell_type": "markdown",
      "metadata": {
        "id": "eMCeC5IISaOb",
        "colab_type": "text"
      },
      "source": [
        "### Encoding"
      ]
    },
    {
      "cell_type": "code",
      "metadata": {
        "id": "x_jU3ZGEmHZs",
        "colab_type": "code",
        "colab": {}
      },
      "source": [
        "stages = []\n",
        "for categoricalCol in cat_cols:\n",
        "    stringIndexer = StringIndexer(inputCol = categoricalCol, outputCol = categoricalCol + 'Index')\n",
        "    encoder = OneHotEncoder(inputCols=[stringIndexer.getOutputCol()], outputCols=[categoricalCol + \"classVec\"])\n",
        "    stages += [stringIndexer, encoder]\n",
        "    \n",
        "assemblerInputs = [c + \"classVec\" for c in cat_cols] + num_cols\n",
        "assembler = VectorAssembler(inputCols=assemblerInputs, outputCol=\"features\")\n",
        "stages += [assembler]\n"
      ],
      "execution_count": 51,
      "outputs": []
    },
    {
      "cell_type": "markdown",
      "metadata": {
        "id": "YjoDMKbN_FZX",
        "colab_type": "text"
      },
      "source": [
        "### Pipeline"
      ]
    },
    {
      "cell_type": "code",
      "metadata": {
        "id": "Z1qq4SFR9sJy",
        "colab_type": "code",
        "colab": {
          "base_uri": "https://localhost:8080/",
          "height": 603
        },
        "outputId": "927973f7-6dbc-4d6f-e33f-3dfa6eb0624f"
      },
      "source": [
        "cols = df_final.columns\n",
        "pipeline = Pipeline(stages = stages)\n",
        "pipelineModel = pipeline.fit(df_final)\n",
        "df_final = pipelineModel.transform(df_final)\n",
        "\n",
        "selectedCols = ['features']+cols\n",
        "df_final = df_final.select(selectedCols)\n",
        "pd.DataFrame(df_final.take(5), columns=df_final.columns)\n"
      ],
      "execution_count": 52,
      "outputs": [
        {
          "output_type": "execute_result",
          "data": {
            "text/html": [
              "<div>\n",
              "<style scoped>\n",
              "    .dataframe tbody tr th:only-of-type {\n",
              "        vertical-align: middle;\n",
              "    }\n",
              "\n",
              "    .dataframe tbody tr th {\n",
              "        vertical-align: top;\n",
              "    }\n",
              "\n",
              "    .dataframe thead th {\n",
              "        text-align: right;\n",
              "    }\n",
              "</style>\n",
              "<table border=\"1\" class=\"dataframe\">\n",
              "  <thead>\n",
              "    <tr style=\"text-align: right;\">\n",
              "      <th></th>\n",
              "      <th>features</th>\n",
              "      <th>label</th>\n",
              "      <th>NAME_CONTRACT_TYPE</th>\n",
              "      <th>CODE_GENDER</th>\n",
              "      <th>FLAG_OWN_CAR</th>\n",
              "      <th>FLAG_OWN_REALTY</th>\n",
              "      <th>CNT_CHILDREN</th>\n",
              "      <th>AMT_INCOME_TOTAL</th>\n",
              "      <th>AMT_CREDIT</th>\n",
              "      <th>AMT_ANNUITY</th>\n",
              "      <th>AMT_GOODS_PRICE</th>\n",
              "      <th>NAME_TYPE_SUITE</th>\n",
              "      <th>NAME_INCOME_TYPE</th>\n",
              "      <th>NAME_EDUCATION_TYPE</th>\n",
              "      <th>NAME_FAMILY_STATUS</th>\n",
              "      <th>NAME_HOUSING_TYPE</th>\n",
              "      <th>REGION_POPULATION_RELATIVE</th>\n",
              "      <th>DAYS_BIRTH</th>\n",
              "      <th>DAYS_EMPLOYED</th>\n",
              "      <th>DAYS_REGISTRATION</th>\n",
              "      <th>DAYS_ID_PUBLISH</th>\n",
              "      <th>OWN_CAR_AGE</th>\n",
              "      <th>FLAG_MOBIL</th>\n",
              "      <th>FLAG_EMP_PHONE</th>\n",
              "      <th>FLAG_WORK_PHONE</th>\n",
              "      <th>FLAG_CONT_MOBILE</th>\n",
              "      <th>FLAG_PHONE</th>\n",
              "      <th>FLAG_EMAIL</th>\n",
              "      <th>OCCUPATION_TYPE</th>\n",
              "      <th>CNT_FAM_MEMBERS</th>\n",
              "      <th>REGION_RATING_CLIENT</th>\n",
              "      <th>REGION_RATING_CLIENT_W_CITY</th>\n",
              "      <th>WEEKDAY_APPR_PROCESS_START</th>\n",
              "      <th>HOUR_APPR_PROCESS_START</th>\n",
              "      <th>REG_REGION_NOT_LIVE_REGION</th>\n",
              "      <th>REG_REGION_NOT_WORK_REGION</th>\n",
              "      <th>LIVE_REGION_NOT_WORK_REGION</th>\n",
              "      <th>REG_CITY_NOT_LIVE_CITY</th>\n",
              "      <th>REG_CITY_NOT_WORK_CITY</th>\n",
              "      <th>LIVE_CITY_NOT_WORK_CITY</th>\n",
              "      <th>...</th>\n",
              "      <th>LIVINGAPARTMENTS_MEDI</th>\n",
              "      <th>LIVINGAREA_MEDI</th>\n",
              "      <th>NONLIVINGAPARTMENTS_MEDI</th>\n",
              "      <th>NONLIVINGAREA_MEDI</th>\n",
              "      <th>FONDKAPREMONT_MODE</th>\n",
              "      <th>HOUSETYPE_MODE</th>\n",
              "      <th>TOTALAREA_MODE</th>\n",
              "      <th>WALLSMATERIAL_MODE</th>\n",
              "      <th>EMERGENCYSTATE_MODE</th>\n",
              "      <th>OBS_30_CNT_SOCIAL_CIRCLE</th>\n",
              "      <th>DEF_30_CNT_SOCIAL_CIRCLE</th>\n",
              "      <th>OBS_60_CNT_SOCIAL_CIRCLE</th>\n",
              "      <th>DEF_60_CNT_SOCIAL_CIRCLE</th>\n",
              "      <th>DAYS_LAST_PHONE_CHANGE</th>\n",
              "      <th>FLAG_DOCUMENT_2</th>\n",
              "      <th>FLAG_DOCUMENT_3</th>\n",
              "      <th>FLAG_DOCUMENT_4</th>\n",
              "      <th>FLAG_DOCUMENT_5</th>\n",
              "      <th>FLAG_DOCUMENT_6</th>\n",
              "      <th>FLAG_DOCUMENT_7</th>\n",
              "      <th>FLAG_DOCUMENT_8</th>\n",
              "      <th>FLAG_DOCUMENT_9</th>\n",
              "      <th>FLAG_DOCUMENT_10</th>\n",
              "      <th>FLAG_DOCUMENT_11</th>\n",
              "      <th>FLAG_DOCUMENT_12</th>\n",
              "      <th>FLAG_DOCUMENT_13</th>\n",
              "      <th>FLAG_DOCUMENT_14</th>\n",
              "      <th>FLAG_DOCUMENT_15</th>\n",
              "      <th>FLAG_DOCUMENT_16</th>\n",
              "      <th>FLAG_DOCUMENT_17</th>\n",
              "      <th>FLAG_DOCUMENT_18</th>\n",
              "      <th>FLAG_DOCUMENT_19</th>\n",
              "      <th>FLAG_DOCUMENT_20</th>\n",
              "      <th>FLAG_DOCUMENT_21</th>\n",
              "      <th>AMT_REQ_CREDIT_BUREAU_HOUR</th>\n",
              "      <th>AMT_REQ_CREDIT_BUREAU_DAY</th>\n",
              "      <th>AMT_REQ_CREDIT_BUREAU_WEEK</th>\n",
              "      <th>AMT_REQ_CREDIT_BUREAU_MON</th>\n",
              "      <th>AMT_REQ_CREDIT_BUREAU_QRT</th>\n",
              "      <th>AMT_REQ_CREDIT_BUREAU_YEAR</th>\n",
              "    </tr>\n",
              "  </thead>\n",
              "  <tbody>\n",
              "    <tr>\n",
              "      <th>0</th>\n",
              "      <td>(1.0, 0.0, 1.0, 1.0, 1.0, 0.0, 0.0, 1.0, 0.0, ...</td>\n",
              "      <td>1</td>\n",
              "      <td>Cash loans</td>\n",
              "      <td>M</td>\n",
              "      <td>N</td>\n",
              "      <td>Y</td>\n",
              "      <td>0</td>\n",
              "      <td>202500.0</td>\n",
              "      <td>406597.5</td>\n",
              "      <td>24700.5</td>\n",
              "      <td>351000.0</td>\n",
              "      <td>Unaccompanied</td>\n",
              "      <td>Working</td>\n",
              "      <td>Secondary / secondary special</td>\n",
              "      <td>Single / not married</td>\n",
              "      <td>House / apartment</td>\n",
              "      <td>0.018801</td>\n",
              "      <td>-9461</td>\n",
              "      <td>-637</td>\n",
              "      <td>-3648.0</td>\n",
              "      <td>-2120</td>\n",
              "      <td>11</td>\n",
              "      <td>1</td>\n",
              "      <td>1</td>\n",
              "      <td>0</td>\n",
              "      <td>1</td>\n",
              "      <td>1</td>\n",
              "      <td>0</td>\n",
              "      <td>Laborers</td>\n",
              "      <td>1</td>\n",
              "      <td>2</td>\n",
              "      <td>2</td>\n",
              "      <td>WEDNESDAY</td>\n",
              "      <td>10</td>\n",
              "      <td>0</td>\n",
              "      <td>0</td>\n",
              "      <td>0</td>\n",
              "      <td>0</td>\n",
              "      <td>0</td>\n",
              "      <td>0</td>\n",
              "      <td>...</td>\n",
              "      <td>0.0205</td>\n",
              "      <td>0.0193</td>\n",
              "      <td>0.0000</td>\n",
              "      <td>0.00</td>\n",
              "      <td>reg oper account</td>\n",
              "      <td>block of flats</td>\n",
              "      <td>0.0149</td>\n",
              "      <td>Stone, brick</td>\n",
              "      <td>No</td>\n",
              "      <td>2</td>\n",
              "      <td>2</td>\n",
              "      <td>2</td>\n",
              "      <td>2</td>\n",
              "      <td>-1134</td>\n",
              "      <td>0</td>\n",
              "      <td>1</td>\n",
              "      <td>0</td>\n",
              "      <td>0</td>\n",
              "      <td>0</td>\n",
              "      <td>0</td>\n",
              "      <td>0</td>\n",
              "      <td>0</td>\n",
              "      <td>0</td>\n",
              "      <td>0</td>\n",
              "      <td>0</td>\n",
              "      <td>0</td>\n",
              "      <td>0</td>\n",
              "      <td>0</td>\n",
              "      <td>0</td>\n",
              "      <td>0</td>\n",
              "      <td>0</td>\n",
              "      <td>0</td>\n",
              "      <td>0</td>\n",
              "      <td>0</td>\n",
              "      <td>0</td>\n",
              "      <td>0</td>\n",
              "      <td>0</td>\n",
              "      <td>0</td>\n",
              "      <td>0</td>\n",
              "      <td>1</td>\n",
              "    </tr>\n",
              "    <tr>\n",
              "      <th>1</th>\n",
              "      <td>(1.0, 1.0, 1.0, 0.0, 0.0, 1.0, 0.0, 0.0, 0.0, ...</td>\n",
              "      <td>0</td>\n",
              "      <td>Cash loans</td>\n",
              "      <td>F</td>\n",
              "      <td>N</td>\n",
              "      <td>N</td>\n",
              "      <td>0</td>\n",
              "      <td>270000.0</td>\n",
              "      <td>1293502.5</td>\n",
              "      <td>35698.5</td>\n",
              "      <td>1129500.0</td>\n",
              "      <td>Family</td>\n",
              "      <td>State servant</td>\n",
              "      <td>Higher education</td>\n",
              "      <td>Married</td>\n",
              "      <td>House / apartment</td>\n",
              "      <td>0.003541</td>\n",
              "      <td>-16765</td>\n",
              "      <td>-1188</td>\n",
              "      <td>-1186.0</td>\n",
              "      <td>-291</td>\n",
              "      <td>11</td>\n",
              "      <td>1</td>\n",
              "      <td>1</td>\n",
              "      <td>0</td>\n",
              "      <td>1</td>\n",
              "      <td>1</td>\n",
              "      <td>0</td>\n",
              "      <td>Core staff</td>\n",
              "      <td>2</td>\n",
              "      <td>1</td>\n",
              "      <td>1</td>\n",
              "      <td>MONDAY</td>\n",
              "      <td>11</td>\n",
              "      <td>0</td>\n",
              "      <td>0</td>\n",
              "      <td>0</td>\n",
              "      <td>0</td>\n",
              "      <td>0</td>\n",
              "      <td>0</td>\n",
              "      <td>...</td>\n",
              "      <td>0.0787</td>\n",
              "      <td>0.0558</td>\n",
              "      <td>0.0039</td>\n",
              "      <td>0.01</td>\n",
              "      <td>reg oper account</td>\n",
              "      <td>block of flats</td>\n",
              "      <td>0.0714</td>\n",
              "      <td>Block</td>\n",
              "      <td>No</td>\n",
              "      <td>1</td>\n",
              "      <td>0</td>\n",
              "      <td>1</td>\n",
              "      <td>0</td>\n",
              "      <td>-828</td>\n",
              "      <td>0</td>\n",
              "      <td>1</td>\n",
              "      <td>0</td>\n",
              "      <td>0</td>\n",
              "      <td>0</td>\n",
              "      <td>0</td>\n",
              "      <td>0</td>\n",
              "      <td>0</td>\n",
              "      <td>0</td>\n",
              "      <td>0</td>\n",
              "      <td>0</td>\n",
              "      <td>0</td>\n",
              "      <td>0</td>\n",
              "      <td>0</td>\n",
              "      <td>0</td>\n",
              "      <td>0</td>\n",
              "      <td>0</td>\n",
              "      <td>0</td>\n",
              "      <td>0</td>\n",
              "      <td>0</td>\n",
              "      <td>0</td>\n",
              "      <td>0</td>\n",
              "      <td>0</td>\n",
              "      <td>0</td>\n",
              "      <td>0</td>\n",
              "      <td>0</td>\n",
              "    </tr>\n",
              "    <tr>\n",
              "      <th>2</th>\n",
              "      <td>(0.0, 0.0, 0.0, 1.0, 1.0, 0.0, 0.0, 1.0, 0.0, ...</td>\n",
              "      <td>0</td>\n",
              "      <td>Revolving loans</td>\n",
              "      <td>M</td>\n",
              "      <td>Y</td>\n",
              "      <td>Y</td>\n",
              "      <td>0</td>\n",
              "      <td>67500.0</td>\n",
              "      <td>135000.0</td>\n",
              "      <td>6750.0</td>\n",
              "      <td>135000.0</td>\n",
              "      <td>Unaccompanied</td>\n",
              "      <td>Working</td>\n",
              "      <td>Secondary / secondary special</td>\n",
              "      <td>Single / not married</td>\n",
              "      <td>House / apartment</td>\n",
              "      <td>0.010032</td>\n",
              "      <td>-19046</td>\n",
              "      <td>-225</td>\n",
              "      <td>-4260.0</td>\n",
              "      <td>-2531</td>\n",
              "      <td>26</td>\n",
              "      <td>1</td>\n",
              "      <td>1</td>\n",
              "      <td>1</td>\n",
              "      <td>1</td>\n",
              "      <td>1</td>\n",
              "      <td>0</td>\n",
              "      <td>Laborers</td>\n",
              "      <td>1</td>\n",
              "      <td>2</td>\n",
              "      <td>2</td>\n",
              "      <td>MONDAY</td>\n",
              "      <td>9</td>\n",
              "      <td>0</td>\n",
              "      <td>0</td>\n",
              "      <td>0</td>\n",
              "      <td>0</td>\n",
              "      <td>0</td>\n",
              "      <td>0</td>\n",
              "      <td>...</td>\n",
              "      <td>0.0000</td>\n",
              "      <td>0.0000</td>\n",
              "      <td>0.0000</td>\n",
              "      <td>0.00</td>\n",
              "      <td>reg oper account</td>\n",
              "      <td>block of flats</td>\n",
              "      <td>0.0000</td>\n",
              "      <td>Panel</td>\n",
              "      <td>No</td>\n",
              "      <td>0</td>\n",
              "      <td>0</td>\n",
              "      <td>0</td>\n",
              "      <td>0</td>\n",
              "      <td>-815</td>\n",
              "      <td>0</td>\n",
              "      <td>0</td>\n",
              "      <td>0</td>\n",
              "      <td>0</td>\n",
              "      <td>0</td>\n",
              "      <td>0</td>\n",
              "      <td>0</td>\n",
              "      <td>0</td>\n",
              "      <td>0</td>\n",
              "      <td>0</td>\n",
              "      <td>0</td>\n",
              "      <td>0</td>\n",
              "      <td>0</td>\n",
              "      <td>0</td>\n",
              "      <td>0</td>\n",
              "      <td>0</td>\n",
              "      <td>0</td>\n",
              "      <td>0</td>\n",
              "      <td>0</td>\n",
              "      <td>0</td>\n",
              "      <td>0</td>\n",
              "      <td>0</td>\n",
              "      <td>0</td>\n",
              "      <td>0</td>\n",
              "      <td>0</td>\n",
              "      <td>0</td>\n",
              "    </tr>\n",
              "    <tr>\n",
              "      <th>3</th>\n",
              "      <td>(1.0, 1.0, 1.0, 1.0, 1.0, 0.0, 0.0, 1.0, 0.0, ...</td>\n",
              "      <td>0</td>\n",
              "      <td>Cash loans</td>\n",
              "      <td>F</td>\n",
              "      <td>N</td>\n",
              "      <td>Y</td>\n",
              "      <td>0</td>\n",
              "      <td>135000.0</td>\n",
              "      <td>312682.5</td>\n",
              "      <td>29686.5</td>\n",
              "      <td>297000.0</td>\n",
              "      <td>Unaccompanied</td>\n",
              "      <td>Working</td>\n",
              "      <td>Secondary / secondary special</td>\n",
              "      <td>Civil marriage</td>\n",
              "      <td>House / apartment</td>\n",
              "      <td>0.008019</td>\n",
              "      <td>-19005</td>\n",
              "      <td>-3039</td>\n",
              "      <td>-9833.0</td>\n",
              "      <td>-2437</td>\n",
              "      <td>11</td>\n",
              "      <td>1</td>\n",
              "      <td>1</td>\n",
              "      <td>0</td>\n",
              "      <td>1</td>\n",
              "      <td>0</td>\n",
              "      <td>0</td>\n",
              "      <td>Laborers</td>\n",
              "      <td>2</td>\n",
              "      <td>2</td>\n",
              "      <td>2</td>\n",
              "      <td>WEDNESDAY</td>\n",
              "      <td>17</td>\n",
              "      <td>0</td>\n",
              "      <td>0</td>\n",
              "      <td>0</td>\n",
              "      <td>0</td>\n",
              "      <td>0</td>\n",
              "      <td>0</td>\n",
              "      <td>...</td>\n",
              "      <td>0.0000</td>\n",
              "      <td>0.0000</td>\n",
              "      <td>0.0000</td>\n",
              "      <td>0.00</td>\n",
              "      <td>reg oper account</td>\n",
              "      <td>block of flats</td>\n",
              "      <td>0.0000</td>\n",
              "      <td>Panel</td>\n",
              "      <td>No</td>\n",
              "      <td>2</td>\n",
              "      <td>0</td>\n",
              "      <td>2</td>\n",
              "      <td>0</td>\n",
              "      <td>-617</td>\n",
              "      <td>0</td>\n",
              "      <td>1</td>\n",
              "      <td>0</td>\n",
              "      <td>0</td>\n",
              "      <td>0</td>\n",
              "      <td>0</td>\n",
              "      <td>0</td>\n",
              "      <td>0</td>\n",
              "      <td>0</td>\n",
              "      <td>0</td>\n",
              "      <td>0</td>\n",
              "      <td>0</td>\n",
              "      <td>0</td>\n",
              "      <td>0</td>\n",
              "      <td>0</td>\n",
              "      <td>0</td>\n",
              "      <td>0</td>\n",
              "      <td>0</td>\n",
              "      <td>0</td>\n",
              "      <td>0</td>\n",
              "      <td>0</td>\n",
              "      <td>0</td>\n",
              "      <td>0</td>\n",
              "      <td>0</td>\n",
              "      <td>0</td>\n",
              "      <td>2</td>\n",
              "    </tr>\n",
              "    <tr>\n",
              "      <th>4</th>\n",
              "      <td>(1.0, 0.0, 1.0, 1.0, 1.0, 0.0, 0.0, 1.0, 0.0, ...</td>\n",
              "      <td>0</td>\n",
              "      <td>Cash loans</td>\n",
              "      <td>M</td>\n",
              "      <td>N</td>\n",
              "      <td>Y</td>\n",
              "      <td>0</td>\n",
              "      <td>121500.0</td>\n",
              "      <td>513000.0</td>\n",
              "      <td>21865.5</td>\n",
              "      <td>513000.0</td>\n",
              "      <td>Unaccompanied</td>\n",
              "      <td>Working</td>\n",
              "      <td>Secondary / secondary special</td>\n",
              "      <td>Single / not married</td>\n",
              "      <td>House / apartment</td>\n",
              "      <td>0.028663</td>\n",
              "      <td>-19932</td>\n",
              "      <td>-3038</td>\n",
              "      <td>-4311.0</td>\n",
              "      <td>-3458</td>\n",
              "      <td>11</td>\n",
              "      <td>1</td>\n",
              "      <td>1</td>\n",
              "      <td>0</td>\n",
              "      <td>1</td>\n",
              "      <td>0</td>\n",
              "      <td>0</td>\n",
              "      <td>Core staff</td>\n",
              "      <td>1</td>\n",
              "      <td>2</td>\n",
              "      <td>2</td>\n",
              "      <td>THURSDAY</td>\n",
              "      <td>11</td>\n",
              "      <td>0</td>\n",
              "      <td>0</td>\n",
              "      <td>0</td>\n",
              "      <td>0</td>\n",
              "      <td>1</td>\n",
              "      <td>1</td>\n",
              "      <td>...</td>\n",
              "      <td>0.0000</td>\n",
              "      <td>0.0000</td>\n",
              "      <td>0.0000</td>\n",
              "      <td>0.00</td>\n",
              "      <td>reg oper account</td>\n",
              "      <td>block of flats</td>\n",
              "      <td>0.0000</td>\n",
              "      <td>Panel</td>\n",
              "      <td>No</td>\n",
              "      <td>0</td>\n",
              "      <td>0</td>\n",
              "      <td>0</td>\n",
              "      <td>0</td>\n",
              "      <td>-1106</td>\n",
              "      <td>0</td>\n",
              "      <td>0</td>\n",
              "      <td>0</td>\n",
              "      <td>0</td>\n",
              "      <td>0</td>\n",
              "      <td>0</td>\n",
              "      <td>1</td>\n",
              "      <td>0</td>\n",
              "      <td>0</td>\n",
              "      <td>0</td>\n",
              "      <td>0</td>\n",
              "      <td>0</td>\n",
              "      <td>0</td>\n",
              "      <td>0</td>\n",
              "      <td>0</td>\n",
              "      <td>0</td>\n",
              "      <td>0</td>\n",
              "      <td>0</td>\n",
              "      <td>0</td>\n",
              "      <td>0</td>\n",
              "      <td>0</td>\n",
              "      <td>0</td>\n",
              "      <td>0</td>\n",
              "      <td>0</td>\n",
              "      <td>0</td>\n",
              "      <td>0</td>\n",
              "    </tr>\n",
              "  </tbody>\n",
              "</table>\n",
              "<p>5 rows × 122 columns</p>\n",
              "</div>"
            ],
            "text/plain": [
              "                                            features  ...  AMT_REQ_CREDIT_BUREAU_YEAR\n",
              "0  (1.0, 0.0, 1.0, 1.0, 1.0, 0.0, 0.0, 1.0, 0.0, ...  ...                           1\n",
              "1  (1.0, 1.0, 1.0, 0.0, 0.0, 1.0, 0.0, 0.0, 0.0, ...  ...                           0\n",
              "2  (0.0, 0.0, 0.0, 1.0, 1.0, 0.0, 0.0, 1.0, 0.0, ...  ...                           0\n",
              "3  (1.0, 1.0, 1.0, 1.0, 1.0, 0.0, 0.0, 1.0, 0.0, ...  ...                           2\n",
              "4  (1.0, 0.0, 1.0, 1.0, 1.0, 0.0, 0.0, 1.0, 0.0, ...  ...                           0\n",
              "\n",
              "[5 rows x 122 columns]"
            ]
          },
          "metadata": {
            "tags": []
          },
          "execution_count": 52
        }
      ]
    },
    {
      "cell_type": "code",
      "metadata": {
        "id": "StbpfnEgmHTC",
        "colab_type": "code",
        "colab": {}
      },
      "source": [
        ""
      ],
      "execution_count": 52,
      "outputs": []
    },
    {
      "cell_type": "markdown",
      "metadata": {
        "id": "ATgjXQYo-zqX",
        "colab_type": "text"
      },
      "source": [
        "### Selecting only Features and Label"
      ]
    },
    {
      "cell_type": "code",
      "metadata": {
        "id": "VSSWE9MrmHR4",
        "colab_type": "code",
        "colab": {
          "base_uri": "https://localhost:8080/",
          "height": 208
        },
        "outputId": "bb4a3299-9144-4876-8a21-533b1a5be522"
      },
      "source": [
        "df_final.select('features', 'label').show(5)"
      ],
      "execution_count": 53,
      "outputs": [
        {
          "output_type": "stream",
          "text": [
            "+--------------------+-----+\n",
            "|            features|label|\n",
            "+--------------------+-----+\n",
            "|(177,[0,2,3,4,7,1...|    1|\n",
            "|(177,[0,1,2,5,11,...|    0|\n",
            "|(177,[3,4,7,10,14...|    0|\n",
            "|(177,[0,1,2,3,4,7...|    0|\n",
            "|(177,[0,2,3,4,7,1...|    0|\n",
            "+--------------------+-----+\n",
            "only showing top 5 rows\n",
            "\n"
          ],
          "name": "stdout"
        }
      ]
    },
    {
      "cell_type": "code",
      "metadata": {
        "id": "jMs6dDVtmHPB",
        "colab_type": "code",
        "colab": {}
      },
      "source": [
        ""
      ],
      "execution_count": null,
      "outputs": []
    },
    {
      "cell_type": "markdown",
      "metadata": {
        "id": "oDb9yx1yVx6R",
        "colab_type": "text"
      },
      "source": [
        "### Split Dataset"
      ]
    },
    {
      "cell_type": "code",
      "metadata": {
        "id": "TRH6iK_nmHKG",
        "colab_type": "code",
        "colab": {}
      },
      "source": [
        "data_train, data_test=df_final.randomSplit([0.7,0.3], 24)\n"
      ],
      "execution_count": 54,
      "outputs": []
    },
    {
      "cell_type": "code",
      "metadata": {
        "id": "AbEmnq5nmG3e",
        "colab_type": "code",
        "colab": {
          "base_uri": "https://localhost:8080/",
          "height": 34
        },
        "outputId": "4ce2e344-353b-4343-e817-b9940095ab55"
      },
      "source": [
        "data_train.count()"
      ],
      "execution_count": 92,
      "outputs": [
        {
          "output_type": "execute_result",
          "data": {
            "text/plain": [
              "215675"
            ]
          },
          "metadata": {
            "tags": []
          },
          "execution_count": 92
        }
      ]
    },
    {
      "cell_type": "code",
      "metadata": {
        "id": "jpG-o5h6ReH6",
        "colab_type": "code",
        "colab": {
          "base_uri": "https://localhost:8080/",
          "height": 34
        },
        "outputId": "35f57df7-f172-456b-dab3-24d0d0f7c541"
      },
      "source": [
        "data_test.count()"
      ],
      "execution_count": 93,
      "outputs": [
        {
          "output_type": "execute_result",
          "data": {
            "text/plain": [
              "91836"
            ]
          },
          "metadata": {
            "tags": []
          },
          "execution_count": 93
        }
      ]
    },
    {
      "cell_type": "markdown",
      "metadata": {
        "id": "PrYjXJjYWB6H",
        "colab_type": "text"
      },
      "source": [
        "### Modeling and Evaluation"
      ]
    },
    {
      "cell_type": "markdown",
      "metadata": {
        "id": "tgkQZFLPWIUf",
        "colab_type": "text"
      },
      "source": [
        "\n",
        "##### Modelling\n",
        "\n",
        "We will use four algorithm to make a model and prediction, they are:\n",
        "\n",
        "1. Logistic Regression Logistic regression used logit function in prediction the probability.\n",
        "\n",
        "4. Gradient Boosting This algorithm use boosting ensemble technic. This technique employs the logic in which the subsequent predictors learn from the mistakes of the previous predictors.\n",
        "\n",
        "##### Evaluation\n",
        "\n",
        "To evaluate model we use metrics, below:\n",
        "\n",
        "1. RMSE (Root Mean Square Error) RMSE measures the differences between predicted values by the model and the actual values. RMSE can also state the size of the error generated by a prediction model.\n",
        "\n",
        "2. R2 or R squared R-squared is a statistical measure of how close the data are to the fitted regression line. R-squared is always between 0 and 100%:\n",
        "    i) 0% indicates that the model explains none of the variability of the response data around its mean.\n",
        "    ii) 100% indicates that the model explains all the variability of the response data around its mean.\n",
        "\n"
      ]
    },
    {
      "cell_type": "code",
      "metadata": {
        "id": "fq_JcRnaWDOc",
        "colab_type": "code",
        "colab": {}
      },
      "source": [
        ""
      ],
      "execution_count": null,
      "outputs": []
    },
    {
      "cell_type": "markdown",
      "metadata": {
        "id": "G19TvvG3q85e",
        "colab_type": "text"
      },
      "source": [
        "##### Logistic Regression"
      ]
    },
    {
      "cell_type": "code",
      "metadata": {
        "id": "0Dw6_AouWDTo",
        "colab_type": "code",
        "colab": {}
      },
      "source": [
        "#define logistic regression model\n",
        "lr_hyper=LogisticRegression(featuresCol='features', labelCol='label')\n",
        "\n",
        "\n",
        "#Hyper-Parameter Tuning\n",
        "paramGrid_lr = ParamGridBuilder() \\\n",
        "    .addGrid(lr_hyper.regParam, [0.1, 0.01]) \\\n",
        "    .addGrid(lr_hyper.elasticNetParam, [0.8, 0.7]) \\\n",
        "    .build()\n",
        "crossval_lr = CrossValidator(estimator=lr_hyper,\n",
        "                             estimatorParamMaps=paramGrid_lr,\n",
        "                             evaluator=BinaryClassificationEvaluator(),\n",
        "                             numFolds=3)\n",
        "#fit model to data train\n",
        "lr_model_hyper = crossval_lr.fit(data_train)\n"
      ],
      "execution_count": 55,
      "outputs": []
    },
    {
      "cell_type": "code",
      "metadata": {
        "id": "az5ZPwzZWDdg",
        "colab_type": "code",
        "colab": {}
      },
      "source": [
        "#Transform model to data test\n",
        "lr_result_hyper = lr_model_hyper.transform(data_test)"
      ],
      "execution_count": 56,
      "outputs": []
    },
    {
      "cell_type": "code",
      "metadata": {
        "id": "h5Z6Z9GDWDtN",
        "colab_type": "code",
        "colab": {
          "base_uri": "https://localhost:8080/",
          "height": 208
        },
        "outputId": "c92bbc94-7089-4e0c-b65a-3a4a1bb5cd3b"
      },
      "source": [
        "#view id, label, prediction and probability from result of modelling\n",
        "lr_result_hyper.select('label', 'prediction', 'probability').show(5)"
      ],
      "execution_count": 57,
      "outputs": [
        {
          "output_type": "stream",
          "text": [
            "+-----+----------+--------------------+\n",
            "|label|prediction|         probability|\n",
            "+-----+----------+--------------------+\n",
            "|    1|       1.0|[0.34558184257459...|\n",
            "|    1|       1.0|[0.34558184257459...|\n",
            "|    1|       1.0|[0.34558184257459...|\n",
            "|    1|       1.0|[0.34558184257459...|\n",
            "|    1|       1.0|[0.34558184257459...|\n",
            "+-----+----------+--------------------+\n",
            "only showing top 5 rows\n",
            "\n"
          ],
          "name": "stdout"
        }
      ]
    },
    {
      "cell_type": "markdown",
      "metadata": {
        "id": "4faMmIz9rnWW",
        "colab_type": "text"
      },
      "source": [
        "##### Logistic Regression With Hyper-Parameter Tuning Evaluation"
      ]
    },
    {
      "cell_type": "code",
      "metadata": {
        "id": "e9I1DypHWD4I",
        "colab_type": "code",
        "colab": {
          "base_uri": "https://localhost:8080/",
          "height": 69
        },
        "outputId": "e6f79cb1-16b7-4026-d5ce-d9918c408b0c"
      },
      "source": [
        "#Evaluate model by checking accuracy and AUC value\n",
        "lr_hyper_eval = BinaryClassificationEvaluator(rawPredictionCol=\"probability\", labelCol=\"label\")\n",
        "lr_hyper_eval2= MulticlassClassificationEvaluator(predictionCol=\"prediction\", labelCol=\"label\")\n",
        "lr_hyper_AUC  = lr_hyper_eval.evaluate(lr_result_hyper)\n",
        "lr_hyper_ACC  = lr_hyper_eval2.evaluate(lr_result_hyper, {lr_hyper_eval2.metricName:\"accuracy\"})\n",
        "\n",
        "print(\"Logistic Regression Performance Measure\")\n",
        "print(\"Accuracy = %0.2f\" % lr_hyper_ACC)\n",
        "print(\"AUC = %.2f\" % lr_hyper_AUC)\n"
      ],
      "execution_count": 60,
      "outputs": [
        {
          "output_type": "stream",
          "text": [
            "Logistic Regression Performance Measure\n",
            "Accuracy = 1.00\n",
            "AUC = 1.00\n"
          ],
          "name": "stdout"
        }
      ]
    },
    {
      "cell_type": "markdown",
      "metadata": {
        "id": "dYwYs8N4r1Qz",
        "colab_type": "text"
      },
      "source": [
        "##### ROC Curbe"
      ]
    },
    {
      "cell_type": "code",
      "metadata": {
        "id": "gCwrhzCxWD1g",
        "colab_type": "code",
        "colab": {
          "base_uri": "https://localhost:8080/",
          "height": 330
        },
        "outputId": "07d89035-5d67-4d79-dce8-c7d683c8a861"
      },
      "source": [
        "PredAndLabels           = lr_result_hyper.select(\"probability\", \"label\")\n",
        "PredAndLabels_collect   = PredAndLabels.collect()\n",
        "PredAndLabels_list      = [(float(i[0][0]), 1.0-float(i[1])) for i in PredAndLabels_collect]\n",
        "PredAndLabels           = sc.parallelize(PredAndLabels_list)\n",
        "\n",
        "metrics = BinaryClassificationMetrics(PredAndLabels)\n",
        "\n",
        "# Area under ROC\n",
        "print(\"Logistic Regression Area Under ROC\")\n",
        "print(\"Area under ROC = %.2f\" % metrics.areaUnderROC)\n",
        "\n",
        "# Visualization\n",
        "FPR = dict()                                                        # FPR: False Positive Rate\n",
        "tpr = dict()                                                        # TPR: True Positive Rate\n",
        "roc_auc = dict()\n",
        " \n",
        "y_test = [i[1] for i in PredAndLabels_list]\n",
        "y_score = [i[0] for i in PredAndLabels_list]\n",
        " \n",
        "fpr, tpr, _ = roc_curve(y_test, y_score)\n",
        "roc_auc = auc(fpr, tpr)\n",
        " \n",
        "plt.figure(figsize=(5,4))\n",
        "plt.plot(fpr, tpr, label='ROC curve (area = %0.2f)' % roc_auc)\n",
        "plt.plot([0, 1], [0, 1], 'k--')\n",
        "plt.xlim([0.0, 1.0])\n",
        "plt.ylim([0.0, 1.05])\n",
        "plt.xlabel('False Positive Rate')\n",
        "plt.ylabel('True Positive Rate')\n",
        "plt.title('ROC Curve - Logistic Regression')\n",
        "plt.legend(loc=\"lower right\")\n",
        "plt.show()\n"
      ],
      "execution_count": 66,
      "outputs": [
        {
          "output_type": "stream",
          "text": [
            "Logistic Regression Area Under ROC\n",
            "Area under ROC = 1.00\n"
          ],
          "name": "stdout"
        },
        {
          "output_type": "display_data",
          "data": {
            "image/png": "[encoded data removed]",
            "text/plain": [
              "<Figure size 360x288 with 1 Axes>"
            ]
          },
          "metadata": {
            "tags": [],
            "needs_background": "light"
          }
        }
      ]
    },
    {
      "cell_type": "markdown",
      "metadata": {
        "id": "yP7gTluZr8TQ",
        "colab_type": "text"
      },
      "source": [
        "##### Confusion Matrix"
      ]
    },
    {
      "cell_type": "code",
      "metadata": {
        "id": "22c-0JfsWDyx",
        "colab_type": "code",
        "colab": {
          "base_uri": "https://localhost:8080/",
          "height": 112
        },
        "outputId": "bc616dd1-ee77-409b-bc1f-4d8ffee89a47"
      },
      "source": [
        "cm_lr_result_hyper = lr_result_hyper.crosstab(\"prediction\", \"label\")\n",
        "cm_lr_result_hyper = cm_lr_result_hyper.toPandas()\n",
        "cm_lr_result_hyper\n"
      ],
      "execution_count": 67,
      "outputs": [
        {
          "output_type": "execute_result",
          "data": {
            "text/html": [
              "<div>\n",
              "<style scoped>\n",
              "    .dataframe tbody tr th:only-of-type {\n",
              "        vertical-align: middle;\n",
              "    }\n",
              "\n",
              "    .dataframe tbody tr th {\n",
              "        vertical-align: top;\n",
              "    }\n",
              "\n",
              "    .dataframe thead th {\n",
              "        text-align: right;\n",
              "    }\n",
              "</style>\n",
              "<table border=\"1\" class=\"dataframe\">\n",
              "  <thead>\n",
              "    <tr style=\"text-align: right;\">\n",
              "      <th></th>\n",
              "      <th>prediction_label</th>\n",
              "      <th>0</th>\n",
              "      <th>1</th>\n",
              "    </tr>\n",
              "  </thead>\n",
              "  <tbody>\n",
              "    <tr>\n",
              "      <th>0</th>\n",
              "      <td>1.0</td>\n",
              "      <td>0</td>\n",
              "      <td>7433</td>\n",
              "    </tr>\n",
              "    <tr>\n",
              "      <th>1</th>\n",
              "      <td>0.0</td>\n",
              "      <td>84403</td>\n",
              "      <td>0</td>\n",
              "    </tr>\n",
              "  </tbody>\n",
              "</table>\n",
              "</div>"
            ],
            "text/plain": [
              "  prediction_label      0     1\n",
              "0              1.0      0  7433\n",
              "1              0.0  84403     0"
            ]
          },
          "metadata": {
            "tags": []
          },
          "execution_count": 67
        }
      ]
    },
    {
      "cell_type": "code",
      "metadata": {
        "id": "btbD0w4XWDxI",
        "colab_type": "code",
        "colab": {
          "base_uri": "https://localhost:8080/",
          "height": 86
        },
        "outputId": "7ac9eb1d-bc63-4c45-b82d-c6b9f38c6de3"
      },
      "source": [
        "#calculate Accuracy, Sensitivity, Specificity, Precision\n",
        "TP = cm_lr_result_hyper[\"1\"][0]\n",
        "FP = cm_lr_result_hyper[\"0\"][0]\n",
        "TN = cm_lr_result_hyper[\"0\"][1]\n",
        "FN = cm_lr_result_hyper[\"1\"][1]\n",
        "Accuracy = (TP+TN)/(TP+FP+TN+FN)\n",
        "Sensitivity = TP/(TP+FN)\n",
        "Specificity = TN/(TN+FP)\n",
        "Precision = TP/(TP+FP)\n",
        "\n",
        "print (\"Accuracy = %0.2f\" %Accuracy )\n",
        "print (\"Sensitivity = %0.2f\" %Sensitivity )\n",
        "print (\"Specificity = %0.2f\" %Specificity )\n",
        "print (\"Precision = %0.2f\" %Precision )\n"
      ],
      "execution_count": 68,
      "outputs": [
        {
          "output_type": "stream",
          "text": [
            "Accuracy = 1.00\n",
            "Sensitivity = 1.00\n",
            "Specificity = 1.00\n",
            "Precision = 1.00\n"
          ],
          "name": "stdout"
        }
      ]
    },
    {
      "cell_type": "markdown",
      "metadata": {
        "id": "euw_sEoVsHKj",
        "colab_type": "text"
      },
      "source": [
        "##### Calculate Gini Coefisient from AUC"
      ]
    },
    {
      "cell_type": "code",
      "metadata": {
        "id": "uNL014HEWDqu",
        "colab_type": "code",
        "colab": {
          "base_uri": "https://localhost:8080/",
          "height": 52
        },
        "outputId": "c688ef4f-00d5-4532-a480-bda021e9a683"
      },
      "source": [
        "AUC = lr_hyper_AUC\n",
        "Gini_lr_hyper = (2 * AUC - 1)\n",
        "print(\"AUC=%.2f\" % AUC)\n",
        "print(\"GINI ~=%.2f\" % Gini_lr_hyper)\n"
      ],
      "execution_count": 69,
      "outputs": [
        {
          "output_type": "stream",
          "text": [
            "AUC=1.00\n",
            "GINI ~=1.00\n"
          ],
          "name": "stdout"
        }
      ]
    },
    {
      "cell_type": "markdown",
      "metadata": {
        "id": "N7XQljncsMvq",
        "colab_type": "text"
      },
      "source": [
        "##### Calculate Log Loss in pandas dataframe"
      ]
    },
    {
      "cell_type": "code",
      "metadata": {
        "id": "7b-2pcgFWDnr",
        "colab_type": "code",
        "colab": {}
      },
      "source": [
        "#Create Dataframe to Calculate Log Loss\n",
        "y_test= data_test.select('label')\n",
        "lr_hyper_proba=lr_result_hyper.select('probability')"
      ],
      "execution_count": 71,
      "outputs": []
    },
    {
      "cell_type": "code",
      "metadata": {
        "id": "e4-gocifWDlG",
        "colab_type": "code",
        "colab": {}
      },
      "source": [
        "#Convert lr_probaspark dataframe to numpy array\n",
        "lr_hyper_proba= np.array(lr_hyper_proba.select('probability').collect())\n",
        "\n",
        "#Convert numpy array 3 dimentional to 2 dimentional\n",
        "lr_hyper_proba=lr_hyper_proba.reshape(-1, lr_hyper_proba.shape[-1])\n",
        "\n",
        "#Convert y_test dataframe to pandas dataframe\n",
        "y_test=y_test.toPandas()\n",
        "\n",
        "#Convert y_test pandas dataframe to pandas series\n",
        "y_test=pd.Series(y_test['label'].values)\n"
      ],
      "execution_count": 74,
      "outputs": []
    },
    {
      "cell_type": "code",
      "metadata": {
        "id": "vnMlG-AIWDi5",
        "colab_type": "code",
        "colab": {
          "base_uri": "https://localhost:8080/",
          "height": 34
        },
        "outputId": "de761836-fcf0-42f6-adbe-bf34c3a3c89b"
      },
      "source": [
        "#Calculate log loss from logistic regression hyper parameter\n",
        "LogLoss = log_loss(y_test, lr_hyper_proba) \n",
        "\n",
        "print(\"Log Loss Logistic Regression:%.4f\" % LogLoss)\n"
      ],
      "execution_count": 78,
      "outputs": [
        {
          "output_type": "stream",
          "text": [
            "Log Loss Logistic Regression:0.0626\n"
          ],
          "name": "stdout"
        }
      ]
    },
    {
      "cell_type": "code",
      "metadata": {
        "id": "2R8mXPdPWDhc",
        "colab_type": "code",
        "colab": {}
      },
      "source": [
        ""
      ],
      "execution_count": null,
      "outputs": []
    },
    {
      "cell_type": "markdown",
      "metadata": {
        "id": "_vIt7UcKs1KA",
        "colab_type": "text"
      },
      "source": [
        "### Gradient Boosting"
      ]
    },
    {
      "cell_type": "code",
      "metadata": {
        "id": "vLbPB4YRWDbg",
        "colab_type": "code",
        "colab": {}
      },
      "source": [
        "#define gradient boosting model\n",
        "gbt_hyper= GBTClassifier(featuresCol=\"features\", labelCol=\"label\")\n",
        "\n",
        "# Hyper-Parameter Tuning\n",
        "paramGrid_gbt = ParamGridBuilder() \\\n",
        "    .addGrid(gbt_hyper.maxIter, [10])\\\n",
        "    .addGrid(gbt_hyper.maxDepth, [6, 7,10]) \\\n",
        "    .build()\n",
        "crossval_gbt = CrossValidator(estimator=gbt_hyper,\n",
        "                             estimatorParamMaps=paramGrid_gbt,\n",
        "                             evaluator=BinaryClassificationEvaluator(),\n",
        "                             numFolds=3)\n",
        "#fit model to data train\n",
        "gbt_model_hyper = crossval_gbt.fit(data_train)\n"
      ],
      "execution_count": 79,
      "outputs": []
    },
    {
      "cell_type": "code",
      "metadata": {
        "id": "EcmbZDz9WDZh",
        "colab_type": "code",
        "colab": {}
      },
      "source": [
        "#transfrom model to data test\n",
        "gbt_result_hyper = gbt_model_hyper.transform(data_test)\n"
      ],
      "execution_count": 80,
      "outputs": []
    },
    {
      "cell_type": "code",
      "metadata": {
        "id": "aq10aJD2WDX0",
        "colab_type": "code",
        "colab": {
          "base_uri": "https://localhost:8080/",
          "height": 208
        },
        "outputId": "e9d0d660-d44f-41ec-e6be-ae736557aebc"
      },
      "source": [
        "#view id, label, prediction and probability from result of modelling\n",
        "gbt_result_hyper.select('label', 'prediction', 'probability').show(5)\n"
      ],
      "execution_count": 82,
      "outputs": [
        {
          "output_type": "stream",
          "text": [
            "+-----+----------+--------------------+\n",
            "|label|prediction|         probability|\n",
            "+-----+----------+--------------------+\n",
            "|    1|       1.0|[0.06587782434721...|\n",
            "|    1|       1.0|[0.06587782434721...|\n",
            "|    1|       1.0|[0.06587782434721...|\n",
            "|    1|       1.0|[0.06587782434721...|\n",
            "|    1|       1.0|[0.06587782434721...|\n",
            "+-----+----------+--------------------+\n",
            "only showing top 5 rows\n",
            "\n"
          ],
          "name": "stdout"
        }
      ]
    },
    {
      "cell_type": "markdown",
      "metadata": {
        "id": "bbgY4uuYtDtD",
        "colab_type": "text"
      },
      "source": [
        "##### Gradient Boosting With Hyper-Parameter Evaluation"
      ]
    },
    {
      "cell_type": "code",
      "metadata": {
        "id": "6DGetPf4WDR2",
        "colab_type": "code",
        "colab": {
          "base_uri": "https://localhost:8080/",
          "height": 69
        },
        "outputId": "1a2b265a-72ff-4e7c-86ec-a9cfc41056a6"
      },
      "source": [
        "#Evaluate model by calculating accuracy and area under curve (AUC)\n",
        "gbt_eval_hyper = BinaryClassificationEvaluator(rawPredictionCol=\"probability\", labelCol=\"label\")\n",
        "gbt_eval_hyper2= MulticlassClassificationEvaluator(predictionCol=\"prediction\", labelCol=\"label\")\n",
        "gbt_hyper_AUC  = gbt_eval_hyper.evaluate(gbt_result_hyper)\n",
        "gbt_hyper_ACC  = gbt_eval_hyper2.evaluate(gbt_result_hyper, {gbt_eval_hyper2.metricName:\"accuracy\"})\n",
        "\n",
        "\n",
        "print(\"Gradient Boosted Tree Performance Measure\")\n",
        "print(\"Accuracy = %0.2f\" % gbt_hyper_ACC)\n",
        "print(\"AUC = %.2f\" % gbt_hyper_AUC)"
      ],
      "execution_count": 83,
      "outputs": [
        {
          "output_type": "stream",
          "text": [
            "Gradient Boosted Tree Performance Measure\n",
            "Accuracy = 1.00\n",
            "AUC = 1.00\n"
          ],
          "name": "stdout"
        }
      ]
    },
    {
      "cell_type": "markdown",
      "metadata": {
        "id": "qvFIwmw1tI7v",
        "colab_type": "text"
      },
      "source": [
        "##### ROC Curbe"
      ]
    },
    {
      "cell_type": "code",
      "metadata": {
        "id": "BDEMVFZvtFgp",
        "colab_type": "code",
        "colab": {
          "base_uri": "https://localhost:8080/",
          "height": 330
        },
        "outputId": "ac38f96a-b72e-4d03-8259-737faa35094c"
      },
      "source": [
        "PredAndLabels           = gbt_result_hyper.select(\"probability\", \"label\")\n",
        "PredAndLabels_collect   = PredAndLabels.collect()\n",
        "PredAndLabels_list      = [(float(i[0][0]), 1.0-float(i[1])) for i in PredAndLabels_collect]\n",
        "PredAndLabels           = sc.parallelize(PredAndLabels_list)\n",
        "\n",
        "metrics = BinaryClassificationMetrics(PredAndLabels)\n",
        "\n",
        "# Area under ROC\n",
        "print(\"Gradient Boosting Area Under ROC\")\n",
        "print(\"Area under ROC = %.2f\" % metrics.areaUnderROC)\n",
        "\n",
        "# Visualization\n",
        "FPR = dict()                                                        # FPR: False Positive Rate\n",
        "tpr = dict()                                                        # TPR: True Positive Rate\n",
        "roc_auc = dict()\n",
        " \n",
        "y_test = [i[1] for i in PredAndLabels_list]\n",
        "y_score = [i[0] for i in PredAndLabels_list]\n",
        " \n",
        "fpr, tpr, _ = roc_curve(y_test, y_score)\n",
        "roc_auc = auc(fpr, tpr)\n",
        " \n",
        "plt.figure(figsize=(5,4))\n",
        "plt.plot(fpr, tpr, label='ROC curve (area = %0.2f)' % roc_auc)\n",
        "plt.plot([0, 1], [0, 1], 'k--')\n",
        "plt.xlim([0.0, 1.0])\n",
        "plt.ylim([0.0, 1.05])\n",
        "plt.xlabel('False Positive Rate')\n",
        "plt.ylabel('True Positive Rate')\n",
        "plt.title('ROC Curve - Gradient Boosting')\n",
        "plt.legend(loc=\"lower right\")\n",
        "plt.show()\n"
      ],
      "execution_count": 84,
      "outputs": [
        {
          "output_type": "stream",
          "text": [
            "Gradient Boosting Area Under ROC\n",
            "Area under ROC = 1.00\n"
          ],
          "name": "stdout"
        },
        {
          "output_type": "display_data",
          "data": {
            "image/png": "[encoded data removed]",
            "text/plain": [
              "<Figure size 360x288 with 1 Axes>"
            ]
          },
          "metadata": {
            "tags": [],
            "needs_background": "light"
          }
        }
      ]
    },
    {
      "cell_type": "markdown",
      "metadata": {
        "id": "W-SwYBL_tShk",
        "colab_type": "text"
      },
      "source": [
        "##### Confusion Matrix"
      ]
    },
    {
      "cell_type": "code",
      "metadata": {
        "id": "a-gAXT81tFsx",
        "colab_type": "code",
        "colab": {
          "base_uri": "https://localhost:8080/",
          "height": 112
        },
        "outputId": "4f19ddf4-1c37-461e-8fcf-e7f00d70d9b4"
      },
      "source": [
        "cm_gbt_result_hyper = gbt_result_hyper.crosstab(\"prediction\", \"label\")\n",
        "cm_gbt_result_hyper = cm_gbt_result_hyper.toPandas()\n",
        "cm_gbt_result_hyper"
      ],
      "execution_count": 85,
      "outputs": [
        {
          "output_type": "execute_result",
          "data": {
            "text/html": [
              "<div>\n",
              "<style scoped>\n",
              "    .dataframe tbody tr th:only-of-type {\n",
              "        vertical-align: middle;\n",
              "    }\n",
              "\n",
              "    .dataframe tbody tr th {\n",
              "        vertical-align: top;\n",
              "    }\n",
              "\n",
              "    .dataframe thead th {\n",
              "        text-align: right;\n",
              "    }\n",
              "</style>\n",
              "<table border=\"1\" class=\"dataframe\">\n",
              "  <thead>\n",
              "    <tr style=\"text-align: right;\">\n",
              "      <th></th>\n",
              "      <th>prediction_label</th>\n",
              "      <th>0</th>\n",
              "      <th>1</th>\n",
              "    </tr>\n",
              "  </thead>\n",
              "  <tbody>\n",
              "    <tr>\n",
              "      <th>0</th>\n",
              "      <td>1.0</td>\n",
              "      <td>0</td>\n",
              "      <td>7433</td>\n",
              "    </tr>\n",
              "    <tr>\n",
              "      <th>1</th>\n",
              "      <td>0.0</td>\n",
              "      <td>84403</td>\n",
              "      <td>0</td>\n",
              "    </tr>\n",
              "  </tbody>\n",
              "</table>\n",
              "</div>"
            ],
            "text/plain": [
              "  prediction_label      0     1\n",
              "0              1.0      0  7433\n",
              "1              0.0  84403     0"
            ]
          },
          "metadata": {
            "tags": []
          },
          "execution_count": 85
        }
      ]
    },
    {
      "cell_type": "code",
      "metadata": {
        "id": "57vdnF3-tFqK",
        "colab_type": "code",
        "colab": {
          "base_uri": "https://localhost:8080/",
          "height": 86
        },
        "outputId": "fe8efcb8-c657-4ade-fd61-d10686cb52e5"
      },
      "source": [
        "#calculate accuracy, sensitivity, specificity and precision\n",
        "TP = cm_gbt_result_hyper[\"1\"][0]\n",
        "FP = cm_gbt_result_hyper[\"0\"][0]\n",
        "TN = cm_gbt_result_hyper[\"0\"][1]\n",
        "FN = cm_gbt_result_hyper[\"1\"][1]\n",
        "Accuracy = (TP+TN)/(TP+FP+TN+FN)\n",
        "Sensitivity = TP/(TP+FN)\n",
        "Specificity = TN/(TN+FP)\n",
        "Precision = TP/(TP+FP)\n",
        "\n",
        "print (\"Accuracy = %0.2f\" %Accuracy )\n",
        "print (\"Sensitivity = %0.2f\" %Sensitivity )\n",
        "print (\"Specificity = %0.2f\" %Specificity )\n",
        "print (\"Precision = %0.2f\" %Precision )\n"
      ],
      "execution_count": 86,
      "outputs": [
        {
          "output_type": "stream",
          "text": [
            "Accuracy = 1.00\n",
            "Sensitivity = 1.00\n",
            "Specificity = 1.00\n",
            "Precision = 1.00\n"
          ],
          "name": "stdout"
        }
      ]
    },
    {
      "cell_type": "markdown",
      "metadata": {
        "id": "Sd-WhVKHtbWz",
        "colab_type": "text"
      },
      "source": [
        "##### Calculate Gini Coefficient from AUC"
      ]
    },
    {
      "cell_type": "code",
      "metadata": {
        "id": "stAmtrhVtFoM",
        "colab_type": "code",
        "colab": {
          "base_uri": "https://localhost:8080/",
          "height": 52
        },
        "outputId": "4e3642c9-9749-4d31-c096-157f0507386d"
      },
      "source": [
        "AUC = gbt_hyper_AUC\n",
        "Gini_gbt_hyper= (2 * AUC -1)\n",
        "\n",
        "print(\"AUC=%.2f\" % AUC)\n",
        "print(\"GINI ~=%.2f\" % Gini_gbt_hyper)"
      ],
      "execution_count": 87,
      "outputs": [
        {
          "output_type": "stream",
          "text": [
            "AUC=1.00\n",
            "GINI ~=1.00\n"
          ],
          "name": "stdout"
        }
      ]
    },
    {
      "cell_type": "markdown",
      "metadata": {
        "id": "mQlbujWQthvC",
        "colab_type": "text"
      },
      "source": [
        "##### Calculate Log Loss in pandas dataframe"
      ]
    },
    {
      "cell_type": "code",
      "metadata": {
        "id": "IoT_YpKytFl2",
        "colab_type": "code",
        "colab": {}
      },
      "source": [
        "#Create Dataframe to Calculate Log Loss\n",
        "y_test= data_test.select('label')\n",
        "gbt_hyper_proba=gbt_result_hyper.select('probability')\n"
      ],
      "execution_count": 88,
      "outputs": []
    },
    {
      "cell_type": "code",
      "metadata": {
        "id": "bsdVqtr5tFkN",
        "colab_type": "code",
        "colab": {}
      },
      "source": [
        "#Convert pyspark dataframe to numpy array\n",
        "gbt_hyper_proba= np.array(gbt_hyper_proba.select('probability').collect())\n",
        "\n",
        "#Convert numpy array 3 dimentional to 2 dimentional\n",
        "gbt_hyper_proba=gbt_hyper_proba.reshape(-1, gbt_hyper_proba.shape[-1])\n",
        "\n",
        "#Convert y_test dataframe to pandas dataframe\n",
        "y_test=y_test.toPandas()\n",
        "\n",
        "#Convert y_test pandas dataframe to pandas series\n",
        "y_test=pd.Series(y_test['label'].values)\n"
      ],
      "execution_count": 89,
      "outputs": []
    },
    {
      "cell_type": "code",
      "metadata": {
        "id": "DOmjjpbltm2w",
        "colab_type": "code",
        "colab": {
          "base_uri": "https://localhost:8080/",
          "height": 34
        },
        "outputId": "7422cc01-9e7a-4934-9af9-4604758b6b58"
      },
      "source": [
        "#Calculate log loss from Gradient Boosting hyper parameter\n",
        "LogLoss = log_loss(y_test, gbt_hyper_proba) \n",
        "\n",
        "print(\"Log Loss Gradient Boosting:%.4f\" % LogLoss)\n"
      ],
      "execution_count": 90,
      "outputs": [
        {
          "output_type": "stream",
          "text": [
            "Log Loss Gradient Boosting:0.0681\n"
          ],
          "name": "stdout"
        }
      ]
    },
    {
      "cell_type": "code",
      "metadata": {
        "id": "AknXBuXttnH9",
        "colab_type": "code",
        "colab": {}
      },
      "source": [
        ""
      ],
      "execution_count": null,
      "outputs": []
    }
  ]
}